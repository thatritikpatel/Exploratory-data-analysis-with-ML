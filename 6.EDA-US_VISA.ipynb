{
 "cells": [
  {
   "cell_type": "markdown",
   "id": "4a54eda1",
   "metadata": {},
   "source": [
    "US Permanent Visa Applications\n",
    "\n",
    "https://www.kaggle.com/datasets/jboysen/us-perm-visas\n",
    "\n",
    "Context:\n",
    "A permanent labor certification issued by the Department of Labor (DOL) allows an employer to hire a foreign worker to work permanently in the United States. In most instances, before the U.S. employer can submit an immigration petition to the Department of Homeland Security's U.S. Citizenship and Immigration Services (USCIS), the employer must obtain a certified labor certification application from the DOL's Employment and Training Administration (ETA). The DOL must certify to the USCIS that there are not sufficient U.S. workers able, willing, qualified and available to accept the job opportunity in the area of intended employment and that employment of the foreign worker will not adversely affect the wages and working conditions of similarly employed U.S. workers.\n",
    "\n",
    "Content:\n",
    "Data covers 2012-2017 and includes information on employer, position, wage offered, job posting history, employee education and past visa history, associated lawyers, and final decision.\n",
    "\n",
    "Acknowledgements:\n",
    "This data was collected and distributed by the US Department of Labor."
   ]
  },
  {
   "cell_type": "code",
   "execution_count": null,
   "id": "b4da3dec",
   "metadata": {},
   "outputs": [],
   "source": [
    "# import kagglehub\n",
    "\n",
    "# # Download latest version\n",
    "# path = kagglehub.dataset_download(\"jboysen/us-perm-visas\")\n",
    "\n",
    "# print(\"Path to dataset files:\", path)"
   ]
  },
  {
   "cell_type": "code",
   "execution_count": 1,
   "id": "74f1b1e1",
   "metadata": {},
   "outputs": [],
   "source": [
    "import pandas as pd\n",
    "import numpy as np\n",
    "import matplotlib.pyplot as plt\n",
    "import seaborn as sns\n",
    "%matplotlib inline\n",
    "\n",
    "import warnings \n",
    "warnings.filterwarnings('ignore')"
   ]
  },
  {
   "cell_type": "code",
   "execution_count": 2,
   "id": "777b4f01",
   "metadata": {},
   "outputs": [],
   "source": [
    "df = pd.read_csv(r\"datasets\\us_perm_visas.csv\")"
   ]
  },
  {
   "cell_type": "code",
   "execution_count": 3,
   "id": "0cf37b8c",
   "metadata": {},
   "outputs": [
    {
     "data": {
      "text/html": [
       "<div>\n",
       "<style scoped>\n",
       "    .dataframe tbody tr th:only-of-type {\n",
       "        vertical-align: middle;\n",
       "    }\n",
       "\n",
       "    .dataframe tbody tr th {\n",
       "        vertical-align: top;\n",
       "    }\n",
       "\n",
       "    .dataframe thead th {\n",
       "        text-align: right;\n",
       "    }\n",
       "</style>\n",
       "<table border=\"1\" class=\"dataframe\">\n",
       "  <thead>\n",
       "    <tr style=\"text-align: right;\">\n",
       "      <th></th>\n",
       "      <th>add_these_pw_job_title_9089</th>\n",
       "      <th>agent_city</th>\n",
       "      <th>agent_firm_name</th>\n",
       "      <th>agent_state</th>\n",
       "      <th>application_type</th>\n",
       "      <th>case_no</th>\n",
       "      <th>case_number</th>\n",
       "      <th>case_received_date</th>\n",
       "      <th>case_status</th>\n",
       "      <th>class_of_admission</th>\n",
       "      <th>...</th>\n",
       "      <th>ri_pvt_employment_firm_to</th>\n",
       "      <th>ri_us_workers_considered</th>\n",
       "      <th>schd_a_sheepherder</th>\n",
       "      <th>us_economic_sector</th>\n",
       "      <th>wage_offer_from_9089</th>\n",
       "      <th>wage_offer_to_9089</th>\n",
       "      <th>wage_offer_unit_of_pay_9089</th>\n",
       "      <th>wage_offered_from_9089</th>\n",
       "      <th>wage_offered_to_9089</th>\n",
       "      <th>wage_offered_unit_of_pay_9089</th>\n",
       "    </tr>\n",
       "  </thead>\n",
       "  <tbody>\n",
       "    <tr>\n",
       "      <th>0</th>\n",
       "      <td>NaN</td>\n",
       "      <td>NaN</td>\n",
       "      <td>NaN</td>\n",
       "      <td>NaN</td>\n",
       "      <td>PERM</td>\n",
       "      <td>A-07323-97014</td>\n",
       "      <td>NaN</td>\n",
       "      <td>NaN</td>\n",
       "      <td>Certified</td>\n",
       "      <td>J-1</td>\n",
       "      <td>...</td>\n",
       "      <td>NaN</td>\n",
       "      <td>NaN</td>\n",
       "      <td>NaN</td>\n",
       "      <td>IT</td>\n",
       "      <td>75629.0</td>\n",
       "      <td>NaN</td>\n",
       "      <td>yr</td>\n",
       "      <td>NaN</td>\n",
       "      <td>NaN</td>\n",
       "      <td>NaN</td>\n",
       "    </tr>\n",
       "    <tr>\n",
       "      <th>1</th>\n",
       "      <td>NaN</td>\n",
       "      <td>NaN</td>\n",
       "      <td>NaN</td>\n",
       "      <td>NaN</td>\n",
       "      <td>PERM</td>\n",
       "      <td>A-07332-99439</td>\n",
       "      <td>NaN</td>\n",
       "      <td>NaN</td>\n",
       "      <td>Denied</td>\n",
       "      <td>B-2</td>\n",
       "      <td>...</td>\n",
       "      <td>NaN</td>\n",
       "      <td>NaN</td>\n",
       "      <td>NaN</td>\n",
       "      <td>Other Economic Sector</td>\n",
       "      <td>37024.0</td>\n",
       "      <td>NaN</td>\n",
       "      <td>yr</td>\n",
       "      <td>NaN</td>\n",
       "      <td>NaN</td>\n",
       "      <td>NaN</td>\n",
       "    </tr>\n",
       "    <tr>\n",
       "      <th>2</th>\n",
       "      <td>NaN</td>\n",
       "      <td>NaN</td>\n",
       "      <td>NaN</td>\n",
       "      <td>NaN</td>\n",
       "      <td>PERM</td>\n",
       "      <td>A-07333-99643</td>\n",
       "      <td>NaN</td>\n",
       "      <td>NaN</td>\n",
       "      <td>Certified</td>\n",
       "      <td>H-1B</td>\n",
       "      <td>...</td>\n",
       "      <td>NaN</td>\n",
       "      <td>NaN</td>\n",
       "      <td>NaN</td>\n",
       "      <td>Aerospace</td>\n",
       "      <td>47923.0</td>\n",
       "      <td>NaN</td>\n",
       "      <td>yr</td>\n",
       "      <td>NaN</td>\n",
       "      <td>NaN</td>\n",
       "      <td>NaN</td>\n",
       "    </tr>\n",
       "    <tr>\n",
       "      <th>3</th>\n",
       "      <td>NaN</td>\n",
       "      <td>NaN</td>\n",
       "      <td>NaN</td>\n",
       "      <td>NaN</td>\n",
       "      <td>PERM</td>\n",
       "      <td>A-07339-01930</td>\n",
       "      <td>NaN</td>\n",
       "      <td>NaN</td>\n",
       "      <td>Certified</td>\n",
       "      <td>B-2</td>\n",
       "      <td>...</td>\n",
       "      <td>NaN</td>\n",
       "      <td>NaN</td>\n",
       "      <td>NaN</td>\n",
       "      <td>Other Economic Sector</td>\n",
       "      <td>10.97</td>\n",
       "      <td>NaN</td>\n",
       "      <td>hr</td>\n",
       "      <td>NaN</td>\n",
       "      <td>NaN</td>\n",
       "      <td>NaN</td>\n",
       "    </tr>\n",
       "    <tr>\n",
       "      <th>4</th>\n",
       "      <td>NaN</td>\n",
       "      <td>NaN</td>\n",
       "      <td>NaN</td>\n",
       "      <td>NaN</td>\n",
       "      <td>PERM</td>\n",
       "      <td>A-07345-03565</td>\n",
       "      <td>NaN</td>\n",
       "      <td>NaN</td>\n",
       "      <td>Certified</td>\n",
       "      <td>L-1</td>\n",
       "      <td>...</td>\n",
       "      <td>NaN</td>\n",
       "      <td>NaN</td>\n",
       "      <td>NaN</td>\n",
       "      <td>Advanced Mfg</td>\n",
       "      <td>100000.0</td>\n",
       "      <td>NaN</td>\n",
       "      <td>yr</td>\n",
       "      <td>NaN</td>\n",
       "      <td>NaN</td>\n",
       "      <td>NaN</td>\n",
       "    </tr>\n",
       "  </tbody>\n",
       "</table>\n",
       "<p>5 rows × 154 columns</p>\n",
       "</div>"
      ],
      "text/plain": [
       "  add_these_pw_job_title_9089 agent_city agent_firm_name agent_state  \\\n",
       "0                         NaN        NaN             NaN         NaN   \n",
       "1                         NaN        NaN             NaN         NaN   \n",
       "2                         NaN        NaN             NaN         NaN   \n",
       "3                         NaN        NaN             NaN         NaN   \n",
       "4                         NaN        NaN             NaN         NaN   \n",
       "\n",
       "  application_type        case_no case_number case_received_date case_status  \\\n",
       "0             PERM  A-07323-97014         NaN                NaN   Certified   \n",
       "1             PERM  A-07332-99439         NaN                NaN      Denied   \n",
       "2             PERM  A-07333-99643         NaN                NaN   Certified   \n",
       "3             PERM  A-07339-01930         NaN                NaN   Certified   \n",
       "4             PERM  A-07345-03565         NaN                NaN   Certified   \n",
       "\n",
       "  class_of_admission  ... ri_pvt_employment_firm_to ri_us_workers_considered  \\\n",
       "0                J-1  ...                       NaN                      NaN   \n",
       "1                B-2  ...                       NaN                      NaN   \n",
       "2               H-1B  ...                       NaN                      NaN   \n",
       "3                B-2  ...                       NaN                      NaN   \n",
       "4                L-1  ...                       NaN                      NaN   \n",
       "\n",
       "  schd_a_sheepherder     us_economic_sector wage_offer_from_9089  \\\n",
       "0                NaN                     IT              75629.0   \n",
       "1                NaN  Other Economic Sector              37024.0   \n",
       "2                NaN              Aerospace              47923.0   \n",
       "3                NaN  Other Economic Sector                10.97   \n",
       "4                NaN           Advanced Mfg             100000.0   \n",
       "\n",
       "  wage_offer_to_9089 wage_offer_unit_of_pay_9089 wage_offered_from_9089  \\\n",
       "0                NaN                          yr                    NaN   \n",
       "1                NaN                          yr                    NaN   \n",
       "2                NaN                          yr                    NaN   \n",
       "3                NaN                          hr                    NaN   \n",
       "4                NaN                          yr                    NaN   \n",
       "\n",
       "  wage_offered_to_9089  wage_offered_unit_of_pay_9089  \n",
       "0                  NaN                            NaN  \n",
       "1                  NaN                            NaN  \n",
       "2                  NaN                            NaN  \n",
       "3                  NaN                            NaN  \n",
       "4                  NaN                            NaN  \n",
       "\n",
       "[5 rows x 154 columns]"
      ]
     },
     "execution_count": 3,
     "metadata": {},
     "output_type": "execute_result"
    }
   ],
   "source": [
    "df.head()"
   ]
  },
  {
   "cell_type": "code",
   "execution_count": 4,
   "id": "a3d99fb1",
   "metadata": {},
   "outputs": [
    {
     "data": {
      "text/plain": [
       "(374362, 154)"
      ]
     },
     "execution_count": 4,
     "metadata": {},
     "output_type": "execute_result"
    }
   ],
   "source": [
    "df.shape"
   ]
  },
  {
   "cell_type": "code",
   "execution_count": 5,
   "id": "e4c69783",
   "metadata": {},
   "outputs": [
    {
     "data": {
      "text/html": [
       "<div>\n",
       "<style scoped>\n",
       "    .dataframe tbody tr th:only-of-type {\n",
       "        vertical-align: middle;\n",
       "    }\n",
       "\n",
       "    .dataframe tbody tr th {\n",
       "        vertical-align: top;\n",
       "    }\n",
       "\n",
       "    .dataframe thead th {\n",
       "        text-align: right;\n",
       "    }\n",
       "</style>\n",
       "<table border=\"1\" class=\"dataframe\">\n",
       "  <thead>\n",
       "    <tr style=\"text-align: right;\">\n",
       "      <th></th>\n",
       "      <th>add_these_pw_job_title_9089</th>\n",
       "      <th>agent_city</th>\n",
       "      <th>agent_firm_name</th>\n",
       "      <th>agent_state</th>\n",
       "      <th>application_type</th>\n",
       "      <th>case_no</th>\n",
       "      <th>case_number</th>\n",
       "      <th>case_received_date</th>\n",
       "      <th>case_status</th>\n",
       "      <th>class_of_admission</th>\n",
       "      <th>...</th>\n",
       "      <th>ri_pvt_employment_firm_to</th>\n",
       "      <th>ri_us_workers_considered</th>\n",
       "      <th>schd_a_sheepherder</th>\n",
       "      <th>us_economic_sector</th>\n",
       "      <th>wage_offer_from_9089</th>\n",
       "      <th>wage_offer_to_9089</th>\n",
       "      <th>wage_offer_unit_of_pay_9089</th>\n",
       "      <th>wage_offered_from_9089</th>\n",
       "      <th>wage_offered_to_9089</th>\n",
       "      <th>wage_offered_unit_of_pay_9089</th>\n",
       "    </tr>\n",
       "  </thead>\n",
       "  <tbody>\n",
       "    <tr>\n",
       "      <th>374357</th>\n",
       "      <td>NaN</td>\n",
       "      <td>Buena Park</td>\n",
       "      <td>Law Offices of Yohan Lee</td>\n",
       "      <td>CA</td>\n",
       "      <td>NaN</td>\n",
       "      <td>NaN</td>\n",
       "      <td>A-16363-85407</td>\n",
       "      <td>2016-12-29</td>\n",
       "      <td>Withdrawn</td>\n",
       "      <td>NaN</td>\n",
       "      <td>...</td>\n",
       "      <td>NaN</td>\n",
       "      <td>NaN</td>\n",
       "      <td>N</td>\n",
       "      <td>NaN</td>\n",
       "      <td>28,330.00</td>\n",
       "      <td>NaN</td>\n",
       "      <td>Year</td>\n",
       "      <td>NaN</td>\n",
       "      <td>NaN</td>\n",
       "      <td>NaN</td>\n",
       "    </tr>\n",
       "    <tr>\n",
       "      <th>374358</th>\n",
       "      <td>NaN</td>\n",
       "      <td>Seattle</td>\n",
       "      <td>MacDonald Hoague &amp; Bayless</td>\n",
       "      <td>WA</td>\n",
       "      <td>NaN</td>\n",
       "      <td>NaN</td>\n",
       "      <td>A-16271-56745</td>\n",
       "      <td>2016-12-30</td>\n",
       "      <td>Withdrawn</td>\n",
       "      <td>L-1</td>\n",
       "      <td>...</td>\n",
       "      <td>NaN</td>\n",
       "      <td>Y</td>\n",
       "      <td>N</td>\n",
       "      <td>NaN</td>\n",
       "      <td>122,000.00</td>\n",
       "      <td>142,000.00</td>\n",
       "      <td>Year</td>\n",
       "      <td>NaN</td>\n",
       "      <td>NaN</td>\n",
       "      <td>NaN</td>\n",
       "    </tr>\n",
       "    <tr>\n",
       "      <th>374359</th>\n",
       "      <td>NaN</td>\n",
       "      <td>Schaumburg</td>\n",
       "      <td>International Legal and Business Services Grou...</td>\n",
       "      <td>IL</td>\n",
       "      <td>NaN</td>\n",
       "      <td>NaN</td>\n",
       "      <td>A-16354-82345</td>\n",
       "      <td>2016-12-30</td>\n",
       "      <td>Withdrawn</td>\n",
       "      <td>H-1B</td>\n",
       "      <td>...</td>\n",
       "      <td>NaN</td>\n",
       "      <td>NaN</td>\n",
       "      <td>N</td>\n",
       "      <td>NaN</td>\n",
       "      <td>79,082.00</td>\n",
       "      <td>79,082.00</td>\n",
       "      <td>Year</td>\n",
       "      <td>NaN</td>\n",
       "      <td>NaN</td>\n",
       "      <td>NaN</td>\n",
       "    </tr>\n",
       "    <tr>\n",
       "      <th>374360</th>\n",
       "      <td>NaN</td>\n",
       "      <td>LOS ANGELES</td>\n",
       "      <td>LAW OFFICES OF JAMES S HONG</td>\n",
       "      <td>CA</td>\n",
       "      <td>NaN</td>\n",
       "      <td>NaN</td>\n",
       "      <td>A-16357-84250</td>\n",
       "      <td>2016-12-30</td>\n",
       "      <td>Withdrawn</td>\n",
       "      <td>B-2</td>\n",
       "      <td>...</td>\n",
       "      <td>NaN</td>\n",
       "      <td>NaN</td>\n",
       "      <td>N</td>\n",
       "      <td>NaN</td>\n",
       "      <td>37,981.00</td>\n",
       "      <td>NaN</td>\n",
       "      <td>Year</td>\n",
       "      <td>NaN</td>\n",
       "      <td>NaN</td>\n",
       "      <td>NaN</td>\n",
       "    </tr>\n",
       "    <tr>\n",
       "      <th>374361</th>\n",
       "      <td>NaN</td>\n",
       "      <td>Phoenix</td>\n",
       "      <td>Fragomen, Del Rey, Bernsen &amp; Loewy, LLP</td>\n",
       "      <td>AZ</td>\n",
       "      <td>NaN</td>\n",
       "      <td>NaN</td>\n",
       "      <td>A-16279-59292</td>\n",
       "      <td>2016-12-30</td>\n",
       "      <td>Withdrawn</td>\n",
       "      <td>H-1B</td>\n",
       "      <td>...</td>\n",
       "      <td>NaN</td>\n",
       "      <td>NaN</td>\n",
       "      <td>N</td>\n",
       "      <td>NaN</td>\n",
       "      <td>84,926.00</td>\n",
       "      <td>121,500.00</td>\n",
       "      <td>Year</td>\n",
       "      <td>NaN</td>\n",
       "      <td>NaN</td>\n",
       "      <td>NaN</td>\n",
       "    </tr>\n",
       "  </tbody>\n",
       "</table>\n",
       "<p>5 rows × 154 columns</p>\n",
       "</div>"
      ],
      "text/plain": [
       "       add_these_pw_job_title_9089   agent_city  \\\n",
       "374357                         NaN   Buena Park   \n",
       "374358                         NaN      Seattle   \n",
       "374359                         NaN   Schaumburg   \n",
       "374360                         NaN  LOS ANGELES   \n",
       "374361                         NaN      Phoenix   \n",
       "\n",
       "                                          agent_firm_name agent_state  \\\n",
       "374357                           Law Offices of Yohan Lee          CA   \n",
       "374358                         MacDonald Hoague & Bayless          WA   \n",
       "374359  International Legal and Business Services Grou...          IL   \n",
       "374360                        LAW OFFICES OF JAMES S HONG          CA   \n",
       "374361            Fragomen, Del Rey, Bernsen & Loewy, LLP          AZ   \n",
       "\n",
       "       application_type case_no    case_number case_received_date case_status  \\\n",
       "374357              NaN     NaN  A-16363-85407         2016-12-29   Withdrawn   \n",
       "374358              NaN     NaN  A-16271-56745         2016-12-30   Withdrawn   \n",
       "374359              NaN     NaN  A-16354-82345         2016-12-30   Withdrawn   \n",
       "374360              NaN     NaN  A-16357-84250         2016-12-30   Withdrawn   \n",
       "374361              NaN     NaN  A-16279-59292         2016-12-30   Withdrawn   \n",
       "\n",
       "       class_of_admission  ... ri_pvt_employment_firm_to  \\\n",
       "374357                NaN  ...                       NaN   \n",
       "374358                L-1  ...                       NaN   \n",
       "374359               H-1B  ...                       NaN   \n",
       "374360                B-2  ...                       NaN   \n",
       "374361               H-1B  ...                       NaN   \n",
       "\n",
       "       ri_us_workers_considered schd_a_sheepherder us_economic_sector  \\\n",
       "374357                      NaN                  N                NaN   \n",
       "374358                        Y                  N                NaN   \n",
       "374359                      NaN                  N                NaN   \n",
       "374360                      NaN                  N                NaN   \n",
       "374361                      NaN                  N                NaN   \n",
       "\n",
       "       wage_offer_from_9089 wage_offer_to_9089 wage_offer_unit_of_pay_9089  \\\n",
       "374357            28,330.00                NaN                        Year   \n",
       "374358           122,000.00         142,000.00                        Year   \n",
       "374359            79,082.00          79,082.00                        Year   \n",
       "374360            37,981.00                NaN                        Year   \n",
       "374361            84,926.00         121,500.00                        Year   \n",
       "\n",
       "       wage_offered_from_9089 wage_offered_to_9089  \\\n",
       "374357                    NaN                  NaN   \n",
       "374358                    NaN                  NaN   \n",
       "374359                    NaN                  NaN   \n",
       "374360                    NaN                  NaN   \n",
       "374361                    NaN                  NaN   \n",
       "\n",
       "        wage_offered_unit_of_pay_9089  \n",
       "374357                            NaN  \n",
       "374358                            NaN  \n",
       "374359                            NaN  \n",
       "374360                            NaN  \n",
       "374361                            NaN  \n",
       "\n",
       "[5 rows x 154 columns]"
      ]
     },
     "execution_count": 5,
     "metadata": {},
     "output_type": "execute_result"
    }
   ],
   "source": [
    "df.tail()"
   ]
  },
  {
   "cell_type": "code",
   "execution_count": 6,
   "id": "d3279be9",
   "metadata": {},
   "outputs": [
    {
     "data": {
      "text/html": [
       "<div>\n",
       "<style scoped>\n",
       "    .dataframe tbody tr th:only-of-type {\n",
       "        vertical-align: middle;\n",
       "    }\n",
       "\n",
       "    .dataframe tbody tr th {\n",
       "        vertical-align: top;\n",
       "    }\n",
       "\n",
       "    .dataframe thead th {\n",
       "        text-align: right;\n",
       "    }\n",
       "</style>\n",
       "<table border=\"1\" class=\"dataframe\">\n",
       "  <thead>\n",
       "    <tr style=\"text-align: right;\">\n",
       "      <th></th>\n",
       "      <th>add_these_pw_job_title_9089</th>\n",
       "      <th>agent_city</th>\n",
       "      <th>agent_firm_name</th>\n",
       "      <th>agent_state</th>\n",
       "      <th>application_type</th>\n",
       "      <th>case_no</th>\n",
       "      <th>case_number</th>\n",
       "      <th>case_received_date</th>\n",
       "      <th>case_status</th>\n",
       "      <th>class_of_admission</th>\n",
       "      <th>...</th>\n",
       "      <th>ri_pvt_employment_firm_to</th>\n",
       "      <th>ri_us_workers_considered</th>\n",
       "      <th>schd_a_sheepherder</th>\n",
       "      <th>us_economic_sector</th>\n",
       "      <th>wage_offer_from_9089</th>\n",
       "      <th>wage_offer_to_9089</th>\n",
       "      <th>wage_offer_unit_of_pay_9089</th>\n",
       "      <th>wage_offered_from_9089</th>\n",
       "      <th>wage_offered_to_9089</th>\n",
       "      <th>wage_offered_unit_of_pay_9089</th>\n",
       "    </tr>\n",
       "  </thead>\n",
       "  <tbody>\n",
       "    <tr>\n",
       "      <th>353107</th>\n",
       "      <td>NaN</td>\n",
       "      <td>NaN</td>\n",
       "      <td>NaN</td>\n",
       "      <td>NaN</td>\n",
       "      <td>NaN</td>\n",
       "      <td>NaN</td>\n",
       "      <td>A-16121-04250</td>\n",
       "      <td>2016-07-22</td>\n",
       "      <td>Certified</td>\n",
       "      <td>H-1B</td>\n",
       "      <td>...</td>\n",
       "      <td>NaN</td>\n",
       "      <td>NaN</td>\n",
       "      <td>N</td>\n",
       "      <td>NaN</td>\n",
       "      <td>56,000.00</td>\n",
       "      <td>NaN</td>\n",
       "      <td>Year</td>\n",
       "      <td>NaN</td>\n",
       "      <td>NaN</td>\n",
       "      <td>NaN</td>\n",
       "    </tr>\n",
       "  </tbody>\n",
       "</table>\n",
       "<p>1 rows × 154 columns</p>\n",
       "</div>"
      ],
      "text/plain": [
       "       add_these_pw_job_title_9089 agent_city agent_firm_name agent_state  \\\n",
       "353107                         NaN        NaN             NaN         NaN   \n",
       "\n",
       "       application_type case_no    case_number case_received_date case_status  \\\n",
       "353107              NaN     NaN  A-16121-04250         2016-07-22   Certified   \n",
       "\n",
       "       class_of_admission  ... ri_pvt_employment_firm_to  \\\n",
       "353107               H-1B  ...                       NaN   \n",
       "\n",
       "       ri_us_workers_considered schd_a_sheepherder us_economic_sector  \\\n",
       "353107                      NaN                  N                NaN   \n",
       "\n",
       "       wage_offer_from_9089 wage_offer_to_9089 wage_offer_unit_of_pay_9089  \\\n",
       "353107            56,000.00                NaN                        Year   \n",
       "\n",
       "       wage_offered_from_9089 wage_offered_to_9089  \\\n",
       "353107                    NaN                  NaN   \n",
       "\n",
       "        wage_offered_unit_of_pay_9089  \n",
       "353107                            NaN  \n",
       "\n",
       "[1 rows x 154 columns]"
      ]
     },
     "execution_count": 6,
     "metadata": {},
     "output_type": "execute_result"
    }
   ],
   "source": [
    "df.sample(1)"
   ]
  },
  {
   "cell_type": "code",
   "execution_count": 7,
   "id": "9cb96932",
   "metadata": {},
   "outputs": [
    {
     "name": "stdout",
     "output_type": "stream",
     "text": [
      "['add_these_pw_job_title_9089' 'agent_city' 'agent_firm_name'\n",
      " 'agent_state' 'application_type' 'case_no' 'case_number'\n",
      " 'case_received_date' 'case_status' 'class_of_admission'\n",
      " 'country_of_citizenship' 'country_of_citzenship' 'decision_date'\n",
      " 'employer_address_1' 'employer_address_2' 'employer_city'\n",
      " 'employer_country' 'employer_decl_info_title' 'employer_name'\n",
      " 'employer_num_employees' 'employer_phone' 'employer_phone_ext'\n",
      " 'employer_postal_code' 'employer_state' 'employer_yr_estab'\n",
      " 'foreign_worker_info_alt_edu_experience'\n",
      " 'foreign_worker_info_birth_country' 'foreign_worker_info_city'\n",
      " 'foreign_worker_info_education' 'foreign_worker_info_education_other'\n",
      " 'foreign_worker_info_inst' 'foreign_worker_info_major'\n",
      " 'foreign_worker_info_postal_code' 'foreign_worker_info_rel_occup_exp'\n",
      " 'foreign_worker_info_req_experience' 'foreign_worker_info_state'\n",
      " 'foreign_worker_info_training_comp' 'foreign_worker_ownership_interest'\n",
      " 'foreign_worker_yr_rel_edu_completed' 'fw_info_alt_edu_experience'\n",
      " 'fw_info_birth_country' 'fw_info_education_other' 'fw_info_postal_code'\n",
      " 'fw_info_rel_occup_exp' 'fw_info_req_experience' 'fw_info_training_comp'\n",
      " 'fw_info_yr_rel_edu_completed' 'fw_ownership_interest'\n",
      " 'ji_foreign_worker_live_on_premises' 'ji_fw_live_on_premises'\n",
      " 'ji_live_in_dom_svc_contract' 'ji_live_in_domestic_service'\n",
      " 'ji_offered_to_sec_j_foreign_worker' 'ji_offered_to_sec_j_fw'\n",
      " 'job_info_alt_cmb_ed_oth_yrs' 'job_info_alt_combo_ed'\n",
      " 'job_info_alt_combo_ed_exp' 'job_info_alt_combo_ed_other'\n",
      " 'job_info_alt_field' 'job_info_alt_field_name' 'job_info_alt_occ'\n",
      " 'job_info_alt_occ_job_title' 'job_info_alt_occ_num_months'\n",
      " 'job_info_combo_occupation' 'job_info_education'\n",
      " 'job_info_education_other' 'job_info_experience'\n",
      " 'job_info_experience_num_months' 'job_info_foreign_ed'\n",
      " 'job_info_foreign_lang_req' 'job_info_job_req_normal'\n",
      " 'job_info_job_title' 'job_info_major' 'job_info_training'\n",
      " 'job_info_training_field' 'job_info_training_num_months'\n",
      " 'job_info_work_city' 'job_info_work_postal_code' 'job_info_work_state'\n",
      " 'naics_2007_us_code' 'naics_2007_us_title' 'naics_code' 'naics_title'\n",
      " 'naics_us_code' 'naics_us_code_2007' 'naics_us_title'\n",
      " 'naics_us_title_2007' 'orig_case_no' 'orig_file_date'\n",
      " 'preparer_info_emp_completed' 'preparer_info_title' 'pw_amount_9089'\n",
      " 'pw_determ_date' 'pw_expire_date' 'pw_job_title_908' 'pw_job_title_9089'\n",
      " 'pw_level_9089' 'pw_soc_code' 'pw_soc_title' 'pw_source_name_9089'\n",
      " 'pw_source_name_other_9089' 'pw_track_num' 'pw_unit_of_pay_9089'\n",
      " 'rec_info_barg_rep_notified' 'recr_info_barg_rep_notified'\n",
      " 'recr_info_coll_teach_comp_proc' 'recr_info_coll_univ_teacher'\n",
      " 'recr_info_employer_rec_payment' 'recr_info_first_ad_start'\n",
      " 'recr_info_job_fair_from' 'recr_info_job_fair_to'\n",
      " 'recr_info_on_campus_recr_from' 'recr_info_on_campus_recr_to'\n",
      " 'recr_info_pro_org_advert_from' 'recr_info_pro_org_advert_to'\n",
      " 'recr_info_prof_org_advert_from' 'recr_info_prof_org_advert_to'\n",
      " 'recr_info_professional_occ' 'recr_info_radio_tv_ad_from'\n",
      " 'recr_info_radio_tv_ad_to' 'recr_info_second_ad_start'\n",
      " 'recr_info_sunday_newspaper' 'recr_info_swa_job_order_end'\n",
      " 'recr_info_swa_job_order_start' 'refile' 'ri_1st_ad_newspaper_name'\n",
      " 'ri_2nd_ad_newspaper_name' 'ri_2nd_ad_newspaper_or_journal'\n",
      " 'ri_campus_placement_from' 'ri_campus_placement_to'\n",
      " 'ri_coll_tch_basic_process' 'ri_coll_teach_pro_jnl'\n",
      " 'ri_coll_teach_select_date' 'ri_employee_referral_prog_from'\n",
      " 'ri_employee_referral_prog_to' 'ri_employer_web_post_from'\n",
      " 'ri_employer_web_post_to' 'ri_job_search_website_from'\n",
      " 'ri_job_search_website_to' 'ri_layoff_in_past_six_months'\n",
      " 'ri_local_ethnic_paper_from' 'ri_local_ethnic_paper_to'\n",
      " 'ri_posted_notice_at_worksite' 'ri_pvt_employment_firm_from'\n",
      " 'ri_pvt_employment_firm_to' 'ri_us_workers_considered'\n",
      " 'schd_a_sheepherder' 'us_economic_sector' 'wage_offer_from_9089'\n",
      " 'wage_offer_to_9089' 'wage_offer_unit_of_pay_9089'\n",
      " 'wage_offered_from_9089' 'wage_offered_to_9089'\n",
      " 'wage_offered_unit_of_pay_9089']\n"
     ]
    }
   ],
   "source": [
    "print(df.columns.values)"
   ]
  },
  {
   "cell_type": "code",
   "execution_count": 8,
   "id": "ab835f6c",
   "metadata": {},
   "outputs": [
    {
     "data": {
      "text/plain": [
       "134990"
      ]
     },
     "execution_count": 8,
     "metadata": {},
     "output_type": "execute_result"
    }
   ],
   "source": [
    "df['case_no'].nunique()"
   ]
  },
  {
   "cell_type": "code",
   "execution_count": 9,
   "id": "041f2f26",
   "metadata": {},
   "outputs": [
    {
     "data": {
      "text/plain": [
       "238418"
      ]
     },
     "execution_count": 9,
     "metadata": {},
     "output_type": "execute_result"
    }
   ],
   "source": [
    "df['case_number'].nunique()"
   ]
  },
  {
   "cell_type": "code",
   "execution_count": 10,
   "id": "723d2611",
   "metadata": {},
   "outputs": [
    {
     "data": {
      "text/plain": [
       "0                   NaN\n",
       "1                   NaN\n",
       "2                   NaN\n",
       "3                   NaN\n",
       "4                   NaN\n",
       "              ...      \n",
       "374357    A-16363-85407\n",
       "374358    A-16271-56745\n",
       "374359    A-16354-82345\n",
       "374360    A-16357-84250\n",
       "374361    A-16279-59292\n",
       "Name: case_number, Length: 374362, dtype: object"
      ]
     },
     "execution_count": 10,
     "metadata": {},
     "output_type": "execute_result"
    }
   ],
   "source": [
    "df['case_number']"
   ]
  },
  {
   "cell_type": "code",
   "execution_count": 11,
   "id": "0a921e22",
   "metadata": {},
   "outputs": [
    {
     "data": {
      "text/plain": [
       "0         A-07323-97014\n",
       "1         A-07332-99439\n",
       "2         A-07333-99643\n",
       "3         A-07339-01930\n",
       "4         A-07345-03565\n",
       "              ...      \n",
       "374357              NaN\n",
       "374358              NaN\n",
       "374359              NaN\n",
       "374360              NaN\n",
       "374361              NaN\n",
       "Name: case_no, Length: 374362, dtype: object"
      ]
     },
     "execution_count": 11,
     "metadata": {},
     "output_type": "execute_result"
    }
   ],
   "source": [
    "df['case_no']"
   ]
  },
  {
   "cell_type": "code",
   "execution_count": 12,
   "id": "78b376a0",
   "metadata": {},
   "outputs": [
    {
     "data": {
      "text/plain": [
       "(374362, 154)"
      ]
     },
     "execution_count": 12,
     "metadata": {},
     "output_type": "execute_result"
    }
   ],
   "source": [
    "df.shape"
   ]
  },
  {
   "cell_type": "code",
   "execution_count": 13,
   "id": "7acac2a6",
   "metadata": {},
   "outputs": [
    {
     "data": {
      "text/plain": [
       "373408"
      ]
     },
     "execution_count": 13,
     "metadata": {},
     "output_type": "execute_result"
    }
   ],
   "source": [
    "134990 + 238418"
   ]
  },
  {
   "cell_type": "code",
   "execution_count": 14,
   "id": "cc60dbe6",
   "metadata": {},
   "outputs": [
    {
     "data": {
      "text/plain": [
       "np.int64(135269)"
      ]
     },
     "execution_count": 14,
     "metadata": {},
     "output_type": "execute_result"
    }
   ],
   "source": [
    "df['case_number'].isna().sum()"
   ]
  },
  {
   "cell_type": "code",
   "execution_count": 15,
   "id": "1df4380d",
   "metadata": {},
   "outputs": [
    {
     "data": {
      "text/plain": [
       "0                   NaN\n",
       "1                   NaN\n",
       "2                   NaN\n",
       "3                   NaN\n",
       "4                   NaN\n",
       "              ...      \n",
       "374357    A-16363-85407\n",
       "374358    A-16271-56745\n",
       "374359    A-16354-82345\n",
       "374360    A-16357-84250\n",
       "374361    A-16279-59292\n",
       "Name: case_number, Length: 374362, dtype: object"
      ]
     },
     "execution_count": 15,
     "metadata": {},
     "output_type": "execute_result"
    }
   ],
   "source": [
    "df['case_number'] #case_no"
   ]
  },
  {
   "cell_type": "code",
   "execution_count": 16,
   "id": "efe9d1c3",
   "metadata": {},
   "outputs": [
    {
     "data": {
      "text/plain": [
       "0         A-07323-97014\n",
       "1         A-07332-99439\n",
       "2         A-07333-99643\n",
       "3         A-07339-01930\n",
       "4         A-07345-03565\n",
       "              ...      \n",
       "374357              NaN\n",
       "374358              NaN\n",
       "374359              NaN\n",
       "374360              NaN\n",
       "374361              NaN\n",
       "Name: case_no, Length: 374362, dtype: object"
      ]
     },
     "execution_count": 16,
     "metadata": {},
     "output_type": "execute_result"
    }
   ],
   "source": [
    "df['case_no']"
   ]
  },
  {
   "cell_type": "code",
   "execution_count": 17,
   "id": "285ec46c",
   "metadata": {},
   "outputs": [],
   "source": [
    "casenoindex = df.columns.get_loc(\"case_no\")\n",
    "casenumberindex = df.columns.get_loc(\"case_number\")\n",
    "casenumberlist = []\n",
    "\n",
    "for value in df.iloc[0:135269, casenoindex]:\n",
    "    casenumberlist.append(value)\n",
    "    \n",
    "for value in df.iloc[135269:374362, casenumberindex]:\n",
    "    casenumberlist.append(value)\n",
    "    \n",
    "df['casenumber'] = casenumberlist"
   ]
  },
  {
   "cell_type": "code",
   "execution_count": 18,
   "id": "f9193fde",
   "metadata": {},
   "outputs": [
    {
     "data": {
      "text/plain": [
       "Index(['add_these_pw_job_title_9089', 'agent_city', 'agent_firm_name',\n",
       "       'agent_state', 'application_type', 'case_no', 'case_number',\n",
       "       'case_received_date', 'case_status', 'class_of_admission',\n",
       "       ...\n",
       "       'ri_us_workers_considered', 'schd_a_sheepherder', 'us_economic_sector',\n",
       "       'wage_offer_from_9089', 'wage_offer_to_9089',\n",
       "       'wage_offer_unit_of_pay_9089', 'wage_offered_from_9089',\n",
       "       'wage_offered_to_9089', 'wage_offered_unit_of_pay_9089', 'casenumber'],\n",
       "      dtype='object', length=155)"
      ]
     },
     "execution_count": 18,
     "metadata": {},
     "output_type": "execute_result"
    }
   ],
   "source": [
    "df.columns"
   ]
  },
  {
   "cell_type": "code",
   "execution_count": 19,
   "id": "6b3a4319",
   "metadata": {},
   "outputs": [],
   "source": [
    "df.drop(['case_no', 'case_number'], axis = 1, inplace = True)"
   ]
  },
  {
   "cell_type": "code",
   "execution_count": 20,
   "id": "55c295a2",
   "metadata": {},
   "outputs": [
    {
     "data": {
      "text/plain": [
       "Index(['add_these_pw_job_title_9089', 'agent_city', 'agent_firm_name',\n",
       "       'agent_state', 'application_type', 'case_received_date', 'case_status',\n",
       "       'class_of_admission', 'country_of_citizenship', 'country_of_citzenship',\n",
       "       ...\n",
       "       'ri_us_workers_considered', 'schd_a_sheepherder', 'us_economic_sector',\n",
       "       'wage_offer_from_9089', 'wage_offer_to_9089',\n",
       "       'wage_offer_unit_of_pay_9089', 'wage_offered_from_9089',\n",
       "       'wage_offered_to_9089', 'wage_offered_unit_of_pay_9089', 'casenumber'],\n",
       "      dtype='object', length=153)"
      ]
     },
     "execution_count": 20,
     "metadata": {},
     "output_type": "execute_result"
    }
   ],
   "source": [
    "df.columns"
   ]
  },
  {
   "cell_type": "code",
   "execution_count": 21,
   "id": "b9750f57",
   "metadata": {},
   "outputs": [
    {
     "data": {
      "text/plain": [
       "array(['Certified', 'Denied', 'Certified-Expired', 'Withdrawn'],\n",
       "      dtype=object)"
      ]
     },
     "execution_count": 21,
     "metadata": {},
     "output_type": "execute_result"
    }
   ],
   "source": [
    "df['case_status'].unique()"
   ]
  },
  {
   "cell_type": "code",
   "execution_count": 22,
   "id": "ca75dd2d",
   "metadata": {},
   "outputs": [
    {
     "name": "stdout",
     "output_type": "stream",
     "text": [
      "181933 occurence of status 'Certified'\n",
      "25649 occurence of status 'Denied'\n",
      "148586 occurence of status 'Certified-Expired'\n",
      "18194 occurence of status 'Withdrawn'\n"
     ]
    }
   ],
   "source": [
    "for value in df.case_status.unique():\n",
    "    print(len(df[df['case_status'] == value]), \"occurence of status '{}'\".format(value))"
   ]
  },
  {
   "cell_type": "code",
   "execution_count": 23,
   "id": "ad13d98d",
   "metadata": {},
   "outputs": [],
   "source": [
    "#18194 people withdraw application\n",
    "df = df[df.case_status != 'Withdrawn']"
   ]
  },
  {
   "cell_type": "code",
   "execution_count": 24,
   "id": "77bb732c",
   "metadata": {},
   "outputs": [
    {
     "data": {
      "text/plain": [
       "(356168, 153)"
      ]
     },
     "execution_count": 24,
     "metadata": {},
     "output_type": "execute_result"
    }
   ],
   "source": [
    "df.shape"
   ]
  },
  {
   "cell_type": "code",
   "execution_count": 25,
   "id": "80f9afce",
   "metadata": {},
   "outputs": [
    {
     "data": {
      "text/plain": [
       "case_status\n",
       "Certified    330519\n",
       "Denied        25649\n",
       "Name: count, dtype: int64"
      ]
     },
     "execution_count": 25,
     "metadata": {},
     "output_type": "execute_result"
    }
   ],
   "source": [
    "df.loc[df.case_status == 'Certified-Expired', 'case_status'] = 'Certified'\n",
    "df.case_status.value_counts()"
   ]
  },
  {
   "cell_type": "code",
   "execution_count": 26,
   "id": "fed32a12",
   "metadata": {},
   "outputs": [
    {
     "data": {
      "text/plain": [
       "case_status\n",
       "Certified    92.798623\n",
       "Denied        7.201377\n",
       "Name: proportion, dtype: float64"
      ]
     },
     "execution_count": 26,
     "metadata": {},
     "output_type": "execute_result"
    }
   ],
   "source": [
    "df.case_status.value_counts(normalize=True)*100"
   ]
  },
  {
   "cell_type": "code",
   "execution_count": 27,
   "id": "e71044ba",
   "metadata": {},
   "outputs": [],
   "source": [
    "#insights\n",
    "#7.2% of visa applications were denied"
   ]
  },
  {
   "cell_type": "code",
   "execution_count": 28,
   "id": "91741a17",
   "metadata": {},
   "outputs": [
    {
     "data": {
      "text/plain": [
       "(356168, 153)"
      ]
     },
     "execution_count": 28,
     "metadata": {},
     "output_type": "execute_result"
    }
   ],
   "source": [
    "df.shape"
   ]
  },
  {
   "cell_type": "code",
   "execution_count": 29,
   "id": "59d9942e",
   "metadata": {},
   "outputs": [],
   "source": [
    "#dropping all empty rows and columns\n",
    "df.dropna(axis =1, how = 'all', inplace = True)\n",
    "df.dropna(axis =0, how = 'all', inplace = True)"
   ]
  },
  {
   "cell_type": "code",
   "execution_count": 30,
   "id": "901cb088",
   "metadata": {},
   "outputs": [
    {
     "data": {
      "text/plain": [
       "(356168, 153)"
      ]
     },
     "execution_count": 30,
     "metadata": {},
     "output_type": "execute_result"
    }
   ],
   "source": [
    "df.shape"
   ]
  },
  {
   "cell_type": "code",
   "execution_count": 31,
   "id": "c138c68f",
   "metadata": {},
   "outputs": [
    {
     "name": "stdout",
     "output_type": "stream",
     "text": [
      "The missing value for add_these_pw_job_title_9089 is 317031\n",
      "The missing value for agent_city is 153452\n",
      "The missing value for agent_firm_name is 157646\n",
      "The missing value for agent_state is 156544\n",
      "The missing value for application_type is 229320\n",
      "The missing value for case_received_date is 126848\n",
      "The missing value for case_status is 0\n",
      "The missing value for class_of_admission is 21085\n",
      "The missing value for country_of_citizenship is 19272\n",
      "The missing value for country_of_citzenship is 336951\n",
      "The missing value for decision_date is 0\n",
      "The missing value for employer_address_1 is 37\n",
      "The missing value for employer_address_2 is 236133\n",
      "The missing value for employer_city is 10\n",
      "The missing value for employer_country is 126920\n",
      "The missing value for employer_decl_info_title is 126886\n",
      "The missing value for employer_name is 8\n",
      "The missing value for employer_num_employees is 126925\n",
      "The missing value for employer_phone is 126883\n",
      "The missing value for employer_phone_ext is 333670\n",
      "The missing value for employer_postal_code is 33\n",
      "The missing value for employer_state is 37\n",
      "The missing value for employer_yr_estab is 126982\n",
      "The missing value for foreign_worker_info_alt_edu_experience is 271883\n",
      "The missing value for foreign_worker_info_birth_country is 271880\n",
      "The missing value for foreign_worker_info_city is 126875\n",
      "The missing value for foreign_worker_info_education is 143554\n",
      "The missing value for foreign_worker_info_education_other is 352421\n",
      "The missing value for foreign_worker_info_inst is 143883\n",
      "The missing value for foreign_worker_info_major is 144800\n",
      "The missing value for foreign_worker_info_postal_code is 274425\n",
      "The missing value for foreign_worker_info_rel_occup_exp is 271875\n",
      "The missing value for foreign_worker_info_req_experience is 271873\n",
      "The missing value for foreign_worker_info_state is 142448\n",
      "The missing value for foreign_worker_info_training_comp is 271874\n",
      "The missing value for foreign_worker_ownership_interest is 271870\n",
      "The missing value for foreign_worker_yr_rel_edu_completed is 276735\n",
      "The missing value for fw_info_alt_edu_experience is 211154\n",
      "The missing value for fw_info_birth_country is 211166\n",
      "The missing value for fw_info_education_other is 350072\n",
      "The missing value for fw_info_postal_code is 213280\n",
      "The missing value for fw_info_rel_occup_exp is 211157\n",
      "The missing value for fw_info_req_experience is 211153\n",
      "The missing value for fw_info_training_comp is 211156\n",
      "The missing value for fw_info_yr_rel_edu_completed is 223131\n",
      "The missing value for fw_ownership_interest is 211154\n",
      "The missing value for ji_foreign_worker_live_on_premises is 271871\n",
      "The missing value for ji_fw_live_on_premises is 211152\n",
      "The missing value for ji_live_in_dom_svc_contract is 353855\n",
      "The missing value for ji_live_in_domestic_service is 126858\n",
      "The missing value for ji_offered_to_sec_j_foreign_worker is 271871\n",
      "The missing value for ji_offered_to_sec_j_fw is 211152\n",
      "The missing value for job_info_alt_cmb_ed_oth_yrs is 288242\n",
      "The missing value for job_info_alt_combo_ed is 290025\n",
      "The missing value for job_info_alt_combo_ed_exp is 126881\n",
      "The missing value for job_info_alt_combo_ed_other is 347190\n",
      "The missing value for job_info_alt_field is 126880\n",
      "The missing value for job_info_alt_field_name is 265907\n",
      "The missing value for job_info_alt_occ is 213169\n",
      "The missing value for job_info_alt_occ_job_title is 213847\n",
      "The missing value for job_info_alt_occ_num_months is 214045\n",
      "The missing value for job_info_combo_occupation is 126855\n",
      "The missing value for job_info_education is 147649\n",
      "The missing value for job_info_education_other is 348724\n",
      "The missing value for job_info_experience is 126858\n",
      "The missing value for job_info_experience_num_months is 227222\n",
      "The missing value for job_info_foreign_ed is 127075\n",
      "The missing value for job_info_foreign_lang_req is 126862\n",
      "The missing value for job_info_job_req_normal is 126859\n",
      "The missing value for job_info_job_title is 126889\n",
      "The missing value for job_info_major is 151241\n",
      "The missing value for job_info_training is 126861\n",
      "The missing value for job_info_training_field is 351877\n",
      "The missing value for job_info_training_num_months is 351596\n",
      "The missing value for job_info_work_city is 95\n",
      "The missing value for job_info_work_postal_code is 126930\n",
      "The missing value for job_info_work_state is 96\n",
      "The missing value for naics_2007_us_code is 337009\n",
      "The missing value for naics_2007_us_title is 337598\n",
      "The missing value for naics_code is 272070\n",
      "The missing value for naics_title is 272070\n",
      "The missing value for naics_us_code is 211467\n",
      "The missing value for naics_us_code_2007 is 248921\n",
      "The missing value for naics_us_title is 211467\n",
      "The missing value for naics_us_title_2007 is 251893\n",
      "The missing value for orig_case_no is 355892\n",
      "The missing value for orig_file_date is 355904\n",
      "The missing value for preparer_info_emp_completed is 126885\n",
      "The missing value for preparer_info_title is 154602\n",
      "The missing value for pw_amount_9089 is 2203\n",
      "The missing value for pw_determ_date is 127160\n",
      "The missing value for pw_expire_date is 127239\n",
      "The missing value for pw_job_title_908 is 211218\n",
      "The missing value for pw_job_title_9089 is 145334\n",
      "The missing value for pw_level_9089 is 26585\n",
      "The missing value for pw_soc_code is 574\n",
      "The missing value for pw_soc_title is 2321\n",
      "The missing value for pw_source_name_9089 is 2087\n",
      "The missing value for pw_source_name_other_9089 is 340927\n",
      "The missing value for pw_track_num is 128696\n",
      "The missing value for pw_unit_of_pay_9089 is 1481\n",
      "The missing value for rec_info_barg_rep_notified is 271930\n",
      "The missing value for recr_info_barg_rep_notified is 211165\n",
      "The missing value for recr_info_coll_teach_comp_proc is 349374\n",
      "The missing value for recr_info_coll_univ_teacher is 126876\n",
      "The missing value for recr_info_employer_rec_payment is 126864\n",
      "The missing value for recr_info_first_ad_start is 132806\n",
      "The missing value for recr_info_job_fair_from is 354447\n",
      "The missing value for recr_info_job_fair_to is 354451\n",
      "The missing value for recr_info_on_campus_recr_from is 354403\n",
      "The missing value for recr_info_on_campus_recr_to is 354410\n",
      "The missing value for recr_info_pro_org_advert_from is 342873\n",
      "The missing value for recr_info_pro_org_advert_to is 342879\n",
      "The missing value for recr_info_prof_org_advert_from is 328771\n",
      "The missing value for recr_info_prof_org_advert_to is 328778\n",
      "The missing value for recr_info_professional_occ is 126861\n",
      "The missing value for recr_info_radio_tv_ad_from is 336666\n",
      "The missing value for recr_info_radio_tv_ad_to is 336665\n",
      "The missing value for recr_info_second_ad_start is 132843\n",
      "The missing value for recr_info_sunday_newspaper is 132717\n",
      "The missing value for recr_info_swa_job_order_end is 132841\n",
      "The missing value for recr_info_swa_job_order_start is 132819\n",
      "The missing value for refile is 247861\n",
      "The missing value for ri_1st_ad_newspaper_name is 132797\n",
      "The missing value for ri_2nd_ad_newspaper_name is 132858\n",
      "The missing value for ri_2nd_ad_newspaper_or_journal is 132825\n",
      "The missing value for ri_campus_placement_from is 327380\n",
      "The missing value for ri_campus_placement_to is 327390\n",
      "The missing value for ri_coll_tch_basic_process is 349382\n",
      "The missing value for ri_coll_teach_pro_jnl is 350625\n",
      "The missing value for ri_coll_teach_select_date is 350626\n",
      "The missing value for ri_employee_referral_prog_from is 289853\n",
      "The missing value for ri_employee_referral_prog_to is 289852\n",
      "The missing value for ri_employer_web_post_from is 224277\n",
      "The missing value for ri_employer_web_post_to is 224300\n",
      "The missing value for ri_job_search_website_from is 166377\n",
      "The missing value for ri_job_search_website_to is 166388\n",
      "The missing value for ri_layoff_in_past_six_months is 126878\n",
      "The missing value for ri_local_ethnic_paper_from is 239853\n",
      "The missing value for ri_local_ethnic_paper_to is 239852\n",
      "The missing value for ri_posted_notice_at_worksite is 126927\n",
      "The missing value for ri_pvt_employment_firm_from is 340050\n",
      "The missing value for ri_pvt_employment_firm_to is 340052\n",
      "The missing value for ri_us_workers_considered is 339595\n",
      "The missing value for schd_a_sheepherder is 126866\n",
      "The missing value for us_economic_sector is 235300\n",
      "The missing value for wage_offer_from_9089 is 107705\n",
      "The missing value for wage_offer_to_9089 is 285397\n",
      "The missing value for wage_offer_unit_of_pay_9089 is 108769\n",
      "The missing value for wage_offered_from_9089 is 248582\n",
      "The missing value for wage_offered_to_9089 is 326852\n",
      "The missing value for wage_offered_unit_of_pay_9089 is 289470\n",
      "The missing value for casenumber is 0\n"
     ]
    }
   ],
   "source": [
    "for column in df.columns:\n",
    "    print(f\"The missing value for {column} is {df[column].isnull().sum()}\")"
   ]
  },
  {
   "cell_type": "code",
   "execution_count": 32,
   "id": "bf17c010",
   "metadata": {},
   "outputs": [
    {
     "data": {
      "text/plain": [
       "0         2012-02-01\n",
       "1         2011-12-21\n",
       "2         2011-12-01\n",
       "3         2011-12-01\n",
       "4         2012-01-26\n",
       "             ...    \n",
       "374349    2016-12-30\n",
       "374350    2016-12-30\n",
       "374351    2016-12-30\n",
       "374352    2016-12-30\n",
       "374353    2016-12-30\n",
       "Name: decision_date, Length: 356168, dtype: object"
      ]
     },
     "execution_count": 32,
     "metadata": {},
     "output_type": "execute_result"
    }
   ],
   "source": [
    "df['decision_date']"
   ]
  },
  {
   "cell_type": "code",
   "execution_count": 33,
   "id": "dbc5ce43",
   "metadata": {},
   "outputs": [],
   "source": [
    "df['decision_date'] = pd.to_datetime(df['decision_date'])"
   ]
  },
  {
   "cell_type": "code",
   "execution_count": 34,
   "id": "6ff51f0a",
   "metadata": {},
   "outputs": [
    {
     "data": {
      "text/plain": [
       "0        2012-02-01\n",
       "1        2011-12-21\n",
       "2        2011-12-01\n",
       "3        2011-12-01\n",
       "4        2012-01-26\n",
       "            ...    \n",
       "374349   2016-12-30\n",
       "374350   2016-12-30\n",
       "374351   2016-12-30\n",
       "374352   2016-12-30\n",
       "374353   2016-12-30\n",
       "Name: decision_date, Length: 356168, dtype: datetime64[ns]"
      ]
     },
     "execution_count": 34,
     "metadata": {},
     "output_type": "execute_result"
    }
   ],
   "source": [
    "df['decision_date']"
   ]
  },
  {
   "cell_type": "code",
   "execution_count": 35,
   "id": "404362af",
   "metadata": {},
   "outputs": [],
   "source": [
    "#year wise visa status\n",
    "\n",
    "df['year'] = df['decision_date'].dt.year"
   ]
  },
  {
   "cell_type": "code",
   "execution_count": 36,
   "id": "17c8ade4",
   "metadata": {},
   "outputs": [
    {
     "data": {
      "text/plain": [
       "0         2012\n",
       "1         2011\n",
       "2         2011\n",
       "3         2011\n",
       "4         2012\n",
       "          ... \n",
       "374349    2016\n",
       "374350    2016\n",
       "374351    2016\n",
       "374352    2016\n",
       "374353    2016\n",
       "Name: year, Length: 356168, dtype: int32"
      ]
     },
     "execution_count": 36,
     "metadata": {},
     "output_type": "execute_result"
    }
   ],
   "source": [
    "df['year']"
   ]
  },
  {
   "cell_type": "code",
   "execution_count": 37,
   "id": "2163171f",
   "metadata": {},
   "outputs": [
    {
     "data": {
      "text/plain": [
       "<Axes: xlabel='year', ylabel='count'>"
      ]
     },
     "execution_count": 37,
     "metadata": {},
     "output_type": "execute_result"
    }
   ],
   "source": [
    "\n",
    "sns.countplot(x = 'year', hue = 'case_status', data = df)"
   ]
  },
  {
   "cell_type": "code",
   "execution_count": 38,
   "id": "d5e70184",
   "metadata": {},
   "outputs": [],
   "source": [
    "#insights\n",
    "#upward trend\n",
    "#2016-highest"
   ]
  },
  {
   "cell_type": "code",
   "execution_count": 39,
   "id": "2e52c751",
   "metadata": {},
   "outputs": [
    {
     "data": {
      "text/plain": [
       "array(['NEW YORK', 'CARLSTADT', 'GLEN ALLEN', ..., 'austin',\n",
       "       'Carson City', 'Northfield'], dtype=object)"
      ]
     },
     "execution_count": 39,
     "metadata": {},
     "output_type": "execute_result"
    }
   ],
   "source": [
    "df['employer_city'].unique()"
   ]
  },
  {
   "cell_type": "code",
   "execution_count": 40,
   "id": "1a2d94cf",
   "metadata": {},
   "outputs": [
    {
     "data": {
      "text/plain": [
       "employer_city\n",
       "NEW YORK           15992\n",
       "COLLEGE STATION    11983\n",
       "SANTA CLARA        10446\n",
       "SAN JOSE            9004\n",
       "REDMOND             8469\n",
       "                   ...  \n",
       "Goldsboro              1\n",
       "Sealy                  1\n",
       "austin                 1\n",
       "Carson City            1\n",
       "TREMONTON              1\n",
       "Name: count, Length: 8324, dtype: int64"
      ]
     },
     "execution_count": 40,
     "metadata": {},
     "output_type": "execute_result"
    }
   ],
   "source": [
    "df['employer_city'].value_counts()"
   ]
  },
  {
   "cell_type": "code",
   "execution_count": 41,
   "id": "11463541",
   "metadata": {},
   "outputs": [
    {
     "data": {
      "text/plain": [
       "employer_city\n",
       "NEW YORK            17198\n",
       "COLLEGE STATION     11985\n",
       "SANTA CLARA         10519\n",
       "SAN JOSE             9147\n",
       "REDMOND              8485\n",
       "                    ...  \n",
       "VERNON ROCKVILLE        1\n",
       "BOSTON,                 1\n",
       "TULLAHOMA               1\n",
       "REFTON                  1\n",
       "WINNSBORO               1\n",
       "Name: count, Length: 5782, dtype: int64"
      ]
     },
     "execution_count": 41,
     "metadata": {},
     "output_type": "execute_result"
    }
   ],
   "source": [
    "#few values were repeated with lower case\n",
    "df['employer_city'] = df['employer_city'].str.upper()\n",
    "df['employer_city'].value_counts()"
   ]
  },
  {
   "cell_type": "code",
   "execution_count": 42,
   "id": "394cf984",
   "metadata": {},
   "outputs": [
    {
     "data": {
      "text/plain": [
       "<Axes: xlabel='year', ylabel='count'>"
      ]
     },
     "execution_count": 42,
     "metadata": {},
     "output_type": "execute_result"
    }
   ],
   "source": [
    "sns.countplot(x = 'employer_city', hue = 'year', data =df, order = df.employer_city.value_counts().iloc[:10].index)"
   ]
  },
  {
   "cell_type": "code",
   "execution_count": 43,
   "id": "24bfcd29",
   "metadata": {},
   "outputs": [
    {
     "data": {
      "text/plain": [
       "[Text(0.5, 0, 'Employer city'), Text(0, 0.5, 'Number of Visa applications')]"
      ]
     },
     "execution_count": 43,
     "metadata": {},
     "output_type": "execute_result"
    }
   ],
   "source": [
    "fig, ax = plt.subplots()\n",
    "fig.set_size_inches(13.7, 8.27)\n",
    "sns.set_context(\"paper\", rc={\"font.size\":12,\"axes.titlesize\":12,\"axes.labelsize\":12})\n",
    "sns.countplot(x='employer_city', hue='year', data=df, order=df.employer_city.value_counts().iloc[:10].index)\n",
    "plt.xticks(rotation=90)\n",
    "ax.set(xlabel='Employer city', ylabel='Number of Visa applications')"
   ]
  },
  {
   "cell_type": "code",
   "execution_count": 44,
   "id": "60ae5dbe",
   "metadata": {},
   "outputs": [],
   "source": [
    "#insights"
   ]
  },
  {
   "cell_type": "code",
   "execution_count": 45,
   "id": "36ed3f82",
   "metadata": {},
   "outputs": [],
   "source": [
    "#top 10 employers by visa application\n",
    "top_emp = df['employer_name'].value_counts().head(10)\n",
    "top_emp.plot(kind = 'bar', color = 'skyblue')\n",
    "\n",
    "for i, v in enumerate(top_emp):\n",
    "    plt.text(i, v+10, str(v), ha = 'center', va = 'bottom', fontsize = 10)"
   ]
  },
  {
   "cell_type": "code",
   "execution_count": 46,
   "id": "a0fe2b67",
   "metadata": {},
   "outputs": [],
   "source": [
    "#insights"
   ]
  },
  {
   "cell_type": "code",
   "execution_count": 47,
   "id": "fdced419",
   "metadata": {},
   "outputs": [
    {
     "data": {
      "text/plain": [
       "0                            IT\n",
       "1         Other Economic Sector\n",
       "2                     Aerospace\n",
       "3         Other Economic Sector\n",
       "4                  Advanced Mfg\n",
       "                  ...          \n",
       "374349                      NaN\n",
       "374350                      NaN\n",
       "374351                      NaN\n",
       "374352                      NaN\n",
       "374353                      NaN\n",
       "Name: us_economic_sector, Length: 356168, dtype: object"
      ]
     },
     "execution_count": 47,
     "metadata": {},
     "output_type": "execute_result"
    }
   ],
   "source": [
    "df['us_economic_sector']"
   ]
  },
  {
   "cell_type": "code",
   "execution_count": 48,
   "id": "60ea185c",
   "metadata": {},
   "outputs": [],
   "source": [
    "us_economic_counts = {}\n",
    "\n",
    "for value in df['us_economic_sector'].dropna():\n",
    "    if value in us_economic_counts:\n",
    "        us_economic_counts[value] +=1\n",
    "    else: \n",
    "        us_economic_counts[value] = 1"
   ]
  },
  {
   "cell_type": "code",
   "execution_count": 49,
   "id": "47c961ea",
   "metadata": {},
   "outputs": [
    {
     "data": {
      "text/plain": [
       "{'IT': 49311,\n",
       " 'Other Economic Sector': 14662,\n",
       " 'Aerospace': 3917,\n",
       " 'Advanced Mfg': 17601,\n",
       " 'Educational Services': 8561,\n",
       " 'Retail': 4208,\n",
       " 'Construction': 1315,\n",
       " 'Hospitality': 1767,\n",
       " 'Automotive': 1084,\n",
       " 'Health Care': 6407,\n",
       " 'Agribusiness': 784,\n",
       " 'Finance': 8686,\n",
       " 'Energy': 1021,\n",
       " 'Transportation': 893,\n",
       " 'Homeland Security': 78,\n",
       " 'Biotechnology': 436,\n",
       " 'Geospatial': 137}"
      ]
     },
     "execution_count": 49,
     "metadata": {},
     "output_type": "execute_result"
    }
   ],
   "source": [
    "us_economic_counts"
   ]
  },
  {
   "cell_type": "code",
   "execution_count": 50,
   "id": "9157d256",
   "metadata": {},
   "outputs": [],
   "source": [
    "usecollabels = []\n",
    "usecolvalues = []\n",
    "\n",
    "explode = (0.035, 0, 0, 0,0,0,0,0,0,0)\n",
    "\n",
    "for key, value in us_economic_counts.items():\n",
    "    usecollabels.append(key)\n",
    "    usecolvalues.append(value)"
   ]
  },
  {
   "cell_type": "code",
   "execution_count": 51,
   "id": "a7837b70",
   "metadata": {},
   "outputs": [
    {
     "data": {
      "text/plain": [
       "([49311,\n",
       "  14662,\n",
       "  3917,\n",
       "  17601,\n",
       "  8561,\n",
       "  4208,\n",
       "  1315,\n",
       "  1767,\n",
       "  1084,\n",
       "  6407,\n",
       "  784,\n",
       "  8686,\n",
       "  1021,\n",
       "  893,\n",
       "  78,\n",
       "  436,\n",
       "  137],\n",
       " ['IT',\n",
       "  'Other Economic Sector',\n",
       "  'Aerospace',\n",
       "  'Advanced Mfg',\n",
       "  'Educational Services',\n",
       "  'Retail',\n",
       "  'Construction',\n",
       "  'Hospitality',\n",
       "  'Automotive',\n",
       "  'Health Care',\n",
       "  'Agribusiness',\n",
       "  'Finance',\n",
       "  'Energy',\n",
       "  'Transportation',\n",
       "  'Homeland Security',\n",
       "  'Biotechnology',\n",
       "  'Geospatial'])"
      ]
     },
     "execution_count": 51,
     "metadata": {},
     "output_type": "execute_result"
    }
   ],
   "source": [
    "usecolvalues, usecollabels"
   ]
  },
  {
   "cell_type": "code",
   "execution_count": 52,
   "id": "1a724f3b",
   "metadata": {},
   "outputs": [
    {
     "data": {
      "image/png": "[encoded data removed]",
      "text/plain": [
       "<Figure size 640x480 with 1 Axes>"
      ]
     },
     "metadata": {},
     "output_type": "display_data"
    },
    {
     "data": {
      "image/png": "[encoded data removed]",
      "text/plain": [
       "<Figure size 1370x827 with 1 Axes>"
      ]
     },
     "metadata": {},
     "output_type": "display_data"
    },
    {
     "data": {
      "image/png": "[encoded data removed]",
      "text/plain": [
       "<Figure size 1300x1300 with 1 Axes>"
      ]
     },
     "metadata": {},
     "output_type": "display_data"
    }
   ],
   "source": [
    "plt.figure(figsize = (13, 13))\n",
    "plt.pie(usecolvalues[:10], labels = usecollabels[:10], explode = explode, autopct = '%1.1f%%')\n",
    "plt.show()"
   ]
  },
  {
   "cell_type": "code",
   "execution_count": 53,
   "id": "65a88210",
   "metadata": {},
   "outputs": [],
   "source": [
    "#insight\n",
    "#IT max "
   ]
  },
  {
   "cell_type": "code",
   "execution_count": 54,
   "id": "f4117600",
   "metadata": {},
   "outputs": [
    {
     "data": {
      "text/plain": [
       "job_info_job_title\n",
       "Software Engineer                   14372\n",
       "Computer Systems Analyst - V         4747\n",
       "Senior Software Engineer             3801\n",
       "Computer Systems Analyst - II        3416\n",
       "Software Developer                   2880\n",
       "Assistant Professor                  2604\n",
       "Programmer Analyst                   2534\n",
       "Computer Systems Analyst - IV        2496\n",
       "Systems Analyst                      2034\n",
       "Software Development Engineer II     1630\n",
       "Poultry Processing Worker            1594\n",
       "Component Design Engineer            1064\n",
       "Poultry Processor                    1037\n",
       "Business Analyst                      963\n",
       "software engineer                     932\n",
       "SOFTWARE ENGINEER                     877\n",
       "Senior Programmer Analyst             862\n",
       "Sr. Software Engineer                 847\n",
       "Senior Software Developer             817\n",
       "Commercial Cleaner                    802\n",
       "Name: count, dtype: int64"
      ]
     },
     "execution_count": 54,
     "metadata": {},
     "output_type": "execute_result"
    }
   ],
   "source": [
    "df['job_info_job_title'].value_counts()[:20]"
   ]
  },
  {
   "cell_type": "code",
   "execution_count": 55,
   "id": "05f802c2",
   "metadata": {},
   "outputs": [
    {
     "data": {
      "text/plain": [
       "'Computer Systems Analyst '"
      ]
     },
     "execution_count": 55,
     "metadata": {},
     "output_type": "execute_result"
    }
   ],
   "source": [
    "\"Computer Systems Analyst - II\".split('-')[0]"
   ]
  },
  {
   "cell_type": "code",
   "execution_count": 56,
   "id": "214ced39",
   "metadata": {},
   "outputs": [
    {
     "data": {
      "text/plain": [
       "job_info_job_title\n",
       "software engineer                18582\n",
       "computer systems analyst         12054\n",
       "senior software engineer          5802\n",
       "software developer                4501\n",
       "programmer analyst                3763\n",
       "assistant professor               2869\n",
       "software development engineer     2766\n",
       "systems analyst                   2587\n",
       "senior programmer analyst         1884\n",
       "senior software developer         1625\n",
       "Name: count, dtype: int64"
      ]
     },
     "execution_count": 56,
     "metadata": {},
     "output_type": "execute_result"
    }
   ],
   "source": [
    "#Converting values to lower case\n",
    "df['job_info_job_title'] = df['job_info_job_title'].str.lower()\n",
    "\n",
    "#Splitting job titles by '-'\n",
    "df['job_info_job_title'] = df['job_info_job_title'].astype(str).str.split('-').str[0]\n",
    "#Splitting job titles by 'ii'\n",
    "df['job_info_job_title'] = df['job_info_job_title'].astype(str).str.split('ii').str[0]\n",
    "#Splitting job titles by '/'\n",
    "df['job_info_job_title'] = df['job_info_job_title'].astype(str).str.split('/').str[0]\n",
    "#Removing leading and ending spaces\n",
    "df['job_info_job_title'] = df['job_info_job_title'].astype(str).str.strip()\n",
    "#Replacing \"sr.\" values with \"senior\"\n",
    "df['job_info_job_title'] = df['job_info_job_title'].str.replace('sr.', 'senior')\n",
    "#Replacing \"NaN\", \"NaT\" and \"nan\" values with np.nan\n",
    "df['job_info_job_title'].replace([\"NaN\", 'NaT','nan'], np.nan, inplace = True)\n",
    "\n",
    "\n",
    "df['job_info_job_title'].value_counts(dropna=True)[:10]"
   ]
  },
  {
   "cell_type": "code",
   "execution_count": 57,
   "id": "895d7c76",
   "metadata": {},
   "outputs": [
    {
     "data": {
      "image/png": "[encoded data removed]",
      "text/plain": [
       "<Figure size 1270x827 with 1 Axes>"
      ]
     },
     "metadata": {},
     "output_type": "display_data"
    }
   ],
   "source": [
    "# Get the top 10 job titles by count\n",
    "top_job_titles = df['job_info_job_title'].value_counts().head(10)\n",
    "\n",
    "# Create a bar plot\n",
    "plt.figure(figsize=(12.7, 8.27))\n",
    "plt.bar(top_job_titles.index, top_job_titles, color=sns.color_palette(\"viridis\", len(top_job_titles)))\n",
    "\n",
    "# Add count labels above the bars\n",
    "for i, v in enumerate(top_job_titles):\n",
    "    plt.text(i, v + 10, str(v), ha='center', va='bottom', fontsize=10, rotation=90)\n",
    "\n",
    "plt.xlabel('Job Title')\n",
    "plt.ylabel('Number of Visa applications')\n",
    "plt.title('Top 10 Job Titles by Visa Applications')\n",
    "plt.xticks(rotation=90)\n",
    "plt.tight_layout()\n",
    "plt.show()\n"
   ]
  },
  {
   "cell_type": "code",
   "execution_count": 58,
   "id": "c3eb2191",
   "metadata": {},
   "outputs": [],
   "source": [
    "#insights\n",
    "#soft engineer most visa application"
   ]
  },
  {
   "cell_type": "code",
   "execution_count": 59,
   "id": "4ddb570d",
   "metadata": {},
   "outputs": [
    {
     "data": {
      "image/png": "[encoded data removed]",
      "text/plain": [
       "<Figure size 1270x827 with 1 Axes>"
      ]
     },
     "metadata": {},
     "output_type": "display_data"
    }
   ],
   "source": [
    "# Convert 'country_of_citizenship' column to categorical data type\n",
    "df['country_of_citizenship'] = pd.Categorical(df['country_of_citizenship'])\n",
    "\n",
    "# Setting plot parameters\n",
    "fig, ax = plt.subplots(figsize=(12.7, 8.27))\n",
    "sns.set_context(rc={\"font.size\":14, \"axes.labelsize\":12})\n",
    "\n",
    "# Creating the count plot\n",
    "sns.countplot(x='country_of_citizenship', hue='case_status', data=df,\n",
    "              palette=sns.diverging_palette(255, 133, l=60, n=7, center=\"light\"),\n",
    "              order=df.country_of_citizenship.value_counts().iloc[:7].index)\n",
    "\n",
    "plt.xticks(rotation=90)\n",
    "\n",
    "# Setting label titles\n",
    "ax.set(xlabel='Country of citizenship', ylabel='Number of Visa applications')\n",
    "\n",
    "plt.show()  # This line is necessary to display the plot\n"
   ]
  },
  {
   "cell_type": "code",
   "execution_count": 60,
   "id": "2ea6d6ee",
   "metadata": {},
   "outputs": [
    {
     "data": {
      "image/png": "[encoded data removed]",
      "text/plain": [
       "<Figure size 1070x727 with 1 Axes>"
      ]
     },
     "metadata": {},
     "output_type": "display_data"
    }
   ],
   "source": [
    "import matplotlib.pyplot as plt\n",
    "import seaborn as sns\n",
    "\n",
    "# Setting plot parameters\n",
    "plt.figure(figsize=(10.7, 7.27))\n",
    "\n",
    "# Creating the count plot\n",
    "sns.countplot(x='application_type', data=df, palette='GnBu_d', order=df['application_type'].value_counts().index[:10])\n",
    "\n",
    "# Iterating over elements in \"application_type\" column and displaying counts above bars\n",
    "for i, v in enumerate(df['application_type'].value_counts().head(10)):\n",
    "    plt.text(i, v, str(v), ha='center', va='bottom')\n",
    "\n",
    "# Setting labels\n",
    "plt.xlabel('Application type')\n",
    "plt.ylabel('Number of Visa applications')\n",
    "plt.show()\n"
   ]
  },
  {
   "cell_type": "code",
   "execution_count": 61,
   "id": "1366b25a",
   "metadata": {},
   "outputs": [
    {
     "data": {
      "image/png": "[encoded data removed]",
      "text/plain": [
       "<Figure size 1270x827 with 1 Axes>"
      ]
     },
     "metadata": {},
     "output_type": "display_data"
    }
   ],
   "source": [
    "import matplotlib.pyplot as plt\n",
    "import seaborn as sns\n",
    "\n",
    "# Setting plot parameters\n",
    "fig, ax = plt.subplots()\n",
    "fig.set_size_inches(12.7, 8.27)\n",
    "\n",
    "# Creating the count plot\n",
    "sns.countplot(x='foreign_worker_info_education', data=df,\n",
    "              palette=sns.color_palette(\"Paired\"),\n",
    "              order=df['foreign_worker_info_education'].value_counts().index[:10])\n",
    "\n",
    "# Iterating over elements in \"foreign_worker_info_education\" column and displaying counts above bars\n",
    "for i, v in enumerate(df['foreign_worker_info_education'].value_counts().head(10)):\n",
    "    ax.text(i, v, str(v), horizontalalignment='center', verticalalignment='bottom')\n",
    "\n",
    "# Setting label titles\n",
    "ax.set(xlabel='Education level', ylabel='Number of Visa applications')\n",
    "plt.show()\n"
   ]
  },
  {
   "cell_type": "code",
   "execution_count": 62,
   "id": "bc3a92d1",
   "metadata": {},
   "outputs": [
    {
     "name": "stdout",
     "output_type": "stream",
     "text": [
      "0 Column: 'add_these_pw_job_title_9089' contains  10.99 % non-null values\n",
      "1 Column: 'agent_city' contains  56.92 % non-null values\n",
      "2 Column: 'agent_firm_name' contains  55.74 % non-null values\n",
      "3 Column: 'agent_state' contains  56.05 % non-null values\n",
      "4 Column: 'application_type' contains  35.61 % non-null values\n",
      "5 Column: 'case_received_date' contains  64.39 % non-null values\n",
      "6 Column: 'case_status' contains  100.0 % non-null values\n",
      "7 Column: 'class_of_admission' contains  94.08 % non-null values\n",
      "8 Column: 'country_of_citizenship' contains  94.59 % non-null values\n",
      "9 Column: 'country_of_citzenship' contains  5.4 % non-null values\n",
      "10 Column: 'decision_date' contains  100.0 % non-null values\n",
      "11 Column: 'employer_address_1' contains  99.99 % non-null values\n",
      "12 Column: 'employer_address_2' contains  33.7 % non-null values\n",
      "13 Column: 'employer_city' contains  100.0 % non-null values\n",
      "14 Column: 'employer_country' contains  64.37 % non-null values\n",
      "15 Column: 'employer_decl_info_title' contains  64.37 % non-null values\n",
      "16 Column: 'employer_name' contains  100.0 % non-null values\n",
      "17 Column: 'employer_num_employees' contains  64.36 % non-null values\n",
      "18 Column: 'employer_phone' contains  64.38 % non-null values\n",
      "19 Column: 'employer_phone_ext' contains  6.32 % non-null values\n",
      "20 Column: 'employer_postal_code' contains  99.99 % non-null values\n",
      "21 Column: 'employer_state' contains  99.99 % non-null values\n",
      "22 Column: 'employer_yr_estab' contains  64.35 % non-null values\n",
      "23 Column: 'foreign_worker_info_alt_edu_experience' contains  23.66 % non-null values\n",
      "24 Column: 'foreign_worker_info_birth_country' contains  23.67 % non-null values\n",
      "25 Column: 'foreign_worker_info_city' contains  64.38 % non-null values\n",
      "26 Column: 'foreign_worker_info_education' contains  59.69 % non-null values\n",
      "27 Column: 'foreign_worker_info_education_other' contains  1.05 % non-null values\n",
      "28 Column: 'foreign_worker_info_inst' contains  59.6 % non-null values\n",
      "29 Column: 'foreign_worker_info_major' contains  59.35 % non-null values\n",
      "30 Column: 'foreign_worker_info_postal_code' contains  22.95 % non-null values\n",
      "31 Column: 'foreign_worker_info_rel_occup_exp' contains  23.67 % non-null values\n",
      "32 Column: 'foreign_worker_info_req_experience' contains  23.67 % non-null values\n",
      "33 Column: 'foreign_worker_info_state' contains  60.01 % non-null values\n",
      "34 Column: 'foreign_worker_info_training_comp' contains  23.67 % non-null values\n",
      "35 Column: 'foreign_worker_ownership_interest' contains  23.67 % non-null values\n",
      "36 Column: 'foreign_worker_yr_rel_edu_completed' contains  22.3 % non-null values\n",
      "37 Column: 'fw_info_alt_edu_experience' contains  40.72 % non-null values\n",
      "38 Column: 'fw_info_birth_country' contains  40.71 % non-null values\n",
      "39 Column: 'fw_info_education_other' contains  1.71 % non-null values\n",
      "40 Column: 'fw_info_postal_code' contains  40.12 % non-null values\n",
      "41 Column: 'fw_info_rel_occup_exp' contains  40.71 % non-null values\n",
      "42 Column: 'fw_info_req_experience' contains  40.72 % non-null values\n",
      "43 Column: 'fw_info_training_comp' contains  40.71 % non-null values\n",
      "44 Column: 'fw_info_yr_rel_edu_completed' contains  37.35 % non-null values\n",
      "45 Column: 'fw_ownership_interest' contains  40.72 % non-null values\n",
      "46 Column: 'ji_foreign_worker_live_on_premises' contains  23.67 % non-null values\n",
      "47 Column: 'ji_fw_live_on_premises' contains  40.72 % non-null values\n",
      "48 Column: 'ji_live_in_dom_svc_contract' contains  0.65 % non-null values\n",
      "49 Column: 'ji_live_in_domestic_service' contains  64.38 % non-null values\n",
      "50 Column: 'ji_offered_to_sec_j_foreign_worker' contains  23.67 % non-null values\n",
      "51 Column: 'ji_offered_to_sec_j_fw' contains  40.72 % non-null values\n",
      "52 Column: 'job_info_alt_cmb_ed_oth_yrs' contains  19.07 % non-null values\n",
      "53 Column: 'job_info_alt_combo_ed' contains  18.57 % non-null values\n",
      "54 Column: 'job_info_alt_combo_ed_exp' contains  64.38 % non-null values\n",
      "55 Column: 'job_info_alt_combo_ed_other' contains  2.52 % non-null values\n",
      "56 Column: 'job_info_alt_field' contains  64.38 % non-null values\n",
      "57 Column: 'job_info_alt_field_name' contains  25.34 % non-null values\n",
      "58 Column: 'job_info_alt_occ' contains  40.15 % non-null values\n",
      "59 Column: 'job_info_alt_occ_job_title' contains  39.96 % non-null values\n",
      "60 Column: 'job_info_alt_occ_num_months' contains  39.9 % non-null values\n",
      "61 Column: 'job_info_combo_occupation' contains  64.38 % non-null values\n",
      "62 Column: 'job_info_education' contains  58.55 % non-null values\n",
      "63 Column: 'job_info_education_other' contains  2.09 % non-null values\n",
      "64 Column: 'job_info_experience' contains  64.38 % non-null values\n",
      "65 Column: 'job_info_experience_num_months' contains  36.2 % non-null values\n",
      "66 Column: 'job_info_foreign_ed' contains  64.32 % non-null values\n",
      "67 Column: 'job_info_foreign_lang_req' contains  64.38 % non-null values\n",
      "68 Column: 'job_info_job_req_normal' contains  64.38 % non-null values\n",
      "69 Column: 'job_info_job_title' contains  64.37 % non-null values\n",
      "70 Column: 'job_info_major' contains  57.54 % non-null values\n",
      "71 Column: 'job_info_training' contains  64.38 % non-null values\n",
      "72 Column: 'job_info_training_field' contains  1.2 % non-null values\n",
      "73 Column: 'job_info_training_num_months' contains  1.28 % non-null values\n",
      "74 Column: 'job_info_work_city' contains  99.97 % non-null values\n",
      "75 Column: 'job_info_work_postal_code' contains  64.36 % non-null values\n",
      "76 Column: 'job_info_work_state' contains  99.97 % non-null values\n",
      "77 Column: 'naics_2007_us_code' contains  5.38 % non-null values\n",
      "78 Column: 'naics_2007_us_title' contains  5.21 % non-null values\n",
      "79 Column: 'naics_code' contains  23.61 % non-null values\n",
      "80 Column: 'naics_title' contains  23.61 % non-null values\n",
      "81 Column: 'naics_us_code' contains  40.63 % non-null values\n",
      "82 Column: 'naics_us_code_2007' contains  30.11 % non-null values\n",
      "83 Column: 'naics_us_title' contains  40.63 % non-null values\n",
      "84 Column: 'naics_us_title_2007' contains  29.28 % non-null values\n",
      "85 Column: 'orig_case_no' contains  0.08 % non-null values\n",
      "86 Column: 'orig_file_date' contains  0.07 % non-null values\n",
      "87 Column: 'preparer_info_emp_completed' contains  64.37 % non-null values\n",
      "88 Column: 'preparer_info_title' contains  56.59 % non-null values\n",
      "89 Column: 'pw_amount_9089' contains  99.38 % non-null values\n",
      "90 Column: 'pw_determ_date' contains  64.3 % non-null values\n",
      "91 Column: 'pw_expire_date' contains  64.28 % non-null values\n",
      "92 Column: 'pw_job_title_908' contains  40.7 % non-null values\n",
      "93 Column: 'pw_job_title_9089' contains  59.2 % non-null values\n",
      "94 Column: 'pw_level_9089' contains  92.54 % non-null values\n",
      "95 Column: 'pw_soc_code' contains  99.84 % non-null values\n",
      "96 Column: 'pw_soc_title' contains  99.35 % non-null values\n",
      "97 Column: 'pw_source_name_9089' contains  99.41 % non-null values\n",
      "98 Column: 'pw_source_name_other_9089' contains  4.28 % non-null values\n",
      "99 Column: 'pw_track_num' contains  63.87 % non-null values\n",
      "100 Column: 'pw_unit_of_pay_9089' contains  99.58 % non-null values\n",
      "101 Column: 'rec_info_barg_rep_notified' contains  23.65 % non-null values\n",
      "102 Column: 'recr_info_barg_rep_notified' contains  40.71 % non-null values\n",
      "103 Column: 'recr_info_coll_teach_comp_proc' contains  1.91 % non-null values\n",
      "104 Column: 'recr_info_coll_univ_teacher' contains  64.38 % non-null values\n",
      "105 Column: 'recr_info_employer_rec_payment' contains  64.38 % non-null values\n",
      "106 Column: 'recr_info_first_ad_start' contains  62.71 % non-null values\n",
      "107 Column: 'recr_info_job_fair_from' contains  0.48 % non-null values\n",
      "108 Column: 'recr_info_job_fair_to' contains  0.48 % non-null values\n",
      "109 Column: 'recr_info_on_campus_recr_from' contains  0.5 % non-null values\n",
      "110 Column: 'recr_info_on_campus_recr_to' contains  0.49 % non-null values\n",
      "111 Column: 'recr_info_pro_org_advert_from' contains  3.73 % non-null values\n",
      "112 Column: 'recr_info_pro_org_advert_to' contains  3.73 % non-null values\n",
      "113 Column: 'recr_info_prof_org_advert_from' contains  7.69 % non-null values\n",
      "114 Column: 'recr_info_prof_org_advert_to' contains  7.69 % non-null values\n",
      "115 Column: 'recr_info_professional_occ' contains  64.38 % non-null values\n",
      "116 Column: 'recr_info_radio_tv_ad_from' contains  5.48 % non-null values\n",
      "117 Column: 'recr_info_radio_tv_ad_to' contains  5.48 % non-null values\n",
      "118 Column: 'recr_info_second_ad_start' contains  62.7 % non-null values\n",
      "119 Column: 'recr_info_sunday_newspaper' contains  62.74 % non-null values\n",
      "120 Column: 'recr_info_swa_job_order_end' contains  62.7 % non-null values\n",
      "121 Column: 'recr_info_swa_job_order_start' contains  62.71 % non-null values\n",
      "122 Column: 'refile' contains  30.41 % non-null values\n",
      "123 Column: 'ri_1st_ad_newspaper_name' contains  62.72 % non-null values\n",
      "124 Column: 'ri_2nd_ad_newspaper_name' contains  62.7 % non-null values\n",
      "125 Column: 'ri_2nd_ad_newspaper_or_journal' contains  62.71 % non-null values\n",
      "126 Column: 'ri_campus_placement_from' contains  8.08 % non-null values\n",
      "127 Column: 'ri_campus_placement_to' contains  8.08 % non-null values\n",
      "128 Column: 'ri_coll_tch_basic_process' contains  1.91 % non-null values\n",
      "129 Column: 'ri_coll_teach_pro_jnl' contains  1.56 % non-null values\n",
      "130 Column: 'ri_coll_teach_select_date' contains  1.56 % non-null values\n",
      "131 Column: 'ri_employee_referral_prog_from' contains  18.62 % non-null values\n",
      "132 Column: 'ri_employee_referral_prog_to' contains  18.62 % non-null values\n",
      "133 Column: 'ri_employer_web_post_from' contains  37.03 % non-null values\n",
      "134 Column: 'ri_employer_web_post_to' contains  37.02 % non-null values\n",
      "135 Column: 'ri_job_search_website_from' contains  53.29 % non-null values\n",
      "136 Column: 'ri_job_search_website_to' contains  53.28 % non-null values\n",
      "137 Column: 'ri_layoff_in_past_six_months' contains  64.38 % non-null values\n",
      "138 Column: 'ri_local_ethnic_paper_from' contains  32.66 % non-null values\n",
      "139 Column: 'ri_local_ethnic_paper_to' contains  32.66 % non-null values\n",
      "140 Column: 'ri_posted_notice_at_worksite' contains  64.36 % non-null values\n",
      "141 Column: 'ri_pvt_employment_firm_from' contains  4.53 % non-null values\n",
      "142 Column: 'ri_pvt_employment_firm_to' contains  4.52 % non-null values\n",
      "143 Column: 'ri_us_workers_considered' contains  4.65 % non-null values\n",
      "144 Column: 'schd_a_sheepherder' contains  64.38 % non-null values\n",
      "145 Column: 'us_economic_sector' contains  33.94 % non-null values\n",
      "146 Column: 'wage_offer_from_9089' contains  69.76 % non-null values\n",
      "147 Column: 'wage_offer_to_9089' contains  19.87 % non-null values\n",
      "148 Column: 'wage_offer_unit_of_pay_9089' contains  69.46 % non-null values\n",
      "149 Column: 'wage_offered_from_9089' contains  30.21 % non-null values\n",
      "150 Column: 'wage_offered_to_9089' contains  8.23 % non-null values\n",
      "151 Column: 'wage_offered_unit_of_pay_9089' contains  18.73 % non-null values\n",
      "152 Column: 'casenumber' contains  100.0 % non-null values\n",
      "153 Column: 'year' contains  100.0 % non-null values\n"
     ]
    }
   ],
   "source": [
    "#percentage of non null values\n",
    "\n",
    "i = 0;\n",
    "for col in df.columns:\n",
    "    i = i+1;\n",
    "    print (i-1,\"Column: '{}'\".format(col),\"contains \", np.round(100*df[col].count()/len(df['case_status']),decimals=2),\"% non-null values\" )"
   ]
  },
  {
   "cell_type": "code",
   "execution_count": 63,
   "id": "04f7ef9e",
   "metadata": {},
   "outputs": [
    {
     "name": "stdout",
     "output_type": "stream",
     "text": [
      "<class 'pandas.core.frame.DataFrame'>\n",
      "Index: 356168 entries, 0 to 374353\n",
      "Data columns (total 18 columns):\n",
      " #   Column                  Non-Null Count   Dtype         \n",
      "---  ------                  --------------   -----         \n",
      " 0   case_status             356168 non-null  object        \n",
      " 1   class_of_admission      335083 non-null  object        \n",
      " 2   country_of_citizenship  336896 non-null  category      \n",
      " 3   decision_date           356168 non-null  datetime64[ns]\n",
      " 4   employer_address_1      356131 non-null  object        \n",
      " 5   employer_city           356158 non-null  object        \n",
      " 6   employer_name           356160 non-null  object        \n",
      " 7   employer_postal_code    356135 non-null  object        \n",
      " 8   employer_state          356131 non-null  object        \n",
      " 9   job_info_work_city      356073 non-null  object        \n",
      " 10  job_info_work_state     356072 non-null  object        \n",
      " 11  pw_amount_9089          353965 non-null  object        \n",
      " 12  pw_soc_code             355594 non-null  object        \n",
      " 13  pw_soc_title            353847 non-null  object        \n",
      " 14  pw_source_name_9089     354081 non-null  object        \n",
      " 15  pw_unit_of_pay_9089     354687 non-null  object        \n",
      " 16  casenumber              356168 non-null  object        \n",
      " 17  year                    356168 non-null  int32         \n",
      "dtypes: category(1), datetime64[ns](1), int32(1), object(15)\n",
      "memory usage: 48.2+ MB\n"
     ]
    }
   ],
   "source": [
    "#keep the columns with non null values count > 33000\n",
    "\n",
    "df = df.loc[:, df.count()>= 330000]\n",
    "df.info()"
   ]
  },
  {
   "cell_type": "code",
   "execution_count": 64,
   "id": "6b9a4a70",
   "metadata": {},
   "outputs": [],
   "source": [
    "df.loc[df['case_status'] == 'Certified', 'case_status'] =1\n",
    "df.loc[df['case_status'] == 'Denied', 'case_status'] =0"
   ]
  },
  {
   "cell_type": "code",
   "execution_count": 65,
   "id": "e1f41559",
   "metadata": {},
   "outputs": [
    {
     "data": {
      "text/plain": [
       "array([1, 0], dtype=object)"
      ]
     },
     "execution_count": 65,
     "metadata": {},
     "output_type": "execute_result"
    }
   ],
   "source": [
    "df['case_status'].unique()"
   ]
  },
  {
   "cell_type": "code",
   "execution_count": 66,
   "id": "bbd80c78",
   "metadata": {},
   "outputs": [
    {
     "data": {
      "text/plain": [
       "np.int64(37)"
      ]
     },
     "execution_count": 66,
     "metadata": {},
     "output_type": "execute_result"
    }
   ],
   "source": [
    "df['employer_state'].isnull().sum()"
   ]
  },
  {
   "cell_type": "code",
   "execution_count": 67,
   "id": "5ffb437f",
   "metadata": {},
   "outputs": [
    {
     "data": {
      "text/plain": [
       "'CALIFORNIA'"
      ]
     },
     "execution_count": 67,
     "metadata": {},
     "output_type": "execute_result"
    }
   ],
   "source": [
    "df['employer_state'].mode()[0]"
   ]
  },
  {
   "cell_type": "code",
   "execution_count": 68,
   "id": "7d06b530",
   "metadata": {},
   "outputs": [],
   "source": [
    "df['employer_state'] = df['employer_state'].fillna(df['employer_state'].mode()[0])"
   ]
  },
  {
   "cell_type": "code",
   "execution_count": 69,
   "id": "8b1f4a25",
   "metadata": {},
   "outputs": [
    {
     "data": {
      "text/plain": [
       "0         NY\n",
       "1         NY\n",
       "2         VA\n",
       "3         NY\n",
       "4         NY\n",
       "          ..\n",
       "374349    KY\n",
       "374350    OH\n",
       "374351    CA\n",
       "374352    NY\n",
       "374353    NJ\n",
       "Name: employer_state, Length: 356168, dtype: object"
      ]
     },
     "execution_count": 69,
     "metadata": {},
     "output_type": "execute_result"
    }
   ],
   "source": [
    "df['employer_state']"
   ]
  },
  {
   "cell_type": "code",
   "execution_count": 70,
   "id": "b2b909b9",
   "metadata": {},
   "outputs": [],
   "source": [
    "#Mapping from state name to abbreviation\n",
    "state_abbrevs = {\n",
    "    'Alabama': 'AL',\n",
    "    'Alaska': 'AK',\n",
    "    'Arizona': 'AZ',\n",
    "    'Arkansas': 'AR',\n",
    "    'California': 'CA',\n",
    "    'Colorado': 'CO',\n",
    "    'Connecticut': 'CT',\n",
    "    'Delaware': 'DE',\n",
    "    'Florida': 'FL',\n",
    "    'Georgia': 'GA',\n",
    "    'Hawaii': 'HI',\n",
    "    'Idaho': 'ID',\n",
    "    'Illinois': 'IL',\n",
    "    'Indiana': 'IN',\n",
    "    'Iowa': 'IA',\n",
    "    'Kansas': 'KS',\n",
    "    'Kentucky': 'KY',\n",
    "    'Louisiana': 'LA',\n",
    "    'Maine': 'ME',\n",
    "    'Maryland': 'MD',\n",
    "    'Massachusetts': 'MA',\n",
    "    'Michigan': 'MI',\n",
    "    'Minnesota': 'MN',\n",
    "    'Mississippi': 'MS',\n",
    "    'Missouri': 'MO',\n",
    "    'Montana': 'MT',\n",
    "    'Nebraska': 'NE',\n",
    "    'Nevada': 'NV',\n",
    "    'New Hampshire': 'NH',\n",
    "    'New Jersey': 'NJ',\n",
    "    'New Mexico': 'NM',\n",
    "    'New York': 'NY',\n",
    "    'North Carolina': 'NC',\n",
    "    'North Dakota': 'ND',\n",
    "    'Ohio': 'OH',\n",
    "    'Oklahoma': 'OK',\n",
    "    'Oregon': 'OR',\n",
    "    'Pennsylvania': 'PA',\n",
    "    'Rhode Island': 'RI',\n",
    "    'South Carolina': 'SC',\n",
    "    'South Dakota': 'SD',\n",
    "    'Tennessee': 'TN',\n",
    "    'Texas': 'TX',\n",
    "    'Utah': 'UT',\n",
    "    'Vermont': 'VT',\n",
    "    'Virginia': 'VA',\n",
    "    'Washington': 'WA',\n",
    "    'West Virginia': 'WV',\n",
    "    'Wisconsin': 'WI',\n",
    "    'Wyoming': 'WY',\n",
    "    'Northern Mariana Islands':'MP',\n",
    "    'Palau': 'PW',\n",
    "    'Puerto Rico': 'PR',\n",
    "    'Virgin Islands': 'VI',\n",
    "    'District of Columbia': 'DC'\n",
    "}\n",
    "\n",
    "#Capitalizing Keys\n",
    "us_state_abbrev = {k.upper(): v for k, v in state_abbrevs.items()}\n",
    "df['employer_state'].replace(us_state_abbrev, inplace=True)\n",
    "df.employer_state = df.employer_state.astype(str)"
   ]
  },
  {
   "cell_type": "code",
   "execution_count": 71,
   "id": "15e57cf8",
   "metadata": {},
   "outputs": [
    {
     "data": {
      "text/plain": [
       "0         15-1031.00\n",
       "1         47-4041.00\n",
       "2         17-2051.00\n",
       "3         43-4071.00\n",
       "4         41-9031.00\n",
       "             ...    \n",
       "374349       15-1132\n",
       "374350       15-1132\n",
       "374351       15-1121\n",
       "374352       15-1122\n",
       "374353       13-1111\n",
       "Name: pw_soc_code, Length: 356168, dtype: object"
      ]
     },
     "execution_count": 71,
     "metadata": {},
     "output_type": "execute_result"
    }
   ],
   "source": [
    "df['pw_soc_code']"
   ]
  },
  {
   "cell_type": "code",
   "execution_count": 72,
   "id": "b60e682c",
   "metadata": {},
   "outputs": [],
   "source": [
    "df['pw_soc_code'] = df['pw_soc_code'].str.replace('.','')\n",
    "df['pw_soc_code'] = df['pw_soc_code'].str.replace('-','')\n",
    "df['pw_soc_code'] = df['pw_soc_code'].astype(str).str[0:6]\n",
    "df['pw_soc_code'].value_counts()\n",
    "\n",
    "#Finding \"nan\" values in \"pw_soc_code\" column and filling them with mode\n",
    "df.loc[df['pw_soc_code'] == \"nan\",'pw_soc_code'] = df['pw_soc_code'].mode()[0]\n",
    "\n",
    "#Finding \"None\" values in \"pw_soc_code\" column and filling them with mode\n",
    "df.loc[df['pw_soc_code'] == \"None\",'pw_soc_code'] = df['pw_soc_code'].mode()[0]\n",
    "\n",
    "#Changing type from string to int\n",
    "df['pw_soc_code'] = df['pw_soc_code'].astype(int)\n",
    "df['case_status'] = df['case_status'].astype(int)"
   ]
  },
  {
   "cell_type": "code",
   "execution_count": 73,
   "id": "895f7862",
   "metadata": {},
   "outputs": [
    {
     "data": {
      "text/plain": [
       "0         151031\n",
       "1         474041\n",
       "2         172051\n",
       "3         434071\n",
       "4         419031\n",
       "           ...  \n",
       "374349    151132\n",
       "374350    151132\n",
       "374351    151121\n",
       "374352    151122\n",
       "374353    131111\n",
       "Name: pw_soc_code, Length: 356168, dtype: int64"
      ]
     },
     "execution_count": 73,
     "metadata": {},
     "output_type": "execute_result"
    }
   ],
   "source": [
    "df['pw_soc_code']"
   ]
  },
  {
   "cell_type": "code",
   "execution_count": 74,
   "id": "52036bfa",
   "metadata": {},
   "outputs": [],
   "source": [
    "#missing value treatment for other columns\n",
    "\n",
    "#Replacing missing values with mode\n",
    "df['class_of_admission']=df['class_of_admission'].fillna((df['class_of_admission'].mode()[0]))\n",
    "df['country_of_citizenship']=df['country_of_citizenship'].fillna((df['country_of_citizenship'].mode()[0]))\n",
    "df['employer_city']=df['employer_city'].fillna((df['employer_city'].mode()[0]))\n",
    "df['employer_name']=df['employer_name'].fillna((df['employer_name'].mode()[0]))\n",
    "df['employer_name']=df['employer_name'].astype(str).str.upper()\n",
    "df['pw_source_name_9089']=df['pw_source_name_9089'].fillna((df['pw_source_name_9089'].mode()[0]))"
   ]
  },
  {
   "cell_type": "code",
   "execution_count": 75,
   "id": "2bb7802a",
   "metadata": {},
   "outputs": [
    {
     "name": "stdout",
     "output_type": "stream",
     "text": [
      "<class 'pandas.core.frame.DataFrame'>\n",
      "Index: 356168 entries, 0 to 374353\n",
      "Data columns (total 18 columns):\n",
      " #   Column                  Non-Null Count   Dtype         \n",
      "---  ------                  --------------   -----         \n",
      " 0   case_status             356168 non-null  int64         \n",
      " 1   class_of_admission      356168 non-null  object        \n",
      " 2   country_of_citizenship  356168 non-null  category      \n",
      " 3   decision_date           356168 non-null  datetime64[ns]\n",
      " 4   employer_address_1      356131 non-null  object        \n",
      " 5   employer_city           356168 non-null  object        \n",
      " 6   employer_name           356168 non-null  object        \n",
      " 7   employer_postal_code    356135 non-null  object        \n",
      " 8   employer_state          356168 non-null  object        \n",
      " 9   job_info_work_city      356073 non-null  object        \n",
      " 10  job_info_work_state     356072 non-null  object        \n",
      " 11  pw_amount_9089          353965 non-null  object        \n",
      " 12  pw_soc_code             356168 non-null  int64         \n",
      " 13  pw_soc_title            353847 non-null  object        \n",
      " 14  pw_source_name_9089     356168 non-null  object        \n",
      " 15  pw_unit_of_pay_9089     354687 non-null  object        \n",
      " 16  casenumber              356168 non-null  object        \n",
      " 17  year                    356168 non-null  int32         \n",
      "dtypes: category(1), datetime64[ns](1), int32(1), int64(2), object(13)\n",
      "memory usage: 48.2+ MB\n"
     ]
    }
   ],
   "source": [
    "df.info()"
   ]
  },
  {
   "cell_type": "code",
   "execution_count": 76,
   "id": "095e89e8",
   "metadata": {},
   "outputs": [
    {
     "name": "stdout",
     "output_type": "stream",
     "text": [
      "case_status                  0\n",
      "class_of_admission           0\n",
      "country_of_citizenship       0\n",
      "decision_date                0\n",
      "employer_address_1          37\n",
      "employer_city                0\n",
      "employer_name                0\n",
      "employer_postal_code        33\n",
      "employer_state               0\n",
      "job_info_work_city          95\n",
      "job_info_work_state         96\n",
      "pw_amount_9089               0\n",
      "pw_soc_code                  0\n",
      "pw_soc_title              2321\n",
      "pw_source_name_9089          0\n",
      "pw_unit_of_pay_9089       1481\n",
      "casenumber                   0\n",
      "year                         0\n",
      "dtype: int64\n"
     ]
    }
   ],
   "source": [
    "# Convert the column containing numerical values with commas to numeric format\n",
    "df['pw_amount_9089'] = df['pw_amount_9089'].str.replace(',', '').astype(float)\n",
    "\n",
    "# Now, you can replace null values in the numerical column with the median\n",
    "median_pw_amount = df['pw_amount_9089'].median()\n",
    "df['pw_amount_9089'].fillna(median_pw_amount, inplace=True)\n",
    "\n",
    "# Verify that there are no more null values\n",
    "print(df.isnull().sum())"
   ]
  },
  {
   "cell_type": "code",
   "execution_count": 77,
   "id": "fb670318",
   "metadata": {},
   "outputs": [],
   "source": [
    "#Indices of selected features for categorcal data to do encoding\n",
    "chosen_attrs = [0,1,2,5,6,8,12,14,17]\n",
    "df = df.iloc[:,chosen_attrs]"
   ]
  },
  {
   "cell_type": "code",
   "execution_count": 78,
   "id": "595efd2a",
   "metadata": {},
   "outputs": [
    {
     "data": {
      "text/html": [
       "<div>\n",
       "<style scoped>\n",
       "    .dataframe tbody tr th:only-of-type {\n",
       "        vertical-align: middle;\n",
       "    }\n",
       "\n",
       "    .dataframe tbody tr th {\n",
       "        vertical-align: top;\n",
       "    }\n",
       "\n",
       "    .dataframe thead th {\n",
       "        text-align: right;\n",
       "    }\n",
       "</style>\n",
       "<table border=\"1\" class=\"dataframe\">\n",
       "  <thead>\n",
       "    <tr style=\"text-align: right;\">\n",
       "      <th></th>\n",
       "      <th>case_status</th>\n",
       "      <th>class_of_admission</th>\n",
       "      <th>country_of_citizenship</th>\n",
       "      <th>employer_city</th>\n",
       "      <th>employer_name</th>\n",
       "      <th>employer_state</th>\n",
       "      <th>pw_soc_code</th>\n",
       "      <th>pw_source_name_9089</th>\n",
       "      <th>year</th>\n",
       "    </tr>\n",
       "  </thead>\n",
       "  <tbody>\n",
       "    <tr>\n",
       "      <th>0</th>\n",
       "      <td>1</td>\n",
       "      <td>J-1</td>\n",
       "      <td>INDIA</td>\n",
       "      <td>NEW YORK</td>\n",
       "      <td>NETSOFT USA INC.</td>\n",
       "      <td>NY</td>\n",
       "      <td>151031</td>\n",
       "      <td>OES</td>\n",
       "      <td>2012</td>\n",
       "    </tr>\n",
       "    <tr>\n",
       "      <th>1</th>\n",
       "      <td>0</td>\n",
       "      <td>B-2</td>\n",
       "      <td>INDIA</td>\n",
       "      <td>CARLSTADT</td>\n",
       "      <td>PINNACLE ENVIRONEMNTAL CORP</td>\n",
       "      <td>NY</td>\n",
       "      <td>474041</td>\n",
       "      <td>OES</td>\n",
       "      <td>2011</td>\n",
       "    </tr>\n",
       "    <tr>\n",
       "      <th>2</th>\n",
       "      <td>1</td>\n",
       "      <td>H-1B</td>\n",
       "      <td>INDIA</td>\n",
       "      <td>GLEN ALLEN</td>\n",
       "      <td>SCHNABEL ENGINEERING, INC.</td>\n",
       "      <td>VA</td>\n",
       "      <td>172051</td>\n",
       "      <td>OES</td>\n",
       "      <td>2011</td>\n",
       "    </tr>\n",
       "    <tr>\n",
       "      <th>3</th>\n",
       "      <td>1</td>\n",
       "      <td>B-2</td>\n",
       "      <td>INDIA</td>\n",
       "      <td>FLUSHING</td>\n",
       "      <td>EBENEZER MISSION CHURCH</td>\n",
       "      <td>NY</td>\n",
       "      <td>434071</td>\n",
       "      <td>OES</td>\n",
       "      <td>2011</td>\n",
       "    </tr>\n",
       "    <tr>\n",
       "      <th>4</th>\n",
       "      <td>1</td>\n",
       "      <td>L-1</td>\n",
       "      <td>INDIA</td>\n",
       "      <td>ALBANY</td>\n",
       "      <td>ALBANY INTERNATIONAL CORP.</td>\n",
       "      <td>NY</td>\n",
       "      <td>419031</td>\n",
       "      <td>OES</td>\n",
       "      <td>2012</td>\n",
       "    </tr>\n",
       "    <tr>\n",
       "      <th>...</th>\n",
       "      <td>...</td>\n",
       "      <td>...</td>\n",
       "      <td>...</td>\n",
       "      <td>...</td>\n",
       "      <td>...</td>\n",
       "      <td>...</td>\n",
       "      <td>...</td>\n",
       "      <td>...</td>\n",
       "      <td>...</td>\n",
       "    </tr>\n",
       "    <tr>\n",
       "      <th>374349</th>\n",
       "      <td>1</td>\n",
       "      <td>H-1B</td>\n",
       "      <td>INDIA</td>\n",
       "      <td>HEBRON</td>\n",
       "      <td>POMEROY IT SOLUTIONS SALES COMPANY</td>\n",
       "      <td>KY</td>\n",
       "      <td>151132</td>\n",
       "      <td>OES</td>\n",
       "      <td>2016</td>\n",
       "    </tr>\n",
       "    <tr>\n",
       "      <th>374350</th>\n",
       "      <td>1</td>\n",
       "      <td>H-1B</td>\n",
       "      <td>INDIA</td>\n",
       "      <td>MILFORD</td>\n",
       "      <td>SIEMENS PLM SOFTWARE INC.</td>\n",
       "      <td>OH</td>\n",
       "      <td>151132</td>\n",
       "      <td>OES</td>\n",
       "      <td>2016</td>\n",
       "    </tr>\n",
       "    <tr>\n",
       "      <th>374351</th>\n",
       "      <td>1</td>\n",
       "      <td>L-1</td>\n",
       "      <td>INDIA</td>\n",
       "      <td>SAN JOSE</td>\n",
       "      <td>GLOBALLOGIC INC.</td>\n",
       "      <td>CA</td>\n",
       "      <td>151121</td>\n",
       "      <td>OES</td>\n",
       "      <td>2016</td>\n",
       "    </tr>\n",
       "    <tr>\n",
       "      <th>374352</th>\n",
       "      <td>1</td>\n",
       "      <td>H-1B</td>\n",
       "      <td>INDIA</td>\n",
       "      <td>NEW YORK</td>\n",
       "      <td>DEUTSCHE BANK TRUST COMPANY AMERICAS</td>\n",
       "      <td>NY</td>\n",
       "      <td>151122</td>\n",
       "      <td>Other</td>\n",
       "      <td>2016</td>\n",
       "    </tr>\n",
       "    <tr>\n",
       "      <th>374353</th>\n",
       "      <td>1</td>\n",
       "      <td>H-1B</td>\n",
       "      <td>INDIA</td>\n",
       "      <td>PISCATAWAY</td>\n",
       "      <td>FIRST TEK, INC.</td>\n",
       "      <td>NJ</td>\n",
       "      <td>131111</td>\n",
       "      <td>OES</td>\n",
       "      <td>2016</td>\n",
       "    </tr>\n",
       "  </tbody>\n",
       "</table>\n",
       "<p>356168 rows × 9 columns</p>\n",
       "</div>"
      ],
      "text/plain": [
       "        case_status class_of_admission country_of_citizenship employer_city  \\\n",
       "0                 1                J-1                  INDIA      NEW YORK   \n",
       "1                 0                B-2                  INDIA     CARLSTADT   \n",
       "2                 1               H-1B                  INDIA    GLEN ALLEN   \n",
       "3                 1                B-2                  INDIA      FLUSHING   \n",
       "4                 1                L-1                  INDIA        ALBANY   \n",
       "...             ...                ...                    ...           ...   \n",
       "374349            1               H-1B                  INDIA        HEBRON   \n",
       "374350            1               H-1B                  INDIA       MILFORD   \n",
       "374351            1                L-1                  INDIA      SAN JOSE   \n",
       "374352            1               H-1B                  INDIA      NEW YORK   \n",
       "374353            1               H-1B                  INDIA    PISCATAWAY   \n",
       "\n",
       "                               employer_name employer_state  pw_soc_code  \\\n",
       "0                           NETSOFT USA INC.             NY       151031   \n",
       "1                PINNACLE ENVIRONEMNTAL CORP             NY       474041   \n",
       "2                 SCHNABEL ENGINEERING, INC.             VA       172051   \n",
       "3                    EBENEZER MISSION CHURCH             NY       434071   \n",
       "4                 ALBANY INTERNATIONAL CORP.             NY       419031   \n",
       "...                                      ...            ...          ...   \n",
       "374349    POMEROY IT SOLUTIONS SALES COMPANY             KY       151132   \n",
       "374350             SIEMENS PLM SOFTWARE INC.             OH       151132   \n",
       "374351                      GLOBALLOGIC INC.             CA       151121   \n",
       "374352  DEUTSCHE BANK TRUST COMPANY AMERICAS             NY       151122   \n",
       "374353                       FIRST TEK, INC.             NJ       131111   \n",
       "\n",
       "       pw_source_name_9089  year  \n",
       "0                      OES  2012  \n",
       "1                      OES  2011  \n",
       "2                      OES  2011  \n",
       "3                      OES  2011  \n",
       "4                      OES  2012  \n",
       "...                    ...   ...  \n",
       "374349                 OES  2016  \n",
       "374350                 OES  2016  \n",
       "374351                 OES  2016  \n",
       "374352               Other  2016  \n",
       "374353                 OES  2016  \n",
       "\n",
       "[356168 rows x 9 columns]"
      ]
     },
     "execution_count": 78,
     "metadata": {},
     "output_type": "execute_result"
    }
   ],
   "source": [
    "df"
   ]
  },
  {
   "cell_type": "code",
   "execution_count": 79,
   "id": "1d2712df",
   "metadata": {},
   "outputs": [
    {
     "name": "stdout",
     "output_type": "stream",
     "text": [
      "<class 'pandas.core.frame.DataFrame'>\n",
      "Index: 356168 entries, 0 to 374353\n",
      "Data columns (total 9 columns):\n",
      " #   Column                  Non-Null Count   Dtype\n",
      "---  ------                  --------------   -----\n",
      " 0   case_status             356168 non-null  int64\n",
      " 1   class_of_admission      356168 non-null  int64\n",
      " 2   country_of_citizenship  356168 non-null  int64\n",
      " 3   employer_city           356168 non-null  int64\n",
      " 4   employer_name           356168 non-null  int64\n",
      " 5   employer_state          356168 non-null  int64\n",
      " 6   pw_soc_code             356168 non-null  int64\n",
      " 7   pw_source_name_9089     356168 non-null  int64\n",
      " 8   year                    356168 non-null  int64\n",
      "dtypes: int64(9)\n",
      "memory usage: 27.2 MB\n"
     ]
    }
   ],
   "source": [
    "from sklearn.preprocessing import LabelEncoder\n",
    "categorical_variables = {}\n",
    "\n",
    "#Creating categories denoted by integers from column values\n",
    "for col in df.columns:\n",
    "    cat_var_name = \"cat_\"+ col\n",
    "    cat_var_name = LabelEncoder()\n",
    "    cat_var_name.fit(df[col])\n",
    "    df[col] = cat_var_name.transform(df[col])\n",
    "    categorical_variables[col] = cat_var_name\n",
    "\n",
    "df.info()"
   ]
  },
  {
   "cell_type": "code",
   "execution_count": 80,
   "id": "a3825b64",
   "metadata": {},
   "outputs": [
    {
     "data": {
      "text/html": [
       "<div>\n",
       "<style scoped>\n",
       "    .dataframe tbody tr th:only-of-type {\n",
       "        vertical-align: middle;\n",
       "    }\n",
       "\n",
       "    .dataframe tbody tr th {\n",
       "        vertical-align: top;\n",
       "    }\n",
       "\n",
       "    .dataframe thead th {\n",
       "        text-align: right;\n",
       "    }\n",
       "</style>\n",
       "<table border=\"1\" class=\"dataframe\">\n",
       "  <thead>\n",
       "    <tr style=\"text-align: right;\">\n",
       "      <th></th>\n",
       "      <th>case_status</th>\n",
       "      <th>class_of_admission</th>\n",
       "      <th>country_of_citizenship</th>\n",
       "      <th>employer_city</th>\n",
       "      <th>employer_name</th>\n",
       "      <th>employer_state</th>\n",
       "      <th>pw_soc_code</th>\n",
       "      <th>pw_source_name_9089</th>\n",
       "      <th>year</th>\n",
       "    </tr>\n",
       "  </thead>\n",
       "  <tbody>\n",
       "    <tr>\n",
       "      <th>0</th>\n",
       "      <td>1</td>\n",
       "      <td>28</td>\n",
       "      <td>79</td>\n",
       "      <td>3506</td>\n",
       "      <td>42973</td>\n",
       "      <td>40</td>\n",
       "      <td>76</td>\n",
       "      <td>3</td>\n",
       "      <td>1</td>\n",
       "    </tr>\n",
       "    <tr>\n",
       "      <th>1</th>\n",
       "      <td>0</td>\n",
       "      <td>5</td>\n",
       "      <td>79</td>\n",
       "      <td>749</td>\n",
       "      <td>47896</td>\n",
       "      <td>40</td>\n",
       "      <td>592</td>\n",
       "      <td>3</td>\n",
       "      <td>0</td>\n",
       "    </tr>\n",
       "    <tr>\n",
       "      <th>2</th>\n",
       "      <td>1</td>\n",
       "      <td>19</td>\n",
       "      <td>79</td>\n",
       "      <td>1897</td>\n",
       "      <td>54186</td>\n",
       "      <td>52</td>\n",
       "      <td>122</td>\n",
       "      <td>3</td>\n",
       "      <td>0</td>\n",
       "    </tr>\n",
       "    <tr>\n",
       "      <th>3</th>\n",
       "      <td>1</td>\n",
       "      <td>5</td>\n",
       "      <td>79</td>\n",
       "      <td>1694</td>\n",
       "      <td>18698</td>\n",
       "      <td>40</td>\n",
       "      <td>511</td>\n",
       "      <td>3</td>\n",
       "      <td>0</td>\n",
       "    </tr>\n",
       "    <tr>\n",
       "      <th>4</th>\n",
       "      <td>1</td>\n",
       "      <td>31</td>\n",
       "      <td>79</td>\n",
       "      <td>53</td>\n",
       "      <td>2602</td>\n",
       "      <td>40</td>\n",
       "      <td>493</td>\n",
       "      <td>3</td>\n",
       "      <td>1</td>\n",
       "    </tr>\n",
       "    <tr>\n",
       "      <th>...</th>\n",
       "      <td>...</td>\n",
       "      <td>...</td>\n",
       "      <td>...</td>\n",
       "      <td>...</td>\n",
       "      <td>...</td>\n",
       "      <td>...</td>\n",
       "      <td>...</td>\n",
       "      <td>...</td>\n",
       "      <td>...</td>\n",
       "    </tr>\n",
       "    <tr>\n",
       "      <th>374349</th>\n",
       "      <td>1</td>\n",
       "      <td>19</td>\n",
       "      <td>79</td>\n",
       "      <td>2190</td>\n",
       "      <td>48352</td>\n",
       "      <td>21</td>\n",
       "      <td>96</td>\n",
       "      <td>3</td>\n",
       "      <td>5</td>\n",
       "    </tr>\n",
       "    <tr>\n",
       "      <th>374350</th>\n",
       "      <td>1</td>\n",
       "      <td>19</td>\n",
       "      <td>79</td>\n",
       "      <td>3173</td>\n",
       "      <td>55538</td>\n",
       "      <td>41</td>\n",
       "      <td>96</td>\n",
       "      <td>3</td>\n",
       "      <td>5</td>\n",
       "    </tr>\n",
       "    <tr>\n",
       "      <th>374351</th>\n",
       "      <td>1</td>\n",
       "      <td>31</td>\n",
       "      <td>79</td>\n",
       "      <td>4476</td>\n",
       "      <td>24596</td>\n",
       "      <td>6</td>\n",
       "      <td>93</td>\n",
       "      <td>3</td>\n",
       "      <td>5</td>\n",
       "    </tr>\n",
       "    <tr>\n",
       "      <th>374352</th>\n",
       "      <td>1</td>\n",
       "      <td>19</td>\n",
       "      <td>79</td>\n",
       "      <td>3506</td>\n",
       "      <td>16913</td>\n",
       "      <td>40</td>\n",
       "      <td>94</td>\n",
       "      <td>4</td>\n",
       "      <td>5</td>\n",
       "    </tr>\n",
       "    <tr>\n",
       "      <th>374353</th>\n",
       "      <td>1</td>\n",
       "      <td>19</td>\n",
       "      <td>79</td>\n",
       "      <td>3987</td>\n",
       "      <td>21918</td>\n",
       "      <td>37</td>\n",
       "      <td>52</td>\n",
       "      <td>3</td>\n",
       "      <td>5</td>\n",
       "    </tr>\n",
       "  </tbody>\n",
       "</table>\n",
       "<p>356168 rows × 9 columns</p>\n",
       "</div>"
      ],
      "text/plain": [
       "        case_status  class_of_admission  country_of_citizenship  \\\n",
       "0                 1                  28                      79   \n",
       "1                 0                   5                      79   \n",
       "2                 1                  19                      79   \n",
       "3                 1                   5                      79   \n",
       "4                 1                  31                      79   \n",
       "...             ...                 ...                     ...   \n",
       "374349            1                  19                      79   \n",
       "374350            1                  19                      79   \n",
       "374351            1                  31                      79   \n",
       "374352            1                  19                      79   \n",
       "374353            1                  19                      79   \n",
       "\n",
       "        employer_city  employer_name  employer_state  pw_soc_code  \\\n",
       "0                3506          42973              40           76   \n",
       "1                 749          47896              40          592   \n",
       "2                1897          54186              52          122   \n",
       "3                1694          18698              40          511   \n",
       "4                  53           2602              40          493   \n",
       "...               ...            ...             ...          ...   \n",
       "374349           2190          48352              21           96   \n",
       "374350           3173          55538              41           96   \n",
       "374351           4476          24596               6           93   \n",
       "374352           3506          16913              40           94   \n",
       "374353           3987          21918              37           52   \n",
       "\n",
       "        pw_source_name_9089  year  \n",
       "0                         3     1  \n",
       "1                         3     0  \n",
       "2                         3     0  \n",
       "3                         3     0  \n",
       "4                         3     1  \n",
       "...                     ...   ...  \n",
       "374349                    3     5  \n",
       "374350                    3     5  \n",
       "374351                    3     5  \n",
       "374352                    4     5  \n",
       "374353                    3     5  \n",
       "\n",
       "[356168 rows x 9 columns]"
      ]
     },
     "execution_count": 80,
     "metadata": {},
     "output_type": "execute_result"
    }
   ],
   "source": [
    "df"
   ]
  },
  {
   "cell_type": "code",
   "execution_count": 81,
   "id": "9928cf24",
   "metadata": {},
   "outputs": [],
   "source": [
    "#divide data, train test split and do model training"
   ]
  }
 ],
 "metadata": {
  "kernelspec": {
   "display_name": "Python 3",
   "language": "python",
   "name": "python3"
  },
  "language_info": {
   "codemirror_mode": {
    "name": "ipython",
    "version": 3
   },
   "file_extension": ".py",
   "mimetype": "text/x-python",
   "name": "python",
   "nbconvert_exporter": "python",
   "pygments_lexer": "ipython3",
   "version": "3.12.7"
  }
 },
 "nbformat": 4,
 "nbformat_minor": 5
}
