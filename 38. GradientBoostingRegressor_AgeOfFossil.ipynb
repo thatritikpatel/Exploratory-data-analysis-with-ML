{
  "nbformat": 4,
  "nbformat_minor": 0,
  "metadata": {
    "colab": {
      "provenance": [],
      "gpuType": "T4"
    },
    "kernelspec": {
      "name": "python3",
      "display_name": "Python 3"
    },
    "language_info": {
      "name": "python"
    },
    "accelerator": "GPU"
  },
  "cells": [
    {
      "cell_type": "code",
      "execution_count": 16,
      "metadata": {
        "id": "0V285N-_s9Au"
      },
      "outputs": [],
      "source": [
        "import numpy as np\n",
        "import pandas as pd\n",
        "import seaborn as sns\n",
        "import matplotlib.pyplot as plt\n",
        "import warnings\n",
        "warnings.filterwarnings('ignore')"
      ]
    },
    {
      "cell_type": "code",
      "source": [
        "df = pd.read_csv('Age_of_Fossil.csv')"
      ],
      "metadata": {
        "id": "xnLg790itFla"
      },
      "execution_count": 17,
      "outputs": []
    },
    {
      "cell_type": "code",
      "source": [
        "df.head(10)"
      ],
      "metadata": {
        "colab": {
          "base_uri": "https://localhost:8080/",
          "height": 383
        },
        "id": "2cg5Ux10vsFG",
        "outputId": "9d64069c-5aab-43e7-d42b-aba059445335"
      },
      "execution_count": 18,
      "outputs": [
        {
          "output_type": "execute_result",
          "data": {
            "text/plain": [
              "   uranium_lead_ratio  carbon_14_ratio  radioactive_decay_series  \\\n",
              "0            0.738061         0.487707                  0.907884   \n",
              "1            0.560096         0.341738                  1.121302   \n",
              "2            0.424773         0.218493                  0.103855   \n",
              "3            0.349958         0.704649                  0.383617   \n",
              "4            0.886811         0.777494                  0.593254   \n",
              "5            1.079099         0.589527                  0.573466   \n",
              "6            0.467579         0.657890                  0.205170   \n",
              "7            0.344964         0.872661                  0.688772   \n",
              "8            0.407311         0.793969                  0.184602   \n",
              "9            0.302639         0.028225                  0.338870   \n",
              "\n",
              "   stratigraphic_layer_depth geological_period paleomagnetic_data  \\\n",
              "0                      91.17        Cretaceous    Normal polarity   \n",
              "1                     165.44          Cambrian    Normal polarity   \n",
              "2                     218.98          Cambrian    Normal polarity   \n",
              "3                      51.09           Permian    Normal polarity   \n",
              "4                     313.72          Devonian    Normal polarity   \n",
              "5                     164.37          Jurassic    Normal polarity   \n",
              "6                     197.56          Cambrian    Normal polarity   \n",
              "7                     136.40           Neogene    Normal polarity   \n",
              "8                     103.81          Devonian    Normal polarity   \n",
              "9                     215.61          Cambrian    Normal polarity   \n",
              "\n",
              "   inclusion_of_other_fossils  isotopic_composition surrounding_rock_type  \\\n",
              "0                       False              0.915951          Conglomerate   \n",
              "1                       False              0.803968             Limestone   \n",
              "2                        True              0.792441                 Shale   \n",
              "3                        True              0.074636             Limestone   \n",
              "4                        True              1.646640                 Shale   \n",
              "5                        True              1.391573             Limestone   \n",
              "6                        True              0.514012             Limestone   \n",
              "7                        True              0.003672          Conglomerate   \n",
              "8                        True              0.690427          Conglomerate   \n",
              "9                        True              0.016493             Sandstone   \n",
              "\n",
              "  stratigraphic_position  fossil_size  fossil_weight    age  \n",
              "0                 Middle        50.65         432.00  43523  \n",
              "1                    Top        48.85         353.29  44112  \n",
              "2                 Bottom        37.66         371.33  43480  \n",
              "3                 Bottom        39.10         232.84  30228  \n",
              "4                    Top        90.84         277.67  67217  \n",
              "5                 Bottom        51.89         312.85  77800  \n",
              "6                 Bottom        43.12         426.17  47130  \n",
              "7                 Bottom        96.82         454.15  35982  \n",
              "8                    Top        44.56         208.19  30105  \n",
              "9                 Middle        98.64         157.63  28568  "
            ],
            "text/html": [
              "\n",
              "  <div id=\"df-83590b24-f7e2-485e-8327-ceb42ef5fa3e\" class=\"colab-df-container\">\n",
              "    <div>\n",
              "<style scoped>\n",
              "    .dataframe tbody tr th:only-of-type {\n",
              "        vertical-align: middle;\n",
              "    }\n",
              "\n",
              "    .dataframe tbody tr th {\n",
              "        vertical-align: top;\n",
              "    }\n",
              "\n",
              "    .dataframe thead th {\n",
              "        text-align: right;\n",
              "    }\n",
              "</style>\n",
              "<table border=\"1\" class=\"dataframe\">\n",
              "  <thead>\n",
              "    <tr style=\"text-align: right;\">\n",
              "      <th></th>\n",
              "      <th>uranium_lead_ratio</th>\n",
              "      <th>carbon_14_ratio</th>\n",
              "      <th>radioactive_decay_series</th>\n",
              "      <th>stratigraphic_layer_depth</th>\n",
              "      <th>geological_period</th>\n",
              "      <th>paleomagnetic_data</th>\n",
              "      <th>inclusion_of_other_fossils</th>\n",
              "      <th>isotopic_composition</th>\n",
              "      <th>surrounding_rock_type</th>\n",
              "      <th>stratigraphic_position</th>\n",
              "      <th>fossil_size</th>\n",
              "      <th>fossil_weight</th>\n",
              "      <th>age</th>\n",
              "    </tr>\n",
              "  </thead>\n",
              "  <tbody>\n",
              "    <tr>\n",
              "      <th>0</th>\n",
              "      <td>0.738061</td>\n",
              "      <td>0.487707</td>\n",
              "      <td>0.907884</td>\n",
              "      <td>91.17</td>\n",
              "      <td>Cretaceous</td>\n",
              "      <td>Normal polarity</td>\n",
              "      <td>False</td>\n",
              "      <td>0.915951</td>\n",
              "      <td>Conglomerate</td>\n",
              "      <td>Middle</td>\n",
              "      <td>50.65</td>\n",
              "      <td>432.00</td>\n",
              "      <td>43523</td>\n",
              "    </tr>\n",
              "    <tr>\n",
              "      <th>1</th>\n",
              "      <td>0.560096</td>\n",
              "      <td>0.341738</td>\n",
              "      <td>1.121302</td>\n",
              "      <td>165.44</td>\n",
              "      <td>Cambrian</td>\n",
              "      <td>Normal polarity</td>\n",
              "      <td>False</td>\n",
              "      <td>0.803968</td>\n",
              "      <td>Limestone</td>\n",
              "      <td>Top</td>\n",
              "      <td>48.85</td>\n",
              "      <td>353.29</td>\n",
              "      <td>44112</td>\n",
              "    </tr>\n",
              "    <tr>\n",
              "      <th>2</th>\n",
              "      <td>0.424773</td>\n",
              "      <td>0.218493</td>\n",
              "      <td>0.103855</td>\n",
              "      <td>218.98</td>\n",
              "      <td>Cambrian</td>\n",
              "      <td>Normal polarity</td>\n",
              "      <td>True</td>\n",
              "      <td>0.792441</td>\n",
              "      <td>Shale</td>\n",
              "      <td>Bottom</td>\n",
              "      <td>37.66</td>\n",
              "      <td>371.33</td>\n",
              "      <td>43480</td>\n",
              "    </tr>\n",
              "    <tr>\n",
              "      <th>3</th>\n",
              "      <td>0.349958</td>\n",
              "      <td>0.704649</td>\n",
              "      <td>0.383617</td>\n",
              "      <td>51.09</td>\n",
              "      <td>Permian</td>\n",
              "      <td>Normal polarity</td>\n",
              "      <td>True</td>\n",
              "      <td>0.074636</td>\n",
              "      <td>Limestone</td>\n",
              "      <td>Bottom</td>\n",
              "      <td>39.10</td>\n",
              "      <td>232.84</td>\n",
              "      <td>30228</td>\n",
              "    </tr>\n",
              "    <tr>\n",
              "      <th>4</th>\n",
              "      <td>0.886811</td>\n",
              "      <td>0.777494</td>\n",
              "      <td>0.593254</td>\n",
              "      <td>313.72</td>\n",
              "      <td>Devonian</td>\n",
              "      <td>Normal polarity</td>\n",
              "      <td>True</td>\n",
              "      <td>1.646640</td>\n",
              "      <td>Shale</td>\n",
              "      <td>Top</td>\n",
              "      <td>90.84</td>\n",
              "      <td>277.67</td>\n",
              "      <td>67217</td>\n",
              "    </tr>\n",
              "    <tr>\n",
              "      <th>5</th>\n",
              "      <td>1.079099</td>\n",
              "      <td>0.589527</td>\n",
              "      <td>0.573466</td>\n",
              "      <td>164.37</td>\n",
              "      <td>Jurassic</td>\n",
              "      <td>Normal polarity</td>\n",
              "      <td>True</td>\n",
              "      <td>1.391573</td>\n",
              "      <td>Limestone</td>\n",
              "      <td>Bottom</td>\n",
              "      <td>51.89</td>\n",
              "      <td>312.85</td>\n",
              "      <td>77800</td>\n",
              "    </tr>\n",
              "    <tr>\n",
              "      <th>6</th>\n",
              "      <td>0.467579</td>\n",
              "      <td>0.657890</td>\n",
              "      <td>0.205170</td>\n",
              "      <td>197.56</td>\n",
              "      <td>Cambrian</td>\n",
              "      <td>Normal polarity</td>\n",
              "      <td>True</td>\n",
              "      <td>0.514012</td>\n",
              "      <td>Limestone</td>\n",
              "      <td>Bottom</td>\n",
              "      <td>43.12</td>\n",
              "      <td>426.17</td>\n",
              "      <td>47130</td>\n",
              "    </tr>\n",
              "    <tr>\n",
              "      <th>7</th>\n",
              "      <td>0.344964</td>\n",
              "      <td>0.872661</td>\n",
              "      <td>0.688772</td>\n",
              "      <td>136.40</td>\n",
              "      <td>Neogene</td>\n",
              "      <td>Normal polarity</td>\n",
              "      <td>True</td>\n",
              "      <td>0.003672</td>\n",
              "      <td>Conglomerate</td>\n",
              "      <td>Bottom</td>\n",
              "      <td>96.82</td>\n",
              "      <td>454.15</td>\n",
              "      <td>35982</td>\n",
              "    </tr>\n",
              "    <tr>\n",
              "      <th>8</th>\n",
              "      <td>0.407311</td>\n",
              "      <td>0.793969</td>\n",
              "      <td>0.184602</td>\n",
              "      <td>103.81</td>\n",
              "      <td>Devonian</td>\n",
              "      <td>Normal polarity</td>\n",
              "      <td>True</td>\n",
              "      <td>0.690427</td>\n",
              "      <td>Conglomerate</td>\n",
              "      <td>Top</td>\n",
              "      <td>44.56</td>\n",
              "      <td>208.19</td>\n",
              "      <td>30105</td>\n",
              "    </tr>\n",
              "    <tr>\n",
              "      <th>9</th>\n",
              "      <td>0.302639</td>\n",
              "      <td>0.028225</td>\n",
              "      <td>0.338870</td>\n",
              "      <td>215.61</td>\n",
              "      <td>Cambrian</td>\n",
              "      <td>Normal polarity</td>\n",
              "      <td>True</td>\n",
              "      <td>0.016493</td>\n",
              "      <td>Sandstone</td>\n",
              "      <td>Middle</td>\n",
              "      <td>98.64</td>\n",
              "      <td>157.63</td>\n",
              "      <td>28568</td>\n",
              "    </tr>\n",
              "  </tbody>\n",
              "</table>\n",
              "</div>\n",
              "    <div class=\"colab-df-buttons\">\n",
              "\n",
              "  <div class=\"colab-df-container\">\n",
              "    <button class=\"colab-df-convert\" onclick=\"convertToInteractive('df-83590b24-f7e2-485e-8327-ceb42ef5fa3e')\"\n",
              "            title=\"Convert this dataframe to an interactive table.\"\n",
              "            style=\"display:none;\">\n",
              "\n",
              "  <svg xmlns=\"http://www.w3.org/2000/svg\" height=\"24px\" viewBox=\"0 -960 960 960\">\n",
              "    <path d=\"M120-120v-720h720v720H120Zm60-500h600v-160H180v160Zm220 220h160v-160H400v160Zm0 220h160v-160H400v160ZM180-400h160v-160H180v160Zm440 0h160v-160H620v160ZM180-180h160v-160H180v160Zm440 0h160v-160H620v160Z\"/>\n",
              "  </svg>\n",
              "    </button>\n",
              "\n",
              "  <style>\n",
              "    .colab-df-container {\n",
              "      display:flex;\n",
              "      gap: 12px;\n",
              "    }\n",
              "\n",
              "    .colab-df-convert {\n",
              "      background-color: #E8F0FE;\n",
              "      border: none;\n",
              "      border-radius: 50%;\n",
              "      cursor: pointer;\n",
              "      display: none;\n",
              "      fill: #1967D2;\n",
              "      height: 32px;\n",
              "      padding: 0 0 0 0;\n",
              "      width: 32px;\n",
              "    }\n",
              "\n",
              "    .colab-df-convert:hover {\n",
              "      background-color: #E2EBFA;\n",
              "      box-shadow: 0px 1px 2px rgba(60, 64, 67, 0.3), 0px 1px 3px 1px rgba(60, 64, 67, 0.15);\n",
              "      fill: #174EA6;\n",
              "    }\n",
              "\n",
              "    .colab-df-buttons div {\n",
              "      margin-bottom: 4px;\n",
              "    }\n",
              "\n",
              "    [theme=dark] .colab-df-convert {\n",
              "      background-color: #3B4455;\n",
              "      fill: #D2E3FC;\n",
              "    }\n",
              "\n",
              "    [theme=dark] .colab-df-convert:hover {\n",
              "      background-color: #434B5C;\n",
              "      box-shadow: 0px 1px 3px 1px rgba(0, 0, 0, 0.15);\n",
              "      filter: drop-shadow(0px 1px 2px rgba(0, 0, 0, 0.3));\n",
              "      fill: #FFFFFF;\n",
              "    }\n",
              "  </style>\n",
              "\n",
              "    <script>\n",
              "      const buttonEl =\n",
              "        document.querySelector('#df-83590b24-f7e2-485e-8327-ceb42ef5fa3e button.colab-df-convert');\n",
              "      buttonEl.style.display =\n",
              "        google.colab.kernel.accessAllowed ? 'block' : 'none';\n",
              "\n",
              "      async function convertToInteractive(key) {\n",
              "        const element = document.querySelector('#df-83590b24-f7e2-485e-8327-ceb42ef5fa3e');\n",
              "        const dataTable =\n",
              "          await google.colab.kernel.invokeFunction('convertToInteractive',\n",
              "                                                    [key], {});\n",
              "        if (!dataTable) return;\n",
              "\n",
              "        const docLinkHtml = 'Like what you see? Visit the ' +\n",
              "          '<a target=\"_blank\" href=https://colab.research.google.com/notebooks/data_table.ipynb>data table notebook</a>'\n",
              "          + ' to learn more about interactive tables.';\n",
              "        element.innerHTML = '';\n",
              "        dataTable['output_type'] = 'display_data';\n",
              "        await google.colab.output.renderOutput(dataTable, element);\n",
              "        const docLink = document.createElement('div');\n",
              "        docLink.innerHTML = docLinkHtml;\n",
              "        element.appendChild(docLink);\n",
              "      }\n",
              "    </script>\n",
              "  </div>\n",
              "\n",
              "\n",
              "<div id=\"df-3bd9311c-bccc-4c1b-af2c-2186ddd86f3c\">\n",
              "  <button class=\"colab-df-quickchart\" onclick=\"quickchart('df-3bd9311c-bccc-4c1b-af2c-2186ddd86f3c')\"\n",
              "            title=\"Suggest charts\"\n",
              "            style=\"display:none;\">\n",
              "\n",
              "<svg xmlns=\"http://www.w3.org/2000/svg\" height=\"24px\"viewBox=\"0 0 24 24\"\n",
              "     width=\"24px\">\n",
              "    <g>\n",
              "        <path d=\"M19 3H5c-1.1 0-2 .9-2 2v14c0 1.1.9 2 2 2h14c1.1 0 2-.9 2-2V5c0-1.1-.9-2-2-2zM9 17H7v-7h2v7zm4 0h-2V7h2v10zm4 0h-2v-4h2v4z\"/>\n",
              "    </g>\n",
              "</svg>\n",
              "  </button>\n",
              "\n",
              "<style>\n",
              "  .colab-df-quickchart {\n",
              "      --bg-color: #E8F0FE;\n",
              "      --fill-color: #1967D2;\n",
              "      --hover-bg-color: #E2EBFA;\n",
              "      --hover-fill-color: #174EA6;\n",
              "      --disabled-fill-color: #AAA;\n",
              "      --disabled-bg-color: #DDD;\n",
              "  }\n",
              "\n",
              "  [theme=dark] .colab-df-quickchart {\n",
              "      --bg-color: #3B4455;\n",
              "      --fill-color: #D2E3FC;\n",
              "      --hover-bg-color: #434B5C;\n",
              "      --hover-fill-color: #FFFFFF;\n",
              "      --disabled-bg-color: #3B4455;\n",
              "      --disabled-fill-color: #666;\n",
              "  }\n",
              "\n",
              "  .colab-df-quickchart {\n",
              "    background-color: var(--bg-color);\n",
              "    border: none;\n",
              "    border-radius: 50%;\n",
              "    cursor: pointer;\n",
              "    display: none;\n",
              "    fill: var(--fill-color);\n",
              "    height: 32px;\n",
              "    padding: 0;\n",
              "    width: 32px;\n",
              "  }\n",
              "\n",
              "  .colab-df-quickchart:hover {\n",
              "    background-color: var(--hover-bg-color);\n",
              "    box-shadow: 0 1px 2px rgba(60, 64, 67, 0.3), 0 1px 3px 1px rgba(60, 64, 67, 0.15);\n",
              "    fill: var(--button-hover-fill-color);\n",
              "  }\n",
              "\n",
              "  .colab-df-quickchart-complete:disabled,\n",
              "  .colab-df-quickchart-complete:disabled:hover {\n",
              "    background-color: var(--disabled-bg-color);\n",
              "    fill: var(--disabled-fill-color);\n",
              "    box-shadow: none;\n",
              "  }\n",
              "\n",
              "  .colab-df-spinner {\n",
              "    border: 2px solid var(--fill-color);\n",
              "    border-color: transparent;\n",
              "    border-bottom-color: var(--fill-color);\n",
              "    animation:\n",
              "      spin 1s steps(1) infinite;\n",
              "  }\n",
              "\n",
              "  @keyframes spin {\n",
              "    0% {\n",
              "      border-color: transparent;\n",
              "      border-bottom-color: var(--fill-color);\n",
              "      border-left-color: var(--fill-color);\n",
              "    }\n",
              "    20% {\n",
              "      border-color: transparent;\n",
              "      border-left-color: var(--fill-color);\n",
              "      border-top-color: var(--fill-color);\n",
              "    }\n",
              "    30% {\n",
              "      border-color: transparent;\n",
              "      border-left-color: var(--fill-color);\n",
              "      border-top-color: var(--fill-color);\n",
              "      border-right-color: var(--fill-color);\n",
              "    }\n",
              "    40% {\n",
              "      border-color: transparent;\n",
              "      border-right-color: var(--fill-color);\n",
              "      border-top-color: var(--fill-color);\n",
              "    }\n",
              "    60% {\n",
              "      border-color: transparent;\n",
              "      border-right-color: var(--fill-color);\n",
              "    }\n",
              "    80% {\n",
              "      border-color: transparent;\n",
              "      border-right-color: var(--fill-color);\n",
              "      border-bottom-color: var(--fill-color);\n",
              "    }\n",
              "    90% {\n",
              "      border-color: transparent;\n",
              "      border-bottom-color: var(--fill-color);\n",
              "    }\n",
              "  }\n",
              "</style>\n",
              "\n",
              "  <script>\n",
              "    async function quickchart(key) {\n",
              "      const quickchartButtonEl =\n",
              "        document.querySelector('#' + key + ' button');\n",
              "      quickchartButtonEl.disabled = true;  // To prevent multiple clicks.\n",
              "      quickchartButtonEl.classList.add('colab-df-spinner');\n",
              "      try {\n",
              "        const charts = await google.colab.kernel.invokeFunction(\n",
              "            'suggestCharts', [key], {});\n",
              "      } catch (error) {\n",
              "        console.error('Error during call to suggestCharts:', error);\n",
              "      }\n",
              "      quickchartButtonEl.classList.remove('colab-df-spinner');\n",
              "      quickchartButtonEl.classList.add('colab-df-quickchart-complete');\n",
              "    }\n",
              "    (() => {\n",
              "      let quickchartButtonEl =\n",
              "        document.querySelector('#df-3bd9311c-bccc-4c1b-af2c-2186ddd86f3c button');\n",
              "      quickchartButtonEl.style.display =\n",
              "        google.colab.kernel.accessAllowed ? 'block' : 'none';\n",
              "    })();\n",
              "  </script>\n",
              "</div>\n",
              "\n",
              "    </div>\n",
              "  </div>\n"
            ],
            "application/vnd.google.colaboratory.intrinsic+json": {
              "type": "dataframe",
              "variable_name": "df",
              "summary": "{\n  \"name\": \"df\",\n  \"rows\": 5498,\n  \"fields\": [\n    {\n      \"column\": \"uranium_lead_ratio\",\n      \"properties\": {\n        \"dtype\": \"number\",\n        \"std\": 0.2571852964155649,\n        \"min\": 0.0002411924259144,\n        \"max\": 1.5332702643937084,\n        \"num_unique_values\": 5498,\n        \"samples\": [\n          0.0908511297445608,\n          0.8607190386179947,\n          0.6542009928854258\n        ],\n        \"semantic_type\": \"\",\n        \"description\": \"\"\n      }\n    },\n    {\n      \"column\": \"carbon_14_ratio\",\n      \"properties\": {\n        \"dtype\": \"number\",\n        \"std\": 0.235628417447175,\n        \"min\": 0.0002438505437448,\n        \"max\": 0.9999999999,\n        \"num_unique_values\": 5418,\n        \"samples\": [\n          0.26757869915747,\n          0.6990333543698973,\n          0.116516553625365\n        ],\n        \"semantic_type\": \"\",\n        \"description\": \"\"\n      }\n    },\n    {\n      \"column\": \"radioactive_decay_series\",\n      \"properties\": {\n        \"dtype\": \"number\",\n        \"std\": 0.2888368498477655,\n        \"min\": 7.56371812158374e-05,\n        \"max\": 1.527375044700615,\n        \"num_unique_values\": 5498,\n        \"samples\": [\n          0.0309801391210031,\n          0.4846230175919416,\n          0.1979739961247358\n        ],\n        \"semantic_type\": \"\",\n        \"description\": \"\"\n      }\n    },\n    {\n      \"column\": \"stratigraphic_layer_depth\",\n      \"properties\": {\n        \"dtype\": \"number\",\n        \"std\": 87.1639688120537,\n        \"min\": 0.13,\n        \"max\": 522.11,\n        \"num_unique_values\": 5024,\n        \"samples\": [\n          199.9,\n          155.56,\n          117.52\n        ],\n        \"semantic_type\": \"\",\n        \"description\": \"\"\n      }\n    },\n    {\n      \"column\": \"geological_period\",\n      \"properties\": {\n        \"dtype\": \"category\",\n        \"num_unique_values\": 11,\n        \"samples\": [\n          \"Neogene\",\n          \"Cretaceous\",\n          \"Carboniferous\"\n        ],\n        \"semantic_type\": \"\",\n        \"description\": \"\"\n      }\n    },\n    {\n      \"column\": \"paleomagnetic_data\",\n      \"properties\": {\n        \"dtype\": \"category\",\n        \"num_unique_values\": 2,\n        \"samples\": [\n          \"Reversed polarity\",\n          \"Normal polarity\"\n        ],\n        \"semantic_type\": \"\",\n        \"description\": \"\"\n      }\n    },\n    {\n      \"column\": \"inclusion_of_other_fossils\",\n      \"properties\": {\n        \"dtype\": \"boolean\",\n        \"num_unique_values\": 2,\n        \"samples\": [\n          true,\n          false\n        ],\n        \"semantic_type\": \"\",\n        \"description\": \"\"\n      }\n    },\n    {\n      \"column\": \"isotopic_composition\",\n      \"properties\": {\n        \"dtype\": \"number\",\n        \"std\": 0.5248355104617413,\n        \"min\": 0.0002749630652936,\n        \"max\": 3.148906229292685,\n        \"num_unique_values\": 5498,\n        \"samples\": [\n          1.2435079322879146,\n          1.7162680548139286\n        ],\n        \"semantic_type\": \"\",\n        \"description\": \"\"\n      }\n    },\n    {\n      \"column\": \"surrounding_rock_type\",\n      \"properties\": {\n        \"dtype\": \"category\",\n        \"num_unique_values\": 4,\n        \"samples\": [\n          \"Limestone\",\n          \"Sandstone\"\n        ],\n        \"semantic_type\": \"\",\n        \"description\": \"\"\n      }\n    },\n    {\n      \"column\": \"stratigraphic_position\",\n      \"properties\": {\n        \"dtype\": \"category\",\n        \"num_unique_values\": 3,\n        \"samples\": [\n          \"Middle\",\n          \"Top\"\n        ],\n        \"semantic_type\": \"\",\n        \"description\": \"\"\n      }\n    },\n    {\n      \"column\": \"fossil_size\",\n      \"properties\": {\n        \"dtype\": \"number\",\n        \"std\": 37.139329885634176,\n        \"min\": 0.13,\n        \"max\": 216.39,\n        \"num_unique_values\": 4497,\n        \"samples\": [\n          30.44,\n          34.63\n        ],\n        \"semantic_type\": \"\",\n        \"description\": \"\"\n      }\n    },\n    {\n      \"column\": \"fossil_weight\",\n      \"properties\": {\n        \"dtype\": \"number\",\n        \"std\": 187.4746945775298,\n        \"min\": 0.05,\n        \"max\": 1010.09,\n        \"num_unique_values\": 5259,\n        \"samples\": [\n          256.31,\n          313.49\n        ],\n        \"semantic_type\": \"\",\n        \"description\": \"\"\n      }\n    },\n    {\n      \"column\": \"age\",\n      \"properties\": {\n        \"dtype\": \"number\",\n        \"std\": 15280,\n        \"min\": 4208,\n        \"max\": 103079,\n        \"num_unique_values\": 5243,\n        \"samples\": [\n          31618,\n          28821\n        ],\n        \"semantic_type\": \"\",\n        \"description\": \"\"\n      }\n    }\n  ]\n}"
            }
          },
          "metadata": {},
          "execution_count": 18
        }
      ]
    },
    {
      "cell_type": "code",
      "source": [
        "df.info()"
      ],
      "metadata": {
        "colab": {
          "base_uri": "https://localhost:8080/"
        },
        "id": "Nwe5sufwvsqs",
        "outputId": "bbd3f381-9571-4927-a21b-f98e53d4858e"
      },
      "execution_count": 19,
      "outputs": [
        {
          "output_type": "stream",
          "name": "stdout",
          "text": [
            "<class 'pandas.core.frame.DataFrame'>\n",
            "RangeIndex: 5498 entries, 0 to 5497\n",
            "Data columns (total 13 columns):\n",
            " #   Column                      Non-Null Count  Dtype  \n",
            "---  ------                      --------------  -----  \n",
            " 0   uranium_lead_ratio          5498 non-null   float64\n",
            " 1   carbon_14_ratio             5498 non-null   float64\n",
            " 2   radioactive_decay_series    5498 non-null   float64\n",
            " 3   stratigraphic_layer_depth   5498 non-null   float64\n",
            " 4   geological_period           5498 non-null   object \n",
            " 5   paleomagnetic_data          5498 non-null   object \n",
            " 6   inclusion_of_other_fossils  5498 non-null   bool   \n",
            " 7   isotopic_composition        5498 non-null   float64\n",
            " 8   surrounding_rock_type       5498 non-null   object \n",
            " 9   stratigraphic_position      5498 non-null   object \n",
            " 10  fossil_size                 5498 non-null   float64\n",
            " 11  fossil_weight               5498 non-null   float64\n",
            " 12  age                         5498 non-null   int64  \n",
            "dtypes: bool(1), float64(7), int64(1), object(4)\n",
            "memory usage: 520.9+ KB\n"
          ]
        }
      ]
    },
    {
      "cell_type": "code",
      "source": [
        "df.duplicated().sum()"
      ],
      "metadata": {
        "colab": {
          "base_uri": "https://localhost:8080/"
        },
        "id": "MP0rbSJtv1Js",
        "outputId": "82f5bce6-007d-474c-9a86-2523fbbab55a"
      },
      "execution_count": 20,
      "outputs": [
        {
          "output_type": "execute_result",
          "data": {
            "text/plain": [
              "0"
            ]
          },
          "metadata": {},
          "execution_count": 20
        }
      ]
    },
    {
      "cell_type": "code",
      "source": [
        "cat_col = [col for col in df.columns if df[col].dtype == 'object']\n",
        "cat_col"
      ],
      "metadata": {
        "colab": {
          "base_uri": "https://localhost:8080/"
        },
        "id": "QC8vk0bswOi9",
        "outputId": "cc83316c-592a-47ab-f7ed-0c9bef6c26af"
      },
      "execution_count": 21,
      "outputs": [
        {
          "output_type": "execute_result",
          "data": {
            "text/plain": [
              "['geological_period',\n",
              " 'paleomagnetic_data',\n",
              " 'surrounding_rock_type',\n",
              " 'stratigraphic_position']"
            ]
          },
          "metadata": {},
          "execution_count": 21
        }
      ]
    },
    {
      "cell_type": "code",
      "source": [
        "for col in cat_col:\n",
        "    print(col, df[col].unique())"
      ],
      "metadata": {
        "colab": {
          "base_uri": "https://localhost:8080/"
        },
        "id": "x62oChj4wS59",
        "outputId": "eba2c82e-beb2-4d41-9694-dfa7eaa93469"
      },
      "execution_count": 22,
      "outputs": [
        {
          "output_type": "stream",
          "name": "stdout",
          "text": [
            "geological_period ['Cretaceous' 'Cambrian' 'Permian' 'Devonian' 'Jurassic' 'Neogene'\n",
            " 'Triassic' 'Paleogene' 'Ordovician' 'Carboniferous' 'Silurian']\n",
            "paleomagnetic_data ['Normal polarity' 'Reversed polarity']\n",
            "surrounding_rock_type ['Conglomerate' 'Limestone' 'Shale' 'Sandstone']\n",
            "stratigraphic_position ['Middle' 'Top' 'Bottom']\n"
          ]
        }
      ]
    },
    {
      "cell_type": "code",
      "source": [
        "from sklearn.preprocessing import LabelEncoder\n",
        "le = LabelEncoder()\n",
        "for col in cat_col:\n",
        "    df[col] = le.fit_transform(df[col])"
      ],
      "metadata": {
        "id": "HSem-9VkwW3M"
      },
      "execution_count": 23,
      "outputs": []
    },
    {
      "cell_type": "code",
      "source": [
        "df.head()"
      ],
      "metadata": {
        "colab": {
          "base_uri": "https://localhost:8080/",
          "height": 226
        },
        "id": "a3fcwBaxwr9M",
        "outputId": "ffeb4589-93a7-4e64-f7ea-d0ae22a7377b"
      },
      "execution_count": 24,
      "outputs": [
        {
          "output_type": "execute_result",
          "data": {
            "text/plain": [
              "   uranium_lead_ratio  carbon_14_ratio  radioactive_decay_series  \\\n",
              "0            0.738061         0.487707                  0.907884   \n",
              "1            0.560096         0.341738                  1.121302   \n",
              "2            0.424773         0.218493                  0.103855   \n",
              "3            0.349958         0.704649                  0.383617   \n",
              "4            0.886811         0.777494                  0.593254   \n",
              "\n",
              "   stratigraphic_layer_depth  geological_period  paleomagnetic_data  \\\n",
              "0                      91.17                  2                   0   \n",
              "1                     165.44                  0                   0   \n",
              "2                     218.98                  0                   0   \n",
              "3                      51.09                  8                   0   \n",
              "4                     313.72                  3                   0   \n",
              "\n",
              "   inclusion_of_other_fossils  isotopic_composition  surrounding_rock_type  \\\n",
              "0                       False              0.915951                      0   \n",
              "1                       False              0.803968                      1   \n",
              "2                        True              0.792441                      3   \n",
              "3                        True              0.074636                      1   \n",
              "4                        True              1.646640                      3   \n",
              "\n",
              "   stratigraphic_position  fossil_size  fossil_weight    age  \n",
              "0                       1        50.65         432.00  43523  \n",
              "1                       2        48.85         353.29  44112  \n",
              "2                       0        37.66         371.33  43480  \n",
              "3                       0        39.10         232.84  30228  \n",
              "4                       2        90.84         277.67  67217  "
            ],
            "text/html": [
              "\n",
              "  <div id=\"df-725bf916-2a16-4fdb-a98a-13f365454a0f\" class=\"colab-df-container\">\n",
              "    <div>\n",
              "<style scoped>\n",
              "    .dataframe tbody tr th:only-of-type {\n",
              "        vertical-align: middle;\n",
              "    }\n",
              "\n",
              "    .dataframe tbody tr th {\n",
              "        vertical-align: top;\n",
              "    }\n",
              "\n",
              "    .dataframe thead th {\n",
              "        text-align: right;\n",
              "    }\n",
              "</style>\n",
              "<table border=\"1\" class=\"dataframe\">\n",
              "  <thead>\n",
              "    <tr style=\"text-align: right;\">\n",
              "      <th></th>\n",
              "      <th>uranium_lead_ratio</th>\n",
              "      <th>carbon_14_ratio</th>\n",
              "      <th>radioactive_decay_series</th>\n",
              "      <th>stratigraphic_layer_depth</th>\n",
              "      <th>geological_period</th>\n",
              "      <th>paleomagnetic_data</th>\n",
              "      <th>inclusion_of_other_fossils</th>\n",
              "      <th>isotopic_composition</th>\n",
              "      <th>surrounding_rock_type</th>\n",
              "      <th>stratigraphic_position</th>\n",
              "      <th>fossil_size</th>\n",
              "      <th>fossil_weight</th>\n",
              "      <th>age</th>\n",
              "    </tr>\n",
              "  </thead>\n",
              "  <tbody>\n",
              "    <tr>\n",
              "      <th>0</th>\n",
              "      <td>0.738061</td>\n",
              "      <td>0.487707</td>\n",
              "      <td>0.907884</td>\n",
              "      <td>91.17</td>\n",
              "      <td>2</td>\n",
              "      <td>0</td>\n",
              "      <td>False</td>\n",
              "      <td>0.915951</td>\n",
              "      <td>0</td>\n",
              "      <td>1</td>\n",
              "      <td>50.65</td>\n",
              "      <td>432.00</td>\n",
              "      <td>43523</td>\n",
              "    </tr>\n",
              "    <tr>\n",
              "      <th>1</th>\n",
              "      <td>0.560096</td>\n",
              "      <td>0.341738</td>\n",
              "      <td>1.121302</td>\n",
              "      <td>165.44</td>\n",
              "      <td>0</td>\n",
              "      <td>0</td>\n",
              "      <td>False</td>\n",
              "      <td>0.803968</td>\n",
              "      <td>1</td>\n",
              "      <td>2</td>\n",
              "      <td>48.85</td>\n",
              "      <td>353.29</td>\n",
              "      <td>44112</td>\n",
              "    </tr>\n",
              "    <tr>\n",
              "      <th>2</th>\n",
              "      <td>0.424773</td>\n",
              "      <td>0.218493</td>\n",
              "      <td>0.103855</td>\n",
              "      <td>218.98</td>\n",
              "      <td>0</td>\n",
              "      <td>0</td>\n",
              "      <td>True</td>\n",
              "      <td>0.792441</td>\n",
              "      <td>3</td>\n",
              "      <td>0</td>\n",
              "      <td>37.66</td>\n",
              "      <td>371.33</td>\n",
              "      <td>43480</td>\n",
              "    </tr>\n",
              "    <tr>\n",
              "      <th>3</th>\n",
              "      <td>0.349958</td>\n",
              "      <td>0.704649</td>\n",
              "      <td>0.383617</td>\n",
              "      <td>51.09</td>\n",
              "      <td>8</td>\n",
              "      <td>0</td>\n",
              "      <td>True</td>\n",
              "      <td>0.074636</td>\n",
              "      <td>1</td>\n",
              "      <td>0</td>\n",
              "      <td>39.10</td>\n",
              "      <td>232.84</td>\n",
              "      <td>30228</td>\n",
              "    </tr>\n",
              "    <tr>\n",
              "      <th>4</th>\n",
              "      <td>0.886811</td>\n",
              "      <td>0.777494</td>\n",
              "      <td>0.593254</td>\n",
              "      <td>313.72</td>\n",
              "      <td>3</td>\n",
              "      <td>0</td>\n",
              "      <td>True</td>\n",
              "      <td>1.646640</td>\n",
              "      <td>3</td>\n",
              "      <td>2</td>\n",
              "      <td>90.84</td>\n",
              "      <td>277.67</td>\n",
              "      <td>67217</td>\n",
              "    </tr>\n",
              "  </tbody>\n",
              "</table>\n",
              "</div>\n",
              "    <div class=\"colab-df-buttons\">\n",
              "\n",
              "  <div class=\"colab-df-container\">\n",
              "    <button class=\"colab-df-convert\" onclick=\"convertToInteractive('df-725bf916-2a16-4fdb-a98a-13f365454a0f')\"\n",
              "            title=\"Convert this dataframe to an interactive table.\"\n",
              "            style=\"display:none;\">\n",
              "\n",
              "  <svg xmlns=\"http://www.w3.org/2000/svg\" height=\"24px\" viewBox=\"0 -960 960 960\">\n",
              "    <path d=\"M120-120v-720h720v720H120Zm60-500h600v-160H180v160Zm220 220h160v-160H400v160Zm0 220h160v-160H400v160ZM180-400h160v-160H180v160Zm440 0h160v-160H620v160ZM180-180h160v-160H180v160Zm440 0h160v-160H620v160Z\"/>\n",
              "  </svg>\n",
              "    </button>\n",
              "\n",
              "  <style>\n",
              "    .colab-df-container {\n",
              "      display:flex;\n",
              "      gap: 12px;\n",
              "    }\n",
              "\n",
              "    .colab-df-convert {\n",
              "      background-color: #E8F0FE;\n",
              "      border: none;\n",
              "      border-radius: 50%;\n",
              "      cursor: pointer;\n",
              "      display: none;\n",
              "      fill: #1967D2;\n",
              "      height: 32px;\n",
              "      padding: 0 0 0 0;\n",
              "      width: 32px;\n",
              "    }\n",
              "\n",
              "    .colab-df-convert:hover {\n",
              "      background-color: #E2EBFA;\n",
              "      box-shadow: 0px 1px 2px rgba(60, 64, 67, 0.3), 0px 1px 3px 1px rgba(60, 64, 67, 0.15);\n",
              "      fill: #174EA6;\n",
              "    }\n",
              "\n",
              "    .colab-df-buttons div {\n",
              "      margin-bottom: 4px;\n",
              "    }\n",
              "\n",
              "    [theme=dark] .colab-df-convert {\n",
              "      background-color: #3B4455;\n",
              "      fill: #D2E3FC;\n",
              "    }\n",
              "\n",
              "    [theme=dark] .colab-df-convert:hover {\n",
              "      background-color: #434B5C;\n",
              "      box-shadow: 0px 1px 3px 1px rgba(0, 0, 0, 0.15);\n",
              "      filter: drop-shadow(0px 1px 2px rgba(0, 0, 0, 0.3));\n",
              "      fill: #FFFFFF;\n",
              "    }\n",
              "  </style>\n",
              "\n",
              "    <script>\n",
              "      const buttonEl =\n",
              "        document.querySelector('#df-725bf916-2a16-4fdb-a98a-13f365454a0f button.colab-df-convert');\n",
              "      buttonEl.style.display =\n",
              "        google.colab.kernel.accessAllowed ? 'block' : 'none';\n",
              "\n",
              "      async function convertToInteractive(key) {\n",
              "        const element = document.querySelector('#df-725bf916-2a16-4fdb-a98a-13f365454a0f');\n",
              "        const dataTable =\n",
              "          await google.colab.kernel.invokeFunction('convertToInteractive',\n",
              "                                                    [key], {});\n",
              "        if (!dataTable) return;\n",
              "\n",
              "        const docLinkHtml = 'Like what you see? Visit the ' +\n",
              "          '<a target=\"_blank\" href=https://colab.research.google.com/notebooks/data_table.ipynb>data table notebook</a>'\n",
              "          + ' to learn more about interactive tables.';\n",
              "        element.innerHTML = '';\n",
              "        dataTable['output_type'] = 'display_data';\n",
              "        await google.colab.output.renderOutput(dataTable, element);\n",
              "        const docLink = document.createElement('div');\n",
              "        docLink.innerHTML = docLinkHtml;\n",
              "        element.appendChild(docLink);\n",
              "      }\n",
              "    </script>\n",
              "  </div>\n",
              "\n",
              "\n",
              "<div id=\"df-f9f1ac24-0a71-4e80-887d-6af681686504\">\n",
              "  <button class=\"colab-df-quickchart\" onclick=\"quickchart('df-f9f1ac24-0a71-4e80-887d-6af681686504')\"\n",
              "            title=\"Suggest charts\"\n",
              "            style=\"display:none;\">\n",
              "\n",
              "<svg xmlns=\"http://www.w3.org/2000/svg\" height=\"24px\"viewBox=\"0 0 24 24\"\n",
              "     width=\"24px\">\n",
              "    <g>\n",
              "        <path d=\"M19 3H5c-1.1 0-2 .9-2 2v14c0 1.1.9 2 2 2h14c1.1 0 2-.9 2-2V5c0-1.1-.9-2-2-2zM9 17H7v-7h2v7zm4 0h-2V7h2v10zm4 0h-2v-4h2v4z\"/>\n",
              "    </g>\n",
              "</svg>\n",
              "  </button>\n",
              "\n",
              "<style>\n",
              "  .colab-df-quickchart {\n",
              "      --bg-color: #E8F0FE;\n",
              "      --fill-color: #1967D2;\n",
              "      --hover-bg-color: #E2EBFA;\n",
              "      --hover-fill-color: #174EA6;\n",
              "      --disabled-fill-color: #AAA;\n",
              "      --disabled-bg-color: #DDD;\n",
              "  }\n",
              "\n",
              "  [theme=dark] .colab-df-quickchart {\n",
              "      --bg-color: #3B4455;\n",
              "      --fill-color: #D2E3FC;\n",
              "      --hover-bg-color: #434B5C;\n",
              "      --hover-fill-color: #FFFFFF;\n",
              "      --disabled-bg-color: #3B4455;\n",
              "      --disabled-fill-color: #666;\n",
              "  }\n",
              "\n",
              "  .colab-df-quickchart {\n",
              "    background-color: var(--bg-color);\n",
              "    border: none;\n",
              "    border-radius: 50%;\n",
              "    cursor: pointer;\n",
              "    display: none;\n",
              "    fill: var(--fill-color);\n",
              "    height: 32px;\n",
              "    padding: 0;\n",
              "    width: 32px;\n",
              "  }\n",
              "\n",
              "  .colab-df-quickchart:hover {\n",
              "    background-color: var(--hover-bg-color);\n",
              "    box-shadow: 0 1px 2px rgba(60, 64, 67, 0.3), 0 1px 3px 1px rgba(60, 64, 67, 0.15);\n",
              "    fill: var(--button-hover-fill-color);\n",
              "  }\n",
              "\n",
              "  .colab-df-quickchart-complete:disabled,\n",
              "  .colab-df-quickchart-complete:disabled:hover {\n",
              "    background-color: var(--disabled-bg-color);\n",
              "    fill: var(--disabled-fill-color);\n",
              "    box-shadow: none;\n",
              "  }\n",
              "\n",
              "  .colab-df-spinner {\n",
              "    border: 2px solid var(--fill-color);\n",
              "    border-color: transparent;\n",
              "    border-bottom-color: var(--fill-color);\n",
              "    animation:\n",
              "      spin 1s steps(1) infinite;\n",
              "  }\n",
              "\n",
              "  @keyframes spin {\n",
              "    0% {\n",
              "      border-color: transparent;\n",
              "      border-bottom-color: var(--fill-color);\n",
              "      border-left-color: var(--fill-color);\n",
              "    }\n",
              "    20% {\n",
              "      border-color: transparent;\n",
              "      border-left-color: var(--fill-color);\n",
              "      border-top-color: var(--fill-color);\n",
              "    }\n",
              "    30% {\n",
              "      border-color: transparent;\n",
              "      border-left-color: var(--fill-color);\n",
              "      border-top-color: var(--fill-color);\n",
              "      border-right-color: var(--fill-color);\n",
              "    }\n",
              "    40% {\n",
              "      border-color: transparent;\n",
              "      border-right-color: var(--fill-color);\n",
              "      border-top-color: var(--fill-color);\n",
              "    }\n",
              "    60% {\n",
              "      border-color: transparent;\n",
              "      border-right-color: var(--fill-color);\n",
              "    }\n",
              "    80% {\n",
              "      border-color: transparent;\n",
              "      border-right-color: var(--fill-color);\n",
              "      border-bottom-color: var(--fill-color);\n",
              "    }\n",
              "    90% {\n",
              "      border-color: transparent;\n",
              "      border-bottom-color: var(--fill-color);\n",
              "    }\n",
              "  }\n",
              "</style>\n",
              "\n",
              "  <script>\n",
              "    async function quickchart(key) {\n",
              "      const quickchartButtonEl =\n",
              "        document.querySelector('#' + key + ' button');\n",
              "      quickchartButtonEl.disabled = true;  // To prevent multiple clicks.\n",
              "      quickchartButtonEl.classList.add('colab-df-spinner');\n",
              "      try {\n",
              "        const charts = await google.colab.kernel.invokeFunction(\n",
              "            'suggestCharts', [key], {});\n",
              "      } catch (error) {\n",
              "        console.error('Error during call to suggestCharts:', error);\n",
              "      }\n",
              "      quickchartButtonEl.classList.remove('colab-df-spinner');\n",
              "      quickchartButtonEl.classList.add('colab-df-quickchart-complete');\n",
              "    }\n",
              "    (() => {\n",
              "      let quickchartButtonEl =\n",
              "        document.querySelector('#df-f9f1ac24-0a71-4e80-887d-6af681686504 button');\n",
              "      quickchartButtonEl.style.display =\n",
              "        google.colab.kernel.accessAllowed ? 'block' : 'none';\n",
              "    })();\n",
              "  </script>\n",
              "</div>\n",
              "\n",
              "    </div>\n",
              "  </div>\n"
            ],
            "application/vnd.google.colaboratory.intrinsic+json": {
              "type": "dataframe",
              "variable_name": "df",
              "summary": "{\n  \"name\": \"df\",\n  \"rows\": 5498,\n  \"fields\": [\n    {\n      \"column\": \"uranium_lead_ratio\",\n      \"properties\": {\n        \"dtype\": \"number\",\n        \"std\": 0.2571852964155649,\n        \"min\": 0.0002411924259144,\n        \"max\": 1.5332702643937084,\n        \"num_unique_values\": 5498,\n        \"samples\": [\n          0.0908511297445608,\n          0.8607190386179947,\n          0.6542009928854258\n        ],\n        \"semantic_type\": \"\",\n        \"description\": \"\"\n      }\n    },\n    {\n      \"column\": \"carbon_14_ratio\",\n      \"properties\": {\n        \"dtype\": \"number\",\n        \"std\": 0.235628417447175,\n        \"min\": 0.0002438505437448,\n        \"max\": 0.9999999999,\n        \"num_unique_values\": 5418,\n        \"samples\": [\n          0.26757869915747,\n          0.6990333543698973,\n          0.116516553625365\n        ],\n        \"semantic_type\": \"\",\n        \"description\": \"\"\n      }\n    },\n    {\n      \"column\": \"radioactive_decay_series\",\n      \"properties\": {\n        \"dtype\": \"number\",\n        \"std\": 0.2888368498477655,\n        \"min\": 7.56371812158374e-05,\n        \"max\": 1.527375044700615,\n        \"num_unique_values\": 5498,\n        \"samples\": [\n          0.0309801391210031,\n          0.4846230175919416,\n          0.1979739961247358\n        ],\n        \"semantic_type\": \"\",\n        \"description\": \"\"\n      }\n    },\n    {\n      \"column\": \"stratigraphic_layer_depth\",\n      \"properties\": {\n        \"dtype\": \"number\",\n        \"std\": 87.1639688120537,\n        \"min\": 0.13,\n        \"max\": 522.11,\n        \"num_unique_values\": 5024,\n        \"samples\": [\n          199.9,\n          155.56,\n          117.52\n        ],\n        \"semantic_type\": \"\",\n        \"description\": \"\"\n      }\n    },\n    {\n      \"column\": \"geological_period\",\n      \"properties\": {\n        \"dtype\": \"number\",\n        \"std\": 3,\n        \"min\": 0,\n        \"max\": 10,\n        \"num_unique_values\": 11,\n        \"samples\": [\n          5,\n          2,\n          1\n        ],\n        \"semantic_type\": \"\",\n        \"description\": \"\"\n      }\n    },\n    {\n      \"column\": \"paleomagnetic_data\",\n      \"properties\": {\n        \"dtype\": \"number\",\n        \"std\": 0,\n        \"min\": 0,\n        \"max\": 1,\n        \"num_unique_values\": 2,\n        \"samples\": [\n          1,\n          0\n        ],\n        \"semantic_type\": \"\",\n        \"description\": \"\"\n      }\n    },\n    {\n      \"column\": \"inclusion_of_other_fossils\",\n      \"properties\": {\n        \"dtype\": \"boolean\",\n        \"num_unique_values\": 2,\n        \"samples\": [\n          true,\n          false\n        ],\n        \"semantic_type\": \"\",\n        \"description\": \"\"\n      }\n    },\n    {\n      \"column\": \"isotopic_composition\",\n      \"properties\": {\n        \"dtype\": \"number\",\n        \"std\": 0.5248355104617413,\n        \"min\": 0.0002749630652936,\n        \"max\": 3.148906229292685,\n        \"num_unique_values\": 5498,\n        \"samples\": [\n          1.2435079322879146,\n          1.7162680548139286\n        ],\n        \"semantic_type\": \"\",\n        \"description\": \"\"\n      }\n    },\n    {\n      \"column\": \"surrounding_rock_type\",\n      \"properties\": {\n        \"dtype\": \"number\",\n        \"std\": 0,\n        \"min\": 0,\n        \"max\": 3,\n        \"num_unique_values\": 4,\n        \"samples\": [\n          1,\n          2\n        ],\n        \"semantic_type\": \"\",\n        \"description\": \"\"\n      }\n    },\n    {\n      \"column\": \"stratigraphic_position\",\n      \"properties\": {\n        \"dtype\": \"number\",\n        \"std\": 0,\n        \"min\": 0,\n        \"max\": 2,\n        \"num_unique_values\": 3,\n        \"samples\": [\n          1,\n          2\n        ],\n        \"semantic_type\": \"\",\n        \"description\": \"\"\n      }\n    },\n    {\n      \"column\": \"fossil_size\",\n      \"properties\": {\n        \"dtype\": \"number\",\n        \"std\": 37.139329885634176,\n        \"min\": 0.13,\n        \"max\": 216.39,\n        \"num_unique_values\": 4497,\n        \"samples\": [\n          30.44,\n          34.63\n        ],\n        \"semantic_type\": \"\",\n        \"description\": \"\"\n      }\n    },\n    {\n      \"column\": \"fossil_weight\",\n      \"properties\": {\n        \"dtype\": \"number\",\n        \"std\": 187.4746945775298,\n        \"min\": 0.05,\n        \"max\": 1010.09,\n        \"num_unique_values\": 5259,\n        \"samples\": [\n          256.31,\n          313.49\n        ],\n        \"semantic_type\": \"\",\n        \"description\": \"\"\n      }\n    },\n    {\n      \"column\": \"age\",\n      \"properties\": {\n        \"dtype\": \"number\",\n        \"std\": 15280,\n        \"min\": 4208,\n        \"max\": 103079,\n        \"num_unique_values\": 5243,\n        \"samples\": [\n          31618,\n          28821\n        ],\n        \"semantic_type\": \"\",\n        \"description\": \"\"\n      }\n    }\n  ]\n}"
            }
          },
          "metadata": {},
          "execution_count": 24
        }
      ]
    },
    {
      "cell_type": "code",
      "source": [
        "df.info()"
      ],
      "metadata": {
        "colab": {
          "base_uri": "https://localhost:8080/"
        },
        "id": "blo84H9Jws_c",
        "outputId": "b9f97ff8-4856-456c-8452-7a9c869787b2"
      },
      "execution_count": 25,
      "outputs": [
        {
          "output_type": "stream",
          "name": "stdout",
          "text": [
            "<class 'pandas.core.frame.DataFrame'>\n",
            "RangeIndex: 5498 entries, 0 to 5497\n",
            "Data columns (total 13 columns):\n",
            " #   Column                      Non-Null Count  Dtype  \n",
            "---  ------                      --------------  -----  \n",
            " 0   uranium_lead_ratio          5498 non-null   float64\n",
            " 1   carbon_14_ratio             5498 non-null   float64\n",
            " 2   radioactive_decay_series    5498 non-null   float64\n",
            " 3   stratigraphic_layer_depth   5498 non-null   float64\n",
            " 4   geological_period           5498 non-null   int64  \n",
            " 5   paleomagnetic_data          5498 non-null   int64  \n",
            " 6   inclusion_of_other_fossils  5498 non-null   bool   \n",
            " 7   isotopic_composition        5498 non-null   float64\n",
            " 8   surrounding_rock_type       5498 non-null   int64  \n",
            " 9   stratigraphic_position      5498 non-null   int64  \n",
            " 10  fossil_size                 5498 non-null   float64\n",
            " 11  fossil_weight               5498 non-null   float64\n",
            " 12  age                         5498 non-null   int64  \n",
            "dtypes: bool(1), float64(7), int64(5)\n",
            "memory usage: 520.9 KB\n"
          ]
        }
      ]
    },
    {
      "cell_type": "code",
      "source": [
        "X = df.drop('age', axis = 1)\n",
        "y = df['age']"
      ],
      "metadata": {
        "id": "dLrm6SCZw5K_"
      },
      "execution_count": 26,
      "outputs": []
    },
    {
      "cell_type": "code",
      "source": [
        "from sklearn.model_selection import train_test_split\n",
        "X_train, X_test, y_train, y_test = train_test_split(X, y, test_size = 0.2, random_state = 21)"
      ],
      "metadata": {
        "id": "PC6TSFsBxMmJ"
      },
      "execution_count": 27,
      "outputs": []
    },
    {
      "cell_type": "code",
      "source": [
        "from sklearn.ensemble import GradientBoostingRegressor\n",
        "model = GradientBoostingRegressor()"
      ],
      "metadata": {
        "id": "-avPb6EkxPKh"
      },
      "execution_count": 28,
      "outputs": []
    },
    {
      "cell_type": "code",
      "source": [
        "model.fit(X_train, y_train)"
      ],
      "metadata": {
        "colab": {
          "base_uri": "https://localhost:8080/",
          "height": 75
        },
        "id": "9mBB5xTjxX7R",
        "outputId": "9220683b-8f92-495e-9d1c-e4727269c566"
      },
      "execution_count": 29,
      "outputs": [
        {
          "output_type": "execute_result",
          "data": {
            "text/plain": [
              "GradientBoostingRegressor()"
            ],
            "text/html": [
              "<style>#sk-container-id-1 {color: black;background-color: white;}#sk-container-id-1 pre{padding: 0;}#sk-container-id-1 div.sk-toggleable {background-color: white;}#sk-container-id-1 label.sk-toggleable__label {cursor: pointer;display: block;width: 100%;margin-bottom: 0;padding: 0.3em;box-sizing: border-box;text-align: center;}#sk-container-id-1 label.sk-toggleable__label-arrow:before {content: \"▸\";float: left;margin-right: 0.25em;color: #696969;}#sk-container-id-1 label.sk-toggleable__label-arrow:hover:before {color: black;}#sk-container-id-1 div.sk-estimator:hover label.sk-toggleable__label-arrow:before {color: black;}#sk-container-id-1 div.sk-toggleable__content {max-height: 0;max-width: 0;overflow: hidden;text-align: left;background-color: #f0f8ff;}#sk-container-id-1 div.sk-toggleable__content pre {margin: 0.2em;color: black;border-radius: 0.25em;background-color: #f0f8ff;}#sk-container-id-1 input.sk-toggleable__control:checked~div.sk-toggleable__content {max-height: 200px;max-width: 100%;overflow: auto;}#sk-container-id-1 input.sk-toggleable__control:checked~label.sk-toggleable__label-arrow:before {content: \"▾\";}#sk-container-id-1 div.sk-estimator input.sk-toggleable__control:checked~label.sk-toggleable__label {background-color: #d4ebff;}#sk-container-id-1 div.sk-label input.sk-toggleable__control:checked~label.sk-toggleable__label {background-color: #d4ebff;}#sk-container-id-1 input.sk-hidden--visually {border: 0;clip: rect(1px 1px 1px 1px);clip: rect(1px, 1px, 1px, 1px);height: 1px;margin: -1px;overflow: hidden;padding: 0;position: absolute;width: 1px;}#sk-container-id-1 div.sk-estimator {font-family: monospace;background-color: #f0f8ff;border: 1px dotted black;border-radius: 0.25em;box-sizing: border-box;margin-bottom: 0.5em;}#sk-container-id-1 div.sk-estimator:hover {background-color: #d4ebff;}#sk-container-id-1 div.sk-parallel-item::after {content: \"\";width: 100%;border-bottom: 1px solid gray;flex-grow: 1;}#sk-container-id-1 div.sk-label:hover label.sk-toggleable__label {background-color: #d4ebff;}#sk-container-id-1 div.sk-serial::before {content: \"\";position: absolute;border-left: 1px solid gray;box-sizing: border-box;top: 0;bottom: 0;left: 50%;z-index: 0;}#sk-container-id-1 div.sk-serial {display: flex;flex-direction: column;align-items: center;background-color: white;padding-right: 0.2em;padding-left: 0.2em;position: relative;}#sk-container-id-1 div.sk-item {position: relative;z-index: 1;}#sk-container-id-1 div.sk-parallel {display: flex;align-items: stretch;justify-content: center;background-color: white;position: relative;}#sk-container-id-1 div.sk-item::before, #sk-container-id-1 div.sk-parallel-item::before {content: \"\";position: absolute;border-left: 1px solid gray;box-sizing: border-box;top: 0;bottom: 0;left: 50%;z-index: -1;}#sk-container-id-1 div.sk-parallel-item {display: flex;flex-direction: column;z-index: 1;position: relative;background-color: white;}#sk-container-id-1 div.sk-parallel-item:first-child::after {align-self: flex-end;width: 50%;}#sk-container-id-1 div.sk-parallel-item:last-child::after {align-self: flex-start;width: 50%;}#sk-container-id-1 div.sk-parallel-item:only-child::after {width: 0;}#sk-container-id-1 div.sk-dashed-wrapped {border: 1px dashed gray;margin: 0 0.4em 0.5em 0.4em;box-sizing: border-box;padding-bottom: 0.4em;background-color: white;}#sk-container-id-1 div.sk-label label {font-family: monospace;font-weight: bold;display: inline-block;line-height: 1.2em;}#sk-container-id-1 div.sk-label-container {text-align: center;}#sk-container-id-1 div.sk-container {/* jupyter's `normalize.less` sets `[hidden] { display: none; }` but bootstrap.min.css set `[hidden] { display: none !important; }` so we also need the `!important` here to be able to override the default hidden behavior on the sphinx rendered scikit-learn.org. See: https://github.com/scikit-learn/scikit-learn/issues/21755 */display: inline-block !important;position: relative;}#sk-container-id-1 div.sk-text-repr-fallback {display: none;}</style><div id=\"sk-container-id-1\" class=\"sk-top-container\"><div class=\"sk-text-repr-fallback\"><pre>GradientBoostingRegressor()</pre><b>In a Jupyter environment, please rerun this cell to show the HTML representation or trust the notebook. <br />On GitHub, the HTML representation is unable to render, please try loading this page with nbviewer.org.</b></div><div class=\"sk-container\" hidden><div class=\"sk-item\"><div class=\"sk-estimator sk-toggleable\"><input class=\"sk-toggleable__control sk-hidden--visually\" id=\"sk-estimator-id-1\" type=\"checkbox\" checked><label for=\"sk-estimator-id-1\" class=\"sk-toggleable__label sk-toggleable__label-arrow\">GradientBoostingRegressor</label><div class=\"sk-toggleable__content\"><pre>GradientBoostingRegressor()</pre></div></div></div></div></div>"
            ]
          },
          "metadata": {},
          "execution_count": 29
        }
      ]
    },
    {
      "cell_type": "code",
      "source": [
        "y_pred = model.predict(X_test)"
      ],
      "metadata": {
        "id": "9-7Ec1MsxY9g"
      },
      "execution_count": 30,
      "outputs": []
    },
    {
      "cell_type": "code",
      "source": [
        "from sklearn.metrics import mean_squared_error, r2_score"
      ],
      "metadata": {
        "id": "qToC15AHxa4h"
      },
      "execution_count": 31,
      "outputs": []
    },
    {
      "cell_type": "code",
      "source": [
        "print(mean_squared_error(y_test, y_pred))\n",
        "print(r2_score(y_test, y_pred))"
      ],
      "metadata": {
        "colab": {
          "base_uri": "https://localhost:8080/"
        },
        "id": "KGDfehJfxdEo",
        "outputId": "2557dd01-babb-4559-e56c-49b322c1032a"
      },
      "execution_count": 32,
      "outputs": [
        {
          "output_type": "stream",
          "name": "stdout",
          "text": [
            "3068730.5237623164\n",
            "0.9869397578306646\n"
          ]
        }
      ]
    },
    {
      "cell_type": "code",
      "source": [
        "param_grid = {\n",
        "    'n_estimators': [100, 200, 300],\n",
        "    'learning_rate': [0.01, 0.1, 0.05, 0.2]\n",
        "}"
      ],
      "metadata": {
        "id": "jIUU7wX4xeHA"
      },
      "execution_count": 34,
      "outputs": []
    },
    {
      "cell_type": "code",
      "source": [
        "from sklearn.model_selection import GridSearchCV\n",
        "grid = GridSearchCV(model, param_grid, cv = 5, scoring = 'r2')"
      ],
      "metadata": {
        "id": "d_HBWzUoxmkV"
      },
      "execution_count": 37,
      "outputs": []
    },
    {
      "cell_type": "code",
      "source": [
        "grid.fit(X_train, y_train)"
      ],
      "metadata": {
        "colab": {
          "base_uri": "https://localhost:8080/",
          "height": 118
        },
        "id": "juKgmtJVxsCO",
        "outputId": "97d0b59d-e37e-4c31-f0f2-ba950fd3524b"
      },
      "execution_count": 38,
      "outputs": [
        {
          "output_type": "execute_result",
          "data": {
            "text/plain": [
              "GridSearchCV(cv=5, estimator=GradientBoostingRegressor(),\n",
              "             param_grid={'learning_rate': [0.01, 0.1, 0.05, 0.2],\n",
              "                         'n_estimators': [100, 200, 300]},\n",
              "             scoring='r2')"
            ],
            "text/html": [
              "<style>#sk-container-id-2 {color: black;background-color: white;}#sk-container-id-2 pre{padding: 0;}#sk-container-id-2 div.sk-toggleable {background-color: white;}#sk-container-id-2 label.sk-toggleable__label {cursor: pointer;display: block;width: 100%;margin-bottom: 0;padding: 0.3em;box-sizing: border-box;text-align: center;}#sk-container-id-2 label.sk-toggleable__label-arrow:before {content: \"▸\";float: left;margin-right: 0.25em;color: #696969;}#sk-container-id-2 label.sk-toggleable__label-arrow:hover:before {color: black;}#sk-container-id-2 div.sk-estimator:hover label.sk-toggleable__label-arrow:before {color: black;}#sk-container-id-2 div.sk-toggleable__content {max-height: 0;max-width: 0;overflow: hidden;text-align: left;background-color: #f0f8ff;}#sk-container-id-2 div.sk-toggleable__content pre {margin: 0.2em;color: black;border-radius: 0.25em;background-color: #f0f8ff;}#sk-container-id-2 input.sk-toggleable__control:checked~div.sk-toggleable__content {max-height: 200px;max-width: 100%;overflow: auto;}#sk-container-id-2 input.sk-toggleable__control:checked~label.sk-toggleable__label-arrow:before {content: \"▾\";}#sk-container-id-2 div.sk-estimator input.sk-toggleable__control:checked~label.sk-toggleable__label {background-color: #d4ebff;}#sk-container-id-2 div.sk-label input.sk-toggleable__control:checked~label.sk-toggleable__label {background-color: #d4ebff;}#sk-container-id-2 input.sk-hidden--visually {border: 0;clip: rect(1px 1px 1px 1px);clip: rect(1px, 1px, 1px, 1px);height: 1px;margin: -1px;overflow: hidden;padding: 0;position: absolute;width: 1px;}#sk-container-id-2 div.sk-estimator {font-family: monospace;background-color: #f0f8ff;border: 1px dotted black;border-radius: 0.25em;box-sizing: border-box;margin-bottom: 0.5em;}#sk-container-id-2 div.sk-estimator:hover {background-color: #d4ebff;}#sk-container-id-2 div.sk-parallel-item::after {content: \"\";width: 100%;border-bottom: 1px solid gray;flex-grow: 1;}#sk-container-id-2 div.sk-label:hover label.sk-toggleable__label {background-color: #d4ebff;}#sk-container-id-2 div.sk-serial::before {content: \"\";position: absolute;border-left: 1px solid gray;box-sizing: border-box;top: 0;bottom: 0;left: 50%;z-index: 0;}#sk-container-id-2 div.sk-serial {display: flex;flex-direction: column;align-items: center;background-color: white;padding-right: 0.2em;padding-left: 0.2em;position: relative;}#sk-container-id-2 div.sk-item {position: relative;z-index: 1;}#sk-container-id-2 div.sk-parallel {display: flex;align-items: stretch;justify-content: center;background-color: white;position: relative;}#sk-container-id-2 div.sk-item::before, #sk-container-id-2 div.sk-parallel-item::before {content: \"\";position: absolute;border-left: 1px solid gray;box-sizing: border-box;top: 0;bottom: 0;left: 50%;z-index: -1;}#sk-container-id-2 div.sk-parallel-item {display: flex;flex-direction: column;z-index: 1;position: relative;background-color: white;}#sk-container-id-2 div.sk-parallel-item:first-child::after {align-self: flex-end;width: 50%;}#sk-container-id-2 div.sk-parallel-item:last-child::after {align-self: flex-start;width: 50%;}#sk-container-id-2 div.sk-parallel-item:only-child::after {width: 0;}#sk-container-id-2 div.sk-dashed-wrapped {border: 1px dashed gray;margin: 0 0.4em 0.5em 0.4em;box-sizing: border-box;padding-bottom: 0.4em;background-color: white;}#sk-container-id-2 div.sk-label label {font-family: monospace;font-weight: bold;display: inline-block;line-height: 1.2em;}#sk-container-id-2 div.sk-label-container {text-align: center;}#sk-container-id-2 div.sk-container {/* jupyter's `normalize.less` sets `[hidden] { display: none; }` but bootstrap.min.css set `[hidden] { display: none !important; }` so we also need the `!important` here to be able to override the default hidden behavior on the sphinx rendered scikit-learn.org. See: https://github.com/scikit-learn/scikit-learn/issues/21755 */display: inline-block !important;position: relative;}#sk-container-id-2 div.sk-text-repr-fallback {display: none;}</style><div id=\"sk-container-id-2\" class=\"sk-top-container\"><div class=\"sk-text-repr-fallback\"><pre>GridSearchCV(cv=5, estimator=GradientBoostingRegressor(),\n",
              "             param_grid={&#x27;learning_rate&#x27;: [0.01, 0.1, 0.05, 0.2],\n",
              "                         &#x27;n_estimators&#x27;: [100, 200, 300]},\n",
              "             scoring=&#x27;r2&#x27;)</pre><b>In a Jupyter environment, please rerun this cell to show the HTML representation or trust the notebook. <br />On GitHub, the HTML representation is unable to render, please try loading this page with nbviewer.org.</b></div><div class=\"sk-container\" hidden><div class=\"sk-item sk-dashed-wrapped\"><div class=\"sk-label-container\"><div class=\"sk-label sk-toggleable\"><input class=\"sk-toggleable__control sk-hidden--visually\" id=\"sk-estimator-id-2\" type=\"checkbox\" ><label for=\"sk-estimator-id-2\" class=\"sk-toggleable__label sk-toggleable__label-arrow\">GridSearchCV</label><div class=\"sk-toggleable__content\"><pre>GridSearchCV(cv=5, estimator=GradientBoostingRegressor(),\n",
              "             param_grid={&#x27;learning_rate&#x27;: [0.01, 0.1, 0.05, 0.2],\n",
              "                         &#x27;n_estimators&#x27;: [100, 200, 300]},\n",
              "             scoring=&#x27;r2&#x27;)</pre></div></div></div><div class=\"sk-parallel\"><div class=\"sk-parallel-item\"><div class=\"sk-item\"><div class=\"sk-label-container\"><div class=\"sk-label sk-toggleable\"><input class=\"sk-toggleable__control sk-hidden--visually\" id=\"sk-estimator-id-3\" type=\"checkbox\" ><label for=\"sk-estimator-id-3\" class=\"sk-toggleable__label sk-toggleable__label-arrow\">estimator: GradientBoostingRegressor</label><div class=\"sk-toggleable__content\"><pre>GradientBoostingRegressor()</pre></div></div></div><div class=\"sk-serial\"><div class=\"sk-item\"><div class=\"sk-estimator sk-toggleable\"><input class=\"sk-toggleable__control sk-hidden--visually\" id=\"sk-estimator-id-4\" type=\"checkbox\" ><label for=\"sk-estimator-id-4\" class=\"sk-toggleable__label sk-toggleable__label-arrow\">GradientBoostingRegressor</label><div class=\"sk-toggleable__content\"><pre>GradientBoostingRegressor()</pre></div></div></div></div></div></div></div></div></div></div>"
            ]
          },
          "metadata": {},
          "execution_count": 38
        }
      ]
    },
    {
      "cell_type": "code",
      "source": [
        "grid.best_params_"
      ],
      "metadata": {
        "colab": {
          "base_uri": "https://localhost:8080/"
        },
        "id": "nWXlnLT0xzaB",
        "outputId": "8308ee5a-0028-406c-cbb7-daec6a2ec974"
      },
      "execution_count": 39,
      "outputs": [
        {
          "output_type": "execute_result",
          "data": {
            "text/plain": [
              "{'learning_rate': 0.1, 'n_estimators': 300}"
            ]
          },
          "metadata": {},
          "execution_count": 39
        }
      ]
    },
    {
      "cell_type": "code",
      "source": [
        "grid.best_score_"
      ],
      "metadata": {
        "colab": {
          "base_uri": "https://localhost:8080/"
        },
        "id": "Orn0dSUhzM9J",
        "outputId": "c815c29a-eaa1-44c1-9a51-9708b65439b1"
      },
      "execution_count": 40,
      "outputs": [
        {
          "output_type": "execute_result",
          "data": {
            "text/plain": [
              "0.9905471586551894"
            ]
          },
          "metadata": {},
          "execution_count": 40
        }
      ]
    },
    {
      "cell_type": "code",
      "source": [
        "y_pred_grid = grid.predict(X_test)"
      ],
      "metadata": {
        "id": "NfxXrv7tzObh"
      },
      "execution_count": 41,
      "outputs": []
    },
    {
      "cell_type": "code",
      "source": [
        "print(r2_score(y_test, y_pred_grid))"
      ],
      "metadata": {
        "colab": {
          "base_uri": "https://localhost:8080/"
        },
        "id": "YBJjsTNBzQyR",
        "outputId": "516cfe51-82e7-47f8-bfe1-8a0549d1eda3"
      },
      "execution_count": 43,
      "outputs": [
        {
          "output_type": "stream",
          "name": "stdout",
          "text": [
            "0.991685938586182\n"
          ]
        }
      ]
    },
    {
      "cell_type": "code",
      "source": [],
      "metadata": {
        "id": "zJXuaTQPzS25"
      },
      "execution_count": null,
      "outputs": []
    },
    {
      "cell_type": "code",
      "source": [],
      "metadata": {
        "id": "iX_HTGWnzVJ_"
      },
      "execution_count": null,
      "outputs": []
    }
  ]
}