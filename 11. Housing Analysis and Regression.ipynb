{
 "cells": [
  {
   "cell_type": "markdown",
   "metadata": {
    "colab_type": "text",
    "id": "7XKECuuOb2gN"
   },
   "source": [
    "# Housing Price Prediction"
   ]
  },
  {
   "cell_type": "markdown",
   "metadata": {},
   "source": [
    "Analyzing Property Values: Insights into Housing Market Trends and Pricing Dynamic\n",
    "\n",
    "The housing price dataset provides a comprehensive collection of property listings, encompassing various attributes such as the number of bedrooms, bathrooms, living area size, lot size, and location details. This dataset is invaluable for a wide range of data analysis and machine learning applications. For instance, it can be utilized in predictive modeling to forecast property prices based on features such as location, amenities, and condition. Additionally, it can aid in identifying trends and patterns in the real estate market, assisting investors, real estate agents, and policymakers in making informed decisions. Moreover, the dataset can serve as a foundation for developing recommendation systems for homebuyers, guiding them towards properties that align with their preferences and requirements. Overall, the housing price dataset offers a wealth of insights and opportunities for leveraging data-driven approaches to understand and navigate the housing market effectively.\n",
    "\n"
   ]
  },
  {
   "cell_type": "code",
   "execution_count": 1,
   "metadata": {
    "colab": {},
    "colab_type": "code",
    "executionInfo": {
     "elapsed": 1885,
     "status": "ok",
     "timestamp": 1592370767549,
     "user": {
      "displayName": "Sharoon Saxena",
      "photoUrl": "https://lh3.googleusercontent.com/a-/AOh14GjyKz9rNCPkHi6QK8TjrjBFlTtaI9ngf0hIwgAl=s64",
      "userId": "01167841530696023488"
     },
     "user_tz": -330
    },
    "id": "CEzh4N2IyxfG"
   },
   "outputs": [],
   "source": [
    "#importing libraries\n",
    "import numpy as np\n",
    "import pandas as pd\n",
    "import matplotlib.pyplot as plt\n",
    "import warnings\n",
    "warnings.filterwarnings('ignore')"
   ]
  },
  {
   "cell_type": "code",
   "execution_count": 2,
   "metadata": {
    "colab": {
     "base_uri": "https://localhost:8080/",
     "height": 496
    },
    "colab_type": "code",
    "executionInfo": {
     "elapsed": 3079,
     "status": "ok",
     "timestamp": 1592370768754,
     "user": {
      "displayName": "Sharoon Saxena",
      "photoUrl": "https://lh3.googleusercontent.com/a-/AOh14GjyKz9rNCPkHi6QK8TjrjBFlTtaI9ngf0hIwgAl=s64",
      "userId": "01167841530696023488"
     },
     "user_tz": -330
    },
    "id": "kzt4iPvvzUGU",
    "outputId": "eca50793-6692-4c67-8310-11cf9df50f99"
   },
   "outputs": [
    {
     "data": {
      "text/html": [
       "<div>\n",
       "<style scoped>\n",
       "    .dataframe tbody tr th:only-of-type {\n",
       "        vertical-align: middle;\n",
       "    }\n",
       "\n",
       "    .dataframe tbody tr th {\n",
       "        vertical-align: top;\n",
       "    }\n",
       "\n",
       "    .dataframe thead th {\n",
       "        text-align: right;\n",
       "    }\n",
       "</style>\n",
       "<table border=\"1\" class=\"dataframe\">\n",
       "  <thead>\n",
       "    <tr style=\"text-align: right;\">\n",
       "      <th></th>\n",
       "      <th>ID</th>\n",
       "      <th>Date House was Sold</th>\n",
       "      <th>Sale Price</th>\n",
       "      <th>No of Bedrooms</th>\n",
       "      <th>No of Bathrooms</th>\n",
       "      <th>Flat Area (in Sqft)</th>\n",
       "      <th>Lot Area (in Sqft)</th>\n",
       "      <th>No of Floors</th>\n",
       "      <th>Waterfront View</th>\n",
       "      <th>No of Times Visited</th>\n",
       "      <th>...</th>\n",
       "      <th>Overall Grade</th>\n",
       "      <th>Area of the House from Basement (in Sqft)</th>\n",
       "      <th>Basement Area (in Sqft)</th>\n",
       "      <th>Age of House (in Years)</th>\n",
       "      <th>Renovated Year</th>\n",
       "      <th>Zipcode</th>\n",
       "      <th>Latitude</th>\n",
       "      <th>Longitude</th>\n",
       "      <th>Living Area after Renovation (in Sqft)</th>\n",
       "      <th>Lot Area after Renovation (in Sqft)</th>\n",
       "    </tr>\n",
       "  </thead>\n",
       "  <tbody>\n",
       "    <tr>\n",
       "      <th>0</th>\n",
       "      <td>7129300520</td>\n",
       "      <td>14-Oct-17</td>\n",
       "      <td>221900.0</td>\n",
       "      <td>3</td>\n",
       "      <td>1.00</td>\n",
       "      <td>1180.0</td>\n",
       "      <td>5650.0</td>\n",
       "      <td>1.0</td>\n",
       "      <td>No</td>\n",
       "      <td>NaN</td>\n",
       "      <td>...</td>\n",
       "      <td>7</td>\n",
       "      <td>1180.0</td>\n",
       "      <td>0</td>\n",
       "      <td>63</td>\n",
       "      <td>0</td>\n",
       "      <td>98178.0</td>\n",
       "      <td>47.5112</td>\n",
       "      <td>-122.257</td>\n",
       "      <td>1340.0</td>\n",
       "      <td>5650</td>\n",
       "    </tr>\n",
       "    <tr>\n",
       "      <th>1</th>\n",
       "      <td>6414100192</td>\n",
       "      <td>14-Dec-17</td>\n",
       "      <td>538000.0</td>\n",
       "      <td>3</td>\n",
       "      <td>2.25</td>\n",
       "      <td>2570.0</td>\n",
       "      <td>7242.0</td>\n",
       "      <td>2.0</td>\n",
       "      <td>No</td>\n",
       "      <td>NaN</td>\n",
       "      <td>...</td>\n",
       "      <td>7</td>\n",
       "      <td>2170.0</td>\n",
       "      <td>400</td>\n",
       "      <td>67</td>\n",
       "      <td>1991</td>\n",
       "      <td>98125.0</td>\n",
       "      <td>47.7210</td>\n",
       "      <td>-122.319</td>\n",
       "      <td>1690.0</td>\n",
       "      <td>7639</td>\n",
       "    </tr>\n",
       "    <tr>\n",
       "      <th>2</th>\n",
       "      <td>5631500400</td>\n",
       "      <td>15-Feb-16</td>\n",
       "      <td>180000.0</td>\n",
       "      <td>2</td>\n",
       "      <td>1.00</td>\n",
       "      <td>770.0</td>\n",
       "      <td>10000.0</td>\n",
       "      <td>1.0</td>\n",
       "      <td>No</td>\n",
       "      <td>NaN</td>\n",
       "      <td>...</td>\n",
       "      <td>6</td>\n",
       "      <td>770.0</td>\n",
       "      <td>0</td>\n",
       "      <td>85</td>\n",
       "      <td>0</td>\n",
       "      <td>98028.0</td>\n",
       "      <td>47.7379</td>\n",
       "      <td>-122.233</td>\n",
       "      <td>2720.0</td>\n",
       "      <td>8062</td>\n",
       "    </tr>\n",
       "    <tr>\n",
       "      <th>3</th>\n",
       "      <td>2487200875</td>\n",
       "      <td>14-Dec-17</td>\n",
       "      <td>604000.0</td>\n",
       "      <td>4</td>\n",
       "      <td>3.00</td>\n",
       "      <td>1960.0</td>\n",
       "      <td>5000.0</td>\n",
       "      <td>1.0</td>\n",
       "      <td>No</td>\n",
       "      <td>NaN</td>\n",
       "      <td>...</td>\n",
       "      <td>7</td>\n",
       "      <td>1050.0</td>\n",
       "      <td>910</td>\n",
       "      <td>53</td>\n",
       "      <td>0</td>\n",
       "      <td>98136.0</td>\n",
       "      <td>47.5208</td>\n",
       "      <td>-122.393</td>\n",
       "      <td>1360.0</td>\n",
       "      <td>5000</td>\n",
       "    </tr>\n",
       "    <tr>\n",
       "      <th>4</th>\n",
       "      <td>1954400510</td>\n",
       "      <td>15-Feb-16</td>\n",
       "      <td>510000.0</td>\n",
       "      <td>3</td>\n",
       "      <td>2.00</td>\n",
       "      <td>1680.0</td>\n",
       "      <td>8080.0</td>\n",
       "      <td>1.0</td>\n",
       "      <td>No</td>\n",
       "      <td>NaN</td>\n",
       "      <td>...</td>\n",
       "      <td>8</td>\n",
       "      <td>1680.0</td>\n",
       "      <td>0</td>\n",
       "      <td>31</td>\n",
       "      <td>0</td>\n",
       "      <td>98074.0</td>\n",
       "      <td>47.6168</td>\n",
       "      <td>-122.045</td>\n",
       "      <td>1800.0</td>\n",
       "      <td>7503</td>\n",
       "    </tr>\n",
       "  </tbody>\n",
       "</table>\n",
       "<p>5 rows × 21 columns</p>\n",
       "</div>"
      ],
      "text/plain": [
       "           ID Date House was Sold  Sale Price  No of Bedrooms  \\\n",
       "0  7129300520           14-Oct-17    221900.0               3   \n",
       "1  6414100192           14-Dec-17    538000.0               3   \n",
       "2  5631500400           15-Feb-16    180000.0               2   \n",
       "3  2487200875           14-Dec-17    604000.0               4   \n",
       "4  1954400510           15-Feb-16    510000.0               3   \n",
       "\n",
       "   No of Bathrooms  Flat Area (in Sqft)  Lot Area (in Sqft)  No of Floors  \\\n",
       "0             1.00               1180.0              5650.0           1.0   \n",
       "1             2.25               2570.0              7242.0           2.0   \n",
       "2             1.00                770.0             10000.0           1.0   \n",
       "3             3.00               1960.0              5000.0           1.0   \n",
       "4             2.00               1680.0              8080.0           1.0   \n",
       "\n",
       "  Waterfront View No of Times Visited  ... Overall Grade  \\\n",
       "0              No                 NaN  ...             7   \n",
       "1              No                 NaN  ...             7   \n",
       "2              No                 NaN  ...             6   \n",
       "3              No                 NaN  ...             7   \n",
       "4              No                 NaN  ...             8   \n",
       "\n",
       "   Area of the House from Basement (in Sqft)  Basement Area (in Sqft)  \\\n",
       "0                                     1180.0                        0   \n",
       "1                                     2170.0                      400   \n",
       "2                                      770.0                        0   \n",
       "3                                     1050.0                      910   \n",
       "4                                     1680.0                        0   \n",
       "\n",
       "   Age of House (in Years)  Renovated Year  Zipcode  Latitude  Longitude  \\\n",
       "0                       63               0  98178.0   47.5112   -122.257   \n",
       "1                       67            1991  98125.0   47.7210   -122.319   \n",
       "2                       85               0  98028.0   47.7379   -122.233   \n",
       "3                       53               0  98136.0   47.5208   -122.393   \n",
       "4                       31               0  98074.0   47.6168   -122.045   \n",
       "\n",
       "   Living Area after Renovation (in Sqft)  Lot Area after Renovation (in Sqft)  \n",
       "0                                  1340.0                                 5650  \n",
       "1                                  1690.0                                 7639  \n",
       "2                                  2720.0                                 8062  \n",
       "3                                  1360.0                                 5000  \n",
       "4                                  1800.0                                 7503  \n",
       "\n",
       "[5 rows x 21 columns]"
      ]
     },
     "execution_count": 2,
     "metadata": {},
     "output_type": "execute_result"
    }
   ],
   "source": [
    "#importing data\n",
    "data = pd.read_csv('datasets\\Raw_Housing_Prices.csv')\n",
    "data.head()"
   ]
  },
  {
   "cell_type": "code",
   "execution_count": 3,
   "metadata": {
    "colab": {
     "base_uri": "https://localhost:8080/",
     "height": 170
    },
    "colab_type": "code",
    "executionInfo": {
     "elapsed": 3069,
     "status": "ok",
     "timestamp": 1592370768755,
     "user": {
      "displayName": "Sharoon Saxena",
      "photoUrl": "https://lh3.googleusercontent.com/a-/AOh14GjyKz9rNCPkHi6QK8TjrjBFlTtaI9ngf0hIwgAl=s64",
      "userId": "01167841530696023488"
     },
     "user_tz": -330
    },
    "id": "JXAZHNFlzikf",
    "outputId": "f0eaf5d7-b62b-44f1-a36d-4f4982ac1ed5"
   },
   "outputs": [
    {
     "data": {
      "text/plain": [
       "count    2.160900e+04\n",
       "mean     5.401984e+05\n",
       "std      3.673890e+05\n",
       "min      7.500000e+04\n",
       "25%      3.219500e+05\n",
       "50%      4.500000e+05\n",
       "75%      6.450000e+05\n",
       "max      7.700000e+06\n",
       "Name: Sale Price, dtype: float64"
      ]
     },
     "execution_count": 3,
     "metadata": {},
     "output_type": "execute_result"
    }
   ],
   "source": [
    "data['Sale Price'].describe()"
   ]
  },
  {
   "cell_type": "code",
   "execution_count": 4,
   "metadata": {
    "colab": {
     "base_uri": "https://localhost:8080/",
     "height": 295
    },
    "colab_type": "code",
    "executionInfo": {
     "elapsed": 3062,
     "status": "ok",
     "timestamp": 1592370768756,
     "user": {
      "displayName": "Sharoon Saxena",
      "photoUrl": "https://lh3.googleusercontent.com/a-/AOh14GjyKz9rNCPkHi6QK8TjrjBFlTtaI9ngf0hIwgAl=s64",
      "userId": "01167841530696023488"
     },
     "user_tz": -330
    },
    "id": "qOLiX47REyVj",
    "outputId": "f39accb3-d824-4ef5-bc99-eff800c7cb51"
   },
   "outputs": [
    {
     "data": {
      "text/plain": [
       "<Axes: ylabel='Frequency'>"
      ]
     },
     "execution_count": 4,
     "metadata": {},
     "output_type": "execute_result"
    },
    {
     "data": {
      "image/png": "[encoded data removed]",
      "text/plain": [
       "<Figure size 640x480 with 1 Axes>"
      ]
     },
     "metadata": {},
     "output_type": "display_data"
    }
   ],
   "source": [
    "#distribution of target variable\n",
    "data['Sale Price'].plot.hist()"
   ]
  },
  {
   "cell_type": "code",
   "execution_count": 5,
   "metadata": {
    "colab": {
     "base_uri": "https://localhost:8080/",
     "height": 34
    },
    "colab_type": "code",
    "executionInfo": {
     "elapsed": 3055,
     "status": "ok",
     "timestamp": 1592370768757,
     "user": {
      "displayName": "Sharoon Saxena",
      "photoUrl": "https://lh3.googleusercontent.com/a-/AOh14GjyKz9rNCPkHi6QK8TjrjBFlTtaI9ngf0hIwgAl=s64",
      "userId": "01167841530696023488"
     },
     "user_tz": -330
    },
    "id": "Xs8WBt5FzxAI",
    "outputId": "2023fb7e-337f-4ce3-ee34-823fdb6f95a5"
   },
   "outputs": [
    {
     "data": {
      "text/plain": [
       "(np.float64(321950.0), np.float64(645000.0))"
      ]
     },
     "execution_count": 5,
     "metadata": {},
     "output_type": "execute_result"
    }
   ],
   "source": [
    "# checking quantiles\n",
    "q1 = data['Sale Price'].quantile(0.25)\n",
    "q3 = data['Sale Price'].quantile(0.75)\n",
    "q1, q3"
   ]
  },
  {
   "cell_type": "code",
   "execution_count": 6,
   "metadata": {
    "colab": {
     "base_uri": "https://localhost:8080/",
     "height": 34
    },
    "colab_type": "code",
    "executionInfo": {
     "elapsed": 3046,
     "status": "ok",
     "timestamp": 1592370768758,
     "user": {
      "displayName": "Sharoon Saxena",
      "photoUrl": "https://lh3.googleusercontent.com/a-/AOh14GjyKz9rNCPkHi6QK8TjrjBFlTtaI9ngf0hIwgAl=s64",
      "userId": "01167841530696023488"
     },
     "user_tz": -330
    },
    "id": "xFiUJRAY0TWF",
    "outputId": "8204faf3-5c8a-41e4-d66f-831e3df202ee"
   },
   "outputs": [
    {
     "data": {
      "text/plain": [
       "np.float64(323050.0)"
      ]
     },
     "execution_count": 6,
     "metadata": {},
     "output_type": "execute_result"
    }
   ],
   "source": [
    "#calculating iqr\n",
    "iqr = q3 - q1\n",
    "iqr"
   ]
  },
  {
   "cell_type": "code",
   "execution_count": 7,
   "metadata": {
    "colab": {
     "base_uri": "https://localhost:8080/",
     "height": 34
    },
    "colab_type": "code",
    "executionInfo": {
     "elapsed": 3035,
     "status": "ok",
     "timestamp": 1592370768759,
     "user": {
      "displayName": "Sharoon Saxena",
      "photoUrl": "https://lh3.googleusercontent.com/a-/AOh14GjyKz9rNCPkHi6QK8TjrjBFlTtaI9ngf0hIwgAl=s64",
      "userId": "01167841530696023488"
     },
     "user_tz": -330
    },
    "id": "NQGl_iRf3C1q",
    "outputId": "69c6afc6-6ea7-4687-86a4-fb3c06504a85"
   },
   "outputs": [
    {
     "data": {
      "text/plain": [
       "(np.float64(1129575.0), np.float64(-162625.0))"
      ]
     },
     "execution_count": 7,
     "metadata": {},
     "output_type": "execute_result"
    }
   ],
   "source": [
    "upper_limit = q3 + 1.5*iqr\n",
    "lower_limit = q1 - 1.5*iqr\n",
    "upper_limit, lower_limit"
   ]
  },
  {
   "cell_type": "code",
   "execution_count": 8,
   "metadata": {
    "colab": {},
    "colab_type": "code",
    "executionInfo": {
     "elapsed": 3027,
     "status": "ok",
     "timestamp": 1592370768760,
     "user": {
      "displayName": "Sharoon Saxena",
      "photoUrl": "https://lh3.googleusercontent.com/a-/AOh14GjyKz9rNCPkHi6QK8TjrjBFlTtaI9ngf0hIwgAl=s64",
      "userId": "01167841530696023488"
     },
     "user_tz": -330
    },
    "id": "mmjlfDJV3Zgy"
   },
   "outputs": [],
   "source": [
    "# imputing outliers\n",
    "def limit_imputer(value):\n",
    "  if value > upper_limit:\n",
    "    return upper_limit\n",
    "  if value < lower_limit:\n",
    "    return lower_limit\n",
    "  else:\n",
    "    return value"
   ]
  },
  {
   "cell_type": "code",
   "execution_count": 9,
   "metadata": {
    "colab": {},
    "colab_type": "code",
    "executionInfo": {
     "elapsed": 3024,
     "status": "ok",
     "timestamp": 1592370768762,
     "user": {
      "displayName": "Sharoon Saxena",
      "photoUrl": "https://lh3.googleusercontent.com/a-/AOh14GjyKz9rNCPkHi6QK8TjrjBFlTtaI9ngf0hIwgAl=s64",
      "userId": "01167841530696023488"
     },
     "user_tz": -330
    },
    "id": "9gOK9l_J4OfO"
   },
   "outputs": [],
   "source": [
    "data['Sale Price'] = data['Sale Price'].apply(limit_imputer)"
   ]
  },
  {
   "cell_type": "code",
   "execution_count": 10,
   "metadata": {
    "colab": {
     "base_uri": "https://localhost:8080/",
     "height": 170
    },
    "colab_type": "code",
    "executionInfo": {
     "elapsed": 3020,
     "status": "ok",
     "timestamp": 1592370768763,
     "user": {
      "displayName": "Sharoon Saxena",
      "photoUrl": "https://lh3.googleusercontent.com/a-/AOh14GjyKz9rNCPkHi6QK8TjrjBFlTtaI9ngf0hIwgAl=s64",
      "userId": "01167841530696023488"
     },
     "user_tz": -330
    },
    "id": "5XtPi_2j4g68",
    "outputId": "e83b1885-a2c3-4e45-f7fe-5f8663d57586"
   },
   "outputs": [
    {
     "data": {
      "text/plain": [
       "count    2.160900e+04\n",
       "mean     5.116186e+05\n",
       "std      2.500620e+05\n",
       "min      7.500000e+04\n",
       "25%      3.219500e+05\n",
       "50%      4.500000e+05\n",
       "75%      6.450000e+05\n",
       "max      1.129575e+06\n",
       "Name: Sale Price, dtype: float64"
      ]
     },
     "execution_count": 10,
     "metadata": {},
     "output_type": "execute_result"
    }
   ],
   "source": [
    "data['Sale Price'].describe()"
   ]
  },
  {
   "cell_type": "code",
   "execution_count": 11,
   "metadata": {
    "colab": {
     "base_uri": "https://localhost:8080/",
     "height": 295
    },
    "colab_type": "code",
    "executionInfo": {
     "elapsed": 4060,
     "status": "ok",
     "timestamp": 1592370769813,
     "user": {
      "displayName": "Sharoon Saxena",
      "photoUrl": "https://lh3.googleusercontent.com/a-/AOh14GjyKz9rNCPkHi6QK8TjrjBFlTtaI9ngf0hIwgAl=s64",
      "userId": "01167841530696023488"
     },
     "user_tz": -330
    },
    "id": "AB0UWP775DsP",
    "outputId": "2640db6d-28af-46b8-abfd-6ef86658ebcb"
   },
   "outputs": [
    {
     "data": {
      "text/plain": [
       "<Axes: ylabel='Frequency'>"
      ]
     },
     "execution_count": 11,
     "metadata": {},
     "output_type": "execute_result"
    },
    {
     "data": {
      "image/png": "[encoded data removed]",
      "text/plain": [
       "<Figure size 640x480 with 1 Axes>"
      ]
     },
     "metadata": {},
     "output_type": "display_data"
    }
   ],
   "source": [
    "data['Sale Price'].plot.hist()"
   ]
  },
  {
   "cell_type": "code",
   "execution_count": 12,
   "metadata": {
    "colab": {
     "base_uri": "https://localhost:8080/",
     "height": 391
    },
    "colab_type": "code",
    "executionInfo": {
     "elapsed": 4049,
     "status": "ok",
     "timestamp": 1592370769815,
     "user": {
      "displayName": "Sharoon Saxena",
      "photoUrl": "https://lh3.googleusercontent.com/a-/AOh14GjyKz9rNCPkHi6QK8TjrjBFlTtaI9ngf0hIwgAl=s64",
      "userId": "01167841530696023488"
     },
     "user_tz": -330
    },
    "id": "0iwTohEDZJt_",
    "outputId": "b990f11d-0798-4920-b5f6-e15539b9bbcb"
   },
   "outputs": [
    {
     "data": {
      "text/plain": [
       "ID                                               0\n",
       "Date House was Sold                              0\n",
       "Sale Price                                       4\n",
       "No of Bedrooms                                   0\n",
       "No of Bathrooms                                  4\n",
       "Flat Area (in Sqft)                              9\n",
       "Lot Area (in Sqft)                               9\n",
       "No of Floors                                     0\n",
       "Waterfront View                                  0\n",
       "No of Times Visited                          19489\n",
       "Condition of the House                           0\n",
       "Overall Grade                                    0\n",
       "Area of the House from Basement (in Sqft)        3\n",
       "Basement Area (in Sqft)                          0\n",
       "Age of House (in Years)                          0\n",
       "Renovated Year                                   0\n",
       "Zipcode                                          1\n",
       "Latitude                                         1\n",
       "Longitude                                        1\n",
       "Living Area after Renovation (in Sqft)           1\n",
       "Lot Area after Renovation (in Sqft)              0\n",
       "dtype: int64"
      ]
     },
     "execution_count": 12,
     "metadata": {},
     "output_type": "execute_result"
    }
   ],
   "source": [
    "#checking missing values\n",
    "data.isnull().sum()"
   ]
  },
  {
   "cell_type": "code",
   "execution_count": 13,
   "metadata": {
    "colab": {
     "base_uri": "https://localhost:8080/",
     "height": 34
    },
    "colab_type": "code",
    "executionInfo": {
     "elapsed": 4021,
     "status": "ok",
     "timestamp": 1592370769819,
     "user": {
      "displayName": "Sharoon Saxena",
      "photoUrl": "https://lh3.googleusercontent.com/a-/AOh14GjyKz9rNCPkHi6QK8TjrjBFlTtaI9ngf0hIwgAl=s64",
      "userId": "01167841530696023488"
     },
     "user_tz": -330
    },
    "id": "rlOuAJCrH-dd",
    "outputId": "4afcada8-cdee-4e6a-e394-4ec1f8a2e535"
   },
   "outputs": [
    {
     "data": {
      "text/plain": [
       "np.int64(4)"
      ]
     },
     "execution_count": 13,
     "metadata": {},
     "output_type": "execute_result"
    }
   ],
   "source": [
    "data['Sale Price'].dropna(inplace=True)\n",
    "data[\"Sale Price\"].isnull().sum()"
   ]
  },
  {
   "cell_type": "code",
   "execution_count": 14,
   "metadata": {
    "colab": {
     "base_uri": "https://localhost:8080/",
     "height": 493
    },
    "colab_type": "code",
    "executionInfo": {
     "elapsed": 4009,
     "status": "ok",
     "timestamp": 1592370769820,
     "user": {
      "displayName": "Sharoon Saxena",
      "photoUrl": "https://lh3.googleusercontent.com/a-/AOh14GjyKz9rNCPkHi6QK8TjrjBFlTtaI9ngf0hIwgAl=s64",
      "userId": "01167841530696023488"
     },
     "user_tz": -330
    },
    "id": "8lncaVFphYR5",
    "outputId": "03a84ac1-7a4a-4290-c642-b92b730b44d4"
   },
   "outputs": [
    {
     "name": "stdout",
     "output_type": "stream",
     "text": [
      "<class 'pandas.core.frame.DataFrame'>\n",
      "RangeIndex: 21613 entries, 0 to 21612\n",
      "Data columns (total 21 columns):\n",
      " #   Column                                     Non-Null Count  Dtype  \n",
      "---  ------                                     --------------  -----  \n",
      " 0   ID                                         21613 non-null  int64  \n",
      " 1   Date House was Sold                        21613 non-null  object \n",
      " 2   Sale Price                                 21609 non-null  float64\n",
      " 3   No of Bedrooms                             21613 non-null  int64  \n",
      " 4   No of Bathrooms                            21609 non-null  float64\n",
      " 5   Flat Area (in Sqft)                        21604 non-null  float64\n",
      " 6   Lot Area (in Sqft)                         21604 non-null  float64\n",
      " 7   No of Floors                               21613 non-null  float64\n",
      " 8   Waterfront View                            21613 non-null  object \n",
      " 9   No of Times Visited                        2124 non-null   object \n",
      " 10  Condition of the House                     21613 non-null  object \n",
      " 11  Overall Grade                              21613 non-null  int64  \n",
      " 12  Area of the House from Basement (in Sqft)  21610 non-null  float64\n",
      " 13  Basement Area (in Sqft)                    21613 non-null  int64  \n",
      " 14  Age of House (in Years)                    21613 non-null  int64  \n",
      " 15  Renovated Year                             21613 non-null  int64  \n",
      " 16  Zipcode                                    21612 non-null  float64\n",
      " 17  Latitude                                   21612 non-null  float64\n",
      " 18  Longitude                                  21612 non-null  float64\n",
      " 19  Living Area after Renovation (in Sqft)     21612 non-null  float64\n",
      " 20  Lot Area after Renovation (in Sqft)        21613 non-null  int64  \n",
      "dtypes: float64(10), int64(7), object(4)\n",
      "memory usage: 3.5+ MB\n"
     ]
    }
   ],
   "source": [
    "data.info()"
   ]
  },
  {
   "cell_type": "code",
   "execution_count": 15,
   "metadata": {
    "colab": {},
    "colab_type": "code",
    "executionInfo": {
     "elapsed": 3998,
     "status": "ok",
     "timestamp": 1592370769821,
     "user": {
      "displayName": "Sharoon Saxena",
      "photoUrl": "https://lh3.googleusercontent.com/a-/AOh14GjyKz9rNCPkHi6QK8TjrjBFlTtaI9ngf0hIwgAl=s64",
      "userId": "01167841530696023488"
     },
     "user_tz": -330
    },
    "id": "z6xMLtXRdGbN"
   },
   "outputs": [],
   "source": [
    "#isolating numerical variables\n",
    "numerical_columns = ['No of Bathrooms', 'Flat Area (in Sqft)','Lot Area (in Sqft)',\n",
    "                     'Area of the House from Basement (in Sqft)','Latitude',\n",
    "                     'Longitude','Living Area after Renovation (in Sqft)']"
   ]
  },
  {
   "cell_type": "code",
   "execution_count": 16,
   "metadata": {
    "colab": {},
    "colab_type": "code",
    "executionInfo": {
     "elapsed": 3990,
     "status": "ok",
     "timestamp": 1592370769822,
     "user": {
      "displayName": "Sharoon Saxena",
      "photoUrl": "https://lh3.googleusercontent.com/a-/AOh14GjyKz9rNCPkHi6QK8TjrjBFlTtaI9ngf0hIwgAl=s64",
      "userId": "01167841530696023488"
     },
     "user_tz": -330
    },
    "id": "shZvE8UjvUrj"
   },
   "outputs": [],
   "source": [
    "#imputing missing values\n",
    "from sklearn.impute import SimpleImputer\n",
    "imputer = SimpleImputer(missing_values = np.nan, strategy = 'median')\n",
    "data[numerical_columns] = imputer.fit_transform(data[numerical_columns])"
   ]
  },
  {
   "cell_type": "code",
   "execution_count": 17,
   "metadata": {
    "colab": {
     "base_uri": "https://localhost:8080/",
     "height": 493
    },
    "colab_type": "code",
    "executionInfo": {
     "elapsed": 3979,
     "status": "ok",
     "timestamp": 1592370769823,
     "user": {
      "displayName": "Sharoon Saxena",
      "photoUrl": "https://lh3.googleusercontent.com/a-/AOh14GjyKz9rNCPkHi6QK8TjrjBFlTtaI9ngf0hIwgAl=s64",
      "userId": "01167841530696023488"
     },
     "user_tz": -330
    },
    "id": "g82g050tcOAF",
    "outputId": "5b1f6633-5a53-41aa-d6b0-fe23f191f8cd"
   },
   "outputs": [
    {
     "name": "stdout",
     "output_type": "stream",
     "text": [
      "<class 'pandas.core.frame.DataFrame'>\n",
      "RangeIndex: 21613 entries, 0 to 21612\n",
      "Data columns (total 21 columns):\n",
      " #   Column                                     Non-Null Count  Dtype  \n",
      "---  ------                                     --------------  -----  \n",
      " 0   ID                                         21613 non-null  int64  \n",
      " 1   Date House was Sold                        21613 non-null  object \n",
      " 2   Sale Price                                 21609 non-null  float64\n",
      " 3   No of Bedrooms                             21613 non-null  int64  \n",
      " 4   No of Bathrooms                            21613 non-null  float64\n",
      " 5   Flat Area (in Sqft)                        21613 non-null  float64\n",
      " 6   Lot Area (in Sqft)                         21613 non-null  float64\n",
      " 7   No of Floors                               21613 non-null  float64\n",
      " 8   Waterfront View                            21613 non-null  object \n",
      " 9   No of Times Visited                        2124 non-null   object \n",
      " 10  Condition of the House                     21613 non-null  object \n",
      " 11  Overall Grade                              21613 non-null  int64  \n",
      " 12  Area of the House from Basement (in Sqft)  21613 non-null  float64\n",
      " 13  Basement Area (in Sqft)                    21613 non-null  int64  \n",
      " 14  Age of House (in Years)                    21613 non-null  int64  \n",
      " 15  Renovated Year                             21613 non-null  int64  \n",
      " 16  Zipcode                                    21612 non-null  float64\n",
      " 17  Latitude                                   21613 non-null  float64\n",
      " 18  Longitude                                  21613 non-null  float64\n",
      " 19  Living Area after Renovation (in Sqft)     21613 non-null  float64\n",
      " 20  Lot Area after Renovation (in Sqft)        21613 non-null  int64  \n",
      "dtypes: float64(10), int64(7), object(4)\n",
      "memory usage: 3.5+ MB\n"
     ]
    }
   ],
   "source": [
    "data.info()"
   ]
  },
  {
   "cell_type": "markdown",
   "metadata": {
    "colab_type": "text",
    "id": "IwUBgj4NEEXY"
   },
   "source": [
    "# zipcode transform"
   ]
  },
  {
   "cell_type": "code",
   "execution_count": 18,
   "metadata": {
    "colab": {},
    "colab_type": "code",
    "executionInfo": {
     "elapsed": 3965,
     "status": "ok",
     "timestamp": 1592370769824,
     "user": {
      "displayName": "Sharoon Saxena",
      "photoUrl": "https://lh3.googleusercontent.com/a-/AOh14GjyKz9rNCPkHi6QK8TjrjBFlTtaI9ngf0hIwgAl=s64",
      "userId": "01167841530696023488"
     },
     "user_tz": -330
    },
    "id": "m1k4zpx9h2RI"
   },
   "outputs": [],
   "source": [
    "imputer = SimpleImputer(missing_values = np.nan, strategy = 'most_frequent')\n",
    "data['Zipcode'] = imputer.fit_transform(data['Zipcode'].values.reshape(-1,1))"
   ]
  },
  {
   "cell_type": "code",
   "execution_count": 19,
   "metadata": {
    "colab": {
     "base_uri": "https://localhost:8080/",
     "height": 34
    },
    "colab_type": "code",
    "executionInfo": {
     "elapsed": 3954,
     "status": "ok",
     "timestamp": 1592370769824,
     "user": {
      "displayName": "Sharoon Saxena",
      "photoUrl": "https://lh3.googleusercontent.com/a-/AOh14GjyKz9rNCPkHi6QK8TjrjBFlTtaI9ngf0hIwgAl=s64",
      "userId": "01167841530696023488"
     },
     "user_tz": -330
    },
    "id": "gVhVkXvltChX",
    "outputId": "fd1a91b9-3544-40ce-ba29-b5d11574d639"
   },
   "outputs": [
    {
     "data": {
      "text/plain": [
       "(21613,)"
      ]
     },
     "execution_count": 19,
     "metadata": {},
     "output_type": "execute_result"
    }
   ],
   "source": [
    "data['Zipcode'].shape"
   ]
  },
  {
   "cell_type": "code",
   "execution_count": 20,
   "metadata": {
    "colab": {
     "base_uri": "https://localhost:8080/",
     "height": 34
    },
    "colab_type": "code",
    "executionInfo": {
     "elapsed": 3939,
     "status": "ok",
     "timestamp": 1592370769825,
     "user": {
      "displayName": "Sharoon Saxena",
      "photoUrl": "https://lh3.googleusercontent.com/a-/AOh14GjyKz9rNCPkHi6QK8TjrjBFlTtaI9ngf0hIwgAl=s64",
      "userId": "01167841530696023488"
     },
     "user_tz": -330
    },
    "id": "iXtZY38Vxg9i",
    "outputId": "bc722049-649c-408e-9fa9-897ffb8df728"
   },
   "outputs": [
    {
     "data": {
      "text/plain": [
       "(21613, 1)"
      ]
     },
     "execution_count": 20,
     "metadata": {},
     "output_type": "execute_result"
    }
   ],
   "source": [
    "column = data[\"Zipcode\"].values.reshape(-1,1)\n",
    "column.shape"
   ]
  },
  {
   "cell_type": "code",
   "execution_count": 21,
   "metadata": {
    "colab": {},
    "colab_type": "code",
    "executionInfo": {
     "elapsed": 3925,
     "status": "ok",
     "timestamp": 1592370769825,
     "user": {
      "displayName": "Sharoon Saxena",
      "photoUrl": "https://lh3.googleusercontent.com/a-/AOh14GjyKz9rNCPkHi6QK8TjrjBFlTtaI9ngf0hIwgAl=s64",
      "userId": "01167841530696023488"
     },
     "user_tz": -330
    },
    "id": "S5sAxB3OwHll"
   },
   "outputs": [],
   "source": [
    "imputer = SimpleImputer(missing_values = np.nan, strategy = 'most_frequent')\n",
    "data['Zipcode'] = imputer.fit_transform(column)"
   ]
  },
  {
   "cell_type": "code",
   "execution_count": 22,
   "metadata": {
    "colab": {
     "base_uri": "https://localhost:8080/",
     "height": 493
    },
    "colab_type": "code",
    "executionInfo": {
     "elapsed": 3915,
     "status": "ok",
     "timestamp": 1592370769826,
     "user": {
      "displayName": "Sharoon Saxena",
      "photoUrl": "https://lh3.googleusercontent.com/a-/AOh14GjyKz9rNCPkHi6QK8TjrjBFlTtaI9ngf0hIwgAl=s64",
      "userId": "01167841530696023488"
     },
     "user_tz": -330
    },
    "id": "6zAZQlTixp3s",
    "outputId": "c47601ee-2678-4ba3-fd10-e5cd5339b7b2"
   },
   "outputs": [
    {
     "name": "stdout",
     "output_type": "stream",
     "text": [
      "<class 'pandas.core.frame.DataFrame'>\n",
      "RangeIndex: 21613 entries, 0 to 21612\n",
      "Data columns (total 21 columns):\n",
      " #   Column                                     Non-Null Count  Dtype  \n",
      "---  ------                                     --------------  -----  \n",
      " 0   ID                                         21613 non-null  int64  \n",
      " 1   Date House was Sold                        21613 non-null  object \n",
      " 2   Sale Price                                 21609 non-null  float64\n",
      " 3   No of Bedrooms                             21613 non-null  int64  \n",
      " 4   No of Bathrooms                            21613 non-null  float64\n",
      " 5   Flat Area (in Sqft)                        21613 non-null  float64\n",
      " 6   Lot Area (in Sqft)                         21613 non-null  float64\n",
      " 7   No of Floors                               21613 non-null  float64\n",
      " 8   Waterfront View                            21613 non-null  object \n",
      " 9   No of Times Visited                        2124 non-null   object \n",
      " 10  Condition of the House                     21613 non-null  object \n",
      " 11  Overall Grade                              21613 non-null  int64  \n",
      " 12  Area of the House from Basement (in Sqft)  21613 non-null  float64\n",
      " 13  Basement Area (in Sqft)                    21613 non-null  int64  \n",
      " 14  Age of House (in Years)                    21613 non-null  int64  \n",
      " 15  Renovated Year                             21613 non-null  int64  \n",
      " 16  Zipcode                                    21613 non-null  float64\n",
      " 17  Latitude                                   21613 non-null  float64\n",
      " 18  Longitude                                  21613 non-null  float64\n",
      " 19  Living Area after Renovation (in Sqft)     21613 non-null  float64\n",
      " 20  Lot Area after Renovation (in Sqft)        21613 non-null  int64  \n",
      "dtypes: float64(10), int64(7), object(4)\n",
      "memory usage: 3.5+ MB\n"
     ]
    }
   ],
   "source": [
    "data.info()"
   ]
  },
  {
   "cell_type": "markdown",
   "metadata": {
    "colab_type": "text",
    "id": "0KwCTERkEurY"
   },
   "source": [
    "# Other transformations"
   ]
  },
  {
   "cell_type": "code",
   "execution_count": 23,
   "metadata": {
    "colab": {
     "base_uri": "https://localhost:8080/",
     "height": 34
    },
    "colab_type": "code",
    "executionInfo": {
     "elapsed": 3902,
     "status": "ok",
     "timestamp": 1592370769827,
     "user": {
      "displayName": "Sharoon Saxena",
      "photoUrl": "https://lh3.googleusercontent.com/a-/AOh14GjyKz9rNCPkHi6QK8TjrjBFlTtaI9ngf0hIwgAl=s64",
      "userId": "01167841530696023488"
     },
     "user_tz": -330
    },
    "id": "L1QSLL0fC8m7",
    "outputId": "23886552-6dea-4eeb-a89e-6c5b2f9505fc"
   },
   "outputs": [
    {
     "data": {
      "text/plain": [
       "array([nan, 'Thrice', 'Four', 'Twice', 'Once'], dtype=object)"
      ]
     },
     "execution_count": 23,
     "metadata": {},
     "output_type": "execute_result"
    }
   ],
   "source": [
    "data['No of Times Visited'].unique()"
   ]
  },
  {
   "cell_type": "code",
   "execution_count": 24,
   "metadata": {
    "colab": {},
    "colab_type": "code",
    "executionInfo": {
     "elapsed": 3891,
     "status": "ok",
     "timestamp": 1592370769828,
     "user": {
      "displayName": "Sharoon Saxena",
      "photoUrl": "https://lh3.googleusercontent.com/a-/AOh14GjyKz9rNCPkHi6QK8TjrjBFlTtaI9ngf0hIwgAl=s64",
      "userId": "01167841530696023488"
     },
     "user_tz": -330
    },
    "id": "uGMpGbccuRTn"
   },
   "outputs": [],
   "source": [
    "# converting from string to categorical\n",
    "mapping = {'None' : \"0\",\n",
    "           'Once' : '1',\n",
    "           'Twice' : '2',\n",
    "           'Thrice' : '3',\n",
    "           'Four' : '4'}\n",
    "\n",
    "data['No of Times Visited'] = data['No of Times Visited'].map(mapping)"
   ]
  },
  {
   "cell_type": "code",
   "execution_count": 25,
   "metadata": {
    "colab": {
     "base_uri": "https://localhost:8080/",
     "height": 34
    },
    "colab_type": "code",
    "executionInfo": {
     "elapsed": 3882,
     "status": "ok",
     "timestamp": 1592370769829,
     "user": {
      "displayName": "Sharoon Saxena",
      "photoUrl": "https://lh3.googleusercontent.com/a-/AOh14GjyKz9rNCPkHi6QK8TjrjBFlTtaI9ngf0hIwgAl=s64",
      "userId": "01167841530696023488"
     },
     "user_tz": -330
    },
    "id": "m0I1D5jXu553",
    "outputId": "3edd0656-8a09-4f02-ba56-4b53ea10f119"
   },
   "outputs": [
    {
     "data": {
      "text/plain": [
       "array([nan, '3', '4', '2', '1'], dtype=object)"
      ]
     },
     "execution_count": 25,
     "metadata": {},
     "output_type": "execute_result"
    }
   ],
   "source": [
    "data['No of Times Visited'].unique()"
   ]
  },
  {
   "cell_type": "code",
   "execution_count": 26,
   "metadata": {
    "colab": {},
    "colab_type": "code",
    "executionInfo": {
     "elapsed": 3871,
     "status": "ok",
     "timestamp": 1592370769829,
     "user": {
      "displayName": "Sharoon Saxena",
      "photoUrl": "https://lh3.googleusercontent.com/a-/AOh14GjyKz9rNCPkHi6QK8TjrjBFlTtaI9ngf0hIwgAl=s64",
      "userId": "01167841530696023488"
     },
     "user_tz": -330
    },
    "id": "8ZoKhrG8wNWW"
   },
   "outputs": [],
   "source": [
    "# new variable creation\n",
    "data['Ever Renovated'] = np.where(data['Renovated Year'] == 0, 'No', 'Yes')"
   ]
  },
  {
   "cell_type": "code",
   "execution_count": 27,
   "metadata": {
    "colab": {
     "base_uri": "https://localhost:8080/",
     "height": 496
    },
    "colab_type": "code",
    "executionInfo": {
     "elapsed": 3861,
     "status": "ok",
     "timestamp": 1592370769830,
     "user": {
      "displayName": "Sharoon Saxena",
      "photoUrl": "https://lh3.googleusercontent.com/a-/AOh14GjyKz9rNCPkHi6QK8TjrjBFlTtaI9ngf0hIwgAl=s64",
      "userId": "01167841530696023488"
     },
     "user_tz": -330
    },
    "id": "bJJzbLKZwji2",
    "outputId": "61adc7f3-0097-420a-aef1-96aee2f99f71"
   },
   "outputs": [
    {
     "data": {
      "text/html": [
       "<div>\n",
       "<style scoped>\n",
       "    .dataframe tbody tr th:only-of-type {\n",
       "        vertical-align: middle;\n",
       "    }\n",
       "\n",
       "    .dataframe tbody tr th {\n",
       "        vertical-align: top;\n",
       "    }\n",
       "\n",
       "    .dataframe thead th {\n",
       "        text-align: right;\n",
       "    }\n",
       "</style>\n",
       "<table border=\"1\" class=\"dataframe\">\n",
       "  <thead>\n",
       "    <tr style=\"text-align: right;\">\n",
       "      <th></th>\n",
       "      <th>ID</th>\n",
       "      <th>Date House was Sold</th>\n",
       "      <th>Sale Price</th>\n",
       "      <th>No of Bedrooms</th>\n",
       "      <th>No of Bathrooms</th>\n",
       "      <th>Flat Area (in Sqft)</th>\n",
       "      <th>Lot Area (in Sqft)</th>\n",
       "      <th>No of Floors</th>\n",
       "      <th>Waterfront View</th>\n",
       "      <th>No of Times Visited</th>\n",
       "      <th>...</th>\n",
       "      <th>Area of the House from Basement (in Sqft)</th>\n",
       "      <th>Basement Area (in Sqft)</th>\n",
       "      <th>Age of House (in Years)</th>\n",
       "      <th>Renovated Year</th>\n",
       "      <th>Zipcode</th>\n",
       "      <th>Latitude</th>\n",
       "      <th>Longitude</th>\n",
       "      <th>Living Area after Renovation (in Sqft)</th>\n",
       "      <th>Lot Area after Renovation (in Sqft)</th>\n",
       "      <th>Ever Renovated</th>\n",
       "    </tr>\n",
       "  </thead>\n",
       "  <tbody>\n",
       "    <tr>\n",
       "      <th>0</th>\n",
       "      <td>7129300520</td>\n",
       "      <td>14-Oct-17</td>\n",
       "      <td>221900.0</td>\n",
       "      <td>3</td>\n",
       "      <td>1.00</td>\n",
       "      <td>1180.0</td>\n",
       "      <td>5650.0</td>\n",
       "      <td>1.0</td>\n",
       "      <td>No</td>\n",
       "      <td>NaN</td>\n",
       "      <td>...</td>\n",
       "      <td>1180.0</td>\n",
       "      <td>0</td>\n",
       "      <td>63</td>\n",
       "      <td>0</td>\n",
       "      <td>98178.0</td>\n",
       "      <td>47.5112</td>\n",
       "      <td>-122.257</td>\n",
       "      <td>1340.0</td>\n",
       "      <td>5650</td>\n",
       "      <td>No</td>\n",
       "    </tr>\n",
       "    <tr>\n",
       "      <th>1</th>\n",
       "      <td>6414100192</td>\n",
       "      <td>14-Dec-17</td>\n",
       "      <td>538000.0</td>\n",
       "      <td>3</td>\n",
       "      <td>2.25</td>\n",
       "      <td>2570.0</td>\n",
       "      <td>7242.0</td>\n",
       "      <td>2.0</td>\n",
       "      <td>No</td>\n",
       "      <td>NaN</td>\n",
       "      <td>...</td>\n",
       "      <td>2170.0</td>\n",
       "      <td>400</td>\n",
       "      <td>67</td>\n",
       "      <td>1991</td>\n",
       "      <td>98125.0</td>\n",
       "      <td>47.7210</td>\n",
       "      <td>-122.319</td>\n",
       "      <td>1690.0</td>\n",
       "      <td>7639</td>\n",
       "      <td>Yes</td>\n",
       "    </tr>\n",
       "    <tr>\n",
       "      <th>2</th>\n",
       "      <td>5631500400</td>\n",
       "      <td>15-Feb-16</td>\n",
       "      <td>180000.0</td>\n",
       "      <td>2</td>\n",
       "      <td>1.00</td>\n",
       "      <td>770.0</td>\n",
       "      <td>10000.0</td>\n",
       "      <td>1.0</td>\n",
       "      <td>No</td>\n",
       "      <td>NaN</td>\n",
       "      <td>...</td>\n",
       "      <td>770.0</td>\n",
       "      <td>0</td>\n",
       "      <td>85</td>\n",
       "      <td>0</td>\n",
       "      <td>98028.0</td>\n",
       "      <td>47.7379</td>\n",
       "      <td>-122.233</td>\n",
       "      <td>2720.0</td>\n",
       "      <td>8062</td>\n",
       "      <td>No</td>\n",
       "    </tr>\n",
       "    <tr>\n",
       "      <th>3</th>\n",
       "      <td>2487200875</td>\n",
       "      <td>14-Dec-17</td>\n",
       "      <td>604000.0</td>\n",
       "      <td>4</td>\n",
       "      <td>3.00</td>\n",
       "      <td>1960.0</td>\n",
       "      <td>5000.0</td>\n",
       "      <td>1.0</td>\n",
       "      <td>No</td>\n",
       "      <td>NaN</td>\n",
       "      <td>...</td>\n",
       "      <td>1050.0</td>\n",
       "      <td>910</td>\n",
       "      <td>53</td>\n",
       "      <td>0</td>\n",
       "      <td>98136.0</td>\n",
       "      <td>47.5208</td>\n",
       "      <td>-122.393</td>\n",
       "      <td>1360.0</td>\n",
       "      <td>5000</td>\n",
       "      <td>No</td>\n",
       "    </tr>\n",
       "    <tr>\n",
       "      <th>4</th>\n",
       "      <td>1954400510</td>\n",
       "      <td>15-Feb-16</td>\n",
       "      <td>510000.0</td>\n",
       "      <td>3</td>\n",
       "      <td>2.00</td>\n",
       "      <td>1680.0</td>\n",
       "      <td>8080.0</td>\n",
       "      <td>1.0</td>\n",
       "      <td>No</td>\n",
       "      <td>NaN</td>\n",
       "      <td>...</td>\n",
       "      <td>1680.0</td>\n",
       "      <td>0</td>\n",
       "      <td>31</td>\n",
       "      <td>0</td>\n",
       "      <td>98074.0</td>\n",
       "      <td>47.6168</td>\n",
       "      <td>-122.045</td>\n",
       "      <td>1800.0</td>\n",
       "      <td>7503</td>\n",
       "      <td>No</td>\n",
       "    </tr>\n",
       "  </tbody>\n",
       "</table>\n",
       "<p>5 rows × 22 columns</p>\n",
       "</div>"
      ],
      "text/plain": [
       "           ID Date House was Sold  Sale Price  No of Bedrooms  \\\n",
       "0  7129300520           14-Oct-17    221900.0               3   \n",
       "1  6414100192           14-Dec-17    538000.0               3   \n",
       "2  5631500400           15-Feb-16    180000.0               2   \n",
       "3  2487200875           14-Dec-17    604000.0               4   \n",
       "4  1954400510           15-Feb-16    510000.0               3   \n",
       "\n",
       "   No of Bathrooms  Flat Area (in Sqft)  Lot Area (in Sqft)  No of Floors  \\\n",
       "0             1.00               1180.0              5650.0           1.0   \n",
       "1             2.25               2570.0              7242.0           2.0   \n",
       "2             1.00                770.0             10000.0           1.0   \n",
       "3             3.00               1960.0              5000.0           1.0   \n",
       "4             2.00               1680.0              8080.0           1.0   \n",
       "\n",
       "  Waterfront View No of Times Visited  ...  \\\n",
       "0              No                 NaN  ...   \n",
       "1              No                 NaN  ...   \n",
       "2              No                 NaN  ...   \n",
       "3              No                 NaN  ...   \n",
       "4              No                 NaN  ...   \n",
       "\n",
       "  Area of the House from Basement (in Sqft)  Basement Area (in Sqft)  \\\n",
       "0                                    1180.0                        0   \n",
       "1                                    2170.0                      400   \n",
       "2                                     770.0                        0   \n",
       "3                                    1050.0                      910   \n",
       "4                                    1680.0                        0   \n",
       "\n",
       "   Age of House (in Years)  Renovated Year  Zipcode  Latitude  Longitude  \\\n",
       "0                       63               0  98178.0   47.5112   -122.257   \n",
       "1                       67            1991  98125.0   47.7210   -122.319   \n",
       "2                       85               0  98028.0   47.7379   -122.233   \n",
       "3                       53               0  98136.0   47.5208   -122.393   \n",
       "4                       31               0  98074.0   47.6168   -122.045   \n",
       "\n",
       "   Living Area after Renovation (in Sqft)  \\\n",
       "0                                  1340.0   \n",
       "1                                  1690.0   \n",
       "2                                  2720.0   \n",
       "3                                  1360.0   \n",
       "4                                  1800.0   \n",
       "\n",
       "   Lot Area after Renovation (in Sqft)  Ever Renovated  \n",
       "0                                 5650              No  \n",
       "1                                 7639             Yes  \n",
       "2                                 8062              No  \n",
       "3                                 5000              No  \n",
       "4                                 7503              No  \n",
       "\n",
       "[5 rows x 22 columns]"
      ]
     },
     "execution_count": 27,
     "metadata": {},
     "output_type": "execute_result"
    }
   ],
   "source": [
    "data.head()"
   ]
  },
  {
   "cell_type": "code",
   "execution_count": 28,
   "metadata": {
    "colab": {},
    "colab_type": "code",
    "executionInfo": {
     "elapsed": 6496,
     "status": "ok",
     "timestamp": 1592370772490,
     "user": {
      "displayName": "Sharoon Saxena",
      "photoUrl": "https://lh3.googleusercontent.com/a-/AOh14GjyKz9rNCPkHi6QK8TjrjBFlTtaI9ngf0hIwgAl=s64",
      "userId": "01167841530696023488"
     },
     "user_tz": -330
    },
    "id": "pzoi4XO0yBsr"
   },
   "outputs": [],
   "source": [
    "#manipulating datetime variable\n",
    "data['Purchase Year'] = pd.DatetimeIndex(data['Date House was Sold']).year"
   ]
  },
  {
   "cell_type": "code",
   "execution_count": 29,
   "metadata": {
    "colab": {},
    "colab_type": "code",
    "executionInfo": {
     "elapsed": 6485,
     "status": "ok",
     "timestamp": 1592370772490,
     "user": {
      "displayName": "Sharoon Saxena",
      "photoUrl": "https://lh3.googleusercontent.com/a-/AOh14GjyKz9rNCPkHi6QK8TjrjBFlTtaI9ngf0hIwgAl=s64",
      "userId": "01167841530696023488"
     },
     "user_tz": -330
    },
    "id": "AoW6XaxP3ivz"
   },
   "outputs": [],
   "source": [
    "data['Years Since Renovation'] = np.where(data['Ever Renovated'] == 'Yes',\n",
    "                                                     abs(data['Purchase Year'] - \n",
    "                                                        data['Renovated Year']), 0)"
   ]
  },
  {
   "cell_type": "code",
   "execution_count": 30,
   "metadata": {
    "colab": {
     "base_uri": "https://localhost:8080/",
     "height": 496
    },
    "colab_type": "code",
    "executionInfo": {
     "elapsed": 6466,
     "status": "ok",
     "timestamp": 1592370772491,
     "user": {
      "displayName": "Sharoon Saxena",
      "photoUrl": "https://lh3.googleusercontent.com/a-/AOh14GjyKz9rNCPkHi6QK8TjrjBFlTtaI9ngf0hIwgAl=s64",
      "userId": "01167841530696023488"
     },
     "user_tz": -330
    },
    "id": "pkIhSmFl4V5O",
    "outputId": "93e0b77f-f37c-41b1-f516-344c05b282fa"
   },
   "outputs": [
    {
     "data": {
      "text/html": [
       "<div>\n",
       "<style scoped>\n",
       "    .dataframe tbody tr th:only-of-type {\n",
       "        vertical-align: middle;\n",
       "    }\n",
       "\n",
       "    .dataframe tbody tr th {\n",
       "        vertical-align: top;\n",
       "    }\n",
       "\n",
       "    .dataframe thead th {\n",
       "        text-align: right;\n",
       "    }\n",
       "</style>\n",
       "<table border=\"1\" class=\"dataframe\">\n",
       "  <thead>\n",
       "    <tr style=\"text-align: right;\">\n",
       "      <th></th>\n",
       "      <th>ID</th>\n",
       "      <th>Date House was Sold</th>\n",
       "      <th>Sale Price</th>\n",
       "      <th>No of Bedrooms</th>\n",
       "      <th>No of Bathrooms</th>\n",
       "      <th>Flat Area (in Sqft)</th>\n",
       "      <th>Lot Area (in Sqft)</th>\n",
       "      <th>No of Floors</th>\n",
       "      <th>Waterfront View</th>\n",
       "      <th>No of Times Visited</th>\n",
       "      <th>...</th>\n",
       "      <th>Age of House (in Years)</th>\n",
       "      <th>Renovated Year</th>\n",
       "      <th>Zipcode</th>\n",
       "      <th>Latitude</th>\n",
       "      <th>Longitude</th>\n",
       "      <th>Living Area after Renovation (in Sqft)</th>\n",
       "      <th>Lot Area after Renovation (in Sqft)</th>\n",
       "      <th>Ever Renovated</th>\n",
       "      <th>Purchase Year</th>\n",
       "      <th>Years Since Renovation</th>\n",
       "    </tr>\n",
       "  </thead>\n",
       "  <tbody>\n",
       "    <tr>\n",
       "      <th>0</th>\n",
       "      <td>7129300520</td>\n",
       "      <td>14-Oct-17</td>\n",
       "      <td>221900.0</td>\n",
       "      <td>3</td>\n",
       "      <td>1.00</td>\n",
       "      <td>1180.0</td>\n",
       "      <td>5650.0</td>\n",
       "      <td>1.0</td>\n",
       "      <td>No</td>\n",
       "      <td>NaN</td>\n",
       "      <td>...</td>\n",
       "      <td>63</td>\n",
       "      <td>0</td>\n",
       "      <td>98178.0</td>\n",
       "      <td>47.5112</td>\n",
       "      <td>-122.257</td>\n",
       "      <td>1340.0</td>\n",
       "      <td>5650</td>\n",
       "      <td>No</td>\n",
       "      <td>2017</td>\n",
       "      <td>0</td>\n",
       "    </tr>\n",
       "    <tr>\n",
       "      <th>1</th>\n",
       "      <td>6414100192</td>\n",
       "      <td>14-Dec-17</td>\n",
       "      <td>538000.0</td>\n",
       "      <td>3</td>\n",
       "      <td>2.25</td>\n",
       "      <td>2570.0</td>\n",
       "      <td>7242.0</td>\n",
       "      <td>2.0</td>\n",
       "      <td>No</td>\n",
       "      <td>NaN</td>\n",
       "      <td>...</td>\n",
       "      <td>67</td>\n",
       "      <td>1991</td>\n",
       "      <td>98125.0</td>\n",
       "      <td>47.7210</td>\n",
       "      <td>-122.319</td>\n",
       "      <td>1690.0</td>\n",
       "      <td>7639</td>\n",
       "      <td>Yes</td>\n",
       "      <td>2017</td>\n",
       "      <td>26</td>\n",
       "    </tr>\n",
       "    <tr>\n",
       "      <th>2</th>\n",
       "      <td>5631500400</td>\n",
       "      <td>15-Feb-16</td>\n",
       "      <td>180000.0</td>\n",
       "      <td>2</td>\n",
       "      <td>1.00</td>\n",
       "      <td>770.0</td>\n",
       "      <td>10000.0</td>\n",
       "      <td>1.0</td>\n",
       "      <td>No</td>\n",
       "      <td>NaN</td>\n",
       "      <td>...</td>\n",
       "      <td>85</td>\n",
       "      <td>0</td>\n",
       "      <td>98028.0</td>\n",
       "      <td>47.7379</td>\n",
       "      <td>-122.233</td>\n",
       "      <td>2720.0</td>\n",
       "      <td>8062</td>\n",
       "      <td>No</td>\n",
       "      <td>2016</td>\n",
       "      <td>0</td>\n",
       "    </tr>\n",
       "    <tr>\n",
       "      <th>3</th>\n",
       "      <td>2487200875</td>\n",
       "      <td>14-Dec-17</td>\n",
       "      <td>604000.0</td>\n",
       "      <td>4</td>\n",
       "      <td>3.00</td>\n",
       "      <td>1960.0</td>\n",
       "      <td>5000.0</td>\n",
       "      <td>1.0</td>\n",
       "      <td>No</td>\n",
       "      <td>NaN</td>\n",
       "      <td>...</td>\n",
       "      <td>53</td>\n",
       "      <td>0</td>\n",
       "      <td>98136.0</td>\n",
       "      <td>47.5208</td>\n",
       "      <td>-122.393</td>\n",
       "      <td>1360.0</td>\n",
       "      <td>5000</td>\n",
       "      <td>No</td>\n",
       "      <td>2017</td>\n",
       "      <td>0</td>\n",
       "    </tr>\n",
       "    <tr>\n",
       "      <th>4</th>\n",
       "      <td>1954400510</td>\n",
       "      <td>15-Feb-16</td>\n",
       "      <td>510000.0</td>\n",
       "      <td>3</td>\n",
       "      <td>2.00</td>\n",
       "      <td>1680.0</td>\n",
       "      <td>8080.0</td>\n",
       "      <td>1.0</td>\n",
       "      <td>No</td>\n",
       "      <td>NaN</td>\n",
       "      <td>...</td>\n",
       "      <td>31</td>\n",
       "      <td>0</td>\n",
       "      <td>98074.0</td>\n",
       "      <td>47.6168</td>\n",
       "      <td>-122.045</td>\n",
       "      <td>1800.0</td>\n",
       "      <td>7503</td>\n",
       "      <td>No</td>\n",
       "      <td>2016</td>\n",
       "      <td>0</td>\n",
       "    </tr>\n",
       "  </tbody>\n",
       "</table>\n",
       "<p>5 rows × 24 columns</p>\n",
       "</div>"
      ],
      "text/plain": [
       "           ID Date House was Sold  Sale Price  No of Bedrooms  \\\n",
       "0  7129300520           14-Oct-17    221900.0               3   \n",
       "1  6414100192           14-Dec-17    538000.0               3   \n",
       "2  5631500400           15-Feb-16    180000.0               2   \n",
       "3  2487200875           14-Dec-17    604000.0               4   \n",
       "4  1954400510           15-Feb-16    510000.0               3   \n",
       "\n",
       "   No of Bathrooms  Flat Area (in Sqft)  Lot Area (in Sqft)  No of Floors  \\\n",
       "0             1.00               1180.0              5650.0           1.0   \n",
       "1             2.25               2570.0              7242.0           2.0   \n",
       "2             1.00                770.0             10000.0           1.0   \n",
       "3             3.00               1960.0              5000.0           1.0   \n",
       "4             2.00               1680.0              8080.0           1.0   \n",
       "\n",
       "  Waterfront View No of Times Visited  ... Age of House (in Years)  \\\n",
       "0              No                 NaN  ...                      63   \n",
       "1              No                 NaN  ...                      67   \n",
       "2              No                 NaN  ...                      85   \n",
       "3              No                 NaN  ...                      53   \n",
       "4              No                 NaN  ...                      31   \n",
       "\n",
       "   Renovated Year  Zipcode  Latitude  Longitude  \\\n",
       "0               0  98178.0   47.5112   -122.257   \n",
       "1            1991  98125.0   47.7210   -122.319   \n",
       "2               0  98028.0   47.7379   -122.233   \n",
       "3               0  98136.0   47.5208   -122.393   \n",
       "4               0  98074.0   47.6168   -122.045   \n",
       "\n",
       "   Living Area after Renovation (in Sqft)  \\\n",
       "0                                  1340.0   \n",
       "1                                  1690.0   \n",
       "2                                  2720.0   \n",
       "3                                  1360.0   \n",
       "4                                  1800.0   \n",
       "\n",
       "   Lot Area after Renovation (in Sqft)  Ever Renovated  Purchase Year  \\\n",
       "0                                 5650              No           2017   \n",
       "1                                 7639             Yes           2017   \n",
       "2                                 8062              No           2016   \n",
       "3                                 5000              No           2017   \n",
       "4                                 7503              No           2016   \n",
       "\n",
       "   Years Since Renovation  \n",
       "0                       0  \n",
       "1                      26  \n",
       "2                       0  \n",
       "3                       0  \n",
       "4                       0  \n",
       "\n",
       "[5 rows x 24 columns]"
      ]
     },
     "execution_count": 30,
     "metadata": {},
     "output_type": "execute_result"
    }
   ],
   "source": [
    "data.head()"
   ]
  },
  {
   "cell_type": "code",
   "execution_count": 31,
   "metadata": {
    "colab": {},
    "colab_type": "code",
    "executionInfo": {
     "elapsed": 6452,
     "status": "ok",
     "timestamp": 1592370772491,
     "user": {
      "displayName": "Sharoon Saxena",
      "photoUrl": "https://lh3.googleusercontent.com/a-/AOh14GjyKz9rNCPkHi6QK8TjrjBFlTtaI9ngf0hIwgAl=s64",
      "userId": "01167841530696023488"
     },
     "user_tz": -330
    },
    "id": "nOiEshrD4qk4"
   },
   "outputs": [],
   "source": [
    "# dropping redundant variables\n",
    "data.drop( columns = ['Purchase Year', 'Date House was Sold', 'Renovated Year'], inplace = True)"
   ]
  },
  {
   "cell_type": "code",
   "execution_count": 32,
   "metadata": {
    "colab": {
     "base_uri": "https://localhost:8080/",
     "height": 326
    },
    "colab_type": "code",
    "executionInfo": {
     "elapsed": 6440,
     "status": "ok",
     "timestamp": 1592370772492,
     "user": {
      "displayName": "Sharoon Saxena",
      "photoUrl": "https://lh3.googleusercontent.com/a-/AOh14GjyKz9rNCPkHi6QK8TjrjBFlTtaI9ngf0hIwgAl=s64",
      "userId": "01167841530696023488"
     },
     "user_tz": -330
    },
    "id": "doqRXx7a5NhH",
    "outputId": "94a1e9f3-0d61-4d90-c288-1f1c6b54f4c0"
   },
   "outputs": [
    {
     "data": {
      "text/html": [
       "<div>\n",
       "<style scoped>\n",
       "    .dataframe tbody tr th:only-of-type {\n",
       "        vertical-align: middle;\n",
       "    }\n",
       "\n",
       "    .dataframe tbody tr th {\n",
       "        vertical-align: top;\n",
       "    }\n",
       "\n",
       "    .dataframe thead th {\n",
       "        text-align: right;\n",
       "    }\n",
       "</style>\n",
       "<table border=\"1\" class=\"dataframe\">\n",
       "  <thead>\n",
       "    <tr style=\"text-align: right;\">\n",
       "      <th></th>\n",
       "      <th>ID</th>\n",
       "      <th>Sale Price</th>\n",
       "      <th>No of Bedrooms</th>\n",
       "      <th>No of Bathrooms</th>\n",
       "      <th>Flat Area (in Sqft)</th>\n",
       "      <th>Lot Area (in Sqft)</th>\n",
       "      <th>No of Floors</th>\n",
       "      <th>Waterfront View</th>\n",
       "      <th>No of Times Visited</th>\n",
       "      <th>Condition of the House</th>\n",
       "      <th>...</th>\n",
       "      <th>Area of the House from Basement (in Sqft)</th>\n",
       "      <th>Basement Area (in Sqft)</th>\n",
       "      <th>Age of House (in Years)</th>\n",
       "      <th>Zipcode</th>\n",
       "      <th>Latitude</th>\n",
       "      <th>Longitude</th>\n",
       "      <th>Living Area after Renovation (in Sqft)</th>\n",
       "      <th>Lot Area after Renovation (in Sqft)</th>\n",
       "      <th>Ever Renovated</th>\n",
       "      <th>Years Since Renovation</th>\n",
       "    </tr>\n",
       "  </thead>\n",
       "  <tbody>\n",
       "    <tr>\n",
       "      <th>0</th>\n",
       "      <td>7129300520</td>\n",
       "      <td>221900.0</td>\n",
       "      <td>3</td>\n",
       "      <td>1.00</td>\n",
       "      <td>1180.0</td>\n",
       "      <td>5650.0</td>\n",
       "      <td>1.0</td>\n",
       "      <td>No</td>\n",
       "      <td>NaN</td>\n",
       "      <td>Fair</td>\n",
       "      <td>...</td>\n",
       "      <td>1180.0</td>\n",
       "      <td>0</td>\n",
       "      <td>63</td>\n",
       "      <td>98178.0</td>\n",
       "      <td>47.5112</td>\n",
       "      <td>-122.257</td>\n",
       "      <td>1340.0</td>\n",
       "      <td>5650</td>\n",
       "      <td>No</td>\n",
       "      <td>0</td>\n",
       "    </tr>\n",
       "    <tr>\n",
       "      <th>1</th>\n",
       "      <td>6414100192</td>\n",
       "      <td>538000.0</td>\n",
       "      <td>3</td>\n",
       "      <td>2.25</td>\n",
       "      <td>2570.0</td>\n",
       "      <td>7242.0</td>\n",
       "      <td>2.0</td>\n",
       "      <td>No</td>\n",
       "      <td>NaN</td>\n",
       "      <td>Fair</td>\n",
       "      <td>...</td>\n",
       "      <td>2170.0</td>\n",
       "      <td>400</td>\n",
       "      <td>67</td>\n",
       "      <td>98125.0</td>\n",
       "      <td>47.7210</td>\n",
       "      <td>-122.319</td>\n",
       "      <td>1690.0</td>\n",
       "      <td>7639</td>\n",
       "      <td>Yes</td>\n",
       "      <td>26</td>\n",
       "    </tr>\n",
       "    <tr>\n",
       "      <th>2</th>\n",
       "      <td>5631500400</td>\n",
       "      <td>180000.0</td>\n",
       "      <td>2</td>\n",
       "      <td>1.00</td>\n",
       "      <td>770.0</td>\n",
       "      <td>10000.0</td>\n",
       "      <td>1.0</td>\n",
       "      <td>No</td>\n",
       "      <td>NaN</td>\n",
       "      <td>Fair</td>\n",
       "      <td>...</td>\n",
       "      <td>770.0</td>\n",
       "      <td>0</td>\n",
       "      <td>85</td>\n",
       "      <td>98028.0</td>\n",
       "      <td>47.7379</td>\n",
       "      <td>-122.233</td>\n",
       "      <td>2720.0</td>\n",
       "      <td>8062</td>\n",
       "      <td>No</td>\n",
       "      <td>0</td>\n",
       "    </tr>\n",
       "    <tr>\n",
       "      <th>3</th>\n",
       "      <td>2487200875</td>\n",
       "      <td>604000.0</td>\n",
       "      <td>4</td>\n",
       "      <td>3.00</td>\n",
       "      <td>1960.0</td>\n",
       "      <td>5000.0</td>\n",
       "      <td>1.0</td>\n",
       "      <td>No</td>\n",
       "      <td>NaN</td>\n",
       "      <td>Excellent</td>\n",
       "      <td>...</td>\n",
       "      <td>1050.0</td>\n",
       "      <td>910</td>\n",
       "      <td>53</td>\n",
       "      <td>98136.0</td>\n",
       "      <td>47.5208</td>\n",
       "      <td>-122.393</td>\n",
       "      <td>1360.0</td>\n",
       "      <td>5000</td>\n",
       "      <td>No</td>\n",
       "      <td>0</td>\n",
       "    </tr>\n",
       "    <tr>\n",
       "      <th>4</th>\n",
       "      <td>1954400510</td>\n",
       "      <td>510000.0</td>\n",
       "      <td>3</td>\n",
       "      <td>2.00</td>\n",
       "      <td>1680.0</td>\n",
       "      <td>8080.0</td>\n",
       "      <td>1.0</td>\n",
       "      <td>No</td>\n",
       "      <td>NaN</td>\n",
       "      <td>Fair</td>\n",
       "      <td>...</td>\n",
       "      <td>1680.0</td>\n",
       "      <td>0</td>\n",
       "      <td>31</td>\n",
       "      <td>98074.0</td>\n",
       "      <td>47.6168</td>\n",
       "      <td>-122.045</td>\n",
       "      <td>1800.0</td>\n",
       "      <td>7503</td>\n",
       "      <td>No</td>\n",
       "      <td>0</td>\n",
       "    </tr>\n",
       "  </tbody>\n",
       "</table>\n",
       "<p>5 rows × 21 columns</p>\n",
       "</div>"
      ],
      "text/plain": [
       "           ID  Sale Price  No of Bedrooms  No of Bathrooms  \\\n",
       "0  7129300520    221900.0               3             1.00   \n",
       "1  6414100192    538000.0               3             2.25   \n",
       "2  5631500400    180000.0               2             1.00   \n",
       "3  2487200875    604000.0               4             3.00   \n",
       "4  1954400510    510000.0               3             2.00   \n",
       "\n",
       "   Flat Area (in Sqft)  Lot Area (in Sqft)  No of Floors Waterfront View  \\\n",
       "0               1180.0              5650.0           1.0              No   \n",
       "1               2570.0              7242.0           2.0              No   \n",
       "2                770.0             10000.0           1.0              No   \n",
       "3               1960.0              5000.0           1.0              No   \n",
       "4               1680.0              8080.0           1.0              No   \n",
       "\n",
       "  No of Times Visited Condition of the House  ...  \\\n",
       "0                 NaN                   Fair  ...   \n",
       "1                 NaN                   Fair  ...   \n",
       "2                 NaN                   Fair  ...   \n",
       "3                 NaN              Excellent  ...   \n",
       "4                 NaN                   Fair  ...   \n",
       "\n",
       "   Area of the House from Basement (in Sqft)  Basement Area (in Sqft)  \\\n",
       "0                                     1180.0                        0   \n",
       "1                                     2170.0                      400   \n",
       "2                                      770.0                        0   \n",
       "3                                     1050.0                      910   \n",
       "4                                     1680.0                        0   \n",
       "\n",
       "   Age of House (in Years)  Zipcode  Latitude  Longitude  \\\n",
       "0                       63  98178.0   47.5112   -122.257   \n",
       "1                       67  98125.0   47.7210   -122.319   \n",
       "2                       85  98028.0   47.7379   -122.233   \n",
       "3                       53  98136.0   47.5208   -122.393   \n",
       "4                       31  98074.0   47.6168   -122.045   \n",
       "\n",
       "   Living Area after Renovation (in Sqft)  \\\n",
       "0                                  1340.0   \n",
       "1                                  1690.0   \n",
       "2                                  2720.0   \n",
       "3                                  1360.0   \n",
       "4                                  1800.0   \n",
       "\n",
       "   Lot Area after Renovation (in Sqft)  Ever Renovated Years Since Renovation  \n",
       "0                                 5650              No                      0  \n",
       "1                                 7639             Yes                     26  \n",
       "2                                 8062              No                      0  \n",
       "3                                 5000              No                      0  \n",
       "4                                 7503              No                      0  \n",
       "\n",
       "[5 rows x 21 columns]"
      ]
     },
     "execution_count": 32,
     "metadata": {},
     "output_type": "execute_result"
    }
   ],
   "source": [
    "data.head()"
   ]
  },
  {
   "cell_type": "markdown",
   "metadata": {
    "colab_type": "text",
    "id": "xLgGAmfzFMAL"
   },
   "source": [
    "# zipcodebin"
   ]
  },
  {
   "cell_type": "code",
   "execution_count": 33,
   "metadata": {
    "colab": {},
    "colab_type": "code",
    "executionInfo": {
     "elapsed": 6426,
     "status": "ok",
     "timestamp": 1592370772492,
     "user": {
      "displayName": "Sharoon Saxena",
      "photoUrl": "https://lh3.googleusercontent.com/a-/AOh14GjyKz9rNCPkHi6QK8TjrjBFlTtaI9ngf0hIwgAl=s64",
      "userId": "01167841530696023488"
     },
     "user_tz": -330
    },
    "id": "yYKA8_Tv1yUl"
   },
   "outputs": [],
   "source": [
    "data.drop( columns = 'ID', inplace = True)"
   ]
  },
  {
   "cell_type": "code",
   "execution_count": 34,
   "metadata": {
    "colab": {
     "base_uri": "https://localhost:8080/",
     "height": 204
    },
    "colab_type": "code",
    "executionInfo": {
     "elapsed": 6412,
     "status": "ok",
     "timestamp": 1592370772493,
     "user": {
      "displayName": "Sharoon Saxena",
      "photoUrl": "https://lh3.googleusercontent.com/a-/AOh14GjyKz9rNCPkHi6QK8TjrjBFlTtaI9ngf0hIwgAl=s64",
      "userId": "01167841530696023488"
     },
     "user_tz": -330
    },
    "id": "YMiyBZ8e2A3D",
    "outputId": "ed97c390-0a8c-41e0-8003-94ac936bd332"
   },
   "outputs": [
    {
     "data": {
      "text/plain": [
       "0         Fair\n",
       "1         Fair\n",
       "2         Fair\n",
       "3    Excellent\n",
       "4         Fair\n",
       "5         Fair\n",
       "6         Fair\n",
       "7         Fair\n",
       "8         Fair\n",
       "9         Fair\n",
       "Name: Condition of the House, dtype: object"
      ]
     },
     "execution_count": 34,
     "metadata": {},
     "output_type": "execute_result"
    }
   ],
   "source": [
    "data['Condition of the House'].head(10)"
   ]
  },
  {
   "cell_type": "code",
   "execution_count": 35,
   "metadata": {
    "colab": {
     "base_uri": "https://localhost:8080/",
     "height": 119
    },
    "colab_type": "code",
    "executionInfo": {
     "elapsed": 6398,
     "status": "ok",
     "timestamp": 1592370772493,
     "user": {
      "displayName": "Sharoon Saxena",
      "photoUrl": "https://lh3.googleusercontent.com/a-/AOh14GjyKz9rNCPkHi6QK8TjrjBFlTtaI9ngf0hIwgAl=s64",
      "userId": "01167841530696023488"
     },
     "user_tz": -330
    },
    "id": "wrDpvMl_2Qb1",
    "outputId": "ed44769f-e7f7-469f-b316-6e5d5589bb3e"
   },
   "outputs": [
    {
     "data": {
      "text/plain": [
       "Condition of the House\n",
       "Fair         14031\n",
       "Good          5679\n",
       "Excellent     1701\n",
       "Okay           172\n",
       "Bad             30\n",
       "Name: count, dtype: int64"
      ]
     },
     "execution_count": 35,
     "metadata": {},
     "output_type": "execute_result"
    }
   ],
   "source": [
    "data['Condition of the House'].value_counts()"
   ]
  },
  {
   "cell_type": "code",
   "execution_count": 36,
   "metadata": {
    "colab": {
     "base_uri": "https://localhost:8080/",
     "height": 332
    },
    "colab_type": "code",
    "executionInfo": {
     "elapsed": 6387,
     "status": "ok",
     "timestamp": 1592370772494,
     "user": {
      "displayName": "Sharoon Saxena",
      "photoUrl": "https://lh3.googleusercontent.com/a-/AOh14GjyKz9rNCPkHi6QK8TjrjBFlTtaI9ngf0hIwgAl=s64",
      "userId": "01167841530696023488"
     },
     "user_tz": -330
    },
    "id": "lqWPkQ4T2ZWI",
    "outputId": "1ac1db89-fa1d-4eab-d311-00e7a5877bd5"
   },
   "outputs": [
    {
     "data": {
      "text/plain": [
       "<Axes: xlabel='Condition of the House'>"
      ]
     },
     "execution_count": 36,
     "metadata": {},
     "output_type": "execute_result"
    },
    {
     "data": {
      "image/png": "[encoded data removed]",
      "text/plain": [
       "<Figure size 640x480 with 1 Axes>"
      ]
     },
     "metadata": {},
     "output_type": "display_data"
    }
   ],
   "source": [
    "data.groupby('Condition of the House')['Sale Price'].mean().plot(kind = 'bar')"
   ]
  },
  {
   "cell_type": "code",
   "execution_count": 37,
   "metadata": {
    "colab": {
     "base_uri": "https://localhost:8080/",
     "height": 332
    },
    "colab_type": "code",
    "executionInfo": {
     "elapsed": 6370,
     "status": "ok",
     "timestamp": 1592370772494,
     "user": {
      "displayName": "Sharoon Saxena",
      "photoUrl": "https://lh3.googleusercontent.com/a-/AOh14GjyKz9rNCPkHi6QK8TjrjBFlTtaI9ngf0hIwgAl=s64",
      "userId": "01167841530696023488"
     },
     "user_tz": -330
    },
    "id": "vI0LgSLA3FEo",
    "outputId": "63261bea-5c22-4f17-ee05-42171dd77e89"
   },
   "outputs": [
    {
     "data": {
      "text/plain": [
       "<Axes: xlabel='Condition of the House'>"
      ]
     },
     "execution_count": 37,
     "metadata": {},
     "output_type": "execute_result"
    },
    {
     "data": {
      "image/png": "[encoded data removed]",
      "text/plain": [
       "<Figure size 640x480 with 1 Axes>"
      ]
     },
     "metadata": {},
     "output_type": "display_data"
    }
   ],
   "source": [
    "data.groupby('Condition of the House')['Sale Price'].mean().sort_values().plot(kind = 'bar')"
   ]
  },
  {
   "cell_type": "code",
   "execution_count": 38,
   "metadata": {
    "colab": {
     "base_uri": "https://localhost:8080/",
     "height": 313
    },
    "colab_type": "code",
    "executionInfo": {
     "elapsed": 6355,
     "status": "ok",
     "timestamp": 1592370772496,
     "user": {
      "displayName": "Sharoon Saxena",
      "photoUrl": "https://lh3.googleusercontent.com/a-/AOh14GjyKz9rNCPkHi6QK8TjrjBFlTtaI9ngf0hIwgAl=s64",
      "userId": "01167841530696023488"
     },
     "user_tz": -330
    },
    "id": "O1pOIOME3x9B",
    "outputId": "a9a3cd8f-e32b-4c01-bf0d-82f5803eaa9a"
   },
   "outputs": [
    {
     "data": {
      "text/plain": [
       "<Axes: xlabel='Waterfront View'>"
      ]
     },
     "execution_count": 38,
     "metadata": {},
     "output_type": "execute_result"
    },
    {
     "data": {
      "image/png": "[encoded data removed]",
      "text/plain": [
       "<Figure size 640x480 with 1 Axes>"
      ]
     },
     "metadata": {},
     "output_type": "display_data"
    }
   ],
   "source": [
    "data.groupby('Waterfront View')['Sale Price'].mean().sort_values().plot(kind = 'bar')"
   ]
  },
  {
   "cell_type": "code",
   "execution_count": 39,
   "metadata": {
    "colab": {
     "base_uri": "https://localhost:8080/",
     "height": 302
    },
    "colab_type": "code",
    "executionInfo": {
     "elapsed": 6340,
     "status": "ok",
     "timestamp": 1592370772497,
     "user": {
      "displayName": "Sharoon Saxena",
      "photoUrl": "https://lh3.googleusercontent.com/a-/AOh14GjyKz9rNCPkHi6QK8TjrjBFlTtaI9ngf0hIwgAl=s64",
      "userId": "01167841530696023488"
     },
     "user_tz": -330
    },
    "id": "g9DbRijF4ByK",
    "outputId": "827f7d8c-2e75-4ff8-8ce0-3ca845f3612b"
   },
   "outputs": [
    {
     "data": {
      "text/plain": [
       "<Axes: xlabel='Ever Renovated'>"
      ]
     },
     "execution_count": 39,
     "metadata": {},
     "output_type": "execute_result"
    },
    {
     "data": {
      "image/png": "[encoded data removed]",
      "text/plain": [
       "<Figure size 640x480 with 1 Axes>"
      ]
     },
     "metadata": {},
     "output_type": "display_data"
    }
   ],
   "source": [
    "data.groupby('Ever Renovated')['Sale Price'].mean().sort_values().plot(kind = 'bar')"
   ]
  },
  {
   "cell_type": "code",
   "execution_count": 40,
   "metadata": {
    "colab": {
     "base_uri": "https://localhost:8080/",
     "height": 339
    },
    "colab_type": "code",
    "executionInfo": {
     "elapsed": 7433,
     "status": "ok",
     "timestamp": 1592370773611,
     "user": {
      "displayName": "Sharoon Saxena",
      "photoUrl": "https://lh3.googleusercontent.com/a-/AOh14GjyKz9rNCPkHi6QK8TjrjBFlTtaI9ngf0hIwgAl=s64",
      "userId": "01167841530696023488"
     },
     "user_tz": -330
    },
    "id": "FbGthq624ExL",
    "outputId": "c6c18548-62ed-40cb-fbee-977084d70051"
   },
   "outputs": [
    {
     "data": {
      "text/plain": [
       "<Axes: xlabel='Zipcode'>"
      ]
     },
     "execution_count": 40,
     "metadata": {},
     "output_type": "execute_result"
    },
    {
     "data": {
      "image/png": "[encoded data removed]",
      "text/plain": [
       "<Figure size 640x480 with 1 Axes>"
      ]
     },
     "metadata": {},
     "output_type": "display_data"
    }
   ],
   "source": [
    "data.groupby('Zipcode',)['Sale Price'].mean().sort_values().plot(kind = 'bar')"
   ]
  },
  {
   "cell_type": "markdown",
   "metadata": {
    "colab_type": "text",
    "id": "c-pjInHWGPSj"
   },
   "source": [
    "# Linear Regression\n"
   ]
  },
  {
   "cell_type": "code",
   "execution_count": 41,
   "metadata": {
    "colab": {},
    "colab_type": "code",
    "executionInfo": {
     "elapsed": 7423,
     "status": "ok",
     "timestamp": 1592370773612,
     "user": {
      "displayName": "Sharoon Saxena",
      "photoUrl": "https://lh3.googleusercontent.com/a-/AOh14GjyKz9rNCPkHi6QK8TjrjBFlTtaI9ngf0hIwgAl=s64",
      "userId": "01167841530696023488"
     },
     "user_tz": -330
    },
    "id": "gcJrmLtAWz0A"
   },
   "outputs": [],
   "source": [
    "data.dropna(inplace=True)\n",
    "X = data.drop(columns=['Sale Price'])\n",
    "Y = data['Sale Price']"
   ]
  },
  {
   "cell_type": "markdown",
   "metadata": {
    "colab_type": "text",
    "id": "DU-9w-yiho9d"
   },
   "source": [
    "## variable transformation"
   ]
  },
  {
   "cell_type": "code",
   "execution_count": 42,
   "metadata": {
    "colab": {},
    "colab_type": "code",
    "executionInfo": {
     "elapsed": 7415,
     "status": "ok",
     "timestamp": 1592370773613,
     "user": {
      "displayName": "Sharoon Saxena",
      "photoUrl": "https://lh3.googleusercontent.com/a-/AOh14GjyKz9rNCPkHi6QK8TjrjBFlTtaI9ngf0hIwgAl=s64",
      "userId": "01167841530696023488"
     },
     "user_tz": -330
    },
    "id": "a0PIhdlodv7-"
   },
   "outputs": [],
   "source": [
    "#checking distribution of independent numerical variables\n",
    "def distribution(data ,var):\n",
    "  plt.figure(figsize = (len(var)*6,6), dpi = 120)\n",
    "  for j,i in enumerate(var):\n",
    "    plt.subplot(1,len(var),j+1)\n",
    "    plt.hist(data[i])\n",
    "    plt.title(i)"
   ]
  },
  {
   "cell_type": "code",
   "execution_count": 43,
   "metadata": {
    "colab": {},
    "colab_type": "code",
    "executionInfo": {
     "elapsed": 7404,
     "status": "ok",
     "timestamp": 1592370773613,
     "user": {
      "displayName": "Sharoon Saxena",
      "photoUrl": "https://lh3.googleusercontent.com/a-/AOh14GjyKz9rNCPkHi6QK8TjrjBFlTtaI9ngf0hIwgAl=s64",
      "userId": "01167841530696023488"
     },
     "user_tz": -330
    },
    "id": "layF1FGugCyc"
   },
   "outputs": [],
   "source": [
    "numerical_columns = ['No of Bedrooms', 'No of Bathrooms', 'Lot Area (in Sqft)',\n",
    "       'No of Floors',\n",
    "       'Area of the House from Basement (in Sqft)', 'Basement Area (in Sqft)',\n",
    "       'Age of House (in Years)', 'Latitude', 'Longitude',\n",
    "       'Living Area after Renovation (in Sqft)',\n",
    "       'Lot Area after Renovation (in Sqft)',\n",
    "       'Years Since Renovation']"
   ]
  },
  {
   "cell_type": "code",
   "execution_count": 44,
   "metadata": {
    "colab": {},
    "colab_type": "code",
    "executionInfo": {
     "elapsed": 7397,
     "status": "ok",
     "timestamp": 1592370773614,
     "user": {
      "displayName": "Sharoon Saxena",
      "photoUrl": "https://lh3.googleusercontent.com/a-/AOh14GjyKz9rNCPkHi6QK8TjrjBFlTtaI9ngf0hIwgAl=s64",
      "userId": "01167841530696023488"
     },
     "user_tz": -330
    },
    "id": "zwdkyA6PeZbi"
   },
   "outputs": [],
   "source": [
    "for i in numerical_columns:\n",
    "  X[i] = pd.to_numeric(X[i])"
   ]
  },
  {
   "cell_type": "code",
   "execution_count": 45,
   "metadata": {
    "colab": {
     "base_uri": "https://localhost:8080/",
     "height": 165
    },
    "colab_type": "code",
    "executionInfo": {
     "elapsed": 10865,
     "status": "ok",
     "timestamp": 1592370777091,
     "user": {
      "displayName": "Sharoon Saxena",
      "photoUrl": "https://lh3.googleusercontent.com/a-/AOh14GjyKz9rNCPkHi6QK8TjrjBFlTtaI9ngf0hIwgAl=s64",
      "userId": "01167841530696023488"
     },
     "user_tz": -330
    },
    "id": "JjjQKDiPfP7D",
    "outputId": "4868820f-a1df-4339-ec8a-3be4eff922db"
   },
   "outputs": [
    {
     "data": {
      "image/png": "[encoded data removed]",
      "text/plain": [
       "<Figure size 8640x720 with 12 Axes>"
      ]
     },
     "metadata": {},
     "output_type": "display_data"
    }
   ],
   "source": [
    "distribution(X, numerical_columns)"
   ]
  },
  {
   "cell_type": "code",
   "execution_count": 46,
   "metadata": {
    "colab": {},
    "colab_type": "code",
    "executionInfo": {
     "elapsed": 10854,
     "status": "ok",
     "timestamp": 1592370777092,
     "user": {
      "displayName": "Sharoon Saxena",
      "photoUrl": "https://lh3.googleusercontent.com/a-/AOh14GjyKz9rNCPkHi6QK8TjrjBFlTtaI9ngf0hIwgAl=s64",
      "userId": "01167841530696023488"
     },
     "user_tz": -330
    },
    "id": "CADxHXcghXjY"
   },
   "outputs": [],
   "source": [
    "#removing right skew\n",
    "def right_skew(x):\n",
    "  return np.log(abs(x+500))\n",
    "\n",
    "right_skew_variables = ['No of Bedrooms', 'No of Bathrooms', 'Lot Area (in Sqft)',\n",
    "       'No of Floors',\n",
    "       'Area of the House from Basement (in Sqft)', 'Basement Area (in Sqft)',\n",
    "        'Longitude',\n",
    "       'Living Area after Renovation (in Sqft)',\n",
    "       'Lot Area after Renovation (in Sqft)',\n",
    "       'Years Since Renovation']\n"
   ]
  },
  {
   "cell_type": "code",
   "execution_count": 47,
   "metadata": {
    "colab": {},
    "colab_type": "code",
    "executionInfo": {
     "elapsed": 10843,
     "status": "ok",
     "timestamp": 1592370777092,
     "user": {
      "displayName": "Sharoon Saxena",
      "photoUrl": "https://lh3.googleusercontent.com/a-/AOh14GjyKz9rNCPkHi6QK8TjrjBFlTtaI9ngf0hIwgAl=s64",
      "userId": "01167841530696023488"
     },
     "user_tz": -330
    },
    "id": "HTL7uG0di5CA"
   },
   "outputs": [],
   "source": [
    "for i in right_skew_variables:\n",
    "  X[i] = X[i].map(right_skew)\n",
    "\n",
    "# removing infinite values\n",
    "X = X.replace(np.inf, np.nan)\n",
    "X.dropna(inplace=True)"
   ]
  },
  {
   "cell_type": "code",
   "execution_count": 48,
   "metadata": {
    "colab": {
     "base_uri": "https://localhost:8080/",
     "height": 160
    },
    "colab_type": "code",
    "executionInfo": {
     "elapsed": 14322,
     "status": "ok",
     "timestamp": 1592370780580,
     "user": {
      "displayName": "Sharoon Saxena",
      "photoUrl": "https://lh3.googleusercontent.com/a-/AOh14GjyKz9rNCPkHi6QK8TjrjBFlTtaI9ngf0hIwgAl=s64",
      "userId": "01167841530696023488"
     },
     "user_tz": -330
    },
    "id": "KpN8aa9ElJEj",
    "outputId": "d4eff983-6469-461d-d0a0-a04280569b3d"
   },
   "outputs": [
    {
     "data": {
      "image/png": "[encoded data removed]",
      "text/plain": [
       "<Figure size 8640x720 with 12 Axes>"
      ]
     },
     "metadata": {},
     "output_type": "display_data"
    }
   ],
   "source": [
    "distribution(X, numerical_columns)"
   ]
  },
  {
   "cell_type": "markdown",
   "metadata": {
    "colab_type": "text",
    "id": "xvkHzrYordIB"
   },
   "source": [
    "## Scaling the dataset"
   ]
  },
  {
   "cell_type": "code",
   "execution_count": 49,
   "metadata": {
    "colab": {
     "base_uri": "https://localhost:8080/",
     "height": 326
    },
    "colab_type": "code",
    "executionInfo": {
     "elapsed": 14307,
     "status": "ok",
     "timestamp": 1592370780580,
     "user": {
      "displayName": "Sharoon Saxena",
      "photoUrl": "https://lh3.googleusercontent.com/a-/AOh14GjyKz9rNCPkHi6QK8TjrjBFlTtaI9ngf0hIwgAl=s64",
      "userId": "01167841530696023488"
     },
     "user_tz": -330
    },
    "id": "n8IPv4vHKFmC",
    "outputId": "aad5e22b-c340-4e88-8ef7-9ad4d4297353"
   },
   "outputs": [
    {
     "data": {
      "text/html": [
       "<div>\n",
       "<style scoped>\n",
       "    .dataframe tbody tr th:only-of-type {\n",
       "        vertical-align: middle;\n",
       "    }\n",
       "\n",
       "    .dataframe tbody tr th {\n",
       "        vertical-align: top;\n",
       "    }\n",
       "\n",
       "    .dataframe thead th {\n",
       "        text-align: right;\n",
       "    }\n",
       "</style>\n",
       "<table border=\"1\" class=\"dataframe\">\n",
       "  <thead>\n",
       "    <tr style=\"text-align: right;\">\n",
       "      <th></th>\n",
       "      <th>No of Bedrooms</th>\n",
       "      <th>No of Bathrooms</th>\n",
       "      <th>Flat Area (in Sqft)</th>\n",
       "      <th>Lot Area (in Sqft)</th>\n",
       "      <th>No of Floors</th>\n",
       "      <th>Waterfront View</th>\n",
       "      <th>No of Times Visited</th>\n",
       "      <th>Condition of the House</th>\n",
       "      <th>Overall Grade</th>\n",
       "      <th>Area of the House from Basement (in Sqft)</th>\n",
       "      <th>Basement Area (in Sqft)</th>\n",
       "      <th>Age of House (in Years)</th>\n",
       "      <th>Zipcode</th>\n",
       "      <th>Latitude</th>\n",
       "      <th>Longitude</th>\n",
       "      <th>Living Area after Renovation (in Sqft)</th>\n",
       "      <th>Lot Area after Renovation (in Sqft)</th>\n",
       "      <th>Ever Renovated</th>\n",
       "      <th>Years Since Renovation</th>\n",
       "    </tr>\n",
       "  </thead>\n",
       "  <tbody>\n",
       "    <tr>\n",
       "      <th>15</th>\n",
       "      <td>6.222576</td>\n",
       "      <td>6.220590</td>\n",
       "      <td>2950.0</td>\n",
       "      <td>8.612503</td>\n",
       "      <td>6.218600</td>\n",
       "      <td>No</td>\n",
       "      <td>3</td>\n",
       "      <td>Fair</td>\n",
       "      <td>9</td>\n",
       "      <td>7.816014</td>\n",
       "      <td>7.293018</td>\n",
       "      <td>39</td>\n",
       "      <td>98126.0</td>\n",
       "      <td>47.5714</td>\n",
       "      <td>5.933902</td>\n",
       "      <td>7.878534</td>\n",
       "      <td>8.411833</td>\n",
       "      <td>No</td>\n",
       "      <td>6.214608</td>\n",
       "    </tr>\n",
       "    <tr>\n",
       "      <th>21</th>\n",
       "      <td>6.220590</td>\n",
       "      <td>6.220093</td>\n",
       "      <td>3050.0</td>\n",
       "      <td>10.722540</td>\n",
       "      <td>6.216606</td>\n",
       "      <td>No</td>\n",
       "      <td>4</td>\n",
       "      <td>Fair</td>\n",
       "      <td>9</td>\n",
       "      <td>7.948032</td>\n",
       "      <td>7.106606</td>\n",
       "      <td>50</td>\n",
       "      <td>98040.0</td>\n",
       "      <td>47.5316</td>\n",
       "      <td>5.934278</td>\n",
       "      <td>8.435983</td>\n",
       "      <td>9.944438</td>\n",
       "      <td>No</td>\n",
       "      <td>6.214608</td>\n",
       "    </tr>\n",
       "    <tr>\n",
       "      <th>49</th>\n",
       "      <td>6.220590</td>\n",
       "      <td>6.219596</td>\n",
       "      <td>2753.0</td>\n",
       "      <td>11.089882</td>\n",
       "      <td>6.216606</td>\n",
       "      <td>Yes</td>\n",
       "      <td>2</td>\n",
       "      <td>Excellent</td>\n",
       "      <td>9</td>\n",
       "      <td>7.887959</td>\n",
       "      <td>6.992096</td>\n",
       "      <td>65</td>\n",
       "      <td>98070.0</td>\n",
       "      <td>47.4041</td>\n",
       "      <td>5.933700</td>\n",
       "      <td>8.064636</td>\n",
       "      <td>11.198393</td>\n",
       "      <td>No</td>\n",
       "      <td>6.214608</td>\n",
       "    </tr>\n",
       "    <tr>\n",
       "      <th>58</th>\n",
       "      <td>6.224558</td>\n",
       "      <td>6.221087</td>\n",
       "      <td>3250.0</td>\n",
       "      <td>9.605216</td>\n",
       "      <td>6.218600</td>\n",
       "      <td>No</td>\n",
       "      <td>4</td>\n",
       "      <td>Good</td>\n",
       "      <td>8</td>\n",
       "      <td>8.229511</td>\n",
       "      <td>6.214608</td>\n",
       "      <td>50</td>\n",
       "      <td>98008.0</td>\n",
       "      <td>47.5880</td>\n",
       "      <td>5.934587</td>\n",
       "      <td>8.149024</td>\n",
       "      <td>9.353921</td>\n",
       "      <td>No</td>\n",
       "      <td>6.214608</td>\n",
       "    </tr>\n",
       "    <tr>\n",
       "      <th>60</th>\n",
       "      <td>6.220590</td>\n",
       "      <td>6.219098</td>\n",
       "      <td>2150.0</td>\n",
       "      <td>9.986679</td>\n",
       "      <td>6.216606</td>\n",
       "      <td>No</td>\n",
       "      <td>3</td>\n",
       "      <td>Good</td>\n",
       "      <td>8</td>\n",
       "      <td>7.644919</td>\n",
       "      <td>6.966024</td>\n",
       "      <td>59</td>\n",
       "      <td>98166.0</td>\n",
       "      <td>47.4336</td>\n",
       "      <td>5.933997</td>\n",
       "      <td>8.029433</td>\n",
       "      <td>9.873028</td>\n",
       "      <td>No</td>\n",
       "      <td>6.214608</td>\n",
       "    </tr>\n",
       "  </tbody>\n",
       "</table>\n",
       "</div>"
      ],
      "text/plain": [
       "    No of Bedrooms  No of Bathrooms  Flat Area (in Sqft)  Lot Area (in Sqft)  \\\n",
       "15        6.222576         6.220590               2950.0            8.612503   \n",
       "21        6.220590         6.220093               3050.0           10.722540   \n",
       "49        6.220590         6.219596               2753.0           11.089882   \n",
       "58        6.224558         6.221087               3250.0            9.605216   \n",
       "60        6.220590         6.219098               2150.0            9.986679   \n",
       "\n",
       "    No of Floors Waterfront View No of Times Visited Condition of the House  \\\n",
       "15      6.218600              No                   3                   Fair   \n",
       "21      6.216606              No                   4                   Fair   \n",
       "49      6.216606             Yes                   2              Excellent   \n",
       "58      6.218600              No                   4                   Good   \n",
       "60      6.216606              No                   3                   Good   \n",
       "\n",
       "    Overall Grade  Area of the House from Basement (in Sqft)  \\\n",
       "15              9                                   7.816014   \n",
       "21              9                                   7.948032   \n",
       "49              9                                   7.887959   \n",
       "58              8                                   8.229511   \n",
       "60              8                                   7.644919   \n",
       "\n",
       "    Basement Area (in Sqft)  Age of House (in Years)  Zipcode  Latitude  \\\n",
       "15                 7.293018                       39  98126.0   47.5714   \n",
       "21                 7.106606                       50  98040.0   47.5316   \n",
       "49                 6.992096                       65  98070.0   47.4041   \n",
       "58                 6.214608                       50  98008.0   47.5880   \n",
       "60                 6.966024                       59  98166.0   47.4336   \n",
       "\n",
       "    Longitude  Living Area after Renovation (in Sqft)  \\\n",
       "15   5.933902                                7.878534   \n",
       "21   5.934278                                8.435983   \n",
       "49   5.933700                                8.064636   \n",
       "58   5.934587                                8.149024   \n",
       "60   5.933997                                8.029433   \n",
       "\n",
       "    Lot Area after Renovation (in Sqft) Ever Renovated  Years Since Renovation  \n",
       "15                             8.411833             No                6.214608  \n",
       "21                             9.944438             No                6.214608  \n",
       "49                            11.198393             No                6.214608  \n",
       "58                             9.353921             No                6.214608  \n",
       "60                             9.873028             No                6.214608  "
      ]
     },
     "execution_count": 49,
     "metadata": {},
     "output_type": "execute_result"
    }
   ],
   "source": [
    "X.head()"
   ]
  },
  {
   "cell_type": "code",
   "execution_count": 50,
   "metadata": {
    "colab": {
     "base_uri": "https://localhost:8080/",
     "height": 326
    },
    "colab_type": "code",
    "executionInfo": {
     "elapsed": 14294,
     "status": "ok",
     "timestamp": 1592370780581,
     "user": {
      "displayName": "Sharoon Saxena",
      "photoUrl": "https://lh3.googleusercontent.com/a-/AOh14GjyKz9rNCPkHi6QK8TjrjBFlTtaI9ngf0hIwgAl=s64",
      "userId": "01167841530696023488"
     },
     "user_tz": -330
    },
    "id": "WsRaqaWqKKm3",
    "outputId": "e0e5e552-a3d8-4706-dfcf-bbe1fbd66699"
   },
   "outputs": [
    {
     "data": {
      "text/html": [
       "<div>\n",
       "<style scoped>\n",
       "    .dataframe tbody tr th:only-of-type {\n",
       "        vertical-align: middle;\n",
       "    }\n",
       "\n",
       "    .dataframe tbody tr th {\n",
       "        vertical-align: top;\n",
       "    }\n",
       "\n",
       "    .dataframe thead th {\n",
       "        text-align: right;\n",
       "    }\n",
       "</style>\n",
       "<table border=\"1\" class=\"dataframe\">\n",
       "  <thead>\n",
       "    <tr style=\"text-align: right;\">\n",
       "      <th></th>\n",
       "      <th>No of Bedrooms</th>\n",
       "      <th>No of Bathrooms</th>\n",
       "      <th>Flat Area (in Sqft)</th>\n",
       "      <th>Lot Area (in Sqft)</th>\n",
       "      <th>No of Floors</th>\n",
       "      <th>Waterfront View</th>\n",
       "      <th>No of Times Visited</th>\n",
       "      <th>Condition of the House</th>\n",
       "      <th>Overall Grade</th>\n",
       "      <th>Area of the House from Basement (in Sqft)</th>\n",
       "      <th>Basement Area (in Sqft)</th>\n",
       "      <th>Age of House (in Years)</th>\n",
       "      <th>Zipcode</th>\n",
       "      <th>Latitude</th>\n",
       "      <th>Longitude</th>\n",
       "      <th>Living Area after Renovation (in Sqft)</th>\n",
       "      <th>Lot Area after Renovation (in Sqft)</th>\n",
       "      <th>Ever Renovated</th>\n",
       "      <th>Years Since Renovation</th>\n",
       "    </tr>\n",
       "  </thead>\n",
       "  <tbody>\n",
       "    <tr>\n",
       "      <th>15</th>\n",
       "      <td>6.222576</td>\n",
       "      <td>6.220590</td>\n",
       "      <td>2950.0</td>\n",
       "      <td>8.612503</td>\n",
       "      <td>6.218600</td>\n",
       "      <td>0</td>\n",
       "      <td>3</td>\n",
       "      <td>3</td>\n",
       "      <td>9</td>\n",
       "      <td>7.816014</td>\n",
       "      <td>7.293018</td>\n",
       "      <td>39</td>\n",
       "      <td>98126.0</td>\n",
       "      <td>47.5714</td>\n",
       "      <td>5.933902</td>\n",
       "      <td>7.878534</td>\n",
       "      <td>8.411833</td>\n",
       "      <td>0</td>\n",
       "      <td>6.214608</td>\n",
       "    </tr>\n",
       "    <tr>\n",
       "      <th>21</th>\n",
       "      <td>6.220590</td>\n",
       "      <td>6.220093</td>\n",
       "      <td>3050.0</td>\n",
       "      <td>10.722540</td>\n",
       "      <td>6.216606</td>\n",
       "      <td>0</td>\n",
       "      <td>4</td>\n",
       "      <td>3</td>\n",
       "      <td>9</td>\n",
       "      <td>7.948032</td>\n",
       "      <td>7.106606</td>\n",
       "      <td>50</td>\n",
       "      <td>98040.0</td>\n",
       "      <td>47.5316</td>\n",
       "      <td>5.934278</td>\n",
       "      <td>8.435983</td>\n",
       "      <td>9.944438</td>\n",
       "      <td>0</td>\n",
       "      <td>6.214608</td>\n",
       "    </tr>\n",
       "    <tr>\n",
       "      <th>49</th>\n",
       "      <td>6.220590</td>\n",
       "      <td>6.219596</td>\n",
       "      <td>2753.0</td>\n",
       "      <td>11.089882</td>\n",
       "      <td>6.216606</td>\n",
       "      <td>1</td>\n",
       "      <td>2</td>\n",
       "      <td>5</td>\n",
       "      <td>9</td>\n",
       "      <td>7.887959</td>\n",
       "      <td>6.992096</td>\n",
       "      <td>65</td>\n",
       "      <td>98070.0</td>\n",
       "      <td>47.4041</td>\n",
       "      <td>5.933700</td>\n",
       "      <td>8.064636</td>\n",
       "      <td>11.198393</td>\n",
       "      <td>0</td>\n",
       "      <td>6.214608</td>\n",
       "    </tr>\n",
       "    <tr>\n",
       "      <th>58</th>\n",
       "      <td>6.224558</td>\n",
       "      <td>6.221087</td>\n",
       "      <td>3250.0</td>\n",
       "      <td>9.605216</td>\n",
       "      <td>6.218600</td>\n",
       "      <td>0</td>\n",
       "      <td>4</td>\n",
       "      <td>4</td>\n",
       "      <td>8</td>\n",
       "      <td>8.229511</td>\n",
       "      <td>6.214608</td>\n",
       "      <td>50</td>\n",
       "      <td>98008.0</td>\n",
       "      <td>47.5880</td>\n",
       "      <td>5.934587</td>\n",
       "      <td>8.149024</td>\n",
       "      <td>9.353921</td>\n",
       "      <td>0</td>\n",
       "      <td>6.214608</td>\n",
       "    </tr>\n",
       "    <tr>\n",
       "      <th>60</th>\n",
       "      <td>6.220590</td>\n",
       "      <td>6.219098</td>\n",
       "      <td>2150.0</td>\n",
       "      <td>9.986679</td>\n",
       "      <td>6.216606</td>\n",
       "      <td>0</td>\n",
       "      <td>3</td>\n",
       "      <td>4</td>\n",
       "      <td>8</td>\n",
       "      <td>7.644919</td>\n",
       "      <td>6.966024</td>\n",
       "      <td>59</td>\n",
       "      <td>98166.0</td>\n",
       "      <td>47.4336</td>\n",
       "      <td>5.933997</td>\n",
       "      <td>8.029433</td>\n",
       "      <td>9.873028</td>\n",
       "      <td>0</td>\n",
       "      <td>6.214608</td>\n",
       "    </tr>\n",
       "  </tbody>\n",
       "</table>\n",
       "</div>"
      ],
      "text/plain": [
       "    No of Bedrooms  No of Bathrooms  Flat Area (in Sqft)  Lot Area (in Sqft)  \\\n",
       "15        6.222576         6.220590               2950.0            8.612503   \n",
       "21        6.220590         6.220093               3050.0           10.722540   \n",
       "49        6.220590         6.219596               2753.0           11.089882   \n",
       "58        6.224558         6.221087               3250.0            9.605216   \n",
       "60        6.220590         6.219098               2150.0            9.986679   \n",
       "\n",
       "    No of Floors  Waterfront View No of Times Visited  Condition of the House  \\\n",
       "15      6.218600                0                   3                       3   \n",
       "21      6.216606                0                   4                       3   \n",
       "49      6.216606                1                   2                       5   \n",
       "58      6.218600                0                   4                       4   \n",
       "60      6.216606                0                   3                       4   \n",
       "\n",
       "    Overall Grade  Area of the House from Basement (in Sqft)  \\\n",
       "15              9                                   7.816014   \n",
       "21              9                                   7.948032   \n",
       "49              9                                   7.887959   \n",
       "58              8                                   8.229511   \n",
       "60              8                                   7.644919   \n",
       "\n",
       "    Basement Area (in Sqft)  Age of House (in Years)  Zipcode  Latitude  \\\n",
       "15                 7.293018                       39  98126.0   47.5714   \n",
       "21                 7.106606                       50  98040.0   47.5316   \n",
       "49                 6.992096                       65  98070.0   47.4041   \n",
       "58                 6.214608                       50  98008.0   47.5880   \n",
       "60                 6.966024                       59  98166.0   47.4336   \n",
       "\n",
       "    Longitude  Living Area after Renovation (in Sqft)  \\\n",
       "15   5.933902                                7.878534   \n",
       "21   5.934278                                8.435983   \n",
       "49   5.933700                                8.064636   \n",
       "58   5.934587                                8.149024   \n",
       "60   5.933997                                8.029433   \n",
       "\n",
       "    Lot Area after Renovation (in Sqft)  Ever Renovated  \\\n",
       "15                             8.411833               0   \n",
       "21                             9.944438               0   \n",
       "49                            11.198393               0   \n",
       "58                             9.353921               0   \n",
       "60                             9.873028               0   \n",
       "\n",
       "    Years Since Renovation  \n",
       "15                6.214608  \n",
       "21                6.214608  \n",
       "49                6.214608  \n",
       "58                6.214608  \n",
       "60                6.214608  "
      ]
     },
     "execution_count": 50,
     "metadata": {},
     "output_type": "execute_result"
    }
   ],
   "source": [
    "X[\"Waterfront View\"] = X[\"Waterfront View\"].map({    'No':0,\n",
    "   'Yes':1\n",
    "})\n",
    "\n",
    "\n",
    "X['Condition of the House'] = X['Condition of the House'].map({'Bad':1,\n",
    "                                                                     'Okay':2,\n",
    "                                                                     'Fair':3,\n",
    "                                                                     'Good':4,\n",
    "                                                                     'Excellent':5\n",
    "})\n",
    "\n",
    "X['Ever Renovated'] = X['Ever Renovated'].map({\n",
    "    'No':0,\n",
    "    'Yes':1\n",
    "})\n",
    "\n",
    "X.head()"
   ]
  },
  {
   "cell_type": "code",
   "execution_count": 51,
   "metadata": {
    "colab": {
     "base_uri": "https://localhost:8080/",
     "height": 326
    },
    "colab_type": "code",
    "executionInfo": {
     "elapsed": 14282,
     "status": "ok",
     "timestamp": 1592370780581,
     "user": {
      "displayName": "Sharoon Saxena",
      "photoUrl": "https://lh3.googleusercontent.com/a-/AOh14GjyKz9rNCPkHi6QK8TjrjBFlTtaI9ngf0hIwgAl=s64",
      "userId": "01167841530696023488"
     },
     "user_tz": -330
    },
    "id": "DdK6-a5wkn0q",
    "outputId": "60c96c03-3439-4f5a-e42e-1043cb3f4b22"
   },
   "outputs": [
    {
     "data": {
      "text/html": [
       "<div>\n",
       "<style scoped>\n",
       "    .dataframe tbody tr th:only-of-type {\n",
       "        vertical-align: middle;\n",
       "    }\n",
       "\n",
       "    .dataframe tbody tr th {\n",
       "        vertical-align: top;\n",
       "    }\n",
       "\n",
       "    .dataframe thead th {\n",
       "        text-align: right;\n",
       "    }\n",
       "</style>\n",
       "<table border=\"1\" class=\"dataframe\">\n",
       "  <thead>\n",
       "    <tr style=\"text-align: right;\">\n",
       "      <th></th>\n",
       "      <th>No of Bedrooms</th>\n",
       "      <th>No of Bathrooms</th>\n",
       "      <th>Flat Area (in Sqft)</th>\n",
       "      <th>Lot Area (in Sqft)</th>\n",
       "      <th>No of Floors</th>\n",
       "      <th>Waterfront View</th>\n",
       "      <th>No of Times Visited</th>\n",
       "      <th>Condition of the House</th>\n",
       "      <th>Overall Grade</th>\n",
       "      <th>Area of the House from Basement (in Sqft)</th>\n",
       "      <th>Basement Area (in Sqft)</th>\n",
       "      <th>Age of House (in Years)</th>\n",
       "      <th>Zipcode</th>\n",
       "      <th>Latitude</th>\n",
       "      <th>Longitude</th>\n",
       "      <th>Living Area after Renovation (in Sqft)</th>\n",
       "      <th>Lot Area after Renovation (in Sqft)</th>\n",
       "      <th>Ever Renovated</th>\n",
       "      <th>Years Since Renovation</th>\n",
       "    </tr>\n",
       "  </thead>\n",
       "  <tbody>\n",
       "    <tr>\n",
       "      <th>0</th>\n",
       "      <td>0.406644</td>\n",
       "      <td>0.514205</td>\n",
       "      <td>0.094025</td>\n",
       "      <td>-0.808761</td>\n",
       "      <td>0.868848</td>\n",
       "      <td>-0.288307</td>\n",
       "      <td>0.668115</td>\n",
       "      <td>-0.726703</td>\n",
       "      <td>0.524488</td>\n",
       "      <td>-0.031485</td>\n",
       "      <td>0.692922</td>\n",
       "      <td>-0.469642</td>\n",
       "      <td>0.546499</td>\n",
       "      <td>0.060034</td>\n",
       "      <td>-0.869726</td>\n",
       "      <td>-0.447078</td>\n",
       "      <td>-1.084048</td>\n",
       "      <td>-0.333856</td>\n",
       "      <td>-0.283572</td>\n",
       "    </tr>\n",
       "    <tr>\n",
       "      <th>1</th>\n",
       "      <td>-0.599336</td>\n",
       "      <td>0.242388</td>\n",
       "      <td>0.174779</td>\n",
       "      <td>1.483717</td>\n",
       "      <td>-0.954506</td>\n",
       "      <td>-0.288307</td>\n",
       "      <td>1.753035</td>\n",
       "      <td>-0.726703</td>\n",
       "      <td>0.524488</td>\n",
       "      <td>0.344732</td>\n",
       "      <td>0.354902</td>\n",
       "      <td>-0.089318</td>\n",
       "      <td>-0.865842</td>\n",
       "      <td>-0.265145</td>\n",
       "      <td>0.130791</td>\n",
       "      <td>1.746295</td>\n",
       "      <td>0.808483</td>\n",
       "      <td>-0.333856</td>\n",
       "      <td>-0.283572</td>\n",
       "    </tr>\n",
       "    <tr>\n",
       "      <th>2</th>\n",
       "      <td>-0.599336</td>\n",
       "      <td>-0.029565</td>\n",
       "      <td>-0.065061</td>\n",
       "      <td>1.882820</td>\n",
       "      <td>-0.954506</td>\n",
       "      <td>3.468526</td>\n",
       "      <td>-0.416805</td>\n",
       "      <td>2.166486</td>\n",
       "      <td>0.524488</td>\n",
       "      <td>0.173540</td>\n",
       "      <td>0.147262</td>\n",
       "      <td>0.429304</td>\n",
       "      <td>-0.373165</td>\n",
       "      <td>-1.306860</td>\n",
       "      <td>-1.405368</td>\n",
       "      <td>0.285171</td>\n",
       "      <td>2.356926</td>\n",
       "      <td>-0.333856</td>\n",
       "      <td>-0.283572</td>\n",
       "    </tr>\n",
       "    <tr>\n",
       "      <th>3</th>\n",
       "      <td>1.410629</td>\n",
       "      <td>0.785887</td>\n",
       "      <td>0.336287</td>\n",
       "      <td>0.269786</td>\n",
       "      <td>0.868848</td>\n",
       "      <td>-0.288307</td>\n",
       "      <td>1.753035</td>\n",
       "      <td>0.719892</td>\n",
       "      <td>-0.272944</td>\n",
       "      <td>1.146873</td>\n",
       "      <td>-1.262554</td>\n",
       "      <td>-0.089318</td>\n",
       "      <td>-1.391364</td>\n",
       "      <td>0.195661</td>\n",
       "      <td>0.954878</td>\n",
       "      <td>0.617207</td>\n",
       "      <td>0.079286</td>\n",
       "      <td>-0.333856</td>\n",
       "      <td>-0.283572</td>\n",
       "    </tr>\n",
       "    <tr>\n",
       "      <th>4</th>\n",
       "      <td>-0.599336</td>\n",
       "      <td>-0.301653</td>\n",
       "      <td>-0.552009</td>\n",
       "      <td>0.684231</td>\n",
       "      <td>-0.954506</td>\n",
       "      <td>-0.288307</td>\n",
       "      <td>0.668115</td>\n",
       "      <td>0.719892</td>\n",
       "      <td>-0.272944</td>\n",
       "      <td>-0.519059</td>\n",
       "      <td>0.099986</td>\n",
       "      <td>0.221855</td>\n",
       "      <td>1.203401</td>\n",
       "      <td>-1.065836</td>\n",
       "      <td>-0.616038</td>\n",
       "      <td>0.146657</td>\n",
       "      <td>0.720304</td>\n",
       "      <td>-0.333856</td>\n",
       "      <td>-0.283572</td>\n",
       "    </tr>\n",
       "  </tbody>\n",
       "</table>\n",
       "</div>"
      ],
      "text/plain": [
       "   No of Bedrooms  No of Bathrooms  Flat Area (in Sqft)  Lot Area (in Sqft)  \\\n",
       "0        0.406644         0.514205             0.094025           -0.808761   \n",
       "1       -0.599336         0.242388             0.174779            1.483717   \n",
       "2       -0.599336        -0.029565            -0.065061            1.882820   \n",
       "3        1.410629         0.785887             0.336287            0.269786   \n",
       "4       -0.599336        -0.301653            -0.552009            0.684231   \n",
       "\n",
       "   No of Floors  Waterfront View  No of Times Visited  Condition of the House  \\\n",
       "0      0.868848        -0.288307             0.668115               -0.726703   \n",
       "1     -0.954506        -0.288307             1.753035               -0.726703   \n",
       "2     -0.954506         3.468526            -0.416805                2.166486   \n",
       "3      0.868848        -0.288307             1.753035                0.719892   \n",
       "4     -0.954506        -0.288307             0.668115                0.719892   \n",
       "\n",
       "   Overall Grade  Area of the House from Basement (in Sqft)  \\\n",
       "0       0.524488                                  -0.031485   \n",
       "1       0.524488                                   0.344732   \n",
       "2       0.524488                                   0.173540   \n",
       "3      -0.272944                                   1.146873   \n",
       "4      -0.272944                                  -0.519059   \n",
       "\n",
       "   Basement Area (in Sqft)  Age of House (in Years)   Zipcode  Latitude  \\\n",
       "0                 0.692922                -0.469642  0.546499  0.060034   \n",
       "1                 0.354902                -0.089318 -0.865842 -0.265145   \n",
       "2                 0.147262                 0.429304 -0.373165 -1.306860   \n",
       "3                -1.262554                -0.089318 -1.391364  0.195661   \n",
       "4                 0.099986                 0.221855  1.203401 -1.065836   \n",
       "\n",
       "   Longitude  Living Area after Renovation (in Sqft)  \\\n",
       "0  -0.869726                               -0.447078   \n",
       "1   0.130791                                1.746295   \n",
       "2  -1.405368                                0.285171   \n",
       "3   0.954878                                0.617207   \n",
       "4  -0.616038                                0.146657   \n",
       "\n",
       "   Lot Area after Renovation (in Sqft)  Ever Renovated  Years Since Renovation  \n",
       "0                            -1.084048       -0.333856               -0.283572  \n",
       "1                             0.808483       -0.333856               -0.283572  \n",
       "2                             2.356926       -0.333856               -0.283572  \n",
       "3                             0.079286       -0.333856               -0.283572  \n",
       "4                             0.720304       -0.333856               -0.283572  "
      ]
     },
     "execution_count": 51,
     "metadata": {},
     "output_type": "execute_result"
    }
   ],
   "source": [
    "from sklearn.preprocessing import StandardScaler\n",
    "scaler = StandardScaler()\n",
    "Y = data['Sale Price']\n",
    "X1 = scaler.fit_transform(X)\n",
    "X = pd.DataFrame(data = X1, columns = X.columns)\n",
    "X.head()"
   ]
  },
  {
   "cell_type": "markdown",
   "metadata": {
    "colab_type": "text",
    "id": "7qsbDI_00UrF"
   },
   "source": [
    "## Checking and Removing Multicollinearity"
   ]
  },
  {
   "cell_type": "code",
   "execution_count": 52,
   "metadata": {
    "colab": {
     "base_uri": "https://localhost:8080/",
     "height": 1000
    },
    "colab_type": "code",
    "executionInfo": {
     "elapsed": 14269,
     "status": "ok",
     "timestamp": 1592370780582,
     "user": {
      "displayName": "Sharoon Saxena",
      "photoUrl": "https://lh3.googleusercontent.com/a-/AOh14GjyKz9rNCPkHi6QK8TjrjBFlTtaI9ngf0hIwgAl=s64",
      "userId": "01167841530696023488"
     },
     "user_tz": -330
    },
    "id": "dXMBUdbs0UrI",
    "outputId": "54c93988-e5f1-4a8c-af8a-c48776abbc88"
   },
   "outputs": [
    {
     "data": {
      "text/html": [
       "<div>\n",
       "<style scoped>\n",
       "    .dataframe tbody tr th:only-of-type {\n",
       "        vertical-align: middle;\n",
       "    }\n",
       "\n",
       "    .dataframe tbody tr th {\n",
       "        vertical-align: top;\n",
       "    }\n",
       "\n",
       "    .dataframe thead th {\n",
       "        text-align: right;\n",
       "    }\n",
       "</style>\n",
       "<table border=\"1\" class=\"dataframe\">\n",
       "  <thead>\n",
       "    <tr style=\"text-align: right;\">\n",
       "      <th></th>\n",
       "      <th>No of Bedrooms</th>\n",
       "      <th>No of Bathrooms</th>\n",
       "      <th>Flat Area (in Sqft)</th>\n",
       "      <th>Lot Area (in Sqft)</th>\n",
       "      <th>No of Floors</th>\n",
       "      <th>Waterfront View</th>\n",
       "      <th>No of Times Visited</th>\n",
       "      <th>Condition of the House</th>\n",
       "      <th>Overall Grade</th>\n",
       "      <th>Area of the House from Basement (in Sqft)</th>\n",
       "      <th>Basement Area (in Sqft)</th>\n",
       "      <th>Age of House (in Years)</th>\n",
       "      <th>Zipcode</th>\n",
       "      <th>Latitude</th>\n",
       "      <th>Longitude</th>\n",
       "      <th>Living Area after Renovation (in Sqft)</th>\n",
       "      <th>Lot Area after Renovation (in Sqft)</th>\n",
       "      <th>Ever Renovated</th>\n",
       "      <th>Years Since Renovation</th>\n",
       "    </tr>\n",
       "  </thead>\n",
       "  <tbody>\n",
       "    <tr>\n",
       "      <th>No of Bedrooms</th>\n",
       "      <td>1.000000</td>\n",
       "      <td>0.561738</td>\n",
       "      <td>0.551323</td>\n",
       "      <td>0.095643</td>\n",
       "      <td>0.158994</td>\n",
       "      <td>-0.085878</td>\n",
       "      <td>0.042205</td>\n",
       "      <td>-0.014730</td>\n",
       "      <td>0.326521</td>\n",
       "      <td>0.460759</td>\n",
       "      <td>0.362730</td>\n",
       "      <td>-0.189253</td>\n",
       "      <td>-0.138767</td>\n",
       "      <td>0.058851</td>\n",
       "      <td>0.144605</td>\n",
       "      <td>0.368516</td>\n",
       "      <td>0.068314</td>\n",
       "      <td>0.009343</td>\n",
       "      <td>-0.004171</td>\n",
       "    </tr>\n",
       "    <tr>\n",
       "      <th>No of Bathrooms</th>\n",
       "      <td>0.561738</td>\n",
       "      <td>1.000000</td>\n",
       "      <td>0.789559</td>\n",
       "      <td>0.155563</td>\n",
       "      <td>0.445689</td>\n",
       "      <td>0.046909</td>\n",
       "      <td>0.167627</td>\n",
       "      <td>-0.096720</td>\n",
       "      <td>0.527897</td>\n",
       "      <td>0.724680</td>\n",
       "      <td>0.342114</td>\n",
       "      <td>-0.430769</td>\n",
       "      <td>-0.196656</td>\n",
       "      <td>0.100610</td>\n",
       "      <td>0.191780</td>\n",
       "      <td>0.495722</td>\n",
       "      <td>0.130730</td>\n",
       "      <td>0.084855</td>\n",
       "      <td>0.043296</td>\n",
       "    </tr>\n",
       "    <tr>\n",
       "      <th>Flat Area (in Sqft)</th>\n",
       "      <td>0.551323</td>\n",
       "      <td>0.789559</td>\n",
       "      <td>1.000000</td>\n",
       "      <td>0.277965</td>\n",
       "      <td>0.363156</td>\n",
       "      <td>0.079187</td>\n",
       "      <td>0.211449</td>\n",
       "      <td>-0.070918</td>\n",
       "      <td>0.579328</td>\n",
       "      <td>0.844901</td>\n",
       "      <td>0.476289</td>\n",
       "      <td>-0.375349</td>\n",
       "      <td>-0.231030</td>\n",
       "      <td>0.110293</td>\n",
       "      <td>0.213613</td>\n",
       "      <td>0.643606</td>\n",
       "      <td>0.250417</td>\n",
       "      <td>0.062953</td>\n",
       "      <td>0.027058</td>\n",
       "    </tr>\n",
       "    <tr>\n",
       "      <th>Lot Area (in Sqft)</th>\n",
       "      <td>0.095643</td>\n",
       "      <td>0.155563</td>\n",
       "      <td>0.277965</td>\n",
       "      <td>1.000000</td>\n",
       "      <td>-0.092774</td>\n",
       "      <td>0.136284</td>\n",
       "      <td>0.144286</td>\n",
       "      <td>0.019186</td>\n",
       "      <td>0.115192</td>\n",
       "      <td>0.297229</td>\n",
       "      <td>-0.011595</td>\n",
       "      <td>-0.177122</td>\n",
       "      <td>-0.326060</td>\n",
       "      <td>-0.348105</td>\n",
       "      <td>0.409050</td>\n",
       "      <td>0.260929</td>\n",
       "      <td>0.904830</td>\n",
       "      <td>-0.027803</td>\n",
       "      <td>-0.002100</td>\n",
       "    </tr>\n",
       "    <tr>\n",
       "      <th>No of Floors</th>\n",
       "      <td>0.158994</td>\n",
       "      <td>0.445689</td>\n",
       "      <td>0.363156</td>\n",
       "      <td>-0.092774</td>\n",
       "      <td>1.000000</td>\n",
       "      <td>0.061789</td>\n",
       "      <td>0.107334</td>\n",
       "      <td>-0.180756</td>\n",
       "      <td>0.398252</td>\n",
       "      <td>0.590306</td>\n",
       "      <td>-0.218371</td>\n",
       "      <td>-0.310153</td>\n",
       "      <td>-0.057011</td>\n",
       "      <td>0.094647</td>\n",
       "      <td>0.091608</td>\n",
       "      <td>0.169291</td>\n",
       "      <td>-0.079682</td>\n",
       "      <td>0.094307</td>\n",
       "      <td>0.084835</td>\n",
       "    </tr>\n",
       "    <tr>\n",
       "      <th>Waterfront View</th>\n",
       "      <td>-0.085878</td>\n",
       "      <td>0.046909</td>\n",
       "      <td>0.079187</td>\n",
       "      <td>0.136284</td>\n",
       "      <td>0.061789</td>\n",
       "      <td>1.000000</td>\n",
       "      <td>0.432492</td>\n",
       "      <td>0.013091</td>\n",
       "      <td>0.039787</td>\n",
       "      <td>0.074250</td>\n",
       "      <td>-0.011199</td>\n",
       "      <td>0.032162</td>\n",
       "      <td>0.018015</td>\n",
       "      <td>-0.062865</td>\n",
       "      <td>-0.061048</td>\n",
       "      <td>0.035677</td>\n",
       "      <td>0.170210</td>\n",
       "      <td>0.151062</td>\n",
       "      <td>0.184377</td>\n",
       "    </tr>\n",
       "    <tr>\n",
       "      <th>No of Times Visited</th>\n",
       "      <td>0.042205</td>\n",
       "      <td>0.167627</td>\n",
       "      <td>0.211449</td>\n",
       "      <td>0.144286</td>\n",
       "      <td>0.107334</td>\n",
       "      <td>0.432492</td>\n",
       "      <td>1.000000</td>\n",
       "      <td>0.018531</td>\n",
       "      <td>0.185209</td>\n",
       "      <td>0.183676</td>\n",
       "      <td>0.095564</td>\n",
       "      <td>-0.040672</td>\n",
       "      <td>0.002578</td>\n",
       "      <td>-0.025565</td>\n",
       "      <td>0.027936</td>\n",
       "      <td>0.198486</td>\n",
       "      <td>0.150574</td>\n",
       "      <td>0.090415</td>\n",
       "      <td>0.092504</td>\n",
       "    </tr>\n",
       "    <tr>\n",
       "      <th>Condition of the House</th>\n",
       "      <td>-0.014730</td>\n",
       "      <td>-0.096720</td>\n",
       "      <td>-0.070918</td>\n",
       "      <td>0.019186</td>\n",
       "      <td>-0.180756</td>\n",
       "      <td>0.013091</td>\n",
       "      <td>0.018531</td>\n",
       "      <td>1.000000</td>\n",
       "      <td>-0.127202</td>\n",
       "      <td>-0.157839</td>\n",
       "      <td>0.136232</td>\n",
       "      <td>0.351302</td>\n",
       "      <td>0.023644</td>\n",
       "      <td>-0.036080</td>\n",
       "      <td>-0.120679</td>\n",
       "      <td>-0.036314</td>\n",
       "      <td>0.015865</td>\n",
       "      <td>-0.106571</td>\n",
       "      <td>-0.032633</td>\n",
       "    </tr>\n",
       "    <tr>\n",
       "      <th>Overall Grade</th>\n",
       "      <td>0.326521</td>\n",
       "      <td>0.527897</td>\n",
       "      <td>0.579328</td>\n",
       "      <td>0.115192</td>\n",
       "      <td>0.398252</td>\n",
       "      <td>0.039787</td>\n",
       "      <td>0.185209</td>\n",
       "      <td>-0.127202</td>\n",
       "      <td>1.000000</td>\n",
       "      <td>0.646213</td>\n",
       "      <td>0.206355</td>\n",
       "      <td>-0.438361</td>\n",
       "      <td>-0.212724</td>\n",
       "      <td>0.136582</td>\n",
       "      <td>0.165586</td>\n",
       "      <td>0.574801</td>\n",
       "      <td>0.104233</td>\n",
       "      <td>0.011367</td>\n",
       "      <td>-0.043232</td>\n",
       "    </tr>\n",
       "    <tr>\n",
       "      <th>Area of the House from Basement (in Sqft)</th>\n",
       "      <td>0.460759</td>\n",
       "      <td>0.724680</td>\n",
       "      <td>0.844901</td>\n",
       "      <td>0.297229</td>\n",
       "      <td>0.590306</td>\n",
       "      <td>0.074250</td>\n",
       "      <td>0.183676</td>\n",
       "      <td>-0.157839</td>\n",
       "      <td>0.646213</td>\n",
       "      <td>1.000000</td>\n",
       "      <td>0.008088</td>\n",
       "      <td>-0.446863</td>\n",
       "      <td>-0.253136</td>\n",
       "      <td>0.050783</td>\n",
       "      <td>0.291129</td>\n",
       "      <td>0.605720</td>\n",
       "      <td>0.272744</td>\n",
       "      <td>0.069759</td>\n",
       "      <td>0.053235</td>\n",
       "    </tr>\n",
       "    <tr>\n",
       "      <th>Basement Area (in Sqft)</th>\n",
       "      <td>0.362730</td>\n",
       "      <td>0.342114</td>\n",
       "      <td>0.476289</td>\n",
       "      <td>-0.011595</td>\n",
       "      <td>-0.218371</td>\n",
       "      <td>-0.011199</td>\n",
       "      <td>0.095564</td>\n",
       "      <td>0.136232</td>\n",
       "      <td>0.206355</td>\n",
       "      <td>0.008088</td>\n",
       "      <td>1.000000</td>\n",
       "      <td>-0.019726</td>\n",
       "      <td>-0.000361</td>\n",
       "      <td>0.145480</td>\n",
       "      <td>-0.105695</td>\n",
       "      <td>0.284916</td>\n",
       "      <td>-0.027091</td>\n",
       "      <td>0.035260</td>\n",
       "      <td>-0.011291</td>\n",
       "    </tr>\n",
       "    <tr>\n",
       "      <th>Age of House (in Years)</th>\n",
       "      <td>-0.189253</td>\n",
       "      <td>-0.430769</td>\n",
       "      <td>-0.375349</td>\n",
       "      <td>-0.177122</td>\n",
       "      <td>-0.310153</td>\n",
       "      <td>0.032162</td>\n",
       "      <td>-0.040672</td>\n",
       "      <td>0.351302</td>\n",
       "      <td>-0.438361</td>\n",
       "      <td>-0.446863</td>\n",
       "      <td>-0.019726</td>\n",
       "      <td>1.000000</td>\n",
       "      <td>0.364690</td>\n",
       "      <td>0.118721</td>\n",
       "      <td>-0.415004</td>\n",
       "      <td>-0.302533</td>\n",
       "      <td>-0.191311</td>\n",
       "      <td>0.274906</td>\n",
       "      <td>0.263097</td>\n",
       "    </tr>\n",
       "    <tr>\n",
       "      <th>Zipcode</th>\n",
       "      <td>-0.138767</td>\n",
       "      <td>-0.196656</td>\n",
       "      <td>-0.231030</td>\n",
       "      <td>-0.326060</td>\n",
       "      <td>-0.057011</td>\n",
       "      <td>0.018015</td>\n",
       "      <td>0.002578</td>\n",
       "      <td>0.023644</td>\n",
       "      <td>-0.212724</td>\n",
       "      <td>-0.253136</td>\n",
       "      <td>-0.000361</td>\n",
       "      <td>0.364690</td>\n",
       "      <td>1.000000</td>\n",
       "      <td>0.160725</td>\n",
       "      <td>-0.589701</td>\n",
       "      <td>-0.314668</td>\n",
       "      <td>-0.329508</td>\n",
       "      <td>0.060750</td>\n",
       "      <td>0.046022</td>\n",
       "    </tr>\n",
       "    <tr>\n",
       "      <th>Latitude</th>\n",
       "      <td>0.058851</td>\n",
       "      <td>0.100610</td>\n",
       "      <td>0.110293</td>\n",
       "      <td>-0.348105</td>\n",
       "      <td>0.094647</td>\n",
       "      <td>-0.062865</td>\n",
       "      <td>-0.025565</td>\n",
       "      <td>-0.036080</td>\n",
       "      <td>0.136582</td>\n",
       "      <td>0.050783</td>\n",
       "      <td>0.145480</td>\n",
       "      <td>0.118721</td>\n",
       "      <td>0.160725</td>\n",
       "      <td>1.000000</td>\n",
       "      <td>-0.183897</td>\n",
       "      <td>0.141123</td>\n",
       "      <td>-0.335927</td>\n",
       "      <td>0.066000</td>\n",
       "      <td>0.040726</td>\n",
       "    </tr>\n",
       "    <tr>\n",
       "      <th>Longitude</th>\n",
       "      <td>0.144605</td>\n",
       "      <td>0.191780</td>\n",
       "      <td>0.213613</td>\n",
       "      <td>0.409050</td>\n",
       "      <td>0.091608</td>\n",
       "      <td>-0.061048</td>\n",
       "      <td>0.027936</td>\n",
       "      <td>-0.120679</td>\n",
       "      <td>0.165586</td>\n",
       "      <td>0.291129</td>\n",
       "      <td>-0.105695</td>\n",
       "      <td>-0.415004</td>\n",
       "      <td>-0.589701</td>\n",
       "      <td>-0.183897</td>\n",
       "      <td>1.000000</td>\n",
       "      <td>0.289779</td>\n",
       "      <td>0.408515</td>\n",
       "      <td>-0.099992</td>\n",
       "      <td>-0.082062</td>\n",
       "    </tr>\n",
       "    <tr>\n",
       "      <th>Living Area after Renovation (in Sqft)</th>\n",
       "      <td>0.368516</td>\n",
       "      <td>0.495722</td>\n",
       "      <td>0.643606</td>\n",
       "      <td>0.260929</td>\n",
       "      <td>0.169291</td>\n",
       "      <td>0.035677</td>\n",
       "      <td>0.198486</td>\n",
       "      <td>-0.036314</td>\n",
       "      <td>0.574801</td>\n",
       "      <td>0.605720</td>\n",
       "      <td>0.284916</td>\n",
       "      <td>-0.302533</td>\n",
       "      <td>-0.314668</td>\n",
       "      <td>0.141123</td>\n",
       "      <td>0.289779</td>\n",
       "      <td>1.000000</td>\n",
       "      <td>0.281183</td>\n",
       "      <td>0.003944</td>\n",
       "      <td>-0.002088</td>\n",
       "    </tr>\n",
       "    <tr>\n",
       "      <th>Lot Area after Renovation (in Sqft)</th>\n",
       "      <td>0.068314</td>\n",
       "      <td>0.130730</td>\n",
       "      <td>0.250417</td>\n",
       "      <td>0.904830</td>\n",
       "      <td>-0.079682</td>\n",
       "      <td>0.170210</td>\n",
       "      <td>0.150574</td>\n",
       "      <td>0.015865</td>\n",
       "      <td>0.104233</td>\n",
       "      <td>0.272744</td>\n",
       "      <td>-0.027091</td>\n",
       "      <td>-0.191311</td>\n",
       "      <td>-0.329508</td>\n",
       "      <td>-0.335927</td>\n",
       "      <td>0.408515</td>\n",
       "      <td>0.281183</td>\n",
       "      <td>1.000000</td>\n",
       "      <td>-0.000534</td>\n",
       "      <td>0.024083</td>\n",
       "    </tr>\n",
       "    <tr>\n",
       "      <th>Ever Renovated</th>\n",
       "      <td>0.009343</td>\n",
       "      <td>0.084855</td>\n",
       "      <td>0.062953</td>\n",
       "      <td>-0.027803</td>\n",
       "      <td>0.094307</td>\n",
       "      <td>0.151062</td>\n",
       "      <td>0.090415</td>\n",
       "      <td>-0.106571</td>\n",
       "      <td>0.011367</td>\n",
       "      <td>0.069759</td>\n",
       "      <td>0.035260</td>\n",
       "      <td>0.274906</td>\n",
       "      <td>0.060750</td>\n",
       "      <td>0.066000</td>\n",
       "      <td>-0.099992</td>\n",
       "      <td>0.003944</td>\n",
       "      <td>-0.000534</td>\n",
       "      <td>1.000000</td>\n",
       "      <td>0.849385</td>\n",
       "    </tr>\n",
       "    <tr>\n",
       "      <th>Years Since Renovation</th>\n",
       "      <td>-0.004171</td>\n",
       "      <td>0.043296</td>\n",
       "      <td>0.027058</td>\n",
       "      <td>-0.002100</td>\n",
       "      <td>0.084835</td>\n",
       "      <td>0.184377</td>\n",
       "      <td>0.092504</td>\n",
       "      <td>-0.032633</td>\n",
       "      <td>-0.043232</td>\n",
       "      <td>0.053235</td>\n",
       "      <td>-0.011291</td>\n",
       "      <td>0.263097</td>\n",
       "      <td>0.046022</td>\n",
       "      <td>0.040726</td>\n",
       "      <td>-0.082062</td>\n",
       "      <td>-0.002088</td>\n",
       "      <td>0.024083</td>\n",
       "      <td>0.849385</td>\n",
       "      <td>1.000000</td>\n",
       "    </tr>\n",
       "  </tbody>\n",
       "</table>\n",
       "</div>"
      ],
      "text/plain": [
       "                                           No of Bedrooms  No of Bathrooms  \\\n",
       "No of Bedrooms                                   1.000000         0.561738   \n",
       "No of Bathrooms                                  0.561738         1.000000   \n",
       "Flat Area (in Sqft)                              0.551323         0.789559   \n",
       "Lot Area (in Sqft)                               0.095643         0.155563   \n",
       "No of Floors                                     0.158994         0.445689   \n",
       "Waterfront View                                 -0.085878         0.046909   \n",
       "No of Times Visited                              0.042205         0.167627   \n",
       "Condition of the House                          -0.014730        -0.096720   \n",
       "Overall Grade                                    0.326521         0.527897   \n",
       "Area of the House from Basement (in Sqft)        0.460759         0.724680   \n",
       "Basement Area (in Sqft)                          0.362730         0.342114   \n",
       "Age of House (in Years)                         -0.189253        -0.430769   \n",
       "Zipcode                                         -0.138767        -0.196656   \n",
       "Latitude                                         0.058851         0.100610   \n",
       "Longitude                                        0.144605         0.191780   \n",
       "Living Area after Renovation (in Sqft)           0.368516         0.495722   \n",
       "Lot Area after Renovation (in Sqft)              0.068314         0.130730   \n",
       "Ever Renovated                                   0.009343         0.084855   \n",
       "Years Since Renovation                          -0.004171         0.043296   \n",
       "\n",
       "                                           Flat Area (in Sqft)  \\\n",
       "No of Bedrooms                                        0.551323   \n",
       "No of Bathrooms                                       0.789559   \n",
       "Flat Area (in Sqft)                                   1.000000   \n",
       "Lot Area (in Sqft)                                    0.277965   \n",
       "No of Floors                                          0.363156   \n",
       "Waterfront View                                       0.079187   \n",
       "No of Times Visited                                   0.211449   \n",
       "Condition of the House                               -0.070918   \n",
       "Overall Grade                                         0.579328   \n",
       "Area of the House from Basement (in Sqft)             0.844901   \n",
       "Basement Area (in Sqft)                               0.476289   \n",
       "Age of House (in Years)                              -0.375349   \n",
       "Zipcode                                              -0.231030   \n",
       "Latitude                                              0.110293   \n",
       "Longitude                                             0.213613   \n",
       "Living Area after Renovation (in Sqft)                0.643606   \n",
       "Lot Area after Renovation (in Sqft)                   0.250417   \n",
       "Ever Renovated                                        0.062953   \n",
       "Years Since Renovation                                0.027058   \n",
       "\n",
       "                                           Lot Area (in Sqft)  No of Floors  \\\n",
       "No of Bedrooms                                       0.095643      0.158994   \n",
       "No of Bathrooms                                      0.155563      0.445689   \n",
       "Flat Area (in Sqft)                                  0.277965      0.363156   \n",
       "Lot Area (in Sqft)                                   1.000000     -0.092774   \n",
       "No of Floors                                        -0.092774      1.000000   \n",
       "Waterfront View                                      0.136284      0.061789   \n",
       "No of Times Visited                                  0.144286      0.107334   \n",
       "Condition of the House                               0.019186     -0.180756   \n",
       "Overall Grade                                        0.115192      0.398252   \n",
       "Area of the House from Basement (in Sqft)            0.297229      0.590306   \n",
       "Basement Area (in Sqft)                             -0.011595     -0.218371   \n",
       "Age of House (in Years)                             -0.177122     -0.310153   \n",
       "Zipcode                                             -0.326060     -0.057011   \n",
       "Latitude                                            -0.348105      0.094647   \n",
       "Longitude                                            0.409050      0.091608   \n",
       "Living Area after Renovation (in Sqft)               0.260929      0.169291   \n",
       "Lot Area after Renovation (in Sqft)                  0.904830     -0.079682   \n",
       "Ever Renovated                                      -0.027803      0.094307   \n",
       "Years Since Renovation                              -0.002100      0.084835   \n",
       "\n",
       "                                           Waterfront View  \\\n",
       "No of Bedrooms                                   -0.085878   \n",
       "No of Bathrooms                                   0.046909   \n",
       "Flat Area (in Sqft)                               0.079187   \n",
       "Lot Area (in Sqft)                                0.136284   \n",
       "No of Floors                                      0.061789   \n",
       "Waterfront View                                   1.000000   \n",
       "No of Times Visited                               0.432492   \n",
       "Condition of the House                            0.013091   \n",
       "Overall Grade                                     0.039787   \n",
       "Area of the House from Basement (in Sqft)         0.074250   \n",
       "Basement Area (in Sqft)                          -0.011199   \n",
       "Age of House (in Years)                           0.032162   \n",
       "Zipcode                                           0.018015   \n",
       "Latitude                                         -0.062865   \n",
       "Longitude                                        -0.061048   \n",
       "Living Area after Renovation (in Sqft)            0.035677   \n",
       "Lot Area after Renovation (in Sqft)               0.170210   \n",
       "Ever Renovated                                    0.151062   \n",
       "Years Since Renovation                            0.184377   \n",
       "\n",
       "                                           No of Times Visited  \\\n",
       "No of Bedrooms                                        0.042205   \n",
       "No of Bathrooms                                       0.167627   \n",
       "Flat Area (in Sqft)                                   0.211449   \n",
       "Lot Area (in Sqft)                                    0.144286   \n",
       "No of Floors                                          0.107334   \n",
       "Waterfront View                                       0.432492   \n",
       "No of Times Visited                                   1.000000   \n",
       "Condition of the House                                0.018531   \n",
       "Overall Grade                                         0.185209   \n",
       "Area of the House from Basement (in Sqft)             0.183676   \n",
       "Basement Area (in Sqft)                               0.095564   \n",
       "Age of House (in Years)                              -0.040672   \n",
       "Zipcode                                               0.002578   \n",
       "Latitude                                             -0.025565   \n",
       "Longitude                                             0.027936   \n",
       "Living Area after Renovation (in Sqft)                0.198486   \n",
       "Lot Area after Renovation (in Sqft)                   0.150574   \n",
       "Ever Renovated                                        0.090415   \n",
       "Years Since Renovation                                0.092504   \n",
       "\n",
       "                                           Condition of the House  \\\n",
       "No of Bedrooms                                          -0.014730   \n",
       "No of Bathrooms                                         -0.096720   \n",
       "Flat Area (in Sqft)                                     -0.070918   \n",
       "Lot Area (in Sqft)                                       0.019186   \n",
       "No of Floors                                            -0.180756   \n",
       "Waterfront View                                          0.013091   \n",
       "No of Times Visited                                      0.018531   \n",
       "Condition of the House                                   1.000000   \n",
       "Overall Grade                                           -0.127202   \n",
       "Area of the House from Basement (in Sqft)               -0.157839   \n",
       "Basement Area (in Sqft)                                  0.136232   \n",
       "Age of House (in Years)                                  0.351302   \n",
       "Zipcode                                                  0.023644   \n",
       "Latitude                                                -0.036080   \n",
       "Longitude                                               -0.120679   \n",
       "Living Area after Renovation (in Sqft)                  -0.036314   \n",
       "Lot Area after Renovation (in Sqft)                      0.015865   \n",
       "Ever Renovated                                          -0.106571   \n",
       "Years Since Renovation                                  -0.032633   \n",
       "\n",
       "                                           Overall Grade  \\\n",
       "No of Bedrooms                                  0.326521   \n",
       "No of Bathrooms                                 0.527897   \n",
       "Flat Area (in Sqft)                             0.579328   \n",
       "Lot Area (in Sqft)                              0.115192   \n",
       "No of Floors                                    0.398252   \n",
       "Waterfront View                                 0.039787   \n",
       "No of Times Visited                             0.185209   \n",
       "Condition of the House                         -0.127202   \n",
       "Overall Grade                                   1.000000   \n",
       "Area of the House from Basement (in Sqft)       0.646213   \n",
       "Basement Area (in Sqft)                         0.206355   \n",
       "Age of House (in Years)                        -0.438361   \n",
       "Zipcode                                        -0.212724   \n",
       "Latitude                                        0.136582   \n",
       "Longitude                                       0.165586   \n",
       "Living Area after Renovation (in Sqft)          0.574801   \n",
       "Lot Area after Renovation (in Sqft)             0.104233   \n",
       "Ever Renovated                                  0.011367   \n",
       "Years Since Renovation                         -0.043232   \n",
       "\n",
       "                                           Area of the House from Basement (in Sqft)  \\\n",
       "No of Bedrooms                                                              0.460759   \n",
       "No of Bathrooms                                                             0.724680   \n",
       "Flat Area (in Sqft)                                                         0.844901   \n",
       "Lot Area (in Sqft)                                                          0.297229   \n",
       "No of Floors                                                                0.590306   \n",
       "Waterfront View                                                             0.074250   \n",
       "No of Times Visited                                                         0.183676   \n",
       "Condition of the House                                                     -0.157839   \n",
       "Overall Grade                                                               0.646213   \n",
       "Area of the House from Basement (in Sqft)                                   1.000000   \n",
       "Basement Area (in Sqft)                                                     0.008088   \n",
       "Age of House (in Years)                                                    -0.446863   \n",
       "Zipcode                                                                    -0.253136   \n",
       "Latitude                                                                    0.050783   \n",
       "Longitude                                                                   0.291129   \n",
       "Living Area after Renovation (in Sqft)                                      0.605720   \n",
       "Lot Area after Renovation (in Sqft)                                         0.272744   \n",
       "Ever Renovated                                                              0.069759   \n",
       "Years Since Renovation                                                      0.053235   \n",
       "\n",
       "                                           Basement Area (in Sqft)  \\\n",
       "No of Bedrooms                                            0.362730   \n",
       "No of Bathrooms                                           0.342114   \n",
       "Flat Area (in Sqft)                                       0.476289   \n",
       "Lot Area (in Sqft)                                       -0.011595   \n",
       "No of Floors                                             -0.218371   \n",
       "Waterfront View                                          -0.011199   \n",
       "No of Times Visited                                       0.095564   \n",
       "Condition of the House                                    0.136232   \n",
       "Overall Grade                                             0.206355   \n",
       "Area of the House from Basement (in Sqft)                 0.008088   \n",
       "Basement Area (in Sqft)                                   1.000000   \n",
       "Age of House (in Years)                                  -0.019726   \n",
       "Zipcode                                                  -0.000361   \n",
       "Latitude                                                  0.145480   \n",
       "Longitude                                                -0.105695   \n",
       "Living Area after Renovation (in Sqft)                    0.284916   \n",
       "Lot Area after Renovation (in Sqft)                      -0.027091   \n",
       "Ever Renovated                                            0.035260   \n",
       "Years Since Renovation                                   -0.011291   \n",
       "\n",
       "                                           Age of House (in Years)   Zipcode  \\\n",
       "No of Bedrooms                                           -0.189253 -0.138767   \n",
       "No of Bathrooms                                          -0.430769 -0.196656   \n",
       "Flat Area (in Sqft)                                      -0.375349 -0.231030   \n",
       "Lot Area (in Sqft)                                       -0.177122 -0.326060   \n",
       "No of Floors                                             -0.310153 -0.057011   \n",
       "Waterfront View                                           0.032162  0.018015   \n",
       "No of Times Visited                                      -0.040672  0.002578   \n",
       "Condition of the House                                    0.351302  0.023644   \n",
       "Overall Grade                                            -0.438361 -0.212724   \n",
       "Area of the House from Basement (in Sqft)                -0.446863 -0.253136   \n",
       "Basement Area (in Sqft)                                  -0.019726 -0.000361   \n",
       "Age of House (in Years)                                   1.000000  0.364690   \n",
       "Zipcode                                                   0.364690  1.000000   \n",
       "Latitude                                                  0.118721  0.160725   \n",
       "Longitude                                                -0.415004 -0.589701   \n",
       "Living Area after Renovation (in Sqft)                   -0.302533 -0.314668   \n",
       "Lot Area after Renovation (in Sqft)                      -0.191311 -0.329508   \n",
       "Ever Renovated                                            0.274906  0.060750   \n",
       "Years Since Renovation                                    0.263097  0.046022   \n",
       "\n",
       "                                           Latitude  Longitude  \\\n",
       "No of Bedrooms                             0.058851   0.144605   \n",
       "No of Bathrooms                            0.100610   0.191780   \n",
       "Flat Area (in Sqft)                        0.110293   0.213613   \n",
       "Lot Area (in Sqft)                        -0.348105   0.409050   \n",
       "No of Floors                               0.094647   0.091608   \n",
       "Waterfront View                           -0.062865  -0.061048   \n",
       "No of Times Visited                       -0.025565   0.027936   \n",
       "Condition of the House                    -0.036080  -0.120679   \n",
       "Overall Grade                              0.136582   0.165586   \n",
       "Area of the House from Basement (in Sqft)  0.050783   0.291129   \n",
       "Basement Area (in Sqft)                    0.145480  -0.105695   \n",
       "Age of House (in Years)                    0.118721  -0.415004   \n",
       "Zipcode                                    0.160725  -0.589701   \n",
       "Latitude                                   1.000000  -0.183897   \n",
       "Longitude                                 -0.183897   1.000000   \n",
       "Living Area after Renovation (in Sqft)     0.141123   0.289779   \n",
       "Lot Area after Renovation (in Sqft)       -0.335927   0.408515   \n",
       "Ever Renovated                             0.066000  -0.099992   \n",
       "Years Since Renovation                     0.040726  -0.082062   \n",
       "\n",
       "                                           Living Area after Renovation (in Sqft)  \\\n",
       "No of Bedrooms                                                           0.368516   \n",
       "No of Bathrooms                                                          0.495722   \n",
       "Flat Area (in Sqft)                                                      0.643606   \n",
       "Lot Area (in Sqft)                                                       0.260929   \n",
       "No of Floors                                                             0.169291   \n",
       "Waterfront View                                                          0.035677   \n",
       "No of Times Visited                                                      0.198486   \n",
       "Condition of the House                                                  -0.036314   \n",
       "Overall Grade                                                            0.574801   \n",
       "Area of the House from Basement (in Sqft)                                0.605720   \n",
       "Basement Area (in Sqft)                                                  0.284916   \n",
       "Age of House (in Years)                                                 -0.302533   \n",
       "Zipcode                                                                 -0.314668   \n",
       "Latitude                                                                 0.141123   \n",
       "Longitude                                                                0.289779   \n",
       "Living Area after Renovation (in Sqft)                                   1.000000   \n",
       "Lot Area after Renovation (in Sqft)                                      0.281183   \n",
       "Ever Renovated                                                           0.003944   \n",
       "Years Since Renovation                                                  -0.002088   \n",
       "\n",
       "                                           Lot Area after Renovation (in Sqft)  \\\n",
       "No of Bedrooms                                                        0.068314   \n",
       "No of Bathrooms                                                       0.130730   \n",
       "Flat Area (in Sqft)                                                   0.250417   \n",
       "Lot Area (in Sqft)                                                    0.904830   \n",
       "No of Floors                                                         -0.079682   \n",
       "Waterfront View                                                       0.170210   \n",
       "No of Times Visited                                                   0.150574   \n",
       "Condition of the House                                                0.015865   \n",
       "Overall Grade                                                         0.104233   \n",
       "Area of the House from Basement (in Sqft)                             0.272744   \n",
       "Basement Area (in Sqft)                                              -0.027091   \n",
       "Age of House (in Years)                                              -0.191311   \n",
       "Zipcode                                                              -0.329508   \n",
       "Latitude                                                             -0.335927   \n",
       "Longitude                                                             0.408515   \n",
       "Living Area after Renovation (in Sqft)                                0.281183   \n",
       "Lot Area after Renovation (in Sqft)                                   1.000000   \n",
       "Ever Renovated                                                       -0.000534   \n",
       "Years Since Renovation                                                0.024083   \n",
       "\n",
       "                                           Ever Renovated  \\\n",
       "No of Bedrooms                                   0.009343   \n",
       "No of Bathrooms                                  0.084855   \n",
       "Flat Area (in Sqft)                              0.062953   \n",
       "Lot Area (in Sqft)                              -0.027803   \n",
       "No of Floors                                     0.094307   \n",
       "Waterfront View                                  0.151062   \n",
       "No of Times Visited                              0.090415   \n",
       "Condition of the House                          -0.106571   \n",
       "Overall Grade                                    0.011367   \n",
       "Area of the House from Basement (in Sqft)        0.069759   \n",
       "Basement Area (in Sqft)                          0.035260   \n",
       "Age of House (in Years)                          0.274906   \n",
       "Zipcode                                          0.060750   \n",
       "Latitude                                         0.066000   \n",
       "Longitude                                       -0.099992   \n",
       "Living Area after Renovation (in Sqft)           0.003944   \n",
       "Lot Area after Renovation (in Sqft)             -0.000534   \n",
       "Ever Renovated                                   1.000000   \n",
       "Years Since Renovation                           0.849385   \n",
       "\n",
       "                                           Years Since Renovation  \n",
       "No of Bedrooms                                          -0.004171  \n",
       "No of Bathrooms                                          0.043296  \n",
       "Flat Area (in Sqft)                                      0.027058  \n",
       "Lot Area (in Sqft)                                      -0.002100  \n",
       "No of Floors                                             0.084835  \n",
       "Waterfront View                                          0.184377  \n",
       "No of Times Visited                                      0.092504  \n",
       "Condition of the House                                  -0.032633  \n",
       "Overall Grade                                           -0.043232  \n",
       "Area of the House from Basement (in Sqft)                0.053235  \n",
       "Basement Area (in Sqft)                                 -0.011291  \n",
       "Age of House (in Years)                                  0.263097  \n",
       "Zipcode                                                  0.046022  \n",
       "Latitude                                                 0.040726  \n",
       "Longitude                                               -0.082062  \n",
       "Living Area after Renovation (in Sqft)                  -0.002088  \n",
       "Lot Area after Renovation (in Sqft)                      0.024083  \n",
       "Ever Renovated                                           0.849385  \n",
       "Years Since Renovation                                   1.000000  "
      ]
     },
     "execution_count": 52,
     "metadata": {},
     "output_type": "execute_result"
    }
   ],
   "source": [
    "X.corr()"
   ]
  },
  {
   "cell_type": "code",
   "execution_count": 53,
   "metadata": {
    "colab": {
     "base_uri": "https://localhost:8080/",
     "height": 646
    },
    "colab_type": "code",
    "executionInfo": {
     "elapsed": 14257,
     "status": "ok",
     "timestamp": 1592370780582,
     "user": {
      "displayName": "Sharoon Saxena",
      "photoUrl": "https://lh3.googleusercontent.com/a-/AOh14GjyKz9rNCPkHi6QK8TjrjBFlTtaI9ngf0hIwgAl=s64",
      "userId": "01167841530696023488"
     },
     "user_tz": -330
    },
    "id": "bEytl7JP0UrO",
    "outputId": "1e37333d-68e1-459b-e678-beed5f256eee"
   },
   "outputs": [
    {
     "data": {
      "text/plain": [
       "([['No of Bedrooms', 'No of Bathrooms'],\n",
       "  ['No of Bedrooms', 'Flat Area (in Sqft)'],\n",
       "  ['No of Bathrooms', 'No of Bedrooms'],\n",
       "  ['No of Bathrooms', 'Flat Area (in Sqft)'],\n",
       "  ['No of Bathrooms', 'Overall Grade'],\n",
       "  ['No of Bathrooms', 'Area of the House from Basement (in Sqft)'],\n",
       "  ['Flat Area (in Sqft)', 'No of Bedrooms'],\n",
       "  ['Flat Area (in Sqft)', 'No of Bathrooms'],\n",
       "  ['Flat Area (in Sqft)', 'Overall Grade'],\n",
       "  ['Flat Area (in Sqft)', 'Area of the House from Basement (in Sqft)'],\n",
       "  ['Flat Area (in Sqft)', 'Living Area after Renovation (in Sqft)'],\n",
       "  ['Lot Area (in Sqft)', 'Lot Area after Renovation (in Sqft)'],\n",
       "  ['No of Floors', 'Area of the House from Basement (in Sqft)'],\n",
       "  ['Overall Grade', 'No of Bathrooms'],\n",
       "  ['Overall Grade', 'Flat Area (in Sqft)'],\n",
       "  ['Overall Grade', 'Area of the House from Basement (in Sqft)'],\n",
       "  ['Overall Grade', 'Living Area after Renovation (in Sqft)'],\n",
       "  ['Area of the House from Basement (in Sqft)', 'No of Bathrooms'],\n",
       "  ['Area of the House from Basement (in Sqft)', 'Flat Area (in Sqft)'],\n",
       "  ['Area of the House from Basement (in Sqft)', 'No of Floors'],\n",
       "  ['Area of the House from Basement (in Sqft)', 'Overall Grade'],\n",
       "  ['Area of the House from Basement (in Sqft)',\n",
       "   'Living Area after Renovation (in Sqft)'],\n",
       "  ['Living Area after Renovation (in Sqft)', 'Flat Area (in Sqft)'],\n",
       "  ['Living Area after Renovation (in Sqft)', 'Overall Grade'],\n",
       "  ['Living Area after Renovation (in Sqft)',\n",
       "   'Area of the House from Basement (in Sqft)'],\n",
       "  ['Lot Area after Renovation (in Sqft)', 'Lot Area (in Sqft)'],\n",
       "  ['Ever Renovated', 'Years Since Renovation'],\n",
       "  ['Years Since Renovation', 'Ever Renovated']],\n",
       " 28)"
      ]
     },
     "execution_count": 53,
     "metadata": {},
     "output_type": "execute_result"
    }
   ],
   "source": [
    "## pair of independent variables with correlation greater than 0.5\n",
    "k = X.corr()\n",
    "z = [[str(i),str(j)] for i in k.columns for j in k.columns if (k.loc[i,j] >abs(0.5))&(i!=j)]\n",
    "z, len(z)"
   ]
  },
  {
   "cell_type": "markdown",
   "metadata": {
    "colab_type": "text",
    "id": "SsVck61n0UrS"
   },
   "source": [
    "### Calculating VIF"
   ]
  },
  {
   "cell_type": "code",
   "execution_count": 54,
   "metadata": {
    "colab": {
     "base_uri": "https://localhost:8080/",
     "height": 357
    },
    "colab_type": "code",
    "executionInfo": {
     "elapsed": 14247,
     "status": "ok",
     "timestamp": 1592370780583,
     "user": {
      "displayName": "Sharoon Saxena",
      "photoUrl": "https://lh3.googleusercontent.com/a-/AOh14GjyKz9rNCPkHi6QK8TjrjBFlTtaI9ngf0hIwgAl=s64",
      "userId": "01167841530696023488"
     },
     "user_tz": -330
    },
    "id": "m_FAS6W80UrT",
    "outputId": "102d16dd-8011-488e-afbb-f8ab40c4ba8d"
   },
   "outputs": [
    {
     "data": {
      "text/plain": [
       "No of Bedrooms                                1.706547\n",
       "No of Bathrooms                               3.370109\n",
       "Flat Area (in Sqft)                          18.659261\n",
       "Lot Area (in Sqft)                            6.077964\n",
       "No of Floors                                  2.168943\n",
       "Waterfront View                               1.335545\n",
       "No of Times Visited                           1.323149\n",
       "Condition of the House                        1.305965\n",
       "Overall Grade                                 2.451999\n",
       "Area of the House from Basement (in Sqft)    19.470052\n",
       "Basement Area (in Sqft)                       5.913015\n",
       "Age of House (in Years)                       2.231699\n",
       "Zipcode                                       1.688610\n",
       "Latitude                                      1.305917\n",
       "Longitude                                     1.898815\n",
       "Living Area after Renovation (in Sqft)        2.280303\n",
       "Lot Area after Renovation (in Sqft)           5.907014\n",
       "Ever Renovated                                4.014455\n",
       "Years Since Renovation                        3.775294\n",
       "dtype: float64"
      ]
     },
     "execution_count": 54,
     "metadata": {},
     "output_type": "execute_result"
    }
   ],
   "source": [
    "# Importing Variance_inflation_Factor funtion from the Statsmodels\n",
    "from statsmodels.stats.outliers_influence import variance_inflation_factor\n",
    "\n",
    "vif_data = X[:]\n",
    "\n",
    "## Calculating VIF for every column\n",
    "VIF = pd.Series([variance_inflation_factor(vif_data.values, i) for i in range(vif_data.shape[1])], index = vif_data.columns)\n",
    "VIF"
   ]
  },
  {
   "cell_type": "code",
   "execution_count": 55,
   "metadata": {
    "colab": {},
    "colab_type": "code",
    "executionInfo": {
     "elapsed": 14235,
     "status": "ok",
     "timestamp": 1592370780583,
     "user": {
      "displayName": "Sharoon Saxena",
      "photoUrl": "https://lh3.googleusercontent.com/a-/AOh14GjyKz9rNCPkHi6QK8TjrjBFlTtaI9ngf0hIwgAl=s64",
      "userId": "01167841530696023488"
     },
     "user_tz": -330
    },
    "id": "A5OtkErr0Urc"
   },
   "outputs": [],
   "source": [
    "def MC_remover(data):\n",
    "  vif = pd.Series([variance_inflation_factor(data.values, i) for i in range(data.shape[1])], index = data.columns)\n",
    "  if vif.max() > 5:\n",
    "    print(vif[vif == vif.max()].index[0],'has been removed')\n",
    "    data = data.drop(columns = [vif[vif == vif.max()].index[0]])\n",
    "    return data\n",
    "  else:\n",
    "    print('No Multicollinearity present anymore')\n",
    "    return data"
   ]
  },
  {
   "cell_type": "code",
   "execution_count": 56,
   "metadata": {
    "colab": {
     "base_uri": "https://localhost:8080/",
     "height": 374
    },
    "colab_type": "code",
    "executionInfo": {
     "elapsed": 18312,
     "status": "ok",
     "timestamp": 1592370784669,
     "user": {
      "displayName": "Sharoon Saxena",
      "photoUrl": "https://lh3.googleusercontent.com/a-/AOh14GjyKz9rNCPkHi6QK8TjrjBFlTtaI9ngf0hIwgAl=s64",
      "userId": "01167841530696023488"
     },
     "user_tz": -330
    },
    "id": "BS-NvcQl0Ure",
    "outputId": "7827fd93-6748-4215-b0c4-0febbc64b458"
   },
   "outputs": [
    {
     "name": "stdout",
     "output_type": "stream",
     "text": [
      "Area of the House from Basement (in Sqft) has been removed\n",
      "Lot Area (in Sqft) has been removed\n",
      "No Multicollinearity present anymore\n",
      "No Multicollinearity present anymore\n",
      "No Multicollinearity present anymore\n",
      "No Multicollinearity present anymore\n",
      "No Multicollinearity present anymore\n"
     ]
    },
    {
     "data": {
      "text/html": [
       "<div>\n",
       "<style scoped>\n",
       "    .dataframe tbody tr th:only-of-type {\n",
       "        vertical-align: middle;\n",
       "    }\n",
       "\n",
       "    .dataframe tbody tr th {\n",
       "        vertical-align: top;\n",
       "    }\n",
       "\n",
       "    .dataframe thead th {\n",
       "        text-align: right;\n",
       "    }\n",
       "</style>\n",
       "<table border=\"1\" class=\"dataframe\">\n",
       "  <thead>\n",
       "    <tr style=\"text-align: right;\">\n",
       "      <th></th>\n",
       "      <th>No of Bedrooms</th>\n",
       "      <th>No of Bathrooms</th>\n",
       "      <th>Flat Area (in Sqft)</th>\n",
       "      <th>No of Floors</th>\n",
       "      <th>Waterfront View</th>\n",
       "      <th>No of Times Visited</th>\n",
       "      <th>Condition of the House</th>\n",
       "      <th>Overall Grade</th>\n",
       "      <th>Basement Area (in Sqft)</th>\n",
       "      <th>Age of House (in Years)</th>\n",
       "      <th>Zipcode</th>\n",
       "      <th>Latitude</th>\n",
       "      <th>Longitude</th>\n",
       "      <th>Living Area after Renovation (in Sqft)</th>\n",
       "      <th>Lot Area after Renovation (in Sqft)</th>\n",
       "      <th>Ever Renovated</th>\n",
       "      <th>Years Since Renovation</th>\n",
       "    </tr>\n",
       "  </thead>\n",
       "  <tbody>\n",
       "    <tr>\n",
       "      <th>0</th>\n",
       "      <td>0.406644</td>\n",
       "      <td>0.514205</td>\n",
       "      <td>0.094025</td>\n",
       "      <td>0.868848</td>\n",
       "      <td>-0.288307</td>\n",
       "      <td>0.668115</td>\n",
       "      <td>-0.726703</td>\n",
       "      <td>0.524488</td>\n",
       "      <td>0.692922</td>\n",
       "      <td>-0.469642</td>\n",
       "      <td>0.546499</td>\n",
       "      <td>0.060034</td>\n",
       "      <td>-0.869726</td>\n",
       "      <td>-0.447078</td>\n",
       "      <td>-1.084048</td>\n",
       "      <td>-0.333856</td>\n",
       "      <td>-0.283572</td>\n",
       "    </tr>\n",
       "    <tr>\n",
       "      <th>1</th>\n",
       "      <td>-0.599336</td>\n",
       "      <td>0.242388</td>\n",
       "      <td>0.174779</td>\n",
       "      <td>-0.954506</td>\n",
       "      <td>-0.288307</td>\n",
       "      <td>1.753035</td>\n",
       "      <td>-0.726703</td>\n",
       "      <td>0.524488</td>\n",
       "      <td>0.354902</td>\n",
       "      <td>-0.089318</td>\n",
       "      <td>-0.865842</td>\n",
       "      <td>-0.265145</td>\n",
       "      <td>0.130791</td>\n",
       "      <td>1.746295</td>\n",
       "      <td>0.808483</td>\n",
       "      <td>-0.333856</td>\n",
       "      <td>-0.283572</td>\n",
       "    </tr>\n",
       "    <tr>\n",
       "      <th>2</th>\n",
       "      <td>-0.599336</td>\n",
       "      <td>-0.029565</td>\n",
       "      <td>-0.065061</td>\n",
       "      <td>-0.954506</td>\n",
       "      <td>3.468526</td>\n",
       "      <td>-0.416805</td>\n",
       "      <td>2.166486</td>\n",
       "      <td>0.524488</td>\n",
       "      <td>0.147262</td>\n",
       "      <td>0.429304</td>\n",
       "      <td>-0.373165</td>\n",
       "      <td>-1.306860</td>\n",
       "      <td>-1.405368</td>\n",
       "      <td>0.285171</td>\n",
       "      <td>2.356926</td>\n",
       "      <td>-0.333856</td>\n",
       "      <td>-0.283572</td>\n",
       "    </tr>\n",
       "    <tr>\n",
       "      <th>3</th>\n",
       "      <td>1.410629</td>\n",
       "      <td>0.785887</td>\n",
       "      <td>0.336287</td>\n",
       "      <td>0.868848</td>\n",
       "      <td>-0.288307</td>\n",
       "      <td>1.753035</td>\n",
       "      <td>0.719892</td>\n",
       "      <td>-0.272944</td>\n",
       "      <td>-1.262554</td>\n",
       "      <td>-0.089318</td>\n",
       "      <td>-1.391364</td>\n",
       "      <td>0.195661</td>\n",
       "      <td>0.954878</td>\n",
       "      <td>0.617207</td>\n",
       "      <td>0.079286</td>\n",
       "      <td>-0.333856</td>\n",
       "      <td>-0.283572</td>\n",
       "    </tr>\n",
       "    <tr>\n",
       "      <th>4</th>\n",
       "      <td>-0.599336</td>\n",
       "      <td>-0.301653</td>\n",
       "      <td>-0.552009</td>\n",
       "      <td>-0.954506</td>\n",
       "      <td>-0.288307</td>\n",
       "      <td>0.668115</td>\n",
       "      <td>0.719892</td>\n",
       "      <td>-0.272944</td>\n",
       "      <td>0.099986</td>\n",
       "      <td>0.221855</td>\n",
       "      <td>1.203401</td>\n",
       "      <td>-1.065836</td>\n",
       "      <td>-0.616038</td>\n",
       "      <td>0.146657</td>\n",
       "      <td>0.720304</td>\n",
       "      <td>-0.333856</td>\n",
       "      <td>-0.283572</td>\n",
       "    </tr>\n",
       "  </tbody>\n",
       "</table>\n",
       "</div>"
      ],
      "text/plain": [
       "   No of Bedrooms  No of Bathrooms  Flat Area (in Sqft)  No of Floors  \\\n",
       "0        0.406644         0.514205             0.094025      0.868848   \n",
       "1       -0.599336         0.242388             0.174779     -0.954506   \n",
       "2       -0.599336        -0.029565            -0.065061     -0.954506   \n",
       "3        1.410629         0.785887             0.336287      0.868848   \n",
       "4       -0.599336        -0.301653            -0.552009     -0.954506   \n",
       "\n",
       "   Waterfront View  No of Times Visited  Condition of the House  \\\n",
       "0        -0.288307             0.668115               -0.726703   \n",
       "1        -0.288307             1.753035               -0.726703   \n",
       "2         3.468526            -0.416805                2.166486   \n",
       "3        -0.288307             1.753035                0.719892   \n",
       "4        -0.288307             0.668115                0.719892   \n",
       "\n",
       "   Overall Grade  Basement Area (in Sqft)  Age of House (in Years)   Zipcode  \\\n",
       "0       0.524488                 0.692922                -0.469642  0.546499   \n",
       "1       0.524488                 0.354902                -0.089318 -0.865842   \n",
       "2       0.524488                 0.147262                 0.429304 -0.373165   \n",
       "3      -0.272944                -1.262554                -0.089318 -1.391364   \n",
       "4      -0.272944                 0.099986                 0.221855  1.203401   \n",
       "\n",
       "   Latitude  Longitude  Living Area after Renovation (in Sqft)  \\\n",
       "0  0.060034  -0.869726                               -0.447078   \n",
       "1 -0.265145   0.130791                                1.746295   \n",
       "2 -1.306860  -1.405368                                0.285171   \n",
       "3  0.195661   0.954878                                0.617207   \n",
       "4 -1.065836  -0.616038                                0.146657   \n",
       "\n",
       "   Lot Area after Renovation (in Sqft)  Ever Renovated  Years Since Renovation  \n",
       "0                            -1.084048       -0.333856               -0.283572  \n",
       "1                             0.808483       -0.333856               -0.283572  \n",
       "2                             2.356926       -0.333856               -0.283572  \n",
       "3                             0.079286       -0.333856               -0.283572  \n",
       "4                             0.720304       -0.333856               -0.283572  "
      ]
     },
     "execution_count": 56,
     "metadata": {},
     "output_type": "execute_result"
    }
   ],
   "source": [
    "for i in range(7):\n",
    "  vif_data = MC_remover(vif_data)\n",
    "\n",
    "vif_data.head()"
   ]
  },
  {
   "cell_type": "markdown",
   "metadata": {
    "colab_type": "text",
    "id": "uuSq2y3b0Urh"
   },
   "source": [
    "### Remaining Columns"
   ]
  },
  {
   "cell_type": "code",
   "execution_count": 57,
   "metadata": {
    "colab": {
     "base_uri": "https://localhost:8080/",
     "height": 306
    },
    "colab_type": "code",
    "executionInfo": {
     "elapsed": 19536,
     "status": "ok",
     "timestamp": 1592370785905,
     "user": {
      "displayName": "Sharoon Saxena",
      "photoUrl": "https://lh3.googleusercontent.com/a-/AOh14GjyKz9rNCPkHi6QK8TjrjBFlTtaI9ngf0hIwgAl=s64",
      "userId": "01167841530696023488"
     },
     "user_tz": -330
    },
    "id": "7ui8gRrz0Urh",
    "outputId": "b3d675d5-68ba-4e79-b0b1-240673344566"
   },
   "outputs": [
    {
     "data": {
      "text/plain": [
       "(No of Bedrooms                            1.644888\n",
       " No of Bathrooms                           3.355702\n",
       " Flat Area (in Sqft)                       4.557772\n",
       " No of Floors                              1.940162\n",
       " Waterfront View                           1.329957\n",
       " No of Times Visited                       1.320050\n",
       " Condition of the House                    1.302130\n",
       " Overall Grade                             2.035517\n",
       " Basement Area (in Sqft)                   1.985577\n",
       " Age of House (in Years)                   2.196513\n",
       " Zipcode                                   1.676318\n",
       " Latitude                                  1.280427\n",
       " Longitude                                 1.885559\n",
       " Living Area after Renovation (in Sqft)    2.196261\n",
       " Lot Area after Renovation (in Sqft)       1.624912\n",
       " Ever Renovated                            3.999803\n",
       " Years Since Renovation                    3.761973\n",
       " dtype: float64,\n",
       " 17)"
      ]
     },
     "execution_count": 57,
     "metadata": {},
     "output_type": "execute_result"
    }
   ],
   "source": [
    "# Calculating VIF for remaining columns\n",
    "VIF = pd.Series([variance_inflation_factor(vif_data.values, i) for i in range(vif_data.shape[1])], index = vif_data.columns)\n",
    "VIF, len(vif_data.columns)"
   ]
  },
  {
   "cell_type": "code",
   "execution_count": 58,
   "metadata": {
    "colab": {},
    "colab_type": "code",
    "executionInfo": {
     "elapsed": 19525,
     "status": "ok",
     "timestamp": 1592370785906,
     "user": {
      "displayName": "Sharoon Saxena",
      "photoUrl": "https://lh3.googleusercontent.com/a-/AOh14GjyKz9rNCPkHi6QK8TjrjBFlTtaI9ngf0hIwgAl=s64",
      "userId": "01167841530696023488"
     },
     "user_tz": -330
    },
    "id": "cHDapkNnmjH2"
   },
   "outputs": [],
   "source": [
    "X = vif_data[:]"
   ]
  },
  {
   "cell_type": "markdown",
   "metadata": {
    "colab_type": "text",
    "id": "2OtqYbES1Ck-"
   },
   "source": [
    "## Train/Test set"
   ]
  },
  {
   "cell_type": "code",
   "execution_count": 59,
   "metadata": {
    "colab": {},
    "colab_type": "code",
    "executionInfo": {
     "elapsed": 19517,
     "status": "ok",
     "timestamp": 1592370785907,
     "user": {
      "displayName": "Sharoon Saxena",
      "photoUrl": "https://lh3.googleusercontent.com/a-/AOh14GjyKz9rNCPkHi6QK8TjrjBFlTtaI9ngf0hIwgAl=s64",
      "userId": "01167841530696023488"
     },
     "user_tz": -330
    },
    "id": "sDAXk48r0tRn"
   },
   "outputs": [],
   "source": [
    "Y = data['Sale Price']"
   ]
  },
  {
   "cell_type": "code",
   "execution_count": 60,
   "metadata": {
    "colab": {
     "base_uri": "https://localhost:8080/",
     "height": 34
    },
    "colab_type": "code",
    "executionInfo": {
     "elapsed": 19508,
     "status": "ok",
     "timestamp": 1592370785908,
     "user": {
      "displayName": "Sharoon Saxena",
      "photoUrl": "https://lh3.googleusercontent.com/a-/AOh14GjyKz9rNCPkHi6QK8TjrjBFlTtaI9ngf0hIwgAl=s64",
      "userId": "01167841530696023488"
     },
     "user_tz": -330
    },
    "id": "OnDOTUGt0tRp",
    "outputId": "b08ff91d-add6-43bb-96d9-e61e9e24dc76"
   },
   "outputs": [
    {
     "data": {
      "text/plain": [
       "((1486, 17), (638, 17), (1486,), (638,))"
      ]
     },
     "execution_count": 60,
     "metadata": {},
     "output_type": "execute_result"
    }
   ],
   "source": [
    "from sklearn.model_selection import train_test_split\n",
    "x_train, x_test, y_train, y_test = train_test_split(X, Y, test_size = 0.3, random_state = 101)\n",
    "\n",
    "x_train.shape, x_test.shape, y_train.shape, y_test.shape"
   ]
  },
  {
   "cell_type": "markdown",
   "metadata": {
    "colab_type": "text",
    "id": "eUpoopDQsSNr"
   },
   "source": [
    "## training model"
   ]
  },
  {
   "cell_type": "code",
   "execution_count": 61,
   "metadata": {
    "colab": {
     "base_uri": "https://localhost:8080/",
     "height": 34
    },
    "colab_type": "code",
    "executionInfo": {
     "elapsed": 19498,
     "status": "ok",
     "timestamp": 1592370785909,
     "user": {
      "displayName": "Sharoon Saxena",
      "photoUrl": "https://lh3.googleusercontent.com/a-/AOh14GjyKz9rNCPkHi6QK8TjrjBFlTtaI9ngf0hIwgAl=s64",
      "userId": "01167841530696023488"
     },
     "user_tz": -330
    },
    "id": "6Xq14RtASUDu",
    "outputId": "d9d16ba9-6060-4285-9839-3c364d1b892e"
   },
   "outputs": [
    {
     "data": {
      "text/html": [
       "<style>#sk-container-id-1 {\n",
       "  /* Definition of color scheme common for light and dark mode */\n",
       "  --sklearn-color-text: black;\n",
       "  --sklearn-color-line: gray;\n",
       "  /* Definition of color scheme for unfitted estimators */\n",
       "  --sklearn-color-unfitted-level-0: #fff5e6;\n",
       "  --sklearn-color-unfitted-level-1: #f6e4d2;\n",
       "  --sklearn-color-unfitted-level-2: #ffe0b3;\n",
       "  --sklearn-color-unfitted-level-3: chocolate;\n",
       "  /* Definition of color scheme for fitted estimators */\n",
       "  --sklearn-color-fitted-level-0: #f0f8ff;\n",
       "  --sklearn-color-fitted-level-1: #d4ebff;\n",
       "  --sklearn-color-fitted-level-2: #b3dbfd;\n",
       "  --sklearn-color-fitted-level-3: cornflowerblue;\n",
       "\n",
       "  /* Specific color for light theme */\n",
       "  --sklearn-color-text-on-default-background: var(--sg-text-color, var(--theme-code-foreground, var(--jp-content-font-color1, black)));\n",
       "  --sklearn-color-background: var(--sg-background-color, var(--theme-background, var(--jp-layout-color0, white)));\n",
       "  --sklearn-color-border-box: var(--sg-text-color, var(--theme-code-foreground, var(--jp-content-font-color1, black)));\n",
       "  --sklearn-color-icon: #696969;\n",
       "\n",
       "  @media (prefers-color-scheme: dark) {\n",
       "    /* Redefinition of color scheme for dark theme */\n",
       "    --sklearn-color-text-on-default-background: var(--sg-text-color, var(--theme-code-foreground, var(--jp-content-font-color1, white)));\n",
       "    --sklearn-color-background: var(--sg-background-color, var(--theme-background, var(--jp-layout-color0, #111)));\n",
       "    --sklearn-color-border-box: var(--sg-text-color, var(--theme-code-foreground, var(--jp-content-font-color1, white)));\n",
       "    --sklearn-color-icon: #878787;\n",
       "  }\n",
       "}\n",
       "\n",
       "#sk-container-id-1 {\n",
       "  color: var(--sklearn-color-text);\n",
       "}\n",
       "\n",
       "#sk-container-id-1 pre {\n",
       "  padding: 0;\n",
       "}\n",
       "\n",
       "#sk-container-id-1 input.sk-hidden--visually {\n",
       "  border: 0;\n",
       "  clip: rect(1px 1px 1px 1px);\n",
       "  clip: rect(1px, 1px, 1px, 1px);\n",
       "  height: 1px;\n",
       "  margin: -1px;\n",
       "  overflow: hidden;\n",
       "  padding: 0;\n",
       "  position: absolute;\n",
       "  width: 1px;\n",
       "}\n",
       "\n",
       "#sk-container-id-1 div.sk-dashed-wrapped {\n",
       "  border: 1px dashed var(--sklearn-color-line);\n",
       "  margin: 0 0.4em 0.5em 0.4em;\n",
       "  box-sizing: border-box;\n",
       "  padding-bottom: 0.4em;\n",
       "  background-color: var(--sklearn-color-background);\n",
       "}\n",
       "\n",
       "#sk-container-id-1 div.sk-container {\n",
       "  /* jupyter's `normalize.less` sets `[hidden] { display: none; }`\n",
       "     but bootstrap.min.css set `[hidden] { display: none !important; }`\n",
       "     so we also need the `!important` here to be able to override the\n",
       "     default hidden behavior on the sphinx rendered scikit-learn.org.\n",
       "     See: https://github.com/scikit-learn/scikit-learn/issues/21755 */\n",
       "  display: inline-block !important;\n",
       "  position: relative;\n",
       "}\n",
       "\n",
       "#sk-container-id-1 div.sk-text-repr-fallback {\n",
       "  display: none;\n",
       "}\n",
       "\n",
       "div.sk-parallel-item,\n",
       "div.sk-serial,\n",
       "div.sk-item {\n",
       "  /* draw centered vertical line to link estimators */\n",
       "  background-image: linear-gradient(var(--sklearn-color-text-on-default-background), var(--sklearn-color-text-on-default-background));\n",
       "  background-size: 2px 100%;\n",
       "  background-repeat: no-repeat;\n",
       "  background-position: center center;\n",
       "}\n",
       "\n",
       "/* Parallel-specific style estimator block */\n",
       "\n",
       "#sk-container-id-1 div.sk-parallel-item::after {\n",
       "  content: \"\";\n",
       "  width: 100%;\n",
       "  border-bottom: 2px solid var(--sklearn-color-text-on-default-background);\n",
       "  flex-grow: 1;\n",
       "}\n",
       "\n",
       "#sk-container-id-1 div.sk-parallel {\n",
       "  display: flex;\n",
       "  align-items: stretch;\n",
       "  justify-content: center;\n",
       "  background-color: var(--sklearn-color-background);\n",
       "  position: relative;\n",
       "}\n",
       "\n",
       "#sk-container-id-1 div.sk-parallel-item {\n",
       "  display: flex;\n",
       "  flex-direction: column;\n",
       "}\n",
       "\n",
       "#sk-container-id-1 div.sk-parallel-item:first-child::after {\n",
       "  align-self: flex-end;\n",
       "  width: 50%;\n",
       "}\n",
       "\n",
       "#sk-container-id-1 div.sk-parallel-item:last-child::after {\n",
       "  align-self: flex-start;\n",
       "  width: 50%;\n",
       "}\n",
       "\n",
       "#sk-container-id-1 div.sk-parallel-item:only-child::after {\n",
       "  width: 0;\n",
       "}\n",
       "\n",
       "/* Serial-specific style estimator block */\n",
       "\n",
       "#sk-container-id-1 div.sk-serial {\n",
       "  display: flex;\n",
       "  flex-direction: column;\n",
       "  align-items: center;\n",
       "  background-color: var(--sklearn-color-background);\n",
       "  padding-right: 1em;\n",
       "  padding-left: 1em;\n",
       "}\n",
       "\n",
       "\n",
       "/* Toggleable style: style used for estimator/Pipeline/ColumnTransformer box that is\n",
       "clickable and can be expanded/collapsed.\n",
       "- Pipeline and ColumnTransformer use this feature and define the default style\n",
       "- Estimators will overwrite some part of the style using the `sk-estimator` class\n",
       "*/\n",
       "\n",
       "/* Pipeline and ColumnTransformer style (default) */\n",
       "\n",
       "#sk-container-id-1 div.sk-toggleable {\n",
       "  /* Default theme specific background. It is overwritten whether we have a\n",
       "  specific estimator or a Pipeline/ColumnTransformer */\n",
       "  background-color: var(--sklearn-color-background);\n",
       "}\n",
       "\n",
       "/* Toggleable label */\n",
       "#sk-container-id-1 label.sk-toggleable__label {\n",
       "  cursor: pointer;\n",
       "  display: block;\n",
       "  width: 100%;\n",
       "  margin-bottom: 0;\n",
       "  padding: 0.5em;\n",
       "  box-sizing: border-box;\n",
       "  text-align: center;\n",
       "}\n",
       "\n",
       "#sk-container-id-1 label.sk-toggleable__label-arrow:before {\n",
       "  /* Arrow on the left of the label */\n",
       "  content: \"▸\";\n",
       "  float: left;\n",
       "  margin-right: 0.25em;\n",
       "  color: var(--sklearn-color-icon);\n",
       "}\n",
       "\n",
       "#sk-container-id-1 label.sk-toggleable__label-arrow:hover:before {\n",
       "  color: var(--sklearn-color-text);\n",
       "}\n",
       "\n",
       "/* Toggleable content - dropdown */\n",
       "\n",
       "#sk-container-id-1 div.sk-toggleable__content {\n",
       "  max-height: 0;\n",
       "  max-width: 0;\n",
       "  overflow: hidden;\n",
       "  text-align: left;\n",
       "  /* unfitted */\n",
       "  background-color: var(--sklearn-color-unfitted-level-0);\n",
       "}\n",
       "\n",
       "#sk-container-id-1 div.sk-toggleable__content.fitted {\n",
       "  /* fitted */\n",
       "  background-color: var(--sklearn-color-fitted-level-0);\n",
       "}\n",
       "\n",
       "#sk-container-id-1 div.sk-toggleable__content pre {\n",
       "  margin: 0.2em;\n",
       "  border-radius: 0.25em;\n",
       "  color: var(--sklearn-color-text);\n",
       "  /* unfitted */\n",
       "  background-color: var(--sklearn-color-unfitted-level-0);\n",
       "}\n",
       "\n",
       "#sk-container-id-1 div.sk-toggleable__content.fitted pre {\n",
       "  /* unfitted */\n",
       "  background-color: var(--sklearn-color-fitted-level-0);\n",
       "}\n",
       "\n",
       "#sk-container-id-1 input.sk-toggleable__control:checked~div.sk-toggleable__content {\n",
       "  /* Expand drop-down */\n",
       "  max-height: 200px;\n",
       "  max-width: 100%;\n",
       "  overflow: auto;\n",
       "}\n",
       "\n",
       "#sk-container-id-1 input.sk-toggleable__control:checked~label.sk-toggleable__label-arrow:before {\n",
       "  content: \"▾\";\n",
       "}\n",
       "\n",
       "/* Pipeline/ColumnTransformer-specific style */\n",
       "\n",
       "#sk-container-id-1 div.sk-label input.sk-toggleable__control:checked~label.sk-toggleable__label {\n",
       "  color: var(--sklearn-color-text);\n",
       "  background-color: var(--sklearn-color-unfitted-level-2);\n",
       "}\n",
       "\n",
       "#sk-container-id-1 div.sk-label.fitted input.sk-toggleable__control:checked~label.sk-toggleable__label {\n",
       "  background-color: var(--sklearn-color-fitted-level-2);\n",
       "}\n",
       "\n",
       "/* Estimator-specific style */\n",
       "\n",
       "/* Colorize estimator box */\n",
       "#sk-container-id-1 div.sk-estimator input.sk-toggleable__control:checked~label.sk-toggleable__label {\n",
       "  /* unfitted */\n",
       "  background-color: var(--sklearn-color-unfitted-level-2);\n",
       "}\n",
       "\n",
       "#sk-container-id-1 div.sk-estimator.fitted input.sk-toggleable__control:checked~label.sk-toggleable__label {\n",
       "  /* fitted */\n",
       "  background-color: var(--sklearn-color-fitted-level-2);\n",
       "}\n",
       "\n",
       "#sk-container-id-1 div.sk-label label.sk-toggleable__label,\n",
       "#sk-container-id-1 div.sk-label label {\n",
       "  /* The background is the default theme color */\n",
       "  color: var(--sklearn-color-text-on-default-background);\n",
       "}\n",
       "\n",
       "/* On hover, darken the color of the background */\n",
       "#sk-container-id-1 div.sk-label:hover label.sk-toggleable__label {\n",
       "  color: var(--sklearn-color-text);\n",
       "  background-color: var(--sklearn-color-unfitted-level-2);\n",
       "}\n",
       "\n",
       "/* Label box, darken color on hover, fitted */\n",
       "#sk-container-id-1 div.sk-label.fitted:hover label.sk-toggleable__label.fitted {\n",
       "  color: var(--sklearn-color-text);\n",
       "  background-color: var(--sklearn-color-fitted-level-2);\n",
       "}\n",
       "\n",
       "/* Estimator label */\n",
       "\n",
       "#sk-container-id-1 div.sk-label label {\n",
       "  font-family: monospace;\n",
       "  font-weight: bold;\n",
       "  display: inline-block;\n",
       "  line-height: 1.2em;\n",
       "}\n",
       "\n",
       "#sk-container-id-1 div.sk-label-container {\n",
       "  text-align: center;\n",
       "}\n",
       "\n",
       "/* Estimator-specific */\n",
       "#sk-container-id-1 div.sk-estimator {\n",
       "  font-family: monospace;\n",
       "  border: 1px dotted var(--sklearn-color-border-box);\n",
       "  border-radius: 0.25em;\n",
       "  box-sizing: border-box;\n",
       "  margin-bottom: 0.5em;\n",
       "  /* unfitted */\n",
       "  background-color: var(--sklearn-color-unfitted-level-0);\n",
       "}\n",
       "\n",
       "#sk-container-id-1 div.sk-estimator.fitted {\n",
       "  /* fitted */\n",
       "  background-color: var(--sklearn-color-fitted-level-0);\n",
       "}\n",
       "\n",
       "/* on hover */\n",
       "#sk-container-id-1 div.sk-estimator:hover {\n",
       "  /* unfitted */\n",
       "  background-color: var(--sklearn-color-unfitted-level-2);\n",
       "}\n",
       "\n",
       "#sk-container-id-1 div.sk-estimator.fitted:hover {\n",
       "  /* fitted */\n",
       "  background-color: var(--sklearn-color-fitted-level-2);\n",
       "}\n",
       "\n",
       "/* Specification for estimator info (e.g. \"i\" and \"?\") */\n",
       "\n",
       "/* Common style for \"i\" and \"?\" */\n",
       "\n",
       ".sk-estimator-doc-link,\n",
       "a:link.sk-estimator-doc-link,\n",
       "a:visited.sk-estimator-doc-link {\n",
       "  float: right;\n",
       "  font-size: smaller;\n",
       "  line-height: 1em;\n",
       "  font-family: monospace;\n",
       "  background-color: var(--sklearn-color-background);\n",
       "  border-radius: 1em;\n",
       "  height: 1em;\n",
       "  width: 1em;\n",
       "  text-decoration: none !important;\n",
       "  margin-left: 1ex;\n",
       "  /* unfitted */\n",
       "  border: var(--sklearn-color-unfitted-level-1) 1pt solid;\n",
       "  color: var(--sklearn-color-unfitted-level-1);\n",
       "}\n",
       "\n",
       ".sk-estimator-doc-link.fitted,\n",
       "a:link.sk-estimator-doc-link.fitted,\n",
       "a:visited.sk-estimator-doc-link.fitted {\n",
       "  /* fitted */\n",
       "  border: var(--sklearn-color-fitted-level-1) 1pt solid;\n",
       "  color: var(--sklearn-color-fitted-level-1);\n",
       "}\n",
       "\n",
       "/* On hover */\n",
       "div.sk-estimator:hover .sk-estimator-doc-link:hover,\n",
       ".sk-estimator-doc-link:hover,\n",
       "div.sk-label-container:hover .sk-estimator-doc-link:hover,\n",
       ".sk-estimator-doc-link:hover {\n",
       "  /* unfitted */\n",
       "  background-color: var(--sklearn-color-unfitted-level-3);\n",
       "  color: var(--sklearn-color-background);\n",
       "  text-decoration: none;\n",
       "}\n",
       "\n",
       "div.sk-estimator.fitted:hover .sk-estimator-doc-link.fitted:hover,\n",
       ".sk-estimator-doc-link.fitted:hover,\n",
       "div.sk-label-container:hover .sk-estimator-doc-link.fitted:hover,\n",
       ".sk-estimator-doc-link.fitted:hover {\n",
       "  /* fitted */\n",
       "  background-color: var(--sklearn-color-fitted-level-3);\n",
       "  color: var(--sklearn-color-background);\n",
       "  text-decoration: none;\n",
       "}\n",
       "\n",
       "/* Span, style for the box shown on hovering the info icon */\n",
       ".sk-estimator-doc-link span {\n",
       "  display: none;\n",
       "  z-index: 9999;\n",
       "  position: relative;\n",
       "  font-weight: normal;\n",
       "  right: .2ex;\n",
       "  padding: .5ex;\n",
       "  margin: .5ex;\n",
       "  width: min-content;\n",
       "  min-width: 20ex;\n",
       "  max-width: 50ex;\n",
       "  color: var(--sklearn-color-text);\n",
       "  box-shadow: 2pt 2pt 4pt #999;\n",
       "  /* unfitted */\n",
       "  background: var(--sklearn-color-unfitted-level-0);\n",
       "  border: .5pt solid var(--sklearn-color-unfitted-level-3);\n",
       "}\n",
       "\n",
       ".sk-estimator-doc-link.fitted span {\n",
       "  /* fitted */\n",
       "  background: var(--sklearn-color-fitted-level-0);\n",
       "  border: var(--sklearn-color-fitted-level-3);\n",
       "}\n",
       "\n",
       ".sk-estimator-doc-link:hover span {\n",
       "  display: block;\n",
       "}\n",
       "\n",
       "/* \"?\"-specific style due to the `<a>` HTML tag */\n",
       "\n",
       "#sk-container-id-1 a.estimator_doc_link {\n",
       "  float: right;\n",
       "  font-size: 1rem;\n",
       "  line-height: 1em;\n",
       "  font-family: monospace;\n",
       "  background-color: var(--sklearn-color-background);\n",
       "  border-radius: 1rem;\n",
       "  height: 1rem;\n",
       "  width: 1rem;\n",
       "  text-decoration: none;\n",
       "  /* unfitted */\n",
       "  color: var(--sklearn-color-unfitted-level-1);\n",
       "  border: var(--sklearn-color-unfitted-level-1) 1pt solid;\n",
       "}\n",
       "\n",
       "#sk-container-id-1 a.estimator_doc_link.fitted {\n",
       "  /* fitted */\n",
       "  border: var(--sklearn-color-fitted-level-1) 1pt solid;\n",
       "  color: var(--sklearn-color-fitted-level-1);\n",
       "}\n",
       "\n",
       "/* On hover */\n",
       "#sk-container-id-1 a.estimator_doc_link:hover {\n",
       "  /* unfitted */\n",
       "  background-color: var(--sklearn-color-unfitted-level-3);\n",
       "  color: var(--sklearn-color-background);\n",
       "  text-decoration: none;\n",
       "}\n",
       "\n",
       "#sk-container-id-1 a.estimator_doc_link.fitted:hover {\n",
       "  /* fitted */\n",
       "  background-color: var(--sklearn-color-fitted-level-3);\n",
       "}\n",
       "</style><div id=\"sk-container-id-1\" class=\"sk-top-container\"><div class=\"sk-text-repr-fallback\"><pre>LinearRegression()</pre><b>In a Jupyter environment, please rerun this cell to show the HTML representation or trust the notebook. <br />On GitHub, the HTML representation is unable to render, please try loading this page with nbviewer.org.</b></div><div class=\"sk-container\" hidden><div class=\"sk-item\"><div class=\"sk-estimator fitted sk-toggleable\"><input class=\"sk-toggleable__control sk-hidden--visually\" id=\"sk-estimator-id-1\" type=\"checkbox\" checked><label for=\"sk-estimator-id-1\" class=\"sk-toggleable__label fitted sk-toggleable__label-arrow fitted\">&nbsp;&nbsp;LinearRegression<a class=\"sk-estimator-doc-link fitted\" rel=\"noreferrer\" target=\"_blank\" href=\"https://scikit-learn.org/1.5/modules/generated/sklearn.linear_model.LinearRegression.html\">?<span>Documentation for LinearRegression</span></a><span class=\"sk-estimator-doc-link fitted\">i<span>Fitted</span></span></label><div class=\"sk-toggleable__content fitted\"><pre>LinearRegression()</pre></div> </div></div></div></div>"
      ],
      "text/plain": [
       "LinearRegression()"
      ]
     },
     "execution_count": 61,
     "metadata": {},
     "output_type": "execute_result"
    }
   ],
   "source": [
    "from sklearn.linear_model import LinearRegression\n",
    "from sklearn.preprocessing import StandardScaler\n",
    "\n",
    "# Initialize the scaler\n",
    "scaler = StandardScaler()\n",
    "\n",
    "# Fit and transform the training data\n",
    "x_train_scaled = scaler.fit_transform(x_train)\n",
    "\n",
    "# Initialize the Linear Regression model\n",
    "lr = LinearRegression()\n",
    "\n",
    "# Fit the model on the scaled data\n",
    "lr.fit(x_train_scaled, y_train)\n"
   ]
  },
  {
   "cell_type": "code",
   "execution_count": 62,
   "metadata": {
    "colab": {
     "base_uri": "https://localhost:8080/",
     "height": 85
    },
    "colab_type": "code",
    "executionInfo": {
     "elapsed": 19485,
     "status": "ok",
     "timestamp": 1592370785909,
     "user": {
      "displayName": "Sharoon Saxena",
      "photoUrl": "https://lh3.googleusercontent.com/a-/AOh14GjyKz9rNCPkHi6QK8TjrjBFlTtaI9ngf0hIwgAl=s64",
      "userId": "01167841530696023488"
     },
     "user_tz": -330
    },
    "id": "sCpv3oAEQeet",
    "outputId": "ce8c867b-d5af-4f4c-8d30-7f2c0f26faa9"
   },
   "outputs": [
    {
     "data": {
      "text/plain": [
       "array([-13336.89292271,  25384.98011343,  65022.25166013,  16156.00977757,\n",
       "        25342.41607038,  26096.06872115,  28258.3780303 ,  90480.49956606,\n",
       "        -2904.23070435,  33919.21902241, -32023.03333761,  86705.78897678,\n",
       "       -25365.49985516,  58905.64081914,  -7865.69659689,  30642.34593863,\n",
       "       -18262.44798192])"
      ]
     },
     "execution_count": 62,
     "metadata": {},
     "output_type": "execute_result"
    }
   ],
   "source": [
    "lr.coef_"
   ]
  },
  {
   "cell_type": "code",
   "execution_count": 63,
   "metadata": {
    "colab": {},
    "colab_type": "code",
    "executionInfo": {
     "elapsed": 19473,
     "status": "ok",
     "timestamp": 1592370785910,
     "user": {
      "displayName": "Sharoon Saxena",
      "photoUrl": "https://lh3.googleusercontent.com/a-/AOh14GjyKz9rNCPkHi6QK8TjrjBFlTtaI9ngf0hIwgAl=s64",
      "userId": "01167841530696023488"
     },
     "user_tz": -330
    },
    "id": "Y0q4O7K0SUDw"
   },
   "outputs": [],
   "source": [
    "predictions = lr.predict(x_test)"
   ]
  },
  {
   "cell_type": "code",
   "execution_count": 64,
   "metadata": {
    "colab": {
     "base_uri": "https://localhost:8080/",
     "height": 34
    },
    "colab_type": "code",
    "executionInfo": {
     "elapsed": 19463,
     "status": "ok",
     "timestamp": 1592370785910,
     "user": {
      "displayName": "Sharoon Saxena",
      "photoUrl": "https://lh3.googleusercontent.com/a-/AOh14GjyKz9rNCPkHi6QK8TjrjBFlTtaI9ngf0hIwgAl=s64",
      "userId": "01167841530696023488"
     },
     "user_tz": -330
    },
    "id": "-w3xX9opSUDx",
    "outputId": "3e2468c3-e9c5-4a1e-9a23-b90be6c5ca57"
   },
   "outputs": [
    {
     "data": {
      "text/plain": [
       "0.704243402137832"
      ]
     },
     "execution_count": 64,
     "metadata": {},
     "output_type": "execute_result"
    }
   ],
   "source": [
    "lr.score(x_test, y_test)"
   ]
  },
  {
   "cell_type": "markdown",
   "metadata": {
    "colab_type": "text",
    "id": "0YGnDa7hsr7S"
   },
   "source": [
    "### 1. Residuals"
   ]
  },
  {
   "cell_type": "code",
   "execution_count": 65,
   "metadata": {
    "colab": {},
    "colab_type": "code",
    "executionInfo": {
     "elapsed": 19451,
     "status": "ok",
     "timestamp": 1592370785910,
     "user": {
      "displayName": "Sharoon Saxena",
      "photoUrl": "https://lh3.googleusercontent.com/a-/AOh14GjyKz9rNCPkHi6QK8TjrjBFlTtaI9ngf0hIwgAl=s64",
      "userId": "01167841530696023488"
     },
     "user_tz": -330
    },
    "id": "rNBdGrNBeVTz"
   },
   "outputs": [],
   "source": [
    "residuals = predictions - y_test\n",
    "\n",
    "residual_table = pd.DataFrame({'residuals':residuals,\n",
    "                    'predictions':predictions})\n",
    "residual_table = residual_table.sort_values( by = 'predictions')"
   ]
  },
  {
   "cell_type": "code",
   "execution_count": 66,
   "metadata": {
    "colab": {},
    "colab_type": "code",
    "executionInfo": {
     "elapsed": 19442,
     "status": "ok",
     "timestamp": 1592370785911,
     "user": {
      "displayName": "Sharoon Saxena",
      "photoUrl": "https://lh3.googleusercontent.com/a-/AOh14GjyKz9rNCPkHi6QK8TjrjBFlTtaI9ngf0hIwgAl=s64",
      "userId": "01167841530696023488"
     },
     "user_tz": -330
    },
    "id": "POeLxZE7ilNk"
   },
   "outputs": [],
   "source": [
    "z = [i for i in range(int(residual_table['predictions'].max()))]\n",
    "k = [0 for i in range(int(residual_table['predictions'].max()))]"
   ]
  },
  {
   "cell_type": "code",
   "execution_count": 67,
   "metadata": {
    "colab": {
     "base_uri": "https://localhost:8080/",
     "height": 683
    },
    "colab_type": "code",
    "executionInfo": {
     "elapsed": 21574,
     "status": "ok",
     "timestamp": 1592370788053,
     "user": {
      "displayName": "Sharoon Saxena",
      "photoUrl": "https://lh3.googleusercontent.com/a-/AOh14GjyKz9rNCPkHi6QK8TjrjBFlTtaI9ngf0hIwgAl=s64",
      "userId": "01167841530696023488"
     },
     "user_tz": -330
    },
    "id": "R5wMrmuDjdfj",
    "outputId": "17c6a62f-15a5-4b0f-981c-0179c34f28e8"
   },
   "outputs": [
    {
     "data": {
      "image/png": "[encoded data removed]",
      "text/plain": [
       "<Figure size 2210x910 with 1 Axes>"
      ]
     },
     "metadata": {},
     "output_type": "display_data"
    }
   ],
   "source": [
    "plt.figure(dpi = 130, figsize = (17,7))\n",
    "\n",
    "plt.scatter( residual_table['predictions'], residual_table['residuals'], color = 'red', s = 2)\n",
    "plt.plot(z, k, color = 'green', linewidth = 3, label = 'regression line')\n",
    "plt.ylim(-800000, 800000)\n",
    "plt.xlabel('fitted points (ordered by predictions)')\n",
    "plt.ylabel('residuals')\n",
    "plt.title('residual plot')\n",
    "plt.legend()\n",
    "plt.show()"
   ]
  },
  {
   "cell_type": "markdown",
   "metadata": {
    "colab_type": "text",
    "id": "CUxntcCcsvfE"
   },
   "source": [
    "## 2. Distribution of errors"
   ]
  },
  {
   "cell_type": "code",
   "execution_count": 68,
   "metadata": {
    "colab": {
     "base_uri": "https://localhost:8080/",
     "height": 631
    },
    "colab_type": "code",
    "executionInfo": {
     "elapsed": 21564,
     "status": "ok",
     "timestamp": 1592370788054,
     "user": {
      "displayName": "Sharoon Saxena",
      "photoUrl": "https://lh3.googleusercontent.com/a-/AOh14GjyKz9rNCPkHi6QK8TjrjBFlTtaI9ngf0hIwgAl=s64",
      "userId": "01167841530696023488"
     },
     "user_tz": -330
    },
    "id": "SQdU6sZbSUD5",
    "outputId": "fe7a98c8-6d4e-411c-b474-3b01e5422470"
   },
   "outputs": [
    {
     "data": {
      "image/png": "[encoded data removed]",
      "text/plain": [
       "<Figure size 1000x700 with 1 Axes>"
      ]
     },
     "metadata": {},
     "output_type": "display_data"
    }
   ],
   "source": [
    "plt.figure(dpi = 100, figsize = (10,7))\n",
    "plt.hist(residual_table['residuals'], color = 'red', bins = 200)\n",
    "plt.xlabel('residuals')\n",
    "plt.ylabel('frequency')\n",
    "plt.title('distribution of residuals')\n",
    "plt.show()"
   ]
  },
  {
   "cell_type": "markdown",
   "metadata": {
    "colab_type": "text",
    "id": "P9o7ysBD1qfM"
   },
   "source": [
    "## Model Coefficients"
   ]
  },
  {
   "cell_type": "code",
   "execution_count": 69,
   "metadata": {
    "colab": {},
    "colab_type": "code",
    "executionInfo": {
     "elapsed": 21551,
     "status": "ok",
     "timestamp": 1592370788055,
     "user": {
      "displayName": "Sharoon Saxena",
      "photoUrl": "https://lh3.googleusercontent.com/a-/AOh14GjyKz9rNCPkHi6QK8TjrjBFlTtaI9ngf0hIwgAl=s64",
      "userId": "01167841530696023488"
     },
     "user_tz": -330
    },
    "id": "ZXparRKAxzS8"
   },
   "outputs": [],
   "source": [
    "coefficients_table = pd.DataFrame({'column': x_train.columns,\n",
    "                                  'coefficients': lr.coef_})\n",
    "coefficient_table = coefficients_table.sort_values(by = 'coefficients')\n"
   ]
  },
  {
   "cell_type": "code",
   "execution_count": 70,
   "metadata": {
    "colab": {
     "base_uri": "https://localhost:8080/",
     "height": 663
    },
    "colab_type": "code",
    "executionInfo": {
     "elapsed": 22934,
     "status": "ok",
     "timestamp": 1592370789448,
     "user": {
      "displayName": "Sharoon Saxena",
      "photoUrl": "https://lh3.googleusercontent.com/a-/AOh14GjyKz9rNCPkHi6QK8TjrjBFlTtaI9ngf0hIwgAl=s64",
      "userId": "01167841530696023488"
     },
     "user_tz": -330
    },
    "id": "xDOzmCqoXZLf",
    "outputId": "18a62b2e-9832-42aa-a918-d75ca608415e"
   },
   "outputs": [
    {
     "data": {
      "image/png": "[encoded data removed]",
      "text/plain": [
       "<Figure size 960x720 with 1 Axes>"
      ]
     },
     "metadata": {},
     "output_type": "display_data"
    }
   ],
   "source": [
    "plt.figure(figsize=(8, 6), dpi=120)\n",
    "x = coefficient_table['column']\n",
    "y = coefficient_table['coefficients']\n",
    "plt.barh( x, y)\n",
    "plt.xlabel( \"Coefficients\")\n",
    "plt.ylabel('Variables')\n",
    "plt.title('Normalized Coefficient plot')\n",
    "plt.show()"
   ]
  }
 ],
 "metadata": {
  "colab": {
   "authorship_tag": "ABX9TyP/3ghUs5miYOMy3WJd3YD/",
   "name": "Linear Regression.ipynb",
   "provenance": []
  },
  "kernelspec": {
   "display_name": "Python 3",
   "name": "python3"
  },
  "language_info": {
   "codemirror_mode": {
    "name": "ipython",
    "version": 3
   },
   "file_extension": ".py",
   "mimetype": "text/x-python",
   "name": "python",
   "nbconvert_exporter": "python",
   "pygments_lexer": "ipython3",
   "version": "3.12.7"
  }
 },
 "nbformat": 4,
 "nbformat_minor": 0
}
