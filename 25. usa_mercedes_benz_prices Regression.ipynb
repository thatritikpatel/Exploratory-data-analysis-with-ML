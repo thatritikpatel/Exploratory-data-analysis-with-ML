{
 "cells": [
  {
   "cell_type": "code",
   "execution_count": 1,
   "metadata": {},
   "outputs": [],
   "source": [
    "import pandas as pd\n",
    "import seaborn as sns\n",
    "import matplotlib.pyplot  as plt\n",
    "import numpy as np\n",
    "import warnings\n",
    "warnings.filterwarnings('ignore')"
   ]
  },
  {
   "cell_type": "code",
   "execution_count": null,
   "metadata": {},
   "outputs": [
    {
     "data": {
      "text/html": [
       "<div>\n",
       "<style scoped>\n",
       "    .dataframe tbody tr th:only-of-type {\n",
       "        vertical-align: middle;\n",
       "    }\n",
       "\n",
       "    .dataframe tbody tr th {\n",
       "        vertical-align: top;\n",
       "    }\n",
       "\n",
       "    .dataframe thead th {\n",
       "        text-align: right;\n",
       "    }\n",
       "</style>\n",
       "<table border=\"1\" class=\"dataframe\">\n",
       "  <thead>\n",
       "    <tr style=\"text-align: right;\">\n",
       "      <th></th>\n",
       "      <th>Name</th>\n",
       "      <th>Mileage</th>\n",
       "      <th>Rating</th>\n",
       "      <th>Review Count</th>\n",
       "      <th>Price</th>\n",
       "    </tr>\n",
       "  </thead>\n",
       "  <tbody>\n",
       "    <tr>\n",
       "      <th>0</th>\n",
       "      <td>2021 Mercedes-Benz A-Class A 220 4MATIC</td>\n",
       "      <td>29,636 mi.</td>\n",
       "      <td>3.9</td>\n",
       "      <td>1,800</td>\n",
       "      <td>$30,900</td>\n",
       "    </tr>\n",
       "    <tr>\n",
       "      <th>1</th>\n",
       "      <td>2022 Mercedes-Benz AMG SL 63 Base</td>\n",
       "      <td>5,540 mi.</td>\n",
       "      <td>4.7</td>\n",
       "      <td>1,239</td>\n",
       "      <td>$139,999</td>\n",
       "    </tr>\n",
       "    <tr>\n",
       "      <th>2</th>\n",
       "      <td>2022 Mercedes-Benz AMG SL 63 Base</td>\n",
       "      <td>4,890 mi.</td>\n",
       "      <td>4.7</td>\n",
       "      <td>1,239</td>\n",
       "      <td>$132,999</td>\n",
       "    </tr>\n",
       "    <tr>\n",
       "      <th>3</th>\n",
       "      <td>2020 Mercedes-Benz AMG E 53 Base 4MATIC</td>\n",
       "      <td>29,746 mi.</td>\n",
       "      <td>4.8</td>\n",
       "      <td>752</td>\n",
       "      <td>$58,587</td>\n",
       "    </tr>\n",
       "    <tr>\n",
       "      <th>4</th>\n",
       "      <td>2021 Mercedes-Benz AMG GLS 63 Base 4MATIC</td>\n",
       "      <td>32,631 mi.</td>\n",
       "      <td>5.0</td>\n",
       "      <td>1,502</td>\n",
       "      <td>$95,990</td>\n",
       "    </tr>\n",
       "    <tr>\n",
       "      <th>...</th>\n",
       "      <td>...</td>\n",
       "      <td>...</td>\n",
       "      <td>...</td>\n",
       "      <td>...</td>\n",
       "      <td>...</td>\n",
       "    </tr>\n",
       "    <tr>\n",
       "      <th>2424</th>\n",
       "      <td>2021 Mercedes-Benz E-Class E 450 4MATIC</td>\n",
       "      <td>54,422 mi.</td>\n",
       "      <td>NaN</td>\n",
       "      <td>236</td>\n",
       "      <td>$53,490</td>\n",
       "    </tr>\n",
       "    <tr>\n",
       "      <th>2425</th>\n",
       "      <td>2022 Mercedes-Benz S-Class 4MATIC</td>\n",
       "      <td>11,395 mi.</td>\n",
       "      <td>4.5</td>\n",
       "      <td>1,334</td>\n",
       "      <td>$89,599</td>\n",
       "    </tr>\n",
       "    <tr>\n",
       "      <th>2426</th>\n",
       "      <td>2021 Mercedes-Benz GLB 250 Base 4MATIC</td>\n",
       "      <td>30,392 mi.</td>\n",
       "      <td>4.9</td>\n",
       "      <td>2,375</td>\n",
       "      <td>$32,890</td>\n",
       "    </tr>\n",
       "    <tr>\n",
       "      <th>2427</th>\n",
       "      <td>2023 Mercedes-Benz E-Class E 450 4MATIC</td>\n",
       "      <td>3,413 mi.</td>\n",
       "      <td>4.8</td>\n",
       "      <td>1,758</td>\n",
       "      <td>$53,983</td>\n",
       "    </tr>\n",
       "    <tr>\n",
       "      <th>2428</th>\n",
       "      <td>2023 Mercedes-Benz GLA 250 Base</td>\n",
       "      <td>6,336 mi.</td>\n",
       "      <td>4.5</td>\n",
       "      <td>2,057</td>\n",
       "      <td>$46,035</td>\n",
       "    </tr>\n",
       "  </tbody>\n",
       "</table>\n",
       "<p>2429 rows × 5 columns</p>\n",
       "</div>"
      ],
      "text/plain": [
       "                                           Name     Mileage  Rating  \\\n",
       "0       2021 Mercedes-Benz A-Class A 220 4MATIC  29,636 mi.     3.9   \n",
       "1             2022 Mercedes-Benz AMG SL 63 Base   5,540 mi.     4.7   \n",
       "2             2022 Mercedes-Benz AMG SL 63 Base   4,890 mi.     4.7   \n",
       "3       2020 Mercedes-Benz AMG E 53 Base 4MATIC  29,746 mi.     4.8   \n",
       "4     2021 Mercedes-Benz AMG GLS 63 Base 4MATIC  32,631 mi.     5.0   \n",
       "...                                         ...         ...     ...   \n",
       "2424    2021 Mercedes-Benz E-Class E 450 4MATIC  54,422 mi.     NaN   \n",
       "2425          2022 Mercedes-Benz S-Class 4MATIC  11,395 mi.     4.5   \n",
       "2426     2021 Mercedes-Benz GLB 250 Base 4MATIC  30,392 mi.     4.9   \n",
       "2427    2023 Mercedes-Benz E-Class E 450 4MATIC   3,413 mi.     4.8   \n",
       "2428            2023 Mercedes-Benz GLA 250 Base   6,336 mi.     4.5   \n",
       "\n",
       "     Review Count     Price  \n",
       "0          1,800    $30,900  \n",
       "1          1,239   $139,999  \n",
       "2          1,239   $132,999  \n",
       "3            752    $58,587  \n",
       "4          1,502    $95,990  \n",
       "...           ...       ...  \n",
       "2424         236    $53,490  \n",
       "2425       1,334    $89,599  \n",
       "2426       2,375    $32,890  \n",
       "2427       1,758    $53,983  \n",
       "2428       2,057    $46,035  \n",
       "\n",
       "[2429 rows x 5 columns]"
      ]
     },
     "execution_count": 2,
     "metadata": {},
     "output_type": "execute_result"
    }
   ],
   "source": [
    "df=pd.read_csv('datasets\\usa_mercedes_benz_prices.csv')\n",
    "df"
   ]
  },
  {
   "cell_type": "code",
   "execution_count": 3,
   "metadata": {},
   "outputs": [
    {
     "data": {
      "text/plain": [
       "(2429, 5)"
      ]
     },
     "execution_count": 3,
     "metadata": {},
     "output_type": "execute_result"
    }
   ],
   "source": [
    "df.shape"
   ]
  },
  {
   "cell_type": "code",
   "execution_count": 4,
   "metadata": {},
   "outputs": [
    {
     "data": {
      "text/html": [
       "<div>\n",
       "<style scoped>\n",
       "    .dataframe tbody tr th:only-of-type {\n",
       "        vertical-align: middle;\n",
       "    }\n",
       "\n",
       "    .dataframe tbody tr th {\n",
       "        vertical-align: top;\n",
       "    }\n",
       "\n",
       "    .dataframe thead th {\n",
       "        text-align: right;\n",
       "    }\n",
       "</style>\n",
       "<table border=\"1\" class=\"dataframe\">\n",
       "  <thead>\n",
       "    <tr style=\"text-align: right;\">\n",
       "      <th></th>\n",
       "      <th>Name</th>\n",
       "      <th>Mileage</th>\n",
       "      <th>Rating</th>\n",
       "      <th>Review Count</th>\n",
       "      <th>Price</th>\n",
       "    </tr>\n",
       "  </thead>\n",
       "  <tbody>\n",
       "    <tr>\n",
       "      <th>0</th>\n",
       "      <td>2021 Mercedes-Benz A-Class A 220 4MATIC</td>\n",
       "      <td>29,636 mi.</td>\n",
       "      <td>3.9</td>\n",
       "      <td>1,800</td>\n",
       "      <td>$30,900</td>\n",
       "    </tr>\n",
       "    <tr>\n",
       "      <th>1</th>\n",
       "      <td>2022 Mercedes-Benz AMG SL 63 Base</td>\n",
       "      <td>5,540 mi.</td>\n",
       "      <td>4.7</td>\n",
       "      <td>1,239</td>\n",
       "      <td>$139,999</td>\n",
       "    </tr>\n",
       "    <tr>\n",
       "      <th>2</th>\n",
       "      <td>2022 Mercedes-Benz AMG SL 63 Base</td>\n",
       "      <td>4,890 mi.</td>\n",
       "      <td>4.7</td>\n",
       "      <td>1,239</td>\n",
       "      <td>$132,999</td>\n",
       "    </tr>\n",
       "    <tr>\n",
       "      <th>3</th>\n",
       "      <td>2020 Mercedes-Benz AMG E 53 Base 4MATIC</td>\n",
       "      <td>29,746 mi.</td>\n",
       "      <td>4.8</td>\n",
       "      <td>752</td>\n",
       "      <td>$58,587</td>\n",
       "    </tr>\n",
       "    <tr>\n",
       "      <th>4</th>\n",
       "      <td>2021 Mercedes-Benz AMG GLS 63 Base 4MATIC</td>\n",
       "      <td>32,631 mi.</td>\n",
       "      <td>5.0</td>\n",
       "      <td>1,502</td>\n",
       "      <td>$95,990</td>\n",
       "    </tr>\n",
       "  </tbody>\n",
       "</table>\n",
       "</div>"
      ],
      "text/plain": [
       "                                        Name     Mileage  Rating Review Count  \\\n",
       "0    2021 Mercedes-Benz A-Class A 220 4MATIC  29,636 mi.     3.9       1,800    \n",
       "1          2022 Mercedes-Benz AMG SL 63 Base   5,540 mi.     4.7       1,239    \n",
       "2          2022 Mercedes-Benz AMG SL 63 Base   4,890 mi.     4.7       1,239    \n",
       "3    2020 Mercedes-Benz AMG E 53 Base 4MATIC  29,746 mi.     4.8         752    \n",
       "4  2021 Mercedes-Benz AMG GLS 63 Base 4MATIC  32,631 mi.     5.0       1,502    \n",
       "\n",
       "      Price  \n",
       "0   $30,900  \n",
       "1  $139,999  \n",
       "2  $132,999  \n",
       "3   $58,587  \n",
       "4   $95,990  "
      ]
     },
     "execution_count": 4,
     "metadata": {},
     "output_type": "execute_result"
    }
   ],
   "source": [
    "df.head()"
   ]
  },
  {
   "cell_type": "code",
   "execution_count": 5,
   "metadata": {},
   "outputs": [],
   "source": [
    "df.drop('Name',axis=1,inplace=True)"
   ]
  },
  {
   "cell_type": "code",
   "execution_count": 6,
   "metadata": {},
   "outputs": [
    {
     "data": {
      "text/html": [
       "<div>\n",
       "<style scoped>\n",
       "    .dataframe tbody tr th:only-of-type {\n",
       "        vertical-align: middle;\n",
       "    }\n",
       "\n",
       "    .dataframe tbody tr th {\n",
       "        vertical-align: top;\n",
       "    }\n",
       "\n",
       "    .dataframe thead th {\n",
       "        text-align: right;\n",
       "    }\n",
       "</style>\n",
       "<table border=\"1\" class=\"dataframe\">\n",
       "  <thead>\n",
       "    <tr style=\"text-align: right;\">\n",
       "      <th></th>\n",
       "      <th>Mileage</th>\n",
       "      <th>Rating</th>\n",
       "      <th>Review Count</th>\n",
       "      <th>Price</th>\n",
       "    </tr>\n",
       "  </thead>\n",
       "  <tbody>\n",
       "    <tr>\n",
       "      <th>0</th>\n",
       "      <td>29,636 mi.</td>\n",
       "      <td>3.9</td>\n",
       "      <td>1,800</td>\n",
       "      <td>$30,900</td>\n",
       "    </tr>\n",
       "    <tr>\n",
       "      <th>1</th>\n",
       "      <td>5,540 mi.</td>\n",
       "      <td>4.7</td>\n",
       "      <td>1,239</td>\n",
       "      <td>$139,999</td>\n",
       "    </tr>\n",
       "    <tr>\n",
       "      <th>2</th>\n",
       "      <td>4,890 mi.</td>\n",
       "      <td>4.7</td>\n",
       "      <td>1,239</td>\n",
       "      <td>$132,999</td>\n",
       "    </tr>\n",
       "    <tr>\n",
       "      <th>3</th>\n",
       "      <td>29,746 mi.</td>\n",
       "      <td>4.8</td>\n",
       "      <td>752</td>\n",
       "      <td>$58,587</td>\n",
       "    </tr>\n",
       "    <tr>\n",
       "      <th>4</th>\n",
       "      <td>32,631 mi.</td>\n",
       "      <td>5.0</td>\n",
       "      <td>1,502</td>\n",
       "      <td>$95,990</td>\n",
       "    </tr>\n",
       "  </tbody>\n",
       "</table>\n",
       "</div>"
      ],
      "text/plain": [
       "      Mileage  Rating Review Count     Price\n",
       "0  29,636 mi.     3.9       1,800    $30,900\n",
       "1   5,540 mi.     4.7       1,239   $139,999\n",
       "2   4,890 mi.     4.7       1,239   $132,999\n",
       "3  29,746 mi.     4.8         752    $58,587\n",
       "4  32,631 mi.     5.0       1,502    $95,990"
      ]
     },
     "execution_count": 6,
     "metadata": {},
     "output_type": "execute_result"
    }
   ],
   "source": [
    "df.head()"
   ]
  },
  {
   "cell_type": "code",
   "execution_count": 7,
   "metadata": {},
   "outputs": [
    {
     "data": {
      "text/plain": [
       "Mileage           0\n",
       "Rating          294\n",
       "Review Count     31\n",
       "Price             0\n",
       "dtype: int64"
      ]
     },
     "execution_count": 7,
     "metadata": {},
     "output_type": "execute_result"
    }
   ],
   "source": [
    "df.isna().sum()"
   ]
  },
  {
   "cell_type": "code",
   "execution_count": 8,
   "metadata": {},
   "outputs": [
    {
     "data": {
      "text/plain": [
       "Mileage          object\n",
       "Rating          float64\n",
       "Review Count     object\n",
       "Price            object\n",
       "dtype: object"
      ]
     },
     "execution_count": 8,
     "metadata": {},
     "output_type": "execute_result"
    }
   ],
   "source": [
    "df.dtypes"
   ]
  },
  {
   "cell_type": "code",
   "execution_count": 9,
   "metadata": {},
   "outputs": [
    {
     "data": {
      "text/plain": [
       "array(['1,800 ', '1,239 ', '752 ', '1,502 ', '98 ', '902 ', '344 ',\n",
       "       '1,594 ', '585 ', '377 ', '899 ', '352 ', '2,166 ', '991 ',\n",
       "       '1,424 ', '1,050 ', '150 ', '1,948 ', '146 ', '526 ', '1,371 ',\n",
       "       '2,118 ', '1,094 ', '192 ', '716 ', '483 ', '1,291 ', '94 ',\n",
       "       '662 ', '37 ', '2,931 ', '2,468 ', '821 ', '33 ', '50 ', '788 ',\n",
       "       '1,231 ', '15 ', '244 ', '2,891 ', '2,783 ', '419 ', '1,372 ',\n",
       "       '894 ', '1,491 ', '4,585 ', '1 ', '1,899 ', '112 ', '1,735 ',\n",
       "       '2,516 ', '819 ', '12 ', '28 ', '79 ', '0 ', '1,411 ', '1,018 ',\n",
       "       '543 ', '468 ', '2,057 ', '417 ', '274 ', '443 ', '981 ', '696 ',\n",
       "       '1,354 ', '266 ', '110 ', '316 ', '2,879 ', '527 ', '297 ',\n",
       "       '2,308 ', '1,915 ', nan, '2,963 ', '862 ', '29 ', '969 ', '1,152 ',\n",
       "       '843 ', '557 ', '113 ', '2,059 ', '2,506 ', '5,510 ', '911 ',\n",
       "       '522 ', '1,905 ', '65 ', '184 ', '1,276 ', '318 ', '5,398 ',\n",
       "       '501 ', '2,375 ', '558 ', '122 ', '848 ', '1,405 ', '322 ', '654 ',\n",
       "       '1,014 ', '2,339 ', '4,576 ', '5 ', '615 ', '11 ', '295 ', '420 ',\n",
       "       '775 ', '8 ', '977 ', '60 ', '823 ', '348 ', '285 ', '133 ',\n",
       "       '129 ', '3,563 ', '376 ', '1,847 ', '673 ', '2,054 ', '59 ',\n",
       "       '1,515 ', '471 ', '2,204 ', '147 ', '10 ', '2 ', '203 ', '272 ',\n",
       "       '1,008 ', '1,248 ', '993 ', '1,758 ', '452 ', '1,096 ', '786 ',\n",
       "       '9 ', '1,102 ', '949 ', '827 ', '186 ', '1,838 ', '611 ', '1,661 ',\n",
       "       '2,465 ', '24 ', '449 ', '479 ', '157 ', '304 ', '3,116 ',\n",
       "       '1,782 ', '86 ', '4,823 ', '2,002 ', '2,350 ', '47 ', '1,171 ',\n",
       "       '1,334 ', '70 ', '735 ', '800 ', '2,501 ', '378 ', '996 ', '197 ',\n",
       "       '416 ', '649 ', '2,241 ', '1,089 ', '159 ', '236 ', '97 ', '254 ',\n",
       "       '173 ', '1,001 ', '7 ', '1,684 ', '268 ', '234 ', '2,986 ', '64 ',\n",
       "       '450 ', '418 ', '568 ', '3,258 ', '1,539 ', '83 ', '401 ', '6 ',\n",
       "       '608 ', '69 ', '925 ', '2,881 ', '1,870 ', '474 ', '919 ',\n",
       "       '1,246 ', '689 ', '76 ', '599 ', '311 ', '507 ', '132 ', '1,517 ',\n",
       "       '4,322 ', '1,797 ', '130 ', '5,929 ', '2,195 ', '699 ', '1,926 ',\n",
       "       '7,140 ', '2,811 ', '294 ', '87 ', '1,492 ', '22 ', '4,865 ',\n",
       "       '329 ', '1,647 ', '1,729 ', '1,038 ', '2,867 ', '1,375 ', '328 ',\n",
       "       '67 ', '3,222 ', '607 ', '38 ', '516 ', '587 ', '828 ', '639 ',\n",
       "       '1,054 ', '627 ', '365 ', '32 ', '2,043 ', '160 ', '23 ', '238 ',\n",
       "       '733 ', '66 ', '386 ', '199 ', '301 ', '27 ', '935 ', '1,003 ',\n",
       "       '265 ', '1,346 ', '56 ', '1,124 ', '189 ', '17 ', '2,945 '],\n",
       "      dtype=object)"
      ]
     },
     "execution_count": 9,
     "metadata": {},
     "output_type": "execute_result"
    }
   ],
   "source": [
    "df['Review Count'].unique()"
   ]
  },
  {
   "cell_type": "code",
   "execution_count": 10,
   "metadata": {},
   "outputs": [],
   "source": [
    "def Review_count_process(item):\n",
    "    if len(str(item))>3:\n",
    "        res=int(str(item).replace(',',''))\n",
    "        return res"
   ]
  },
  {
   "cell_type": "code",
   "execution_count": 11,
   "metadata": {},
   "outputs": [],
   "source": [
    "df['Review Count']=df['Review Count'].apply(Review_count_process)"
   ]
  },
  {
   "cell_type": "code",
   "execution_count": 12,
   "metadata": {},
   "outputs": [
    {
     "data": {
      "text/plain": [
       "array([1800., 1239.,  752., 1502.,   nan,  902.,  344., 1594.,  585.,\n",
       "        377.,  899.,  352., 2166.,  991., 1424., 1050.,  150., 1948.,\n",
       "        146.,  526., 1371., 2118., 1094.,  192.,  716.,  483., 1291.,\n",
       "        662., 2931., 2468.,  821.,  788., 1231.,  244., 2891., 2783.,\n",
       "        419., 1372.,  894., 1491., 4585., 1899.,  112., 1735., 2516.,\n",
       "        819., 1411., 1018.,  543.,  468., 2057.,  417.,  274.,  443.,\n",
       "        981.,  696., 1354.,  266.,  110.,  316., 2879.,  527.,  297.,\n",
       "       2308., 1915., 2963.,  862.,  969., 1152.,  843.,  557.,  113.,\n",
       "       2059., 2506., 5510.,  911.,  522., 1905.,  184., 1276.,  318.,\n",
       "       5398.,  501., 2375.,  558.,  122.,  848., 1405.,  322.,  654.,\n",
       "       1014., 2339., 4576.,  615.,  295.,  420.,  775.,  977.,  823.,\n",
       "        348.,  285.,  133.,  129., 3563.,  376., 1847.,  673., 2054.,\n",
       "       1515.,  471., 2204.,  147.,  203.,  272., 1008., 1248.,  993.,\n",
       "       1758.,  452., 1096.,  786., 1102.,  949.,  827.,  186., 1838.,\n",
       "        611., 1661., 2465.,  449.,  479.,  157.,  304., 3116., 1782.,\n",
       "       4823., 2002., 2350., 1171., 1334.,  735.,  800., 2501.,  378.,\n",
       "        996.,  197.,  416.,  649., 2241., 1089.,  159.,  236.,  254.,\n",
       "        173., 1001., 1684.,  268.,  234., 2986.,  450.,  418.,  568.,\n",
       "       3258., 1539.,  401.,  608.,  925., 2881., 1870.,  474.,  919.,\n",
       "       1246.,  689.,  599.,  311.,  507.,  132., 1517., 4322., 1797.,\n",
       "        130., 5929., 2195.,  699., 1926., 7140., 2811.,  294., 1492.,\n",
       "       4865.,  329., 1647., 1729., 1038., 2867., 1375.,  328., 3222.,\n",
       "        607.,  516.,  587.,  828.,  639., 1054.,  627.,  365., 2043.,\n",
       "        160.,  238.,  733.,  386.,  199.,  301.,  935., 1003.,  265.,\n",
       "       1346., 1124.,  189., 2945.])"
      ]
     },
     "execution_count": 12,
     "metadata": {},
     "output_type": "execute_result"
    }
   ],
   "source": [
    "df['Review Count'].unique()"
   ]
  },
  {
   "cell_type": "code",
   "execution_count": 13,
   "metadata": {},
   "outputs": [],
   "source": [
    "df['Review Count']=df['Review Count'].fillna(df['Review Count'].mean())"
   ]
  },
  {
   "cell_type": "code",
   "execution_count": 14,
   "metadata": {},
   "outputs": [
    {
     "data": {
      "text/plain": [
       "Mileage           0\n",
       "Rating          294\n",
       "Review Count      0\n",
       "Price             0\n",
       "dtype: int64"
      ]
     },
     "execution_count": 14,
     "metadata": {},
     "output_type": "execute_result"
    }
   ],
   "source": [
    "df.isna().sum()"
   ]
  },
  {
   "cell_type": "code",
   "execution_count": 15,
   "metadata": {},
   "outputs": [
    {
     "data": {
      "text/plain": [
       "Mileage          object\n",
       "Rating          float64\n",
       "Review Count    float64\n",
       "Price            object\n",
       "dtype: object"
      ]
     },
     "execution_count": 15,
     "metadata": {},
     "output_type": "execute_result"
    }
   ],
   "source": [
    "df.dtypes"
   ]
  },
  {
   "cell_type": "code",
   "execution_count": 16,
   "metadata": {},
   "outputs": [],
   "source": [
    "df['Rating']=df['Rating'].fillna(df['Rating'].mean())"
   ]
  },
  {
   "cell_type": "code",
   "execution_count": 17,
   "metadata": {},
   "outputs": [
    {
     "data": {
      "text/plain": [
       "Mileage         0\n",
       "Rating          0\n",
       "Review Count    0\n",
       "Price           0\n",
       "dtype: int64"
      ]
     },
     "execution_count": 17,
     "metadata": {},
     "output_type": "execute_result"
    }
   ],
   "source": [
    "df.isna().sum()"
   ]
  },
  {
   "cell_type": "code",
   "execution_count": 18,
   "metadata": {},
   "outputs": [
    {
     "data": {
      "text/plain": [
       "32"
      ]
     },
     "execution_count": 18,
     "metadata": {},
     "output_type": "execute_result"
    }
   ],
   "source": [
    "df.duplicated().sum()"
   ]
  },
  {
   "cell_type": "code",
   "execution_count": 19,
   "metadata": {},
   "outputs": [],
   "source": [
    "df.drop_duplicates(inplace=True)"
   ]
  },
  {
   "cell_type": "code",
   "execution_count": 20,
   "metadata": {},
   "outputs": [
    {
     "data": {
      "text/plain": [
       "0"
      ]
     },
     "execution_count": 20,
     "metadata": {},
     "output_type": "execute_result"
    }
   ],
   "source": [
    "df.duplicated().sum()"
   ]
  },
  {
   "cell_type": "code",
   "execution_count": 21,
   "metadata": {},
   "outputs": [
    {
     "data": {
      "text/plain": [
       "Mileage          object\n",
       "Rating          float64\n",
       "Review Count    float64\n",
       "Price            object\n",
       "dtype: object"
      ]
     },
     "execution_count": 21,
     "metadata": {},
     "output_type": "execute_result"
    }
   ],
   "source": [
    "df.dtypes"
   ]
  },
  {
   "cell_type": "code",
   "execution_count": 22,
   "metadata": {},
   "outputs": [],
   "source": [
    "df['Mileage']=df['Mileage'].str.replace(\",\",\"\").str.replace(\"mi.\",\"\")\n",
    "\n",
    "    "
   ]
  },
  {
   "cell_type": "code",
   "execution_count": 23,
   "metadata": {},
   "outputs": [
    {
     "data": {
      "text/plain": [
       "array(['29636 ', '5540 ', '4890 ', ..., '11395 ', '30392 ', '6336 '],\n",
       "      dtype=object)"
      ]
     },
     "execution_count": 23,
     "metadata": {},
     "output_type": "execute_result"
    }
   ],
   "source": [
    "df['Mileage'].unique()"
   ]
  },
  {
   "cell_type": "code",
   "execution_count": 24,
   "metadata": {},
   "outputs": [],
   "source": [
    "df['Mileage']=df['Mileage'].astype(int)"
   ]
  },
  {
   "cell_type": "code",
   "execution_count": 25,
   "metadata": {},
   "outputs": [
    {
     "data": {
      "text/plain": [
       "array([29636,  5540,  4890, ..., 11395, 30392,  6336])"
      ]
     },
     "execution_count": 25,
     "metadata": {},
     "output_type": "execute_result"
    }
   ],
   "source": [
    "df['Mileage'].unique()"
   ]
  },
  {
   "cell_type": "code",
   "execution_count": 26,
   "metadata": {},
   "outputs": [
    {
     "data": {
      "text/plain": [
       "array(['$30,900', '$139,999', '$132,999', ..., '$89,599', '$32,890',\n",
       "       '$46,035'], dtype=object)"
      ]
     },
     "execution_count": 26,
     "metadata": {},
     "output_type": "execute_result"
    }
   ],
   "source": [
    "df['Price'].unique()"
   ]
  },
  {
   "cell_type": "code",
   "execution_count": 27,
   "metadata": {},
   "outputs": [],
   "source": [
    "df['Price']=df['Price'].str.replace(\"$\",\"\").str.replace(\",\",\"\")\n"
   ]
  },
  {
   "cell_type": "code",
   "execution_count": 28,
   "metadata": {},
   "outputs": [],
   "source": [
    "df['Price']=pd.to_numeric(df['Price'],errors='coerce').astype('float64')"
   ]
  },
  {
   "cell_type": "code",
   "execution_count": 29,
   "metadata": {},
   "outputs": [
    {
     "data": {
      "text/plain": [
       "Mileage           int32\n",
       "Rating          float64\n",
       "Review Count    float64\n",
       "Price           float64\n",
       "dtype: object"
      ]
     },
     "execution_count": 29,
     "metadata": {},
     "output_type": "execute_result"
    }
   ],
   "source": [
    "df.dtypes"
   ]
  },
  {
   "cell_type": "code",
   "execution_count": 30,
   "metadata": {},
   "outputs": [
    {
     "data": {
      "text/plain": [
       "Mileage         0\n",
       "Rating          0\n",
       "Review Count    0\n",
       "Price           1\n",
       "dtype: int64"
      ]
     },
     "execution_count": 30,
     "metadata": {},
     "output_type": "execute_result"
    }
   ],
   "source": [
    "df.isna().sum()"
   ]
  },
  {
   "cell_type": "code",
   "execution_count": 31,
   "metadata": {},
   "outputs": [],
   "source": [
    "df['Price']=df['Price'].fillna(df['Price'].mean())"
   ]
  },
  {
   "cell_type": "code",
   "execution_count": 32,
   "metadata": {},
   "outputs": [
    {
     "data": {
      "text/plain": [
       "Mileage         0\n",
       "Rating          0\n",
       "Review Count    0\n",
       "Price           0\n",
       "dtype: int64"
      ]
     },
     "execution_count": 32,
     "metadata": {},
     "output_type": "execute_result"
    }
   ],
   "source": [
    "df.isna().sum()"
   ]
  },
  {
   "cell_type": "code",
   "execution_count": 33,
   "metadata": {},
   "outputs": [
    {
     "data": {
      "text/plain": [
       "<Axes: >"
      ]
     },
     "execution_count": 33,
     "metadata": {},
     "output_type": "execute_result"
    },
    {
     "data": {
      "image/png": "[encoded data removed]",
      "text/plain": [
       "<Figure size 640x480 with 1 Axes>"
      ]
     },
     "metadata": {},
     "output_type": "display_data"
    }
   ],
   "source": [
    "col=['Mileage','Rating','Review Count','Price']\n",
    "sns.boxplot(df[col])\n"
   ]
  },
  {
   "cell_type": "code",
   "execution_count": 66,
   "metadata": {},
   "outputs": [],
   "source": [
    "col=['Mileage','Rating','Review Count','Price']\n",
    "for col in col:\n",
    "    Q1=df[col].quantile(0.25)\n",
    "    Q3=df[col].quantile(0.75)\n",
    "\n",
    "    IQR=Q3-Q1\n",
    "    lowwer_fence=Q1-1.5*IQR\n",
    "    upper_fence=Q3+1.5*IQR\n",
    "\n",
    "    df[col]=np.where(((pd.Series(df[col]))>=upper_fence) | ((pd.Series(df[col]))<=lowwer_fence), df[col].median(),df[col])\n",
    "\n",
    "    \n"
   ]
  },
  {
   "cell_type": "code",
   "execution_count": 71,
   "metadata": {},
   "outputs": [
    {
     "data": {
      "text/html": [
       "<div>\n",
       "<style scoped>\n",
       "    .dataframe tbody tr th:only-of-type {\n",
       "        vertical-align: middle;\n",
       "    }\n",
       "\n",
       "    .dataframe tbody tr th {\n",
       "        vertical-align: top;\n",
       "    }\n",
       "\n",
       "    .dataframe thead th {\n",
       "        text-align: right;\n",
       "    }\n",
       "</style>\n",
       "<table border=\"1\" class=\"dataframe\">\n",
       "  <thead>\n",
       "    <tr style=\"text-align: right;\">\n",
       "      <th></th>\n",
       "      <th>Mileage</th>\n",
       "    </tr>\n",
       "  </thead>\n",
       "  <tbody>\n",
       "    <tr>\n",
       "      <th>0</th>\n",
       "      <td>29636.0</td>\n",
       "    </tr>\n",
       "    <tr>\n",
       "      <th>1</th>\n",
       "      <td>5540.0</td>\n",
       "    </tr>\n",
       "    <tr>\n",
       "      <th>2</th>\n",
       "      <td>4890.0</td>\n",
       "    </tr>\n",
       "    <tr>\n",
       "      <th>3</th>\n",
       "      <td>29746.0</td>\n",
       "    </tr>\n",
       "    <tr>\n",
       "      <th>4</th>\n",
       "      <td>32631.0</td>\n",
       "    </tr>\n",
       "    <tr>\n",
       "      <th>...</th>\n",
       "      <td>...</td>\n",
       "    </tr>\n",
       "    <tr>\n",
       "      <th>2424</th>\n",
       "      <td>54422.0</td>\n",
       "    </tr>\n",
       "    <tr>\n",
       "      <th>2425</th>\n",
       "      <td>11395.0</td>\n",
       "    </tr>\n",
       "    <tr>\n",
       "      <th>2426</th>\n",
       "      <td>30392.0</td>\n",
       "    </tr>\n",
       "    <tr>\n",
       "      <th>2427</th>\n",
       "      <td>3413.0</td>\n",
       "    </tr>\n",
       "    <tr>\n",
       "      <th>2428</th>\n",
       "      <td>6336.0</td>\n",
       "    </tr>\n",
       "  </tbody>\n",
       "</table>\n",
       "<p>2397 rows × 1 columns</p>\n",
       "</div>"
      ],
      "text/plain": [
       "      Mileage\n",
       "0     29636.0\n",
       "1      5540.0\n",
       "2      4890.0\n",
       "3     29746.0\n",
       "4     32631.0\n",
       "...       ...\n",
       "2424  54422.0\n",
       "2425  11395.0\n",
       "2426  30392.0\n",
       "2427   3413.0\n",
       "2428   6336.0\n",
       "\n",
       "[2397 rows x 1 columns]"
      ]
     },
     "execution_count": 71,
     "metadata": {},
     "output_type": "execute_result"
    }
   ],
   "source": [
    "#Linear Regression \n",
    "x=df[['Mileage']]\n",
    "y=df['Price']\n",
    "x"
   ]
  },
  {
   "cell_type": "code",
   "execution_count": 72,
   "metadata": {},
   "outputs": [
    {
     "data": {
      "text/plain": [
       "0       30900.0\n",
       "1       46900.0\n",
       "2       46900.0\n",
       "3       58587.0\n",
       "4       46900.0\n",
       "         ...   \n",
       "2424    53490.0\n",
       "2425    46900.0\n",
       "2426    32890.0\n",
       "2427    53983.0\n",
       "2428    46035.0\n",
       "Name: Price, Length: 2397, dtype: float64"
      ]
     },
     "execution_count": 72,
     "metadata": {},
     "output_type": "execute_result"
    }
   ],
   "source": [
    "y"
   ]
  },
  {
   "cell_type": "code",
   "execution_count": 73,
   "metadata": {},
   "outputs": [
    {
     "data": {
      "text/plain": [
       "((1605, 1), (792, 1))"
      ]
     },
     "execution_count": 73,
     "metadata": {},
     "output_type": "execute_result"
    }
   ],
   "source": [
    "from sklearn.model_selection import train_test_split\n",
    "x_train,x_test,y_train,y_test=train_test_split(x,y,test_size=0.33,random_state=1)\n",
    "x_train.shape,x_test.shape"
   ]
  },
  {
   "cell_type": "code",
   "execution_count": 74,
   "metadata": {},
   "outputs": [
    {
     "data": {
      "text/plain": [
       "array([[-1.22895202e-01],\n",
       "       [-5.77704946e-01],\n",
       "       [-1.01123065e+00],\n",
       "       [ 1.32963411e-01],\n",
       "       [ 5.54850408e-01],\n",
       "       [-6.28825227e-01],\n",
       "       [ 1.70135935e+00],\n",
       "       [-2.14525894e-01],\n",
       "       [ 9.11213422e-01],\n",
       "       [ 7.31617266e-01],\n",
       "       [ 9.16550508e-01],\n",
       "       [ 1.70380283e+00],\n",
       "       [-8.59155851e-01],\n",
       "       [-2.65704468e-02],\n",
       "       [-3.03584497e-01],\n",
       "       [ 1.48543243e+00],\n",
       "       [ 2.97898056e+00],\n",
       "       [ 6.73423738e-01],\n",
       "       [-7.32544740e-01],\n",
       "       [ 6.13108237e-01],\n",
       "       [-3.96501234e-01],\n",
       "       [-6.41299862e-01],\n",
       "       [ 3.44582083e-01],\n",
       "       [ 1.91544554e-03],\n",
       "       [-8.63012183e-03],\n",
       "       [-1.04228863e+00],\n",
       "       [-7.38396244e-01],\n",
       "       [-2.43912018e-01],\n",
       "       [ 1.24024798e+00],\n",
       "       [-1.20703097e+00],\n",
       "       [-6.31204410e-01],\n",
       "       [-5.00992374e-01],\n",
       "       [-1.13822757e+00],\n",
       "       [ 1.09505353e+00],\n",
       "       [ 2.47607274e+00],\n",
       "       [-6.15450361e-01],\n",
       "       [ 2.36361413e-01],\n",
       "       [-4.64147190e-01],\n",
       "       [ 4.14735827e-01],\n",
       "       [-3.29303590e-03],\n",
       "       [-1.02203343e+00],\n",
       "       [-6.09727462e-01],\n",
       "       [ 5.82564673e-01],\n",
       "       [-8.58384224e-01],\n",
       "       [-6.21623376e-01],\n",
       "       [ 7.55602001e-01],\n",
       "       [ 9.02404015e-01],\n",
       "       [-7.81671652e-01],\n",
       "       [-7.85015368e-01],\n",
       "       [-2.76963370e-01],\n",
       "       [-1.71700603e-01],\n",
       "       [-5.31535938e-01],\n",
       "       [ 9.38091758e-01],\n",
       "       [ 7.69298378e-01],\n",
       "       [ 1.81221641e+00],\n",
       "       [ 1.07254774e+00],\n",
       "       [-1.12941817e+00],\n",
       "       [ 2.32117465e-01],\n",
       "       [-8.36071347e-01],\n",
       "       [-8.07842663e-01],\n",
       "       [ 1.51841947e+00],\n",
       "       [-7.04830475e-01],\n",
       "       [ 1.63120560e+00],\n",
       "       [-3.03584497e-01],\n",
       "       [ 5.22640995e-02],\n",
       "       [ 2.19320718e+00],\n",
       "       [-3.10336232e-01],\n",
       "       [ 3.45932430e-01],\n",
       "       [-2.43011787e-01],\n",
       "       [-1.07765486e+00],\n",
       "       [-3.03584497e-01],\n",
       "       [-5.53655909e-01],\n",
       "       [-3.03584497e-01],\n",
       "       [-2.44490738e-01],\n",
       "       [ 7.19849956e-01],\n",
       "       [-6.85346896e-01],\n",
       "       [ 1.26918399e+00],\n",
       "       [-8.99344751e-01],\n",
       "       [-8.80182683e-01],\n",
       "       [ 1.79839744e-01],\n",
       "       [-8.81854542e-01],\n",
       "       [-2.39539466e-01],\n",
       "       [-1.50223654e-01],\n",
       "       [ 5.53564363e-01],\n",
       "       [ 2.40559748e+00],\n",
       "       [ 1.21812801e+00],\n",
       "       [ 1.22970242e+00],\n",
       "       [ 1.14057951e+00],\n",
       "       [ 6.54776089e-01],\n",
       "       [ 4.41549861e-01],\n",
       "       [ 4.81867365e-01],\n",
       "       [ 4.22966513e-01],\n",
       "       [ 2.39961737e+00],\n",
       "       [ 8.40545260e-01],\n",
       "       [-6.72807959e-01],\n",
       "       [-2.37803305e-01],\n",
       "       [-1.04492502e+00],\n",
       "       [ 7.13098221e-01],\n",
       "       [ 1.24320589e+00],\n",
       "       [ 7.48528755e-01],\n",
       "       [-9.42362950e-01],\n",
       "       [-2.39796675e-01],\n",
       "       [-1.06582325e+00],\n",
       "       [-9.36382841e-01],\n",
       "       [-7.26751529e-02],\n",
       "       [-1.13282618e+00],\n",
       "       [-1.00576496e+00],\n",
       "       [ 4.83416629e-02],\n",
       "       [ 5.39739381e-01],\n",
       "       [-8.87448837e-01],\n",
       "       [-8.19674276e-01],\n",
       "       [-5.76161693e-01],\n",
       "       [-1.07823358e+00],\n",
       "       [-9.28537968e-01],\n",
       "       [ 9.35841180e-01],\n",
       "       [ 1.29882733e+00],\n",
       "       [ 7.79458132e-01],\n",
       "       [-8.68672583e-01],\n",
       "       [-8.96901266e-01],\n",
       "       [ 1.39187267e+00],\n",
       "       [ 6.61334917e-01],\n",
       "       [ 1.32937089e+00],\n",
       "       [-7.80771420e-01],\n",
       "       [-9.79336738e-01],\n",
       "       [-4.03060062e-01],\n",
       "       [ 8.07686816e-01],\n",
       "       [-7.54664711e-01],\n",
       "       [-1.07842649e+00],\n",
       "       [-1.06202942e+00],\n",
       "       [ 8.52055361e-01],\n",
       "       [-3.85248342e-01],\n",
       "       [-7.91252685e-01],\n",
       "       [-1.10093227e+00],\n",
       "       [-9.18056703e-01],\n",
       "       [-8.00705115e-01],\n",
       "       [-3.09436001e-01],\n",
       "       [ 9.50244882e-01],\n",
       "       [-6.99943505e-01],\n",
       "       [ 1.10174096e+00],\n",
       "       [-6.29403947e-01],\n",
       "       [-8.37351382e-02],\n",
       "       [ 9.16807717e-01],\n",
       "       [-5.97252827e-01],\n",
       "       [-1.11662202e+00],\n",
       "       [-1.13411223e+00],\n",
       "       [-6.40271026e-01],\n",
       "       [-1.06665918e+00],\n",
       "       [ 1.18559108e+00],\n",
       "       [-9.74385465e-01],\n",
       "       [-6.47730086e-01],\n",
       "       [-4.93018896e-01],\n",
       "       [-2.60373392e-01],\n",
       "       [-5.99372998e-03],\n",
       "       [-6.62133787e-01],\n",
       "       [ 3.30499892e-01],\n",
       "       [-8.63206892e-01],\n",
       "       [-1.43793430e-01],\n",
       "       [-7.36338572e-01],\n",
       "       [ 1.20018769e+00],\n",
       "       [-1.13912780e+00],\n",
       "       [ 5.02251175e-01],\n",
       "       [ 2.00473732e+00],\n",
       "       [ 2.08004125e-01],\n",
       "       [-1.07881230e+00],\n",
       "       [-7.38267640e-01],\n",
       "       [ 1.01113910e+00],\n",
       "       [ 1.02316362e+00],\n",
       "       [-1.65334681e-01],\n",
       "       [ 9.86260146e-02],\n",
       "       [ 1.65737662e+00],\n",
       "       [-3.03584497e-01],\n",
       "       [ 2.08203041e-02],\n",
       "       [ 1.94114841e-01],\n",
       "       [ 2.99763421e-01],\n",
       "       [-1.02672749e+00],\n",
       "       [ 2.85564886e+00],\n",
       "       [ 6.42944477e-01],\n",
       "       [-6.08312813e-01],\n",
       "       [ 1.17838923e+00],\n",
       "       [ 2.64911607e-01],\n",
       "       [-8.95165105e-01],\n",
       "       [-5.29799777e-01],\n",
       "       [-7.26564632e-01],\n",
       "       [ 5.36138456e-01],\n",
       "       [ 1.88912369e-02],\n",
       "       [-9.63646991e-01],\n",
       "       [-6.89655146e-01],\n",
       "       [-5.25813039e-01],\n",
       "       [-1.11051331e+00],\n",
       "       [-3.84669622e-01],\n",
       "       [ 6.48731678e-01],\n",
       "       [-1.16555602e+00],\n",
       "       [-2.48413175e-01],\n",
       "       [ 5.87065830e-01],\n",
       "       [-1.16459149e+00],\n",
       "       [-5.83556450e-01],\n",
       "       [-5.53591606e-01],\n",
       "       [-1.13411223e+00],\n",
       "       [-9.02238352e-01],\n",
       "       [-1.06433829e-01],\n",
       "       [-1.05161246e+00],\n",
       "       [ 1.14045091e+00],\n",
       "       [ 1.19382177e+00],\n",
       "       [-5.21247580e-01],\n",
       "       [-4.37075947e-01],\n",
       "       [-1.10453320e+00],\n",
       "       [ 1.27374945e+00],\n",
       "       [ 2.36997404e+00],\n",
       "       [ 1.35239109e+00],\n",
       "       [-1.06106488e+00],\n",
       "       [ 7.33996449e-01],\n",
       "       [-8.04370342e-01],\n",
       "       [-8.34721000e-01],\n",
       "       [ 1.37528870e-01],\n",
       "       [ 1.66676474e+00],\n",
       "       [-9.17349378e-01],\n",
       "       [-7.57108196e-01],\n",
       "       [-1.89184802e-02],\n",
       "       [-1.11012749e+00],\n",
       "       [-5.70631700e-01],\n",
       "       [ 8.59514421e-01],\n",
       "       [-4.80737168e-01],\n",
       "       [-7.42447285e-01],\n",
       "       [-9.18378214e-01],\n",
       "       [ 6.41079712e-01],\n",
       "       [-4.74564153e-01],\n",
       "       [ 5.54078781e-01],\n",
       "       [-7.68296786e-01],\n",
       "       [-1.07308940e+00],\n",
       "       [-9.88853469e-01],\n",
       "       [-3.03584497e-01],\n",
       "       [ 1.26674051e+00],\n",
       "       [-6.20851749e-01],\n",
       "       [-1.16092626e+00],\n",
       "       [-9.00437889e-01],\n",
       "       [ 1.19433619e+00],\n",
       "       [-4.41705709e-01],\n",
       "       [-5.97831547e-01],\n",
       "       [-6.31011503e-01],\n",
       "       [ 7.10461829e-01],\n",
       "       [ 4.34733823e-01],\n",
       "       [ 7.14705777e-01],\n",
       "       [-9.08668576e-01],\n",
       "       [-2.50535149e-01],\n",
       "       [ 1.04708406e+00],\n",
       "       [-5.73139487e-01],\n",
       "       [ 1.47996674e+00],\n",
       "       [ 1.33625123e+00],\n",
       "       [-7.00843736e-01],\n",
       "       [-1.07591269e-01],\n",
       "       [ 9.29218049e-01],\n",
       "       [-3.03584497e-01],\n",
       "       [-7.33509274e-01],\n",
       "       [ 2.06640316e+00],\n",
       "       [ 1.91149907e+00],\n",
       "       [ 3.11729648e-02],\n",
       "       [ 3.45675221e-01],\n",
       "       [-9.81973129e-01],\n",
       "       [-3.25061445e-01],\n",
       "       [-5.73653905e-01],\n",
       "       [-3.68208248e-01],\n",
       "       [-4.90832620e-01],\n",
       "       [ 1.52272773e+00],\n",
       "       [-7.26243121e-01],\n",
       "       [ 5.72083408e-01],\n",
       "       [ 1.11929547e+00],\n",
       "       [-1.12729619e+00],\n",
       "       [-1.10871284e+00],\n",
       "       [ 9.11534933e-01],\n",
       "       [-4.41384197e-01],\n",
       "       [ 2.69933192e-02],\n",
       "       [ 2.19648660e+00],\n",
       "       [ 2.04846284e+00],\n",
       "       [-4.92440176e-01],\n",
       "       [ 1.54504661e-01],\n",
       "       [-1.01598901e+00],\n",
       "       [-8.71759090e-01],\n",
       "       [ 2.42829617e+00],\n",
       "       [-8.34785302e-01],\n",
       "       [ 2.89879566e+00],\n",
       "       [ 5.47777161e-01],\n",
       "       [ 1.39058662e+00],\n",
       "       [-8.21918844e-02],\n",
       "       [ 3.24519784e-01],\n",
       "       [ 1.34621808e+00],\n",
       "       [-1.19404192e+00],\n",
       "       [ 9.69541563e-02],\n",
       "       [ 1.16572169e+00],\n",
       "       [-2.13304152e-01],\n",
       "       [-1.14118548e+00],\n",
       "       [ 1.32641299e+00],\n",
       "       [-1.13070421e+00],\n",
       "       [-2.48477477e-01],\n",
       "       [ 1.24610129e-02],\n",
       "       [-1.07476126e+00],\n",
       "       [ 2.39280134e+00],\n",
       "       [ 1.69627947e+00],\n",
       "       [-8.96579755e-01],\n",
       "       [-1.11855109e+00],\n",
       "       [ 2.92690175e-01],\n",
       "       [ 1.22815916e+00],\n",
       "       [-5.28063617e-01],\n",
       "       [-1.02222633e+00],\n",
       "       [-1.01688925e+00],\n",
       "       [-1.05154815e+00],\n",
       "       [-9.93997648e-01],\n",
       "       [ 1.40659788e+00],\n",
       "       [-9.42684461e-01],\n",
       "       [-1.02820644e+00],\n",
       "       [-6.23423839e-01],\n",
       "       [-1.13417653e+00],\n",
       "       [-3.03584497e-01],\n",
       "       [-1.05418455e+00],\n",
       "       [ 1.07936378e+00],\n",
       "       [-2.68989892e-01],\n",
       "       [ 3.59886016e-01],\n",
       "       [-7.77299099e-01],\n",
       "       [-1.09212287e+00],\n",
       "       [-1.00287136e+00],\n",
       "       [-9.78050693e-01],\n",
       "       [ 7.99649036e-01],\n",
       "       [-5.89986674e-01],\n",
       "       [-8.69444209e-01],\n",
       "       [-5.03628766e-01],\n",
       "       [-7.41932867e-01],\n",
       "       [ 3.16610608e-01],\n",
       "       [ 4.90998283e-01],\n",
       "       [ 1.17491691e+00],\n",
       "       [ 3.10180384e-01],\n",
       "       [ 6.22560667e-01],\n",
       "       [ 3.73903904e-01],\n",
       "       [ 8.73660914e-01],\n",
       "       [ 2.27294797e-01],\n",
       "       [ 1.40074638e+00],\n",
       "       [ 1.00811690e+00],\n",
       "       [-5.83492148e-01],\n",
       "       [-9.86731495e-01],\n",
       "       [ 1.72110014e+00],\n",
       "       [-8.43723313e-01],\n",
       "       [ 1.74482766e+00],\n",
       "       [-6.84446665e-01],\n",
       "       [ 8.28327835e-01],\n",
       "       [-3.14515878e-01],\n",
       "       [ 1.35586341e+00],\n",
       "       [-9.47249920e-01],\n",
       "       [-3.16959363e-01],\n",
       "       [ 1.10952153e+00],\n",
       "       [-9.65576058e-01],\n",
       "       [-7.26628934e-01],\n",
       "       [ 3.54034512e-01],\n",
       "       [ 1.31651044e+00],\n",
       "       [-9.16063333e-01],\n",
       "       [ 1.53944631e+00],\n",
       "       [-2.48348873e-01],\n",
       "       [-8.18066720e-01],\n",
       "       [ 7.46085270e-01],\n",
       "       [-9.79401040e-01],\n",
       "       [-9.09440203e-01],\n",
       "       [ 2.23230294e+00],\n",
       "       [ 6.30598447e-01],\n",
       "       [ 1.72843059e+00],\n",
       "       [-3.91421357e-01],\n",
       "       [-3.33677945e-01],\n",
       "       [ 1.96306946e+00],\n",
       "       [-6.53260078e-01],\n",
       "       [ 8.71088824e-01],\n",
       "       [-2.81464526e-01],\n",
       "       [-6.51395313e-01],\n",
       "       [-2.35874238e-01],\n",
       "       [ 7.78493599e-01],\n",
       "       [-7.64052838e-01],\n",
       "       [ 2.63907891e+00],\n",
       "       [-4.37461761e-01],\n",
       "       [ 1.26564737e+00],\n",
       "       [-9.39147838e-01],\n",
       "       [-1.04569665e+00],\n",
       "       [-2.45326667e-01],\n",
       "       [-4.77779265e-01],\n",
       "       [-6.09856066e-01],\n",
       "       [-8.49189004e-01],\n",
       "       [-8.62242359e-01],\n",
       "       [-9.28923781e-01],\n",
       "       [-1.03663003e+00],\n",
       "       [ 1.40897706e+00],\n",
       "       [-2.25071462e-01],\n",
       "       [ 4.69457033e-01],\n",
       "       [ 1.55725803e+00],\n",
       "       [-8.71887695e-01],\n",
       "       [ 3.50369284e-01],\n",
       "       [ 6.50725048e-01],\n",
       "       [-1.05431315e+00],\n",
       "       [-3.03584497e-01],\n",
       "       [ 1.30712231e+00],\n",
       "       [-1.06433829e-01],\n",
       "       [-6.93513281e-01],\n",
       "       [-9.91489861e-01],\n",
       "       [-8.57355388e-01],\n",
       "       [ 4.69071220e-01],\n",
       "       [ 1.17240912e+00],\n",
       "       [-7.75370032e-01],\n",
       "       [-9.67183614e-01],\n",
       "       [-1.04351037e+00],\n",
       "       [-7.70161551e-01],\n",
       "       [ 8.64915809e-01],\n",
       "       [-8.46809821e-01],\n",
       "       [-9.26608901e-01],\n",
       "       [ 1.04097534e+00],\n",
       "       [-1.00512194e+00],\n",
       "       [ 3.31593030e-01],\n",
       "       [ 1.16893680e+00],\n",
       "       [ 5.68938608e-02],\n",
       "       [-5.72817976e-01],\n",
       "       [ 1.97367933e+00],\n",
       "       [ 7.72320584e-01],\n",
       "       [-7.27593468e-01],\n",
       "       [-9.75607208e-01],\n",
       "       [-5.76547506e-01],\n",
       "       [-9.57281069e-01],\n",
       "       [ 5.48613090e-01],\n",
       "       [-1.03527969e+00],\n",
       "       [-8.57226784e-01],\n",
       "       [-5.06265158e-01],\n",
       "       [-1.08035556e+00],\n",
       "       [ 5.02064278e-02],\n",
       "       [ 1.58477939e+00],\n",
       "       [-5.02021210e-01],\n",
       "       [-8.98315915e-01],\n",
       "       [ 1.46929256e+00],\n",
       "       [ 1.22815916e+00],\n",
       "       [-9.81715921e-01],\n",
       "       [-8.37614601e-01],\n",
       "       [-3.99716346e-01],\n",
       "       [-7.76077357e-01],\n",
       "       [ 2.06389538e+00],\n",
       "       [-7.77427704e-01],\n",
       "       [-4.87424601e-01],\n",
       "       [ 2.48758284e+00],\n",
       "       [ 1.68689134e+00],\n",
       "       [ 2.28645144e-01],\n",
       "       [-1.04061677e+00],\n",
       "       [-7.54021689e-01],\n",
       "       [-6.21751981e-01],\n",
       "       [ 3.23555250e-01],\n",
       "       [ 1.58234191e-01],\n",
       "       [ 3.73646695e-01],\n",
       "       [-7.92924544e-01],\n",
       "       [-1.01521739e+00],\n",
       "       [-5.25298621e-01],\n",
       "       [-5.29992684e-01],\n",
       "       [ 1.94892297e+00],\n",
       "       [ 1.94886468e-01],\n",
       "       [-1.01727506e+00],\n",
       "       [-6.73322377e-01],\n",
       "       [-8.22053458e-01],\n",
       "       [-6.38470563e-01],\n",
       "       [-3.97530070e-01],\n",
       "       [-1.00602217e+00],\n",
       "       [-6.99621993e-01],\n",
       "       [ 3.34358027e-01],\n",
       "       [-9.75928719e-01],\n",
       "       [-5.93716204e-01],\n",
       "       [ 2.71161184e+00],\n",
       "       [ 1.78810908e-01],\n",
       "       [-5.40924065e-01],\n",
       "       [-8.72273508e-01],\n",
       "       [ 1.77524863e-01],\n",
       "       [-1.42507386e-01],\n",
       "       [-3.03584497e-01],\n",
       "       [-6.41749977e-01],\n",
       "       [-7.39039267e-01],\n",
       "       [-3.03584497e-01],\n",
       "       [ 9.32626068e-01],\n",
       "       [-3.67115110e-01],\n",
       "       [-9.24808438e-01],\n",
       "       [ 1.39180836e+00],\n",
       "       [-9.31624476e-01],\n",
       "       [-2.48991895e-01],\n",
       "       [-9.07768344e-01],\n",
       "       [ 9.64397384e-02],\n",
       "       [-5.92687368e-01],\n",
       "       [-9.24294020e-01],\n",
       "       [-5.41759994e-01],\n",
       "       [-5.89150745e-01],\n",
       "       [ 1.08109994e+00],\n",
       "       [ 4.76401675e-01],\n",
       "       [-5.93716204e-01],\n",
       "       [ 1.08437935e+00],\n",
       "       [ 1.09653248e+00],\n",
       "       [ 7.82223129e-01],\n",
       "       [ 6.99273239e-01],\n",
       "       [ 1.85195519e+00],\n",
       "       [ 2.52648569e+00],\n",
       "       [ 6.70144324e-01],\n",
       "       [-5.64265778e-01],\n",
       "       [-8.93300340e-01],\n",
       "       [-7.41547054e-01],\n",
       "       [-4.28652354e-01],\n",
       "       [ 6.87313022e-01],\n",
       "       [ 6.72973623e-01],\n",
       "       [-7.41611356e-01],\n",
       "       [ 1.56073035e+00],\n",
       "       [ 6.23396596e-01],\n",
       "       [-1.12980398e+00],\n",
       "       [-1.17565148e+00],\n",
       "       [-1.04222433e+00],\n",
       "       [-1.10228262e+00],\n",
       "       [-1.08646427e+00],\n",
       "       [-5.16296307e-01],\n",
       "       [ 7.71420352e-01],\n",
       "       [-6.55639261e-01],\n",
       "       [-1.05482757e+00],\n",
       "       [-7.68553995e-01],\n",
       "       [-1.07630452e+00],\n",
       "       [-9.58695719e-01],\n",
       "       [ 7.92189976e-01],\n",
       "       [-1.00229264e+00],\n",
       "       [ 2.60989171e-01],\n",
       "       [-1.04132410e+00],\n",
       "       [ 7.17476782e-02],\n",
       "       [-3.49940402e-02],\n",
       "       [-7.27143352e-01],\n",
       "       [-9.00116378e-01],\n",
       "       [-6.15578966e-01],\n",
       "       [-1.05251269e+00],\n",
       "       [-1.05341292e+00],\n",
       "       [-1.01026612e+00],\n",
       "       [-1.10331146e+00],\n",
       "       [ 9.40985359e-01],\n",
       "       [-9.74128256e-01],\n",
       "       [-8.73366646e-01],\n",
       "       [ 4.86304220e-01],\n",
       "       [-9.85959868e-01],\n",
       "       [-4.32639093e-01],\n",
       "       [ 1.37798338e+00],\n",
       "       [ 1.47758936e-02],\n",
       "       [ 1.51957692e+00],\n",
       "       [ 2.45420997e+00],\n",
       "       [ 5.95810935e-01],\n",
       "       [-7.17755225e-01],\n",
       "       [ 8.49547574e-01],\n",
       "       [ 1.62329643e+00],\n",
       "       [-3.67308017e-01],\n",
       "       [ 6.52654115e-01],\n",
       "       [-2.89888120e-01],\n",
       "       [-2.42304462e-01],\n",
       "       [-6.52745660e-01],\n",
       "       [ 1.48093127e+00],\n",
       "       [-8.17417688e-02],\n",
       "       [ 1.66438556e+00],\n",
       "       [-2.00379402e-01],\n",
       "       [-8.11507891e-01],\n",
       "       [ 2.17179454e+00],\n",
       "       [ 1.20996163e+00],\n",
       "       [-8.39800877e-01],\n",
       "       [ 5.49127508e-01],\n",
       "       [-3.03584497e-01],\n",
       "       [-1.20683806e+00],\n",
       "       [-7.74984219e-01],\n",
       "       [ 6.00440696e-01],\n",
       "       [-4.95655288e-01],\n",
       "       [ 5.54914710e-01],\n",
       "       [-9.37283073e-01],\n",
       "       [ 1.73409520e-01],\n",
       "       [-4.41577104e-01],\n",
       "       [ 3.68952632e-01],\n",
       "       [-5.64201476e-01],\n",
       "       [ 1.59545356e+00],\n",
       "       [-1.15591069e+00],\n",
       "       [-5.82913428e-01],\n",
       "       [-5.62722524e-01],\n",
       "       [-9.24101113e-01],\n",
       "       [ 9.07355288e-01],\n",
       "       [-4.78615194e-01],\n",
       "       [-6.80781437e-01],\n",
       "       [ 1.16096332e+00],\n",
       "       [ 1.89999498e-01],\n",
       "       [-3.03584497e-01],\n",
       "       [-9.87245913e-01],\n",
       "       [ 1.26172493e+00],\n",
       "       [ 8.47747111e-01],\n",
       "       [ 1.41065493e-01],\n",
       "       [-6.55317750e-01],\n",
       "       [-9.56252233e-01],\n",
       "       [-5.38416278e-01],\n",
       "       [-2.92711409e-02],\n",
       "       [ 1.49932171e+00],\n",
       "       [ 1.19407898e+00],\n",
       "       [ 1.01165352e+00],\n",
       "       [-4.83823676e-01],\n",
       "       [ 1.07949238e+00],\n",
       "       [ 1.12154605e+00],\n",
       "       [ 9.06969474e-01],\n",
       "       [-8.21539041e-01],\n",
       "       [-5.71403327e-01],\n",
       "       [-1.18844762e+00],\n",
       "       [-8.23725317e-01],\n",
       "       [ 1.82990554e-01],\n",
       "       [-6.29596854e-01],\n",
       "       [-3.92385890e-01],\n",
       "       [-1.05566350e+00],\n",
       "       [-9.03331490e-01],\n",
       "       [-7.65975896e-02],\n",
       "       [ 6.26167602e-02],\n",
       "       [-4.25817046e-02],\n",
       "       [ 3.44839292e-01],\n",
       "       [ 1.65326127e+00],\n",
       "       [-9.45835271e-01],\n",
       "       [-5.56420905e-01],\n",
       "       [ 1.75467191e-01],\n",
       "       [ 8.93144493e-01],\n",
       "       [ 1.49758555e+00],\n",
       "       [-9.43070274e-01],\n",
       "       [-9.03653001e-01],\n",
       "       [ 1.94037077e+00],\n",
       "       [-7.52092621e-01],\n",
       "       [-1.14980198e+00],\n",
       "       [-9.13234035e-01],\n",
       "       [ 1.99959314e+00],\n",
       "       [-6.25867324e-01],\n",
       "       [ 1.09968329e+00],\n",
       "       [-1.33241853e-02],\n",
       "       [-2.47062828e-01],\n",
       "       [-1.68807002e-01],\n",
       "       [ 1.55057059e+00],\n",
       "       [-1.94463596e-01],\n",
       "       [ 1.21844953e+00],\n",
       "       [-6.83026006e-02],\n",
       "       [-9.13871048e-02],\n",
       "       [ 9.45100703e-01],\n",
       "       [-9.17349378e-01],\n",
       "       [-6.22973723e-01],\n",
       "       [-9.54258864e-01],\n",
       "       [-1.05238408e+00],\n",
       "       [-7.98583141e-01],\n",
       "       [-8.94586385e-01],\n",
       "       [ 2.55266271e-01],\n",
       "       [-1.17970252e+00],\n",
       "       [-3.77789282e-01],\n",
       "       [-9.93997648e-01],\n",
       "       [-7.66946439e-01],\n",
       "       [ 1.13922917e+00],\n",
       "       [-9.95476600e-01],\n",
       "       [-1.11642911e+00],\n",
       "       [ 4.31974837e-02],\n",
       "       [ 8.33600618e-01],\n",
       "       [-7.98068723e-01],\n",
       "       [ 2.14858143e+00],\n",
       "       [-1.04158131e+00],\n",
       "       [-4.66719280e-01],\n",
       "       [-8.03727320e-01],\n",
       "       [ 1.45167375e+00],\n",
       "       [-9.15741822e-01],\n",
       "       [-7.21806266e-01],\n",
       "       [-3.03584497e-01],\n",
       "       [-1.15873999e+00],\n",
       "       [-6.26831858e-01],\n",
       "       [ 1.39277290e+00],\n",
       "       [ 1.80334270e+00],\n",
       "       [ 5.95810935e-01],\n",
       "       [-4.21257596e-01],\n",
       "       [-2.04108932e-01],\n",
       "       [-7.33766483e-01],\n",
       "       [ 1.17788082e-01],\n",
       "       [-3.03584497e-01],\n",
       "       [-1.05405594e+00],\n",
       "       [-7.67203648e-01],\n",
       "       [ 2.78877453e+00],\n",
       "       [ 6.33942163e-01],\n",
       "       [ 7.40812486e-01],\n",
       "       [ 2.08518543e-01],\n",
       "       [ 8.56427914e-01],\n",
       "       [ 2.23950479e+00],\n",
       "       [-8.80311288e-01],\n",
       "       [-5.85807029e-01],\n",
       "       [-7.35502643e-01],\n",
       "       [-8.31763097e-01],\n",
       "       [-8.91757087e-01],\n",
       "       [ 6.55483413e-01],\n",
       "       [ 1.95335983e+00],\n",
       "       [-9.09504505e-01],\n",
       "       [ 2.38418483e+00],\n",
       "       [-7.41997170e-01],\n",
       "       [ 1.00747388e+00],\n",
       "       [-9.10919154e-01],\n",
       "       [ 1.95708936e+00],\n",
       "       [ 1.76276799e+00],\n",
       "       [ 6.59663059e-01],\n",
       "       [-1.12851793e+00],\n",
       "       [-9.94190555e-01],\n",
       "       [-3.66407785e-01],\n",
       "       [-3.88656361e-01],\n",
       "       [ 7.49814800e-01],\n",
       "       [ 4.96271067e-01],\n",
       "       [-3.74315158e-03],\n",
       "       [ 1.55024908e+00],\n",
       "       [-1.11141354e+00],\n",
       "       [-1.04543944e+00],\n",
       "       [-9.19857166e-01],\n",
       "       [ 2.11604449e+00],\n",
       "       [-1.06640197e+00],\n",
       "       [-1.19121262e+00],\n",
       "       [ 1.20610349e+00],\n",
       "       [-3.86084271e-01],\n",
       "       [ 7.72384886e-01],\n",
       "       [-7.68939808e-01],\n",
       "       [ 1.38454221e+00],\n",
       "       [-3.03584497e-01],\n",
       "       [-4.19135622e-01],\n",
       "       [-1.12324515e+00],\n",
       "       [ 1.73492512e+00],\n",
       "       [-8.40701108e-01],\n",
       "       [ 3.07415388e-01],\n",
       "       [ 7.38047490e-01],\n",
       "       [ 3.39052090e-01],\n",
       "       [-7.94467797e-01],\n",
       "       [-1.09347321e+00],\n",
       "       [ 1.07576285e+00],\n",
       "       [ 7.71227446e-01],\n",
       "       [-2.33945171e-01],\n",
       "       [ 3.15324564e-01],\n",
       "       [-3.03584497e-01],\n",
       "       [ 1.00747388e+00],\n",
       "       [ 1.10148375e+00],\n",
       "       [ 1.22950951e+00],\n",
       "       [ 2.48643141e-01],\n",
       "       [-1.04306026e+00],\n",
       "       [ 1.34608947e+00],\n",
       "       [-2.00893820e-01],\n",
       "       [-4.70828614e-02],\n",
       "       [ 1.75215812e+00],\n",
       "       [-5.86964469e-01],\n",
       "       [-7.93310357e-01],\n",
       "       [-1.57747017e-01],\n",
       "       [-8.00190697e-01],\n",
       "       [-7.70483062e-01],\n",
       "       [-8.47195634e-01],\n",
       "       [-9.23586696e-01],\n",
       "       [-1.07173906e+00],\n",
       "       [-7.22642195e-01],\n",
       "       [-9.42234345e-01],\n",
       "       [ 2.42727335e-01],\n",
       "       [-9.99334734e-01],\n",
       "       [-1.36720184e-01],\n",
       "       [ 4.28367902e-01],\n",
       "       [ 2.91667168e+00],\n",
       "       [-7.19941501e-01],\n",
       "       [ 1.71782072e+00],\n",
       "       [ 6.51175163e-01],\n",
       "       [-9.53165726e-01],\n",
       "       [-3.03584497e-01],\n",
       "       [ 1.16880820e+00],\n",
       "       [ 1.30493604e+00],\n",
       "       [ 1.85626945e-01],\n",
       "       [ 1.16887250e+00],\n",
       "       [-9.01595329e-01],\n",
       "       [-3.38372009e-01],\n",
       "       [ 1.65924138e+00],\n",
       "       [-1.49709236e-01],\n",
       "       [-5.14045729e-01],\n",
       "       [-2.75355814e-01],\n",
       "       [-9.76314532e-01],\n",
       "       [-8.06042201e-01],\n",
       "       [-5.12566777e-01],\n",
       "       [-9.35932726e-01],\n",
       "       [-6.22137794e-01],\n",
       "       [ 2.35911297e-01],\n",
       "       [-7.41675658e-01],\n",
       "       [ 6.74516876e-01],\n",
       "       [ 9.71786132e-01],\n",
       "       [-9.20178677e-01],\n",
       "       [ 1.54825571e+00],\n",
       "       [-1.04511793e+00],\n",
       "       [-1.02942818e+00],\n",
       "       [ 4.28818017e-01],\n",
       "       [-5.93008879e-01],\n",
       "       [-2.21534839e-01],\n",
       "       [ 8.63442867e-02],\n",
       "       [ 2.86568001e+00],\n",
       "       [-6.82967713e-01],\n",
       "       [-9.31238662e-01],\n",
       "       [-1.58068528e-01],\n",
       "       [-6.63355530e-01],\n",
       "       [-9.77536275e-01],\n",
       "       [ 1.76836228e+00],\n",
       "       [-3.03584497e-01],\n",
       "       [ 5.82436069e-01],\n",
       "       [ 2.59831730e-01],\n",
       "       [-6.86311430e-01],\n",
       "       [-1.09868170e+00],\n",
       "       [-1.07508277e+00],\n",
       "       [ 2.93268895e-01],\n",
       "       [-4.19778645e-01]])"
      ]
     },
     "execution_count": 74,
     "metadata": {},
     "output_type": "execute_result"
    }
   ],
   "source": [
    "from sklearn.preprocessing import StandardScaler\n",
    "scaler=StandardScaler()\n",
    "scaler.fit_transform(x_train)\n",
    "scaler.transform(x_test)"
   ]
  },
  {
   "cell_type": "code",
   "execution_count": 75,
   "metadata": {},
   "outputs": [
    {
     "data": {
      "text/plain": [
       "array([47103.92185566, 49118.82268466, 51039.43082676, 45970.41550777,\n",
       "       44101.36922769, 49345.2960565 , 39022.09851073, 47509.86469198,\n",
       "       42522.60768459, 43318.25564379, 42498.96329483, 39011.27336843,\n",
       "       50365.70815454, 46677.18335123, 47904.41264167, 39978.69924363,\n",
       "       33361.97344763, 43576.06495388, 49804.79486   , 43843.27504544,\n",
       "       48316.05292131, 49400.56125667, 45032.90120999, 46550.98498176,\n",
       "       46597.70401696, 51177.02408286, 49830.71822709, 47640.05127177,\n",
       "       41064.91681198, 51906.86657175, 49355.83632664, 48778.97019081,\n",
       "       51602.0533543 , 41708.15816245, 35589.95865668, 49286.042646  ,\n",
       "       45512.3410651 , 48615.73843978, 44722.10567706, 46574.05962719,\n",
       "       51087.28935062, 49260.68902324, 43978.58932421, 50362.28968855,\n",
       "       49313.39037393, 43211.99832593, 42561.63517131, 50022.4371947 ,\n",
       "       50037.25054733, 47786.47556501, 47320.13982953, 48914.28446958,\n",
       "       42403.53111927, 43151.32055461, 38530.97889682, 41807.8634205 ,\n",
       "       51563.02586758, 45531.14262805, 50263.43904701, 50138.3801662 ,\n",
       "       39832.55982255, 49682.01495652, 39332.89404367, 47904.41264167,\n",
       "       46327.93007591, 36843.11131421, 47934.32421909, 45026.91889451,\n",
       "       47636.06306145, 51333.70377407, 47904.41264167, 49012.28049463,\n",
       "       47904.41264167, 47642.61512126, 43370.38725014, 49595.69869027,\n",
       "       40936.72433735, 50543.75325819, 50458.86135277, 45762.74369888,\n",
       "       50466.26802909, 47620.67996449, 47224.99252614, 44107.06667101,\n",
       "       35902.17855044, 41162.91283703, 41111.63584718, 41506.46866904,\n",
       "       43658.67788197, 44603.3139839 , 44424.69913592, 44685.64203983,\n",
       "       35928.67166186, 42835.68219485, 49540.14861793, 47612.98841602,\n",
       "       51188.70384166, 43400.29882755, 41051.81269235, 43243.33426417,\n",
       "       50734.33273714, 47621.81945316, 51281.28729556, 50707.83962572,\n",
       "       46881.43669414, 51578.12409237, 51015.21669266, 46345.30727802,\n",
       "       44168.31418666, 50491.05190751, 50190.79664472, 49111.98575268,\n",
       "       51336.26762357, 50673.08522149, 42413.50164508, 40805.3982689 ,\n",
       "       43106.3107524 , 50407.86923509, 50532.92811589, 40393.18824493,\n",
       "       43629.62092105, 40670.08399013, 50018.44898438, 50898.1342325 ,\n",
       "       48345.10988223, 42981.2518716 , 49902.79088505, 51337.12224006,\n",
       "       51264.47983777, 42784.69007717, 48266.20029229, 50064.88314742,\n",
       "       51436.82749811, 50626.65105845, 50106.75935579, 47930.33600876,\n",
       "       42349.69027993, 49660.36467192, 41678.53145721, 49347.85990599,\n",
       "       46930.43470666, 42497.82380617, 49205.42382307, 51506.33630657,\n",
       "       51583.82153568, 49396.00330202, 51284.99063371, 41307.05815295,\n",
       "       50876.19907573, 49429.04847326, 48743.64604224, 47712.97854623,\n",
       "       46586.02425816, 49492.85983841, 45095.28821431, 50383.65510099,\n",
       "       47196.50530956, 49821.60231779, 41242.3921713 , 51606.04156462,\n",
       "       44334.39465935, 37678.07163229, 45637.96969024, 51338.83147306,\n",
       "       49830.14848276, 42079.91633888, 42026.64524386, 47291.93748511,\n",
       "       46122.53724433, 39216.95107217, 47904.41264167, 46467.232565  ,\n",
       "       45699.50207806, 45231.45710958, 51108.08501873, 33908.35826171,\n",
       "       43711.09436049, 49254.4218356 , 41338.96383552, 45385.85782347,\n",
       "       50525.23656742, 48906.5929211 , 49778.30174858, 44184.26702795,\n",
       "       46475.77872998, 50828.62542404, 49614.78512539, 48888.93084682,\n",
       "       51479.27345082, 48263.6364428 , 43685.45586556, 51723.12402478,\n",
       "       47659.99232338, 43958.6482726 , 51718.85094229, 49144.74605175,\n",
       "       49011.99562246, 51583.82153568, 50556.57250566, 47030.9945812 ,\n",
       "       51218.33054691, 41507.03841337, 41270.59451572, 48868.70492305,\n",
       "       48495.80725796, 51452.7803394 , 40916.49841358, 36059.99773031,\n",
       "       40568.09975476, 51260.20675529, 43307.71537365, 50122.99706925,\n",
       "       50257.45673152, 45950.189584  , 39175.35973596, 50623.51746463,\n",
       "       49913.61602735, 46643.28356349, 51477.56421782, 49087.48674641,\n",
       "       42751.64490593, 48689.23545857, 49848.66517354, 50628.07541928,\n",
       "       43719.35565329, 48661.88773065, 44104.78769368, 49963.18378421,\n",
       "       51313.4778503 , 50940.29531305, 47904.41264167, 40947.54947966,\n",
       "       49309.97190794, 51702.61322884, 50548.59608501, 41268.31553839,\n",
       "       48516.3180539 , 49207.98767256, 49354.98171014, 43411.97858635,\n",
       "       44633.51043348, 43393.17702341, 50585.05972224, 47669.39310485,\n",
       "       41920.67279817, 49098.59676088, 40002.91337773, 40639.60266838,\n",
       "       49664.35288224, 47036.12228019, 42442.84347816, 47904.41264167,\n",
       "       49809.06794249, 37404.87922525, 38091.13627276, 46421.3681463 ,\n",
       "       45028.05838317, 50909.8139913 , 47999.55994506, 49100.87573821,\n",
       "       48190.70916834, 48733.9603886 , 39813.47338744, 49776.87738775,\n",
       "       44025.02348724, 41600.76135593, 51553.6250861 , 51471.29703017,\n",
       "       42521.18332377, 48514.89369307, 46439.88483708, 36828.58283375,\n",
       "       37484.35855952, 48741.08219275, 45874.98333222, 51060.51136703,\n",
       "       50421.54309905, 35801.6186759 , 50257.74160369, 33717.20903843,\n",
       "       44132.70516593, 40398.88568825, 46923.59777468, 45121.78132573,\n",
       "       40595.44748268, 51849.32239425, 46129.94392065, 41395.08365219,\n",
       "       47504.45212083, 51615.15747392, 40683.18810976, 51568.72331089,\n",
       "       47660.27719555, 46504.26594656, 51320.88452661, 35958.86811144,\n",
       "       39044.60341184, 50531.50375506, 51514.88247155, 45262.79304782,\n",
       "       41118.47277916, 48898.90137263, 51088.14396712, 51064.49957735,\n",
       "       51218.04567474, 50963.08508631, 40327.95251895, 50735.75709797,\n",
       "       51114.63707854, 49321.36679457, 51584.10640785, 47904.41264167,\n",
       "       51229.72543354, 41777.66697092, 47751.15141645, 44965.10163452,\n",
       "       50003.06588743, 51397.80001139, 51002.3974452 , 50892.43678918,\n",
       "       43016.86089233, 49173.23326833, 50411.28770108, 48790.64994961,\n",
       "       49846.38619621, 45156.82060213, 44384.24728837, 41354.34693248,\n",
       "       45185.30781872, 43801.39883706, 44902.99950237, 42688.97302945,\n",
       "       45552.50804049, 40353.87588604, 42093.30533067, 49144.46117958,\n",
       "       50930.89453157, 38934.64275582, 50297.33883474, 38829.52492662,\n",
       "       49591.71047995, 42889.80790636, 47952.84090987, 40552.7166578 ,\n",
       "       50755.98302175, 47963.66605217, 41644.06192514, 50837.17158901,\n",
       "       49778.58662074, 44991.02500161, 40727.0584233 , 50617.82002131,\n",
       "       39739.40662432, 47659.70745122, 50183.67484057, 43254.15940648,\n",
       "       50898.41910467, 50588.47818823, 36669.90903738, 43765.78981633,\n",
       "       38902.16732891, 48293.54802021, 48037.73281529, 37862.66879576,\n",
       "       49453.54747952, 42700.36791608, 47806.41661662, 49445.28618671,\n",
       "       47604.44225104, 43110.58383489, 49944.38222126, 34867.80771627,\n",
       "       48497.51649095, 40952.39230648, 50720.08912885, 51192.12230765,\n",
       "       47646.31845942, 48676.13133894, 49261.25876758, 50321.55296884,\n",
       "       50379.3820185 , 50674.79445448, 51151.95533227, 40317.41224882,\n",
       "       47556.58372718, 44479.67946393, 39660.49703438, 50422.11284338,\n",
       "       45007.26271506, 43676.62482842, 51230.29517787, 47904.41264167,\n",
       "       40768.64975951, 47030.9945812 , 49631.87745534, 50951.97507185,\n",
       "       50357.7317339 , 44481.38869692, 41365.45694695, 49994.51972245,\n",
       "       50844.29339316, 51182.43665401, 49971.44507702, 42727.715644  ,\n",
       "       50311.0126987 , 50664.53905651, 41947.73565393, 51012.367971  ,\n",
       "       45090.44538749, 41380.8400439 , 46307.41927997, 49097.17240005,\n",
       "       37815.66488839, 43137.93156281, 49782.85970323, 50881.61164688,\n",
       "       49113.69498567, 50800.42307962, 44129.00182778, 51145.97301678,\n",
       "       50357.16198957, 48802.32970841, 51345.66840504, 46337.04598521,\n",
       "       39538.5717474 , 48783.52814546, 50539.19530354, 40050.20215726,\n",
       "       41118.47277916, 50908.67450264, 50270.27597899, 48330.29652961,\n",
       "       49997.65331628, 37415.98923972, 50003.63563176, 48718.86216381,\n",
       "       35538.96653899, 39086.19474805, 45546.525725  , 51169.61740655,\n",
       "       49899.94216339, 49313.96011826, 45126.05440822, 45858.4607466 ,\n",
       "       44904.13899103, 50072.28982373, 51057.09290104, 48886.65186949,\n",
       "       48907.4475376 , 37925.34067224, 45696.08361207, 51066.20881035,\n",
       "       49542.42759526, 50201.33691485, 49388.02688138, 48320.61087597,\n",
       "       51016.35618133, 49658.94031109, 45078.19588436, 50883.03600771,\n",
       "       49189.75585395, 34546.4719132 , 45767.30165353, 48955.87580579,\n",
       "       50423.82207638, 45772.99909685, 47190.80786624, 47904.41264167,\n",
       "       49402.55536183, 49833.56694875, 47904.41264167, 42427.74525337,\n",
       "       48185.86634152, 50656.56263587, 40393.47311709, 50686.75908545,\n",
       "       47662.55617287, 50581.07151192, 46132.22289797, 49185.1978993 ,\n",
       "       50654.28365854, 48959.57914395, 49169.52993018, 41769.97542244,\n",
       "       44448.91327002, 49189.75585395, 41755.44694198, 41701.60610264,\n",
       "       43094.06124927, 43461.54634321, 38354.92789833, 35366.61887866,\n",
       "       43590.59343433, 49059.28440199, 50516.97527461, 49844.67696322,\n",
       "       48458.48900423, 43514.53256605, 43578.05905904, 49844.96183539,\n",
       "       39645.11393743, 43797.6954989 , 51564.73510057, 51767.84895482,\n",
       "       51176.73921069, 51442.80981359, 51372.73126079, 48846.76976628,\n",
       "       43141.91977313, 49464.08774966, 51232.5741552 , 49964.32327287,\n",
       "       51327.72145859, 50806.69026727, 43049.90606357, 50999.83359571,\n",
       "       45403.23502558, 51172.75100037, 46241.61380966, 46714.50160495,\n",
       "       49780.86559807, 50547.17172418, 49286.61239034, 51222.31875723,\n",
       "       51226.30696755, 51035.15774427, 51447.36776824, 42390.71187181,\n",
       "       50875.05958707, 50428.66490319, 44405.04295648, 50927.47606558,\n",
       "       48476.15107852, 40454.72063275, 46494.01054859, 39827.43212357,\n",
       "       35686.81519306, 43919.90565805, 49739.27426186, 42795.80009164,\n",
       "       39367.93332007, 48186.72095802, 43668.07866344, 47843.73487035,\n",
       "       47632.92946763, 49451.26850219, 39998.64029524, 46921.60366952,\n",
       "       39185.90000609, 47447.1928155 , 50154.61787966, 36937.97374544,\n",
       "       41199.09160209, 50279.96163263, 44126.72285045, 47904.41264167,\n",
       "       51906.01195525, 49992.81048946, 43899.39486211, 48755.32580104,\n",
       "       44101.08435552, 50711.82783604, 45791.23091546, 48515.74830957,\n",
       "       44924.93465914, 49058.99952983, 39491.28296787, 51680.3931999 ,\n",
       "       49141.89733009, 49052.44747001, 50653.42904204, 42539.70001455,\n",
       "       48679.83467709, 49575.4727665 , 41416.16419247, 45717.73389667,\n",
       "       47904.41264167, 50933.1735089 , 40969.76950859, 42803.77651228,\n",
       "       45934.52161488, 49462.66338883, 50795.86512496, 48944.76579133,\n",
       "       46689.14798219, 39917.16685581, 41269.45502706, 42077.63736155,\n",
       "       48702.90932253, 41777.09722659, 41590.79083013, 42541.40924754,\n",
       "       50199.05793753, 49090.9052124 , 51824.53851582, 50208.74359117,\n",
       "       45748.78496275, 49348.71452249, 48297.8211027 , 51236.27749336,\n",
       "       50561.41533248, 46898.81389625, 46282.06565721, 46748.11652052,\n",
       "       45031.76172133, 39235.18289078, 50749.7158341 , 49024.52999776,\n",
       "       45782.11500615, 42602.6567632 , 39924.85840429, 50737.46633097,\n",
       "       50562.83969331, 37963.2286703 , 49891.39599842, 51653.33034415,\n",
       "       50605.28564602, 37700.86140556, 49332.19193687, 41687.64736651,\n",
       "       46618.49968506, 47654.0100079 , 47307.32058207, 39690.12373963,\n",
       "       47420.98457624, 41161.4884762 , 46862.06538686, 46964.3344944 ,\n",
       "       42372.4800532 , 50623.51746463, 49319.37268941, 50787.03408782,\n",
       "       51221.7490129 , 50097.35857432, 50522.67271792, 45428.58864834,\n",
       "       51785.79590126, 48233.15512105, 50963.08508631, 49957.20146873,\n",
       "       41512.45098452, 50969.63714613, 51505.48169008, 46368.09705129,\n",
       "       42866.44838877, 50095.07959699, 37040.81259731, 51173.89048904,\n",
       "       48627.13332641, 50120.14834759, 40128.2571307 , 50616.39566048,\n",
       "       49757.22120831, 47904.41264167, 51692.9275752 , 49336.46501936,\n",
       "       40389.20003461, 38570.29125571, 43919.90565805, 48425.72870516,\n",
       "       47463.71540112, 49810.20743115, 46037.64533891, 47904.41264167,\n",
       "       51229.15568921, 49958.34095739, 34204.62531419, 43750.9764637 ,\n",
       "       43277.51892407, 45635.69071291, 42765.31876989, 36638.00335481,\n",
       "       50459.43109711, 49154.71657755, 49817.89897963, 50244.3526119 ,\n",
       "       50510.13834263, 43655.54428815, 37905.6844928 , 50588.7630604 ,\n",
       "       35997.04098166, 49846.67106838, 42096.15405233, 50595.03024805,\n",
       "       37889.16190718, 38750.04559236, 43637.02759737, 51559.03765725,\n",
       "       50963.93970281, 48182.7327477 , 48281.29851708, 43237.63682086,\n",
       "       44360.88777077, 46576.05373235, 39691.54810046, 51483.26166114,\n",
       "       51190.98281899, 50634.6274791 , 37184.95791322, 51283.85114505,\n",
       "       51836.78801895, 41216.18393205, 48269.90363045, 43137.64669065,\n",
       "       49966.03250587, 40425.66367184, 47904.41264167, 48416.32792369,\n",
       "       51535.67813965, 38873.39524016, 50283.94984295, 45197.55732185,\n",
       "       43289.76842721, 45057.40021625, 50079.12675571, 51403.78232687,\n",
       "       41793.61981221, 43142.77438963, 47595.89608607, 45162.51804545,\n",
       "       47904.41264167, 42096.15405233, 41679.67094587, 41112.49046368,\n",
       "       45457.93048143, 51180.44254885, 40596.01722701, 47449.47179282,\n",
       "       46768.05757213, 38797.04949972, 49159.84427654, 50073.99905672,\n",
       "       47258.32256954, 50104.48037847, 49972.86943785, 50312.7219317 ,\n",
       "       50651.15006472, 51307.49553482, 49760.92454646, 50733.76299281,\n",
       "       45484.13872068, 50986.72947608, 47165.16937131, 44661.7127779 ,\n",
       "       33638.01457633, 49748.9599155 , 38949.17123628, 43674.63072326,\n",
       "       50782.191261  , 47904.41264167, 41381.40978823, 40778.33541315,\n",
       "       45737.10520395, 41381.12491607, 50553.723784  , 48058.52848339,\n",
       "       39208.68977936, 47222.71354881, 48836.79924047, 47779.35376087,\n",
       "       50884.74524071, 50130.40374556, 48830.24718066, 50705.84552056,\n",
       "       49315.66935125, 45514.33517026, 49845.24670755, 43571.22212706,\n",
       "       42254.25810437, 50636.05183993, 39700.3791376 , 51189.55845816,\n",
       "       51120.04964969, 44659.71867274, 49186.62226013, 47540.91575806,\n",
       "       46176.94782801, 33863.91820384, 49585.15842014, 50685.04985245,\n",
       "       47259.74693037, 49498.27240956, 50890.15781186, 38725.26171393,\n",
       "       47904.41264167, 43979.15906854, 45408.36272457, 49599.97177276,\n",
       "       51426.8569723 , 51322.30888744, 45260.22919833, 48419.17664535])"
      ]
     },
     "execution_count": 75,
     "metadata": {},
     "output_type": "execute_result"
    }
   ],
   "source": [
    "from sklearn.linear_model import LinearRegression\n",
    "lg=LinearRegression()\n",
    "lg.fit(x_train,y_train)\n",
    "y_pred=lg.predict(x_test)\n",
    "y_pred"
   ]
  },
  {
   "cell_type": "code",
   "execution_count": 76,
   "metadata": {},
   "outputs": [
    {
     "data": {
      "text/plain": [
       "array([-0.28487217])"
      ]
     },
     "execution_count": 76,
     "metadata": {},
     "output_type": "execute_result"
    }
   ],
   "source": [
    "lg.coef_"
   ]
  },
  {
   "cell_type": "code",
   "execution_count": 77,
   "metadata": {},
   "outputs": [
    {
     "data": {
      "text/plain": [
       "51935.353788330605"
      ]
     },
     "execution_count": 77,
     "metadata": {},
     "output_type": "execute_result"
    }
   ],
   "source": [
    "lg.intercept_"
   ]
  },
  {
   "cell_type": "code",
   "execution_count": 78,
   "metadata": {},
   "outputs": [
    {
     "data": {
      "text/plain": [
       "0.13530860678152712"
      ]
     },
     "execution_count": 78,
     "metadata": {},
     "output_type": "execute_result"
    }
   ],
   "source": [
    "from sklearn.metrics import r2_score,mean_absolute_error\n",
    "r2_score(y_test,y_pred)"
   ]
  },
  {
   "cell_type": "code",
   "execution_count": 79,
   "metadata": {},
   "outputs": [
    {
     "data": {
      "text/plain": [
       "9147.288018677204"
      ]
     },
     "execution_count": 79,
     "metadata": {},
     "output_type": "execute_result"
    }
   ],
   "source": [
    "mean_absolute_error(y_test,y_pred)"
   ]
  },
  {
   "cell_type": "code",
   "execution_count": 80,
   "metadata": {},
   "outputs": [
    {
     "data": {
      "text/html": [
       "<div>\n",
       "<style scoped>\n",
       "    .dataframe tbody tr th:only-of-type {\n",
       "        vertical-align: middle;\n",
       "    }\n",
       "\n",
       "    .dataframe tbody tr th {\n",
       "        vertical-align: top;\n",
       "    }\n",
       "\n",
       "    .dataframe thead th {\n",
       "        text-align: right;\n",
       "    }\n",
       "</style>\n",
       "<table border=\"1\" class=\"dataframe\">\n",
       "  <thead>\n",
       "    <tr style=\"text-align: right;\">\n",
       "      <th></th>\n",
       "      <th>Mileage</th>\n",
       "      <th>Rating</th>\n",
       "      <th>Review Count</th>\n",
       "    </tr>\n",
       "  </thead>\n",
       "  <tbody>\n",
       "    <tr>\n",
       "      <th>0</th>\n",
       "      <td>29636.0</td>\n",
       "      <td>4.600000</td>\n",
       "      <td>1800.0</td>\n",
       "    </tr>\n",
       "    <tr>\n",
       "      <th>1</th>\n",
       "      <td>5540.0</td>\n",
       "      <td>4.700000</td>\n",
       "      <td>1239.0</td>\n",
       "    </tr>\n",
       "    <tr>\n",
       "      <th>2</th>\n",
       "      <td>4890.0</td>\n",
       "      <td>4.700000</td>\n",
       "      <td>1239.0</td>\n",
       "    </tr>\n",
       "    <tr>\n",
       "      <th>3</th>\n",
       "      <td>29746.0</td>\n",
       "      <td>4.800000</td>\n",
       "      <td>752.0</td>\n",
       "    </tr>\n",
       "    <tr>\n",
       "      <th>4</th>\n",
       "      <td>32631.0</td>\n",
       "      <td>5.000000</td>\n",
       "      <td>1502.0</td>\n",
       "    </tr>\n",
       "    <tr>\n",
       "      <th>...</th>\n",
       "      <td>...</td>\n",
       "      <td>...</td>\n",
       "      <td>...</td>\n",
       "    </tr>\n",
       "    <tr>\n",
       "      <th>2424</th>\n",
       "      <td>54422.0</td>\n",
       "      <td>4.533724</td>\n",
       "      <td>236.0</td>\n",
       "    </tr>\n",
       "    <tr>\n",
       "      <th>2425</th>\n",
       "      <td>11395.0</td>\n",
       "      <td>4.500000</td>\n",
       "      <td>1334.0</td>\n",
       "    </tr>\n",
       "    <tr>\n",
       "      <th>2426</th>\n",
       "      <td>30392.0</td>\n",
       "      <td>4.900000</td>\n",
       "      <td>2375.0</td>\n",
       "    </tr>\n",
       "    <tr>\n",
       "      <th>2427</th>\n",
       "      <td>3413.0</td>\n",
       "      <td>4.800000</td>\n",
       "      <td>1758.0</td>\n",
       "    </tr>\n",
       "    <tr>\n",
       "      <th>2428</th>\n",
       "      <td>6336.0</td>\n",
       "      <td>4.500000</td>\n",
       "      <td>2057.0</td>\n",
       "    </tr>\n",
       "  </tbody>\n",
       "</table>\n",
       "<p>2397 rows × 3 columns</p>\n",
       "</div>"
      ],
      "text/plain": [
       "      Mileage    Rating  Review Count\n",
       "0     29636.0  4.600000        1800.0\n",
       "1      5540.0  4.700000        1239.0\n",
       "2      4890.0  4.700000        1239.0\n",
       "3     29746.0  4.800000         752.0\n",
       "4     32631.0  5.000000        1502.0\n",
       "...       ...       ...           ...\n",
       "2424  54422.0  4.533724         236.0\n",
       "2425  11395.0  4.500000        1334.0\n",
       "2426  30392.0  4.900000        2375.0\n",
       "2427   3413.0  4.800000        1758.0\n",
       "2428   6336.0  4.500000        2057.0\n",
       "\n",
       "[2397 rows x 3 columns]"
      ]
     },
     "execution_count": 80,
     "metadata": {},
     "output_type": "execute_result"
    }
   ],
   "source": [
    "#Multiple Linear Regression\n",
    "x=df.drop('Price',axis=1)\n",
    "y=df['Price']\n",
    "x"
   ]
  },
  {
   "cell_type": "code",
   "execution_count": 81,
   "metadata": {},
   "outputs": [
    {
     "data": {
      "text/plain": [
       "0       30900.0\n",
       "1       46900.0\n",
       "2       46900.0\n",
       "3       58587.0\n",
       "4       46900.0\n",
       "         ...   \n",
       "2424    53490.0\n",
       "2425    46900.0\n",
       "2426    32890.0\n",
       "2427    53983.0\n",
       "2428    46035.0\n",
       "Name: Price, Length: 2397, dtype: float64"
      ]
     },
     "execution_count": 81,
     "metadata": {},
     "output_type": "execute_result"
    }
   ],
   "source": [
    "y"
   ]
  },
  {
   "cell_type": "code",
   "execution_count": 82,
   "metadata": {},
   "outputs": [
    {
     "data": {
      "text/plain": [
       "((1605, 3), (792, 3))"
      ]
     },
     "execution_count": 82,
     "metadata": {},
     "output_type": "execute_result"
    }
   ],
   "source": [
    "from sklearn.model_selection import train_test_split\n",
    "x_train,x_test,y_train,y_test=train_test_split(x,y,test_size=0.33,random_state=1)\n",
    "x_train.shape,x_test.shape"
   ]
  },
  {
   "cell_type": "code",
   "execution_count": 83,
   "metadata": {},
   "outputs": [
    {
     "data": {
      "text/plain": [
       "array([[-0.1228952 , -0.47886704,  0.47164635],\n",
       "       [-0.57770495, -0.65909458,  2.13960719],\n",
       "       [-1.01123065,  0.40975486,  0.31278202],\n",
       "       ...,\n",
       "       [-1.07508277, -0.12466986, -1.2798348 ],\n",
       "       [ 0.2932689 , -1.1935193 ,  1.12685796],\n",
       "       [-0.41977864, -0.65909458,  2.13960719]])"
      ]
     },
     "execution_count": 83,
     "metadata": {},
     "output_type": "execute_result"
    }
   ],
   "source": [
    "from sklearn.preprocessing import StandardScaler\n",
    "scaler=StandardScaler()\n",
    "scaler.fit_transform(x_train)\n",
    "scaler.transform(x_test)"
   ]
  },
  {
   "cell_type": "code",
   "execution_count": 51,
   "metadata": {},
   "outputs": [
    {
     "data": {
      "text/plain": [
       "array([49422.46387061, 52503.76386319, 54938.80824658, 47501.41065733,\n",
       "       45855.71241073, 51761.76549702, 40210.2277023 , 49824.94135409,\n",
       "       43866.06534026, 44797.73692042, 44281.49574233, 40288.19993339,\n",
       "       53016.4212258 , 48359.86081899, 51123.99870407, 40850.90994721,\n",
       "       33135.11765709, 44502.40310499, 52359.61444408, 45620.70020481,\n",
       "       50556.56341356, 51590.17143407, 46704.50426756, 48774.99715486,\n",
       "       48730.42060074, 53479.46450086, 52333.47607112, 49371.64128765,\n",
       "       42010.54438263, 55564.37405768, 52357.08138132, 50566.40471416,\n",
       "       56403.78832792, 43168.96357357, 35406.09922287, 51977.63906001,\n",
       "       47354.04437984, 50363.68903209, 46698.17421376, 48802.01663141,\n",
       "       54086.82609951, 51722.48851566, 45390.9050845 , 52903.42604765,\n",
       "       52087.58646975, 45443.96470094, 43376.27552901, 52753.74307963,\n",
       "       52497.19984058, 49775.98907198, 49466.23616388, 51007.09491165,\n",
       "       43494.87590091, 45311.98379054, 38703.12037031, 42732.57494708,\n",
       "       54431.29893798, 47113.67166241, 52829.25252508, 52132.40720725,\n",
       "       42049.81033886, 52441.30662049, 40582.69262983, 50657.5229492 ,\n",
       "       48317.72845939, 37046.47105463, 51159.02395144, 46990.37740769,\n",
       "       49863.16535014, 54375.36742312, 49993.46751061, 51657.07465309,\n",
       "       50802.95094589, 49692.25322568, 44207.36123469, 51715.14361263,\n",
       "       42946.55263824, 54366.58950487, 53504.15499438, 47158.88674117,\n",
       "       53147.03986759, 50027.56671572, 48746.75971962, 45156.29990912,\n",
       "       36049.45364265, 42659.86853506, 41529.5021932 , 43167.38727552,\n",
       "       45648.01054772, 46172.31355766, 46089.23767781, 46008.5983175 ,\n",
       "       35728.99907742, 43979.04161642, 51594.41284676, 50278.92661451,\n",
       "       54205.5783668 , 45159.49560285, 41664.71238564, 44579.83231037,\n",
       "       53514.11480782, 50028.90101086, 53884.89215963, 53520.78981733,\n",
       "       48385.39053733, 54448.97834856, 53538.26514816, 48564.13428321,\n",
       "       45772.39063948, 53163.19369099, 52702.61462937, 51927.01814118,\n",
       "       54499.56265369, 54159.73883144, 43704.49896178, 41687.07420573,\n",
       "       44545.45820307, 53065.79014591, 53025.68715109, 41629.18698423,\n",
       "       45303.42989635, 41325.79042487, 52107.90291254, 53331.35368147,\n",
       "       50379.11083805, 44522.11890162, 52178.26201617, 54153.907831  ,\n",
       "       53759.07863391, 43785.50934065, 50448.99014117, 52356.11305288,\n",
       "       54109.7352883 , 52836.3665564 , 51954.61997299, 49572.68841008,\n",
       "       42874.93801143, 51688.6006654 , 42970.2684897 , 51356.91281932,\n",
       "       49027.4525081 , 44972.46367946, 51691.37275125, 54730.70580005,\n",
       "       55186.10138604, 52405.71323772, 54090.11988091, 42188.85334314,\n",
       "       54950.26462263, 51520.00294869, 51614.38145389, 49868.95258206,\n",
       "       48656.61335768, 52373.00629108, 46493.87025439, 53140.49954693,\n",
       "       49101.77766344, 52322.80171002, 42632.67418513, 54694.26396112,\n",
       "       45252.01290438, 39149.36698747, 46841.42614746, 54899.22793135,\n",
       "       51738.52786835, 43343.47618467, 42688.095291  , 49450.75764065,\n",
       "       47452.68225891, 39430.1723241 , 49957.02107358, 49018.82659556,\n",
       "       47727.06134187, 46536.77163305, 54111.17698578, 32998.11164113,\n",
       "       44722.24574954, 52662.54498462, 41807.46416531, 47563.8730397 ,\n",
       "       53218.02387904, 51533.31877903, 51724.32034309, 45034.88501791,\n",
       "       48093.17055107, 54341.87011779, 51651.51247379, 51219.75901478,\n",
       "       54100.33738624, 51544.63524634, 44973.86087007, 53925.32991095,\n",
       "       49644.50221085, 45534.73295908, 54465.36050834, 51616.22171348,\n",
       "       51624.66406739, 54201.11386205, 52752.94079818, 49729.31296996,\n",
       "       53467.25002366, 42167.23524322, 42535.87030342, 50868.9827251 ,\n",
       "       50209.02076572, 55625.41796249, 41359.76826148, 36490.47539244,\n",
       "       42068.59522932, 55197.32792958, 44223.37210256, 53029.56910562,\n",
       "       52904.4645216 , 47139.60730321, 40052.25408657, 53157.3821335 ,\n",
       "       52520.63717956, 48686.99463885, 54697.01484781, 52069.16743192,\n",
       "       45452.45627128, 51227.91821038, 51732.91627771, 54107.03417349,\n",
       "       44851.57493639, 50701.53032994, 45417.28157357, 52201.37975118,\n",
       "       53809.50461595, 53225.72835432, 50100.74617777, 41722.3332306 ,\n",
       "       53719.8536577 , 54885.2698005 , 52879.4732114 , 42384.4621381 ,\n",
       "       50783.44450463, 51306.93103394, 53001.91824658, 44130.56648809,\n",
       "       48243.90641106, 44610.20040961, 53822.76481713, 49825.54780555,\n",
       "       42384.30772614, 51575.73315985, 41670.65570805, 41537.80095601,\n",
       "       52718.34178995, 48763.76450078, 43964.52960834, 49957.02107358,\n",
       "       51862.72618092, 37619.55964282, 38868.85647605, 48623.22108291,\n",
       "       46630.71303138, 53518.01096031, 50214.99797596, 51348.68533047,\n",
       "       50662.97084662, 51484.36572913, 40343.46450877, 51927.29653958,\n",
       "       45237.88959843, 42856.08619648, 54786.07904828, 55647.10025848,\n",
       "       43191.79537106, 51227.84748884, 48505.98911459, 37390.45746307,\n",
       "       39284.67699556, 51134.76965356, 47141.50855539, 53796.41013644,\n",
       "       52594.82682432, 35295.44149375, 52993.74323779, 34110.93043753,\n",
       "       46499.64182607, 41724.33036794, 48966.83235911, 47101.45747794,\n",
       "       41521.16611613, 54928.25220203, 48281.97510134, 42985.144524  ,\n",
       "       49818.60345219, 54275.84063508, 41853.27624309, 54454.48537315,\n",
       "       49951.53416695, 48720.2910542 , 53753.49503672, 35935.33773236,\n",
       "       40503.18411294, 52859.45878433, 54587.52035007, 46672.81337659,\n",
       "       42880.58483885, 51775.5643853 , 55802.02122065, 55170.75689419,\n",
       "       54207.85945469, 54035.02823898, 41735.5771272 , 55389.39044921,\n",
       "       54118.84918283, 51306.56486852, 54668.57877971, 49602.83845673,\n",
       "       53892.61432032, 42871.6791596 , 50180.34350903, 46726.12696872,\n",
       "       53116.55897253, 56164.61592442, 53452.19075216, 54416.59064552,\n",
       "       43851.81326044, 50962.74328856, 53069.79303132, 50580.08123932,\n",
       "       51750.97814138, 47698.83958141, 46591.46691737, 41841.76076359,\n",
       "       47036.93016758, 45220.88821643, 46813.19579951, 44008.25805226,\n",
       "       46980.73088898, 41882.19889542, 42627.22031075, 51399.7221195 ,\n",
       "       53781.9780906 , 41071.96194773, 52945.36213726, 39798.20048102,\n",
       "       51969.2250363 , 44221.2148364 , 49599.04073906, 41377.41251383,\n",
       "       53163.64942855, 50233.10913009, 43328.50341344, 53258.71795714,\n",
       "       51929.29798229, 46354.58398616, 42473.2708843 , 54480.65083334,\n",
       "       40798.91439327, 51016.82065492, 52816.13467335, 44111.46237097,\n",
       "       53814.78290931, 52957.48983463, 36280.05911917, 45513.64626364,\n",
       "       39043.23976745, 51113.18473885, 50813.63548035, 38601.33030087,\n",
       "       52497.80974502, 44419.27297305, 49311.46045756, 51630.59007156,\n",
       "       50268.91940098, 45689.98088996, 52069.91963061, 35094.46910424,\n",
       "       50212.38881566, 41375.98695171, 53460.76906908, 53964.63925519,\n",
       "       50057.58835633, 50343.52729394, 52670.55075545, 52803.79392191,\n",
       "       53179.44798385, 53141.00034982, 55070.56989146, 40548.2889689 ,\n",
       "       49659.6344246 , 46349.58216764, 40215.24687215, 53631.96061238,\n",
       "       46935.28380464, 45270.32340478, 54999.90776799, 50512.99886861,\n",
       "       42301.83322083, 49337.06898177, 51454.58337043, 53308.30287157,\n",
       "       52624.844837  , 46904.51962026, 42214.53485972, 51901.2041865 ,\n",
       "       53589.69227964, 53981.77588575, 52200.90877645, 44087.44224924,\n",
       "       52765.7067671 , 53559.72559137, 42658.45434533, 54907.11873705,\n",
       "       46868.68393945, 42538.55218971, 47557.908829  , 52478.41225557,\n",
       "       38143.5054949 , 45334.80217054, 52303.16986704, 53310.75546752,\n",
       "       51363.69615077, 53384.57860401, 46846.97538176, 53959.46187693,\n",
       "       53019.28110812, 50518.74829776, 54713.40682179, 48916.72723088,\n",
       "       40359.00211852, 51267.49890291, 52764.25610907, 41063.5607374 ,\n",
       "       41925.32638854, 53699.59215391, 53427.85322962, 50858.49901296,\n",
       "       52598.31099206, 39792.48100653, 53563.53905185, 51378.21441053,\n",
       "       35169.29820701, 39190.74508934, 47566.73897873, 55091.2514661 ,\n",
       "       52284.48620189, 53152.14660895, 48248.27840276, 47932.00227278,\n",
       "       46252.84398188, 52672.63015853, 53614.74831177, 51663.16127763,\n",
       "       51502.24248847, 38389.4596233 , 47595.85904482, 53650.01086985,\n",
       "       51589.44942452, 53347.12837376, 51369.7041274 , 50119.80315681,\n",
       "       53669.3114569 , 51794.31640335, 46515.15207147, 52874.77273916,\n",
       "       51153.82038729, 33790.18361132, 48117.70206463, 51230.95375456,\n",
       "       53309.93275537, 47172.98356612, 49524.20387489, 50359.8062051 ,\n",
       "       51272.15272907, 52618.76787385, 49432.35957195, 43586.77690856,\n",
       "       50689.37710421, 53196.0766925 , 41717.99246603, 52890.46701101,\n",
       "       50044.52505013, 53311.65113448, 47495.56067346, 51859.55394029,\n",
       "       52611.01281187, 51018.79864137, 51857.52925393, 44120.18266002,\n",
       "       45524.47318075, 51419.17353452, 42963.5356441 , 42974.1713162 ,\n",
       "       44482.59997384, 44563.62633709, 39177.74580052, 35678.55680093,\n",
       "       45461.69104967, 51178.59759354, 53032.62553809, 52453.69406874,\n",
       "       50647.60854454, 44684.16556825, 44785.23962096, 51790.19281642,\n",
       "       40080.80267023, 45802.25862595, 53872.87574564, 54332.78752807,\n",
       "       54489.28501195, 54430.26102314, 54964.65740343, 51324.35401998,\n",
       "       44600.7053256 , 52339.31533885, 55971.1431294 , 52739.80122903,\n",
       "       53440.34810966, 54666.27846463, 44675.37534314, 53984.41894767,\n",
       "       48115.26362027, 54186.89823487, 47967.01843855, 48934.39149526,\n",
       "       52854.77346782, 52526.35594008, 51285.19445565, 53471.92005665,\n",
       "       54037.01472468, 53945.30620132, 53973.23300357, 43292.40854521,\n",
       "       54396.24264466, 53639.63280943, 45397.71880807, 55010.30790384,\n",
       "       51029.28879063, 41262.66313196, 47960.77596046, 40200.48420971,\n",
       "       35223.75951816, 45000.99792913, 51883.26480003, 44677.14222424,\n",
       "       40363.93417826, 50083.51625946, 45058.74162555, 50288.754989  ,\n",
       "       49548.59289482, 52470.42655192, 41029.60137773, 49930.90926321,\n",
       "       40150.78052995, 49333.15269815, 52267.35118154, 37671.74245984,\n",
       "       42508.14646514, 52258.67744141, 45936.28424862, 50416.88440481,\n",
       "       55045.51715622, 52719.05140604, 45329.60353858, 50953.40596794,\n",
       "       45251.33844347, 54205.10486613, 47159.48380409, 50540.38692924,\n",
       "       46838.88098092, 51711.78075375, 39597.3242805 , 54585.24629668,\n",
       "       51406.06559353, 51212.8409739 , 53870.02395201, 44077.94469507,\n",
       "       50952.58745022, 51955.55135363, 41826.34712716, 47230.12964052,\n",
       "       33431.02687742, 53013.88020595, 41810.52188146, 44638.41969177,\n",
       "       49767.33788495, 52184.45480641, 53520.11764042, 51333.53836026,\n",
       "       48732.03768368, 40025.18485821, 42590.53918991, 42941.40053326,\n",
       "       51069.35104557, 43338.16033743, 43264.52716294, 43517.03661537,\n",
       "       52968.29577826, 51433.93442128, 55467.97123396, 52089.30341288,\n",
       "       47653.23902772, 51431.05455201, 50638.05725158, 53333.27092483,\n",
       "       53084.66304848, 48937.81143985, 48215.62419637, 49005.83021375,\n",
       "       46242.16064645, 40176.41178275, 53447.06185896, 50992.80988041,\n",
       "       47305.51731582, 44151.66450145, 41959.6252577 , 53741.91824762,\n",
       "       53625.90942573, 38282.36288022, 52128.1363425 , 55048.95190623,\n",
       "       53340.00490617, 38215.77996907, 52292.04440407, 43080.22550558,\n",
       "       48246.35534143, 49459.73328241, 49079.05622032, 41486.83375719,\n",
       "       49742.96339449, 42652.38721889, 48366.23971083, 48662.96833511,\n",
       "       44141.92491063, 54101.69699293, 51396.6964522 , 53141.47620595,\n",
       "       53533.20219226, 52722.91444165, 53892.52261334, 47178.87605176,\n",
       "       56618.94341894, 50451.87216282, 54201.75432044, 52481.58283145,\n",
       "       42665.66741893, 54694.68775515, 53999.9475536 , 48421.9285209 ,\n",
       "       45013.48983583, 53278.62057558, 36882.00218417, 54376.50502332,\n",
       "       51970.27539539, 51985.5619659 , 41049.49985247, 53309.96615617,\n",
       "       52921.61408779, 50238.09020389, 54796.0039654 , 51572.514836  ,\n",
       "       41846.58008205, 39429.92758161, 45039.18551652, 51362.49021896,\n",
       "       49996.96022397, 53147.7673515 , 47356.42418575, 32872.22282588,\n",
       "       54374.13891071, 52764.87319147, 33500.43632447, 45888.54441503,\n",
       "       45408.74055171, 47703.22458521, 45026.37037564, 36338.24568828,\n",
       "       52770.050146  , 52121.57828945, 51992.72251534, 53566.62102586,\n",
       "       53735.0349118 , 44657.19886156, 38716.42069783, 53116.68613179,\n",
       "       36416.75558607, 52205.0145808 , 43558.57031258, 53834.43989959,\n",
       "       38055.78780124, 40556.63482585, 45829.71066777, 54252.83844185,\n",
       "       53408.87191682, 49757.69352859, 50267.60758802, 44969.02497189,\n",
       "       47425.87539521, 49357.28765781, 41869.206678  , 54550.49365999,\n",
       "       53460.74051958, 52739.30434651, 37721.57405414, 53496.37208679,\n",
       "       54719.51672955, 41934.39776752, 49970.30836123, 43989.03305062,\n",
       "       52311.06877394, 41406.52889076, 50150.39599593, 50266.12654395,\n",
       "       54611.87123634, 39849.57084383, 52612.16860205, 47708.04428473,\n",
       "       44422.72773571, 46446.76099352, 52710.22805391, 53922.19621454,\n",
       "       43125.86769229, 44937.31306041, 49705.66760686, 46932.69467134,\n",
       "       50359.8062051 , 43197.57164113, 42748.84580716, 41915.47245184,\n",
       "       46722.05452694, 53292.37372033, 42073.83764292, 49631.00844903,\n",
       "       48495.66364466, 39695.45231409, 51652.59221043, 53253.93611553,\n",
       "       48850.85562625, 52294.28649259, 52260.32116716, 52951.63255435,\n",
       "       52592.0794752 , 55288.23296566, 52831.4233029 , 53447.39855539,\n",
       "       47240.50642168, 53756.4791719 , 49000.86474064, 46423.82155164,\n",
       "       33654.43107648, 52179.20762985, 39031.66270621, 45307.61999781,\n",
       "       54027.28532039, 50238.09020389, 42805.58134031, 41789.78543865,\n",
       "       47625.8964303 , 42127.53698876, 52493.26126593, 49765.53598023,\n",
       "       40145.38942079, 49639.48846518, 51451.59320183, 50473.73370467,\n",
       "       53671.57195602, 53409.4964981 , 51743.23570167, 53640.17080204,\n",
       "       51727.07382343, 48477.34433922, 52956.47369874, 45285.81536881,\n",
       "       43429.7481011 , 53376.03087489, 40438.00818845, 53794.44831855,\n",
       "       53929.10666254, 45605.28573652, 51669.35688148, 49738.08563386,\n",
       "       48353.33664758, 33976.03328731, 52885.82054837, 52868.31347827,\n",
       "       49758.12139425, 52618.39551767, 52887.21190545, 39560.50794932,\n",
       "       49914.31996434, 46062.80772512, 47696.82073223, 52100.75806465,\n",
       "       54047.72708407, 53589.00445501, 47605.47447056, 51684.50664842])"
      ]
     },
     "execution_count": 51,
     "metadata": {},
     "output_type": "execute_result"
    }
   ],
   "source": [
    "from sklearn.linear_model import LinearRegression\n",
    "mlg=LinearRegression()\n",
    "mlg.fit(x_train,y_train)\n",
    "y_pred=mlg.predict(x_test)\n",
    "y_pred"
   ]
  },
  {
   "cell_type": "code",
   "execution_count": 84,
   "metadata": {},
   "outputs": [
    {
     "data": {
      "text/plain": [
       "array([-3.33573785e-01, -4.83988837e+02,  6.83303613e-01])"
      ]
     },
     "execution_count": 84,
     "metadata": {},
     "output_type": "execute_result"
    }
   ],
   "source": [
    "mlg.coef_"
   ]
  },
  {
   "cell_type": "code",
   "execution_count": 53,
   "metadata": {},
   "outputs": [
    {
     "data": {
      "text/plain": [
       "56295.41423270697"
      ]
     },
     "execution_count": 53,
     "metadata": {},
     "output_type": "execute_result"
    }
   ],
   "source": [
    "mlg.intercept_"
   ]
  },
  {
   "cell_type": "code",
   "execution_count": 85,
   "metadata": {},
   "outputs": [
    {
     "data": {
      "text/plain": [
       "0.13530860678152712"
      ]
     },
     "execution_count": 85,
     "metadata": {},
     "output_type": "execute_result"
    }
   ],
   "source": [
    "from sklearn.metrics import r2_score,mean_absolute_error\n",
    "r2_score(y_test,y_pred)"
   ]
  },
  {
   "cell_type": "code",
   "execution_count": 86,
   "metadata": {},
   "outputs": [
    {
     "data": {
      "text/plain": [
       "9147.288018677204"
      ]
     },
     "execution_count": 86,
     "metadata": {},
     "output_type": "execute_result"
    }
   ],
   "source": [
    "mean_absolute_error(y_test,y_pred)"
   ]
  },
  {
   "cell_type": "code",
   "execution_count": 87,
   "metadata": {},
   "outputs": [
    {
     "name": "stdout",
     "output_type": "stream",
     "text": [
      "the coefficient for Mileage is -0.2848898899282853\n",
      "the coefficient for Rating is -20.491459388337912\n",
      "the coefficient for Review Count is 0.5339979340558558\n"
     ]
    }
   ],
   "source": [
    "#Ridge Regression \n",
    "from sklearn.linear_model import Ridge\n",
    "R_mlr=Ridge(alpha=0.1)\n",
    "R_mlr.fit(x_train,y_train)\n",
    "\n",
    "for i,col_name in enumerate(x_train.columns):\n",
    "    print(f\"the coefficient for {col_name} is {R_mlr.coef_[i]}\")"
   ]
  },
  {
   "cell_type": "code",
   "execution_count": 88,
   "metadata": {},
   "outputs": [
    {
     "data": {
      "text/plain": [
       "0.135460904710327"
      ]
     },
     "execution_count": 88,
     "metadata": {},
     "output_type": "execute_result"
    }
   ],
   "source": [
    "#For ridge regressio evaluation\n",
    "y_pred=R_mlr.predict(x_test)\n",
    "r2_score(y_test,y_pred)"
   ]
  },
  {
   "cell_type": "code",
   "execution_count": 89,
   "metadata": {},
   "outputs": [
    {
     "data": {
      "text/plain": [
       "9139.386583700398"
      ]
     },
     "execution_count": 89,
     "metadata": {},
     "output_type": "execute_result"
    }
   ],
   "source": [
    "mean_absolute_error(y_test,y_pred)"
   ]
  },
  {
   "cell_type": "code",
   "execution_count": 90,
   "metadata": {},
   "outputs": [
    {
     "name": "stdout",
     "output_type": "stream",
     "text": [
      "the coefficient for Mileage is -0.28489040778794006\n",
      "the coefficient for Rating is -17.573999051193226\n",
      "the coefficient for Review Count is 0.5338368868411378\n"
     ]
    }
   ],
   "source": [
    "#Lasso Regression \n",
    "from sklearn.linear_model import Lasso\n",
    "L_mlr=Lasso(alpha=0.1)\n",
    "L_mlr.fit(x_train,y_train)\n",
    "\n",
    "for i,col_name in enumerate(x_train.columns):\n",
    "    print(f\"the coefficient for {col_name} is {L_mlr.coef_[i]}\")"
   ]
  },
  {
   "cell_type": "code",
   "execution_count": 91,
   "metadata": {},
   "outputs": [
    {
     "data": {
      "text/plain": [
       "0.1354606911889693"
      ]
     },
     "execution_count": 91,
     "metadata": {},
     "output_type": "execute_result"
    }
   ],
   "source": [
    "#For lasso regressio evaluation\n",
    "y_pred=L_mlr.predict(x_test)\n",
    "r2_score(y_test,y_pred)"
   ]
  },
  {
   "cell_type": "code",
   "execution_count": 92,
   "metadata": {},
   "outputs": [
    {
     "data": {
      "text/plain": [
       "9139.404516331897"
      ]
     },
     "execution_count": 92,
     "metadata": {},
     "output_type": "execute_result"
    }
   ],
   "source": [
    "mean_absolute_error(y_test,y_pred)"
   ]
  },
  {
   "cell_type": "code",
   "execution_count": 62,
   "metadata": {},
   "outputs": [
    {
     "name": "stdout",
     "output_type": "stream",
     "text": [
      "the coefficient for Mileage is -0.333573923859099\n",
      "the coefficient for Rating is -483.81660776578286\n",
      "the coefficient for Review Count is 0.6833013763827496\n"
     ]
    }
   ],
   "source": [
    "#Elastic Regression \n",
    "from sklearn.linear_model import ElasticNet\n",
    "Elasticnet_mlr=Lasso(alpha=0.01)\n",
    "Elasticnet_mlr.fit(x_train,y_train)\n",
    "\n",
    "for i,col_name in enumerate(x_train.columns):\n",
    "    print(f\"the coefficient for {col_name} is {Elasticnet_mlr.coef_[i]}\")"
   ]
  },
  {
   "cell_type": "code",
   "execution_count": 93,
   "metadata": {},
   "outputs": [
    {
     "data": {
      "text/plain": [
       "0.11852231332705154"
      ]
     },
     "execution_count": 93,
     "metadata": {},
     "output_type": "execute_result"
    }
   ],
   "source": [
    "#For ElasticNet regressio evaluation\n",
    "y_pred=Elasticnet_mlr.predict(x_test)\n",
    "r2_score(y_test,y_pred)"
   ]
  },
  {
   "cell_type": "code",
   "execution_count": 94,
   "metadata": {},
   "outputs": [
    {
     "data": {
      "text/plain": [
       "9588.36680633833"
      ]
     },
     "execution_count": 94,
     "metadata": {},
     "output_type": "execute_result"
    }
   ],
   "source": [
    "mean_absolute_error(y_test,y_pred)"
   ]
  },
  {
   "cell_type": "code",
   "execution_count": null,
   "metadata": {},
   "outputs": [],
   "source": []
  }
 ],
 "metadata": {
  "kernelspec": {
   "display_name": "Python 3",
   "language": "python",
   "name": "python3"
  },
  "language_info": {
   "codemirror_mode": {
    "name": "ipython",
    "version": 3
   },
   "file_extension": ".py",
   "mimetype": "text/x-python",
   "name": "python",
   "nbconvert_exporter": "python",
   "pygments_lexer": "ipython3",
   "version": "3.12.2"
  }
 },
 "nbformat": 4,
 "nbformat_minor": 2
}
